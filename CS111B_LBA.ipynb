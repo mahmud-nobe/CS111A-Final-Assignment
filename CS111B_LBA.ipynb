{
 "cells": [
  {
   "cell_type": "code",
   "execution_count": 96,
   "metadata": {},
   "outputs": [],
   "source": [
    "import matplotlib.pyplot as plt\n",
    "import numpy as np"
   ]
  },
  {
   "cell_type": "code",
   "execution_count": 98,
   "metadata": {},
   "outputs": [
    {
     "data": {
      "text/html": [
       "<html><script type=\"math/tex; mode=display\">\\newcommand{\\Bold}[1]{\\mathbf{#1}}\\verb|M|\\phantom{\\verb!x!}\\verb|=| \\left(\\begin{array}{rrrrrrrr}\n",
       "0.65 & 0.00 & 0.040 & 0.070 & 0.010 & 0.050 & 0.050 & 0.060 \\\\\n",
       "0.00 & 0.65 & 0.060 & 0.030 & 0.010 & 0.050 & 0.050 & 0.060 \\\\\n",
       "0.10 & 0.10 & 0.35 & 0.030 & 0.050 & 0.050 & 0.050 & 0.010 \\\\\n",
       "0.10 & 0.10 & 0.010 & 0.35 & 0.050 & 0.080 & 0.030 & 0.010 \\\\\n",
       "0.050 & 0.050 & 0.30 & 0.070 & 0.80 & 0.20 & 0.10 & 0.14 \\\\\n",
       "0.020 & 0.020 & 0.040 & 0.25 & 0.020 & 0.50 & 0.040 & 0.010 \\\\\n",
       "0.040 & 0.040 & 0.10 & 0.10 & 0.020 & 0.020 & 0.65 & 0.010 \\\\\n",
       "0.040 & 0.040 & 0.10 & 0.10 & 0.040 & 0.050 & 0.030 & 0.70\n",
       "\\end{array}\\right)</script></html>"
      ],
      "text/plain": [
       "'M =' [ 0.65  0.00 0.040 0.070 0.010 0.050 0.050 0.060]\n",
       "[ 0.00  0.65 0.060 0.030 0.010 0.050 0.050 0.060]\n",
       "[ 0.10  0.10  0.35 0.030 0.050 0.050 0.050 0.010]\n",
       "[ 0.10  0.10 0.010  0.35 0.050 0.080 0.030 0.010]\n",
       "[0.050 0.050  0.30 0.070  0.80  0.20  0.10  0.14]\n",
       "[0.020 0.020 0.040  0.25 0.020  0.50 0.040 0.010]\n",
       "[0.040 0.040  0.10  0.10 0.020 0.020  0.65 0.010]\n",
       "[0.040 0.040  0.10  0.10 0.040 0.050 0.030  0.70]"
      ]
     },
     "metadata": {},
     "output_type": "display_data"
    }
   ],
   "source": [
    "## Markov Matrix\n",
    "\n",
    "M = matrix(QQ, [[0.65, 0, 0.04, 0.07, 0.01, 0.05, 0.05, 0.06],\n",
    "                [0,0.65,0.06,0.03,0.01,0.05,0.05,0.06],\n",
    "                [0.10,0.10,0.35,0.03,0.05,0.05,0.05,0.01],\n",
    "                [0.10,0.1,0.01,0.35,0.05,0.08,0.03,0.01],\n",
    "                [0.05,0.05,0.30,0.07,0.80,0.2,0.1,0.14],\n",
    "                [0.02,0.02,0.04,0.25,0.02,0.50,0.04,0.01],\n",
    "                [0.04,0.04,0.1,0.1,0.02,0.02,0.65,0.01],\n",
    "                [0.04,0.04,0.1,0.1,0.04,0.05,0.03,0.70]])\n",
    "\n",
    "show(\"M =\",n(M, digits = 1))"
   ]
  },
  {
   "cell_type": "code",
   "execution_count": 99,
   "metadata": {},
   "outputs": [],
   "source": [
    "## Diagonal and Eigenvector Matrix\n",
    "D, S = M.eigenmatrix_right()"
   ]
  },
  {
   "cell_type": "code",
   "execution_count": 100,
   "metadata": {},
   "outputs": [
    {
     "data": {
      "text/html": [
       "<html><script type=\"math/tex; mode=display\">\\newcommand{\\Bold}[1]{\\mathbf{#1}}\\verb|D|\\phantom{\\verb!x!}\\verb|=| \\left(\\begin{array}{rrrrrrrr}\n",
       "1.0 & 0.00 & 0.00 & 0.00 & 0.00 & 0.00 & 0.00 & 0.00 \\\\\n",
       "0.00 & 0.66 & 0.00 & 0.00 & 0.00 & 0.00 & 0.00 & 0.00 \\\\\n",
       "0.00 & 0.00 & 0.27 & 0.00 & 0.00 & 0.00 & 0.00 & 0.00 \\\\\n",
       "0.00 & 0.00 & 0.00 & 0.30 & 0.00 & 0.00 & 0.00 & 0.00 \\\\\n",
       "0.00 & 0.00 & 0.00 & 0.00 & 0.48 & 0.00 & 0.00 & 0.00 \\\\\n",
       "0.00 & 0.00 & 0.00 & 0.00 & 0.00 & 0.58 & 0.00 & 0.00 \\\\\n",
       "0.00 & 0.00 & 0.00 & 0.00 & 0.00 & 0.00 & 0.66 & 0.00 \\\\\n",
       "0.00 & 0.00 & 0.00 & 0.00 & 0.00 & 0.00 & 0.00 & 0.70\n",
       "\\end{array}\\right)</script></html>"
      ],
      "text/plain": [
       "'D =' [ 1.0 0.00 0.00 0.00 0.00 0.00 0.00 0.00]\n",
       "[0.00 0.66 0.00 0.00 0.00 0.00 0.00 0.00]\n",
       "[0.00 0.00 0.27 0.00 0.00 0.00 0.00 0.00]\n",
       "[0.00 0.00 0.00 0.30 0.00 0.00 0.00 0.00]\n",
       "[0.00 0.00 0.00 0.00 0.48 0.00 0.00 0.00]\n",
       "[0.00 0.00 0.00 0.00 0.00 0.58 0.00 0.00]\n",
       "[0.00 0.00 0.00 0.00 0.00 0.00 0.66 0.00]\n",
       "[0.00 0.00 0.00 0.00 0.00 0.00 0.00 0.70]"
      ]
     },
     "metadata": {},
     "output_type": "display_data"
    }
   ],
   "source": [
    "show(\"D =\", n(D, digits = 1))"
   ]
  },
  {
   "cell_type": "markdown",
   "metadata": {},
   "source": [
    "The first eigenvalue is 1. So the eigenvectors associated with eigenvalue of 1 will be stored in the first column of eigenvector matrix, S."
   ]
  },
  {
   "cell_type": "code",
   "execution_count": 101,
   "metadata": {},
   "outputs": [
    {
     "data": {
      "text/html": [
       "<html><script type=\"math/tex; mode=display\">\\newcommand{\\Bold}[1]{\\mathbf{#1}}\\verb|S|\\phantom{\\verb!x!}\\verb|=| \\left(\\begin{array}{rrrrrrrr}\n",
       "1.0 & 1.0 & 1.0 & 1.0 & 1.0 & 1.0 & 1.0 & 1.0 \\\\\n",
       "0.95 & -1.0 & -10. & 3.9 & 0.91 & 1.4 & -8.2 & 0.95 \\\\\n",
       "0.89 & 0.00 & -38. & -14. & 0.52 & 0.66 & 8.5 & 0.20 \\\\\n",
       "0.88 & 0.00 & -120. & 18. & -0.094 & 1.2 & 5.8 & 0.16 \\\\\n",
       "4.8 & 0.00 & -26. & 15. & 1.5 & -1.2 & -12. & -3.8 \\\\\n",
       "0.91 & 0.00 & 140. & -23. & -3.4 & 2.6 & 22. & 0.24 \\\\\n",
       "1.1 & 0.00 & 37. & -1.5 & -0.50 & -3.8 & 72. & 0.84 \\\\\n",
       "1.8 & 0.00 & 22. & -0.17 & 0.019 & -2.0 & -88. & 0.34\n",
       "\\end{array}\\right)</script></html>"
      ],
      "text/plain": [
       "'S =' [   1.0    1.0    1.0    1.0    1.0    1.0    1.0    1.0]\n",
       "[  0.95   -1.0   -10.    3.9   0.91    1.4   -8.2   0.95]\n",
       "[  0.89   0.00   -38.   -14.   0.52   0.66    8.5   0.20]\n",
       "[  0.88   0.00  -120.    18. -0.094    1.2    5.8   0.16]\n",
       "[   4.8   0.00   -26.    15.    1.5   -1.2   -12.   -3.8]\n",
       "[  0.91   0.00   140.   -23.   -3.4    2.6    22.   0.24]\n",
       "[   1.1   0.00    37.   -1.5  -0.50   -3.8    72.   0.84]\n",
       "[   1.8   0.00    22.  -0.17  0.019   -2.0   -88.   0.34]"
      ]
     },
     "metadata": {},
     "output_type": "display_data"
    }
   ],
   "source": [
    "show(\"S =\", n(S, digits = 1))"
   ]
  },
  {
   "cell_type": "code",
   "execution_count": 102,
   "metadata": {},
   "outputs": [
    {
     "data": {
      "text/html": [
       "<html><script type=\"math/tex; mode=display\">\\newcommand{\\Bold}[1]{\\mathbf{#1}}\\verb|Eigenvector|\\phantom{\\verb!x!}\\verb|=| \\left(\\begin{array}{r}\n",
       "1.0 \\\\\n",
       "0.95 \\\\\n",
       "0.89 \\\\\n",
       "0.88 \\\\\n",
       "4.8 \\\\\n",
       "0.91 \\\\\n",
       "1.1 \\\\\n",
       "1.8\n",
       "\\end{array}\\right)</script></html>"
      ],
      "text/plain": [
       "'Eigenvector =' [ 1.0]\n",
       "[0.95]\n",
       "[0.89]\n",
       "[0.88]\n",
       "[ 4.8]\n",
       "[0.91]\n",
       "[ 1.1]\n",
       "[ 1.8]"
      ]
     },
     "metadata": {},
     "output_type": "display_data"
    }
   ],
   "source": [
    "show(\"Eigenvector =\", n(S[:,0], digits = 1))"
   ]
  },
  {
   "cell_type": "code",
   "execution_count": 103,
   "metadata": {},
   "outputs": [
    {
     "data": {
      "text/html": [
       "<html><script type=\"math/tex; mode=display\">\\newcommand{\\Bold}[1]{\\mathbf{#1}}\\verb|Normalized|\\phantom{\\verb!x!}\\verb|Eigenvector|\\phantom{\\verb!x!}\\verb|=| \\left(\\begin{array}{r}\n",
       "0.082 \\\\\n",
       "0.078 \\\\\n",
       "0.073 \\\\\n",
       "0.072 \\\\\n",
       "0.39 \\\\\n",
       "0.074 \\\\\n",
       "0.090 \\\\\n",
       "0.14\n",
       "\\end{array}\\right)</script></html>"
      ],
      "text/plain": [
       "'Normalized Eigenvector =' [0.082]\n",
       "[0.078]\n",
       "[0.073]\n",
       "[0.072]\n",
       "[ 0.39]\n",
       "[0.074]\n",
       "[0.090]\n",
       "[ 0.14]"
      ]
     },
     "metadata": {},
     "output_type": "display_data"
    }
   ],
   "source": [
    "v = vector(S[:,0])\n",
    "norm_v = v/sum(v).n(digits = 1)\n",
    "show(\"Normalized Eigenvector =\", matrix(norm_v).transpose())"
   ]
  },
  {
   "cell_type": "markdown",
   "metadata": {},
   "source": [
    "**Try with three different initial state:**"
   ]
  },
  {
   "cell_type": "code",
   "execution_count": 104,
   "metadata": {
    "scrolled": true
   },
   "outputs": [
    {
     "data": {
      "text/html": [
       "<html><script type=\"math/tex; mode=display\">\\newcommand{\\Bold}[1]{\\mathbf{#1}}\\verb|v1|\\phantom{\\verb!x!}\\verb|=| \\left(\\begin{array}{r}\n",
       "15 \\\\\n",
       "10 \\\\\n",
       "20 \\\\\n",
       "22 \\\\\n",
       "70 \\\\\n",
       "6 \\\\\n",
       "8 \\\\\n",
       "5\n",
       "\\end{array}\\right)</script></html>"
      ],
      "text/plain": [
       "'v1 =' [15]\n",
       "[10]\n",
       "[20]\n",
       "[22]\n",
       "[70]\n",
       "[ 6]\n",
       "[ 8]\n",
       "[ 5]"
      ]
     },
     "metadata": {},
     "output_type": "display_data"
    }
   ],
   "source": [
    "v1 = vector(QQ, [15,10,20,22,70,6,8,5])\n",
    "show('v1 =', matrix(v1).transpose())"
   ]
  },
  {
   "cell_type": "code",
   "execution_count": 105,
   "metadata": {},
   "outputs": [
    {
     "data": {
      "text/html": [
       "<html><script type=\"math/tex; mode=display\">\\newcommand{\\Bold}[1]{\\mathbf{#1}}\\verb|Normalized|\\phantom{\\verb!x!}\\verb|v1|\\phantom{\\verb!x!}\\verb|=| \\left(\\begin{array}{r}\n",
       "0.096 \\\\\n",
       "0.064 \\\\\n",
       "0.13 \\\\\n",
       "0.14 \\\\\n",
       "0.45 \\\\\n",
       "0.039 \\\\\n",
       "0.051 \\\\\n",
       "0.032\n",
       "\\end{array}\\right)</script></html>"
      ],
      "text/plain": [
       "'Normalized v1 =' [0.096]\n",
       "[0.064]\n",
       "[ 0.13]\n",
       "[ 0.14]\n",
       "[ 0.45]\n",
       "[0.039]\n",
       "[0.051]\n",
       "[0.032]"
      ]
     },
     "metadata": {},
     "output_type": "display_data"
    }
   ],
   "source": [
    "norm_v1 = v1/sum(v1).n(digits = 1)\n",
    "show('Normalized v1 =', matrix(norm_v1).transpose())"
   ]
  },
  {
   "cell_type": "code",
   "execution_count": 106,
   "metadata": {},
   "outputs": [
    {
     "data": {
      "text/html": [
       "<html><script type=\"math/tex; mode=display\">\\newcommand{\\Bold}[1]{\\mathbf{#1}}\\verb|M|\\phantom{\\verb!x!}\\verb|v1|\\phantom{\\verb!x!}\\verb|=| \\left(\\begin{array}{r}\n",
       "0.089 \\\\\n",
       "0.065 \\\\\n",
       "0.093 \\\\\n",
       "0.094 \\\\\n",
       "0.43 \\\\\n",
       "0.074 \\\\\n",
       "0.076 \\\\\n",
       "0.077\n",
       "\\end{array}\\right)</script></html>"
      ],
      "text/plain": [
       "'M v1 =' [0.089]\n",
       "[0.065]\n",
       "[0.093]\n",
       "[0.094]\n",
       "[ 0.43]\n",
       "[0.074]\n",
       "[0.076]\n",
       "[0.077]"
      ]
     },
     "metadata": {},
     "output_type": "display_data"
    },
    {
     "data": {
      "text/html": [
       "<html><script type=\"math/tex; mode=display\">\\newcommand{\\Bold}[1]{\\mathbf{#1}}\\verb|MM|\\phantom{\\verb!x!}\\verb|v1|\\phantom{\\verb!x!}\\verb|=| \\left(\\begin{array}{r}\n",
       "0.084 \\\\\n",
       "0.067 \\\\\n",
       "0.081 \\\\\n",
       "0.080 \\\\\n",
       "0.42 \\\\\n",
       "0.080 \\\\\n",
       "0.086 \\\\\n",
       "0.10\n",
       "\\end{array}\\right)</script></html>"
      ],
      "text/plain": [
       "'MM v1 =' [0.084]\n",
       "[0.067]\n",
       "[0.081]\n",
       "[0.080]\n",
       "[ 0.42]\n",
       "[0.080]\n",
       "[0.086]\n",
       "[ 0.10]"
      ]
     },
     "metadata": {},
     "output_type": "display_data"
    },
    {
     "data": {
      "text/html": [
       "<html><script type=\"math/tex; mode=display\">\\newcommand{\\Bold}[1]{\\mathbf{#1}}\\verb|MMM|\\phantom{\\verb!x!}\\verb|v1|\\phantom{\\verb!x!}\\verb|=| \\left(\\begin{array}{r}\n",
       "0.081 \\\\\n",
       "0.068 \\\\\n",
       "0.077 \\\\\n",
       "0.074 \\\\\n",
       "0.41 \\\\\n",
       "0.079 \\\\\n",
       "0.087 \\\\\n",
       "0.12\n",
       "\\end{array}\\right)</script></html>"
      ],
      "text/plain": [
       "'MMM v1 =' [0.081]\n",
       "[0.068]\n",
       "[0.077]\n",
       "[0.074]\n",
       "[ 0.41]\n",
       "[0.079]\n",
       "[0.087]\n",
       "[ 0.12]"
      ]
     },
     "metadata": {},
     "output_type": "display_data"
    },
    {
     "data": {
      "text/html": [
       "<html><script type=\"math/tex; mode=display\">\\newcommand{\\Bold}[1]{\\mathbf{#1}}\\verb|MMMM|\\phantom{\\verb!x!}\\verb|v1|\\phantom{\\verb!x!}\\verb|=| \\left(\\begin{array}{r}\n",
       "0.081 \\\\\n",
       "0.072 \\\\\n",
       "0.074 \\\\\n",
       "0.072 \\\\\n",
       "0.41 \\\\\n",
       "0.077 \\\\\n",
       "0.091 \\\\\n",
       "0.13\n",
       "\\end{array}\\right)</script></html>"
      ],
      "text/plain": [
       "'MMMM v1 =' [0.081]\n",
       "[0.072]\n",
       "[0.074]\n",
       "[0.072]\n",
       "[ 0.41]\n",
       "[0.077]\n",
       "[0.091]\n",
       "[ 0.13]"
      ]
     },
     "metadata": {},
     "output_type": "display_data"
    },
    {
     "data": {
      "text/html": [
       "<html><script type=\"math/tex; mode=display\">\\newcommand{\\Bold}[1]{\\mathbf{#1}}\\verb|MMMMM|\\phantom{\\verb!x!}\\verb|v1|\\phantom{\\verb!x!}\\verb|=| \\left(\\begin{array}{r}\n",
       "0.081 \\\\\n",
       "0.073 \\\\\n",
       "0.073 \\\\\n",
       "0.072 \\\\\n",
       "0.41 \\\\\n",
       "0.076 \\\\\n",
       "0.090 \\\\\n",
       "0.13\n",
       "\\end{array}\\right)</script></html>"
      ],
      "text/plain": [
       "'MMMMM v1 =' [0.081]\n",
       "[0.073]\n",
       "[0.073]\n",
       "[0.072]\n",
       "[ 0.41]\n",
       "[0.076]\n",
       "[0.090]\n",
       "[ 0.13]"
      ]
     },
     "metadata": {},
     "output_type": "display_data"
    },
    {
     "data": {
      "text/html": [
       "<html><script type=\"math/tex; mode=display\">\\newcommand{\\Bold}[1]{\\mathbf{#1}}\\verb|M^8|\\phantom{\\verb!x!}\\verb|v1|\\phantom{\\verb!x!}\\verb|=| \\left(\\begin{array}{r}\n",
       "0.081 \\\\\n",
       "0.076 \\\\\n",
       "0.073 \\\\\n",
       "0.071 \\\\\n",
       "0.40 \\\\\n",
       "0.073 \\\\\n",
       "0.091 \\\\\n",
       "0.14\n",
       "\\end{array}\\right)</script></html>"
      ],
      "text/plain": [
       "'M^8 v1 =' [0.081]\n",
       "[0.076]\n",
       "[0.073]\n",
       "[0.071]\n",
       "[ 0.40]\n",
       "[0.073]\n",
       "[0.091]\n",
       "[ 0.14]"
      ]
     },
     "metadata": {},
     "output_type": "display_data"
    },
    {
     "data": {
      "text/html": [
       "<html><script type=\"math/tex; mode=display\">\\newcommand{\\Bold}[1]{\\mathbf{#1}}\\verb|M^10|\\phantom{\\verb!x!}\\verb|v1|\\phantom{\\verb!x!}\\verb|=| \\left(\\begin{array}{r}\n",
       "0.080 \\\\\n",
       "0.076 \\\\\n",
       "0.072 \\\\\n",
       "0.071 \\\\\n",
       "0.39 \\\\\n",
       "0.073 \\\\\n",
       "0.091 \\\\\n",
       "0.14\n",
       "\\end{array}\\right)</script></html>"
      ],
      "text/plain": [
       "'M^10 v1 =' [0.080]\n",
       "[0.076]\n",
       "[0.072]\n",
       "[0.071]\n",
       "[ 0.39]\n",
       "[0.073]\n",
       "[0.091]\n",
       "[ 0.14]"
      ]
     },
     "metadata": {},
     "output_type": "display_data"
    },
    {
     "data": {
      "text/html": [
       "<html><script type=\"math/tex; mode=display\">\\newcommand{\\Bold}[1]{\\mathbf{#1}}\\verb|M^12|\\phantom{\\verb!x!}\\verb|v1|\\phantom{\\verb!x!}\\verb|=| \\left(\\begin{array}{r}\n",
       "0.081 \\\\\n",
       "0.076 \\\\\n",
       "0.072 \\\\\n",
       "0.071 \\\\\n",
       "0.39 \\\\\n",
       "0.073 \\\\\n",
       "0.090 \\\\\n",
       "0.14\n",
       "\\end{array}\\right)</script></html>"
      ],
      "text/plain": [
       "'M^12 v1 =' [0.081]\n",
       "[0.076]\n",
       "[0.072]\n",
       "[0.071]\n",
       "[ 0.39]\n",
       "[0.073]\n",
       "[0.090]\n",
       "[ 0.14]"
      ]
     },
     "metadata": {},
     "output_type": "display_data"
    }
   ],
   "source": [
    "\n",
    "show('M v1 =', matrix(M*norm_v1).transpose())\n",
    "show('MM v1 =', matrix(M^2*norm_v1).transpose())\n",
    "show('MMM v1 =', matrix(M^3*norm_v1).transpose())\n",
    "show('MMMM v1 =', matrix(M^4*norm_v1).transpose())\n",
    "show('MMMMM v1 =', matrix(M^5*norm_v1).transpose())\n",
    "show('M^8 v1 =', matrix(M^8*norm_v1).transpose())\n",
    "show('M^10 v1 =', matrix(M^10*norm_v1).transpose())\n",
    "show('M^12 v1 =', matrix(M^12*norm_v1).transpose())"
   ]
  },
  {
   "cell_type": "code",
   "execution_count": 107,
   "metadata": {},
   "outputs": [
    {
     "data": {
      "image/png": "[encoded data removed]",
      "text/plain": [
       "<Figure size 432x288 with 1 Axes>"
      ]
     },
     "metadata": {},
     "output_type": "display_data"
    }
   ],
   "source": [
    "time = [0]\n",
    "prob = [list(norm_v1)]\n",
    "for i in range(1,13):\n",
    "    time.append(i*10)\n",
    "    now_prob = list(M^i*norm_v1)\n",
    "    prob.append(now_prob)\n",
    "    \n",
    "axis_labels = ['McD', 'KFC', 'Chai', 'Boba',\n",
    "               'SPAR', 'Phone', 'Shoe', 'Glass']\n",
    "\n",
    "prob = np.array(prob).round(3)\n",
    "\n",
    "for i in range(len(prob[0])):\n",
    "    plt.plot(time, prob[:,i], label = axis_labels[i])\n",
    "\n",
    "plt.plot([110]*8, list(norm_v), 'g<', label = 'e-vector')\n",
    "plt.legend(loc = 9)\n",
    "plt.xlabel('Time (min)')\n",
    "plt.ylabel('Population Distribution')\n",
    "plt.show()"
   ]
  },
  {
   "cell_type": "code",
   "execution_count": 108,
   "metadata": {},
   "outputs": [
    {
     "data": {
      "text/html": [
       "<html><script type=\"math/tex; mode=display\">\\newcommand{\\Bold}[1]{\\mathbf{#1}}\\verb|v2|\\phantom{\\verb!x!}\\verb|=| \\left(\\begin{array}{r}\n",
       "30 \\\\\n",
       "30 \\\\\n",
       "35 \\\\\n",
       "32 \\\\\n",
       "40 \\\\\n",
       "4 \\\\\n",
       "5 \\\\\n",
       "6\n",
       "\\end{array}\\right)</script></html>"
      ],
      "text/plain": [
       "'v2 =' [30]\n",
       "[30]\n",
       "[35]\n",
       "[32]\n",
       "[40]\n",
       "[ 4]\n",
       "[ 5]\n",
       "[ 6]"
      ]
     },
     "metadata": {},
     "output_type": "display_data"
    }
   ],
   "source": [
    "v2 = vector(QQ, [30,30,35,32,40,4,5,6])\n",
    "show('v2 =', matrix(v2).transpose())"
   ]
  },
  {
   "cell_type": "code",
   "execution_count": 109,
   "metadata": {},
   "outputs": [
    {
     "data": {
      "text/html": [
       "<html><script type=\"math/tex; mode=display\">\\newcommand{\\Bold}[1]{\\mathbf{#1}}\\verb|Normalized|\\phantom{\\verb!x!}\\verb|v2|\\phantom{\\verb!x!}\\verb|=| \\left(\\begin{array}{r}\n",
       "0.16 \\\\\n",
       "0.16 \\\\\n",
       "0.19 \\\\\n",
       "0.18 \\\\\n",
       "0.22 \\\\\n",
       "0.022 \\\\\n",
       "0.027 \\\\\n",
       "0.033\n",
       "\\end{array}\\right)</script></html>"
      ],
      "text/plain": [
       "'Normalized v2 =' [ 0.16]\n",
       "[ 0.16]\n",
       "[ 0.19]\n",
       "[ 0.18]\n",
       "[ 0.22]\n",
       "[0.022]\n",
       "[0.027]\n",
       "[0.033]"
      ]
     },
     "metadata": {},
     "output_type": "display_data"
    }
   ],
   "source": [
    "norm_v2 = v2/sum(v2).n(digits = 1)\n",
    "show('Normalized v2 =', matrix(norm_v2).transpose())"
   ]
  },
  {
   "cell_type": "code",
   "execution_count": 110,
   "metadata": {},
   "outputs": [
    {
     "data": {
      "text/html": [
       "<html><script type=\"math/tex; mode=display\">\\newcommand{\\Bold}[1]{\\mathbf{#1}}\\verb|M|\\phantom{\\verb!x!}\\verb|v2|\\phantom{\\verb!x!}\\verb|=| \\left(\\begin{array}{r}\n",
       "0.13 \\\\\n",
       "0.13 \\\\\n",
       "0.12 \\\\\n",
       "0.11 \\\\\n",
       "0.27 \\\\\n",
       "0.074 \\\\\n",
       "0.072 \\\\\n",
       "0.084\n",
       "\\end{array}\\right)</script></html>"
      ],
      "text/plain": [
       "'M v2 =' [ 0.13]\n",
       "[ 0.13]\n",
       "[ 0.12]\n",
       "[ 0.11]\n",
       "[ 0.27]\n",
       "[0.074]\n",
       "[0.072]\n",
       "[0.084]"
      ]
     },
     "metadata": {},
     "output_type": "display_data"
    },
    {
     "data": {
      "text/html": [
       "<html><script type=\"math/tex; mode=display\">\\newcommand{\\Bold}[1]{\\mathbf{#1}}\\verb|MM|\\phantom{\\verb!x!}\\verb|v2|\\phantom{\\verb!x!}\\verb|=| \\left(\\begin{array}{r}\n",
       "0.11 \\\\\n",
       "0.11 \\\\\n",
       "0.095 \\\\\n",
       "0.088 \\\\\n",
       "0.31 \\\\\n",
       "0.084 \\\\\n",
       "0.089 \\\\\n",
       "0.11\n",
       "\\end{array}\\right)</script></html>"
      ],
      "text/plain": [
       "'MM v2 =' [ 0.11]\n",
       "[ 0.11]\n",
       "[0.095]\n",
       "[0.088]\n",
       "[ 0.31]\n",
       "[0.084]\n",
       "[0.089]\n",
       "[ 0.11]"
      ]
     },
     "metadata": {},
     "output_type": "display_data"
    },
    {
     "data": {
      "text/html": [
       "<html><script type=\"math/tex; mode=display\">\\newcommand{\\Bold}[1]{\\mathbf{#1}}\\verb|MMM|\\phantom{\\verb!x!}\\verb|v2|\\phantom{\\verb!x!}\\verb|=| \\left(\\begin{array}{r}\n",
       "0.10 \\\\\n",
       "0.098 \\\\\n",
       "0.084 \\\\\n",
       "0.081 \\\\\n",
       "0.34 \\\\\n",
       "0.084 \\\\\n",
       "0.093 \\\\\n",
       "0.12\n",
       "\\end{array}\\right)</script></html>"
      ],
      "text/plain": [
       "'MMM v2 =' [ 0.10]\n",
       "[0.098]\n",
       "[0.084]\n",
       "[0.081]\n",
       "[ 0.34]\n",
       "[0.084]\n",
       "[0.093]\n",
       "[ 0.12]"
      ]
     },
     "metadata": {},
     "output_type": "display_data"
    },
    {
     "data": {
      "text/html": [
       "<html><script type=\"math/tex; mode=display\">\\newcommand{\\Bold}[1]{\\mathbf{#1}}\\verb|MMMM|\\phantom{\\verb!x!}\\verb|v2|\\phantom{\\verb!x!}\\verb|=| \\left(\\begin{array}{r}\n",
       "0.095 \\\\\n",
       "0.091 \\\\\n",
       "0.078 \\\\\n",
       "0.077 \\\\\n",
       "0.35 \\\\\n",
       "0.082 \\\\\n",
       "0.095 \\\\\n",
       "0.13\n",
       "\\end{array}\\right)</script></html>"
      ],
      "text/plain": [
       "'MMMM v2 =' [0.095]\n",
       "[0.091]\n",
       "[0.078]\n",
       "[0.077]\n",
       "[ 0.35]\n",
       "[0.082]\n",
       "[0.095]\n",
       "[ 0.13]"
      ]
     },
     "metadata": {},
     "output_type": "display_data"
    },
    {
     "data": {
      "text/html": [
       "<html><script type=\"math/tex; mode=display\">\\newcommand{\\Bold}[1]{\\mathbf{#1}}\\verb|MMMMM|\\phantom{\\verb!x!}\\verb|v2|\\phantom{\\verb!x!}\\verb|=| \\left(\\begin{array}{r}\n",
       "0.091 \\\\\n",
       "0.085 \\\\\n",
       "0.076 \\\\\n",
       "0.074 \\\\\n",
       "0.36 \\\\\n",
       "0.078 \\\\\n",
       "0.095 \\\\\n",
       "0.13\n",
       "\\end{array}\\right)</script></html>"
      ],
      "text/plain": [
       "'MMMMM v2 =' [0.091]\n",
       "[0.085]\n",
       "[0.076]\n",
       "[0.074]\n",
       "[ 0.36]\n",
       "[0.078]\n",
       "[0.095]\n",
       "[ 0.13]"
      ]
     },
     "metadata": {},
     "output_type": "display_data"
    },
    {
     "data": {
      "text/html": [
       "<html><script type=\"math/tex; mode=display\">\\newcommand{\\Bold}[1]{\\mathbf{#1}}\\verb|M^10|\\phantom{\\verb!x!}\\verb|v2|\\phantom{\\verb!x!}\\verb|=| \\left(\\begin{array}{r}\n",
       "0.082 \\\\\n",
       "0.079 \\\\\n",
       "0.072 \\\\\n",
       "0.071 \\\\\n",
       "0.39 \\\\\n",
       "0.073 \\\\\n",
       "0.092 \\\\\n",
       "0.14\n",
       "\\end{array}\\right)</script></html>"
      ],
      "text/plain": [
       "'M^10 v2 =' [0.082]\n",
       "[0.079]\n",
       "[0.072]\n",
       "[0.071]\n",
       "[ 0.39]\n",
       "[0.073]\n",
       "[0.092]\n",
       "[ 0.14]"
      ]
     },
     "metadata": {},
     "output_type": "display_data"
    },
    {
     "data": {
      "text/html": [
       "<html><script type=\"math/tex; mode=display\">\\newcommand{\\Bold}[1]{\\mathbf{#1}}\\verb|M^13|\\phantom{\\verb!x!}\\verb|v2|\\phantom{\\verb!x!}\\verb|=| \\left(\\begin{array}{r}\n",
       "0.082 \\\\\n",
       "0.077 \\\\\n",
       "0.072 \\\\\n",
       "0.071 \\\\\n",
       "0.39 \\\\\n",
       "0.074 \\\\\n",
       "0.090 \\\\\n",
       "0.14\n",
       "\\end{array}\\right)</script></html>"
      ],
      "text/plain": [
       "'M^13 v2 =' [0.082]\n",
       "[0.077]\n",
       "[0.072]\n",
       "[0.071]\n",
       "[ 0.39]\n",
       "[0.074]\n",
       "[0.090]\n",
       "[ 0.14]"
      ]
     },
     "metadata": {},
     "output_type": "display_data"
    },
    {
     "data": {
      "text/html": [
       "<html><script type=\"math/tex; mode=display\">\\newcommand{\\Bold}[1]{\\mathbf{#1}}\\verb|M^14|\\phantom{\\verb!x!}\\verb|v2|\\phantom{\\verb!x!}\\verb|=| \\left(\\begin{array}{r}\n",
       "0.081 \\\\\n",
       "0.077 \\\\\n",
       "0.072 \\\\\n",
       "0.071 \\\\\n",
       "0.39 \\\\\n",
       "0.074 \\\\\n",
       "0.090 \\\\\n",
       "0.14\n",
       "\\end{array}\\right)</script></html>"
      ],
      "text/plain": [
       "'M^14 v2 =' [0.081]\n",
       "[0.077]\n",
       "[0.072]\n",
       "[0.071]\n",
       "[ 0.39]\n",
       "[0.074]\n",
       "[0.090]\n",
       "[ 0.14]"
      ]
     },
     "metadata": {},
     "output_type": "display_data"
    }
   ],
   "source": [
    "\n",
    "show('M v2 =', matrix(M*norm_v2).transpose())\n",
    "show('MM v2 =', matrix(M^2*norm_v2).transpose())\n",
    "show('MMM v2 =', matrix(M^3*norm_v2).transpose())\n",
    "show('MMMM v2 =', matrix(M^4*norm_v2).transpose())\n",
    "show('MMMMM v2 =', matrix(M^5*norm_v2).transpose())\n",
    "show('M^10 v2 =', matrix(M^10*norm_v2).transpose())\n",
    "show('M^13 v2 =', matrix(M^13*norm_v2).transpose())\n",
    "show('M^14 v2 =', matrix(M^14*norm_v2).transpose())\n"
   ]
  },
  {
   "cell_type": "code",
   "execution_count": 111,
   "metadata": {},
   "outputs": [
    {
     "data": {
      "image/png": "[encoded data removed]",
      "text/plain": [
       "<Figure size 432x288 with 1 Axes>"
      ]
     },
     "metadata": {},
     "output_type": "display_data"
    }
   ],
   "source": [
    "\n",
    "time = [0]\n",
    "prob = [list(norm_v2)]\n",
    "for i in range(1,15):\n",
    "    time.append(i*10)\n",
    "    now_prob = list(M^i*norm_v2)\n",
    "    prob.append(now_prob)\n",
    "    \n",
    "axis_labels = ['McD', 'KFC', 'Chai', 'Boba',\n",
    "               'SPAR', 'Phone', 'Shoe', 'Glass']\n",
    "\n",
    "prob = np.array(prob).round(3)\n",
    "\n",
    "for i in range(len(prob[0])):\n",
    "    plt.plot(time, prob[:,i], label = axis_labels[i])\n",
    "\n",
    "plt.plot([130]*8, list(norm_v), 'g<', label = 'e-vector')\n",
    "plt.legend(loc = 9)\n",
    "plt.xlabel('Time (min)')\n",
    "plt.ylabel('Population Distribution')\n",
    "plt.show()"
   ]
  },
  {
   "cell_type": "code",
   "execution_count": 112,
   "metadata": {},
   "outputs": [
    {
     "data": {
      "text/html": [
       "<html><script type=\"math/tex; mode=display\">\\newcommand{\\Bold}[1]{\\mathbf{#1}}\\verb|v3|\\phantom{\\verb!x!}\\verb|=| \\left(\\begin{array}{r}\n",
       "32 \\\\\n",
       "36 \\\\\n",
       "31 \\\\\n",
       "35 \\\\\n",
       "30 \\\\\n",
       "15 \\\\\n",
       "11 \\\\\n",
       "10\n",
       "\\end{array}\\right)</script></html>"
      ],
      "text/plain": [
       "'v3 =' [32]\n",
       "[36]\n",
       "[31]\n",
       "[35]\n",
       "[30]\n",
       "[15]\n",
       "[11]\n",
       "[10]"
      ]
     },
     "metadata": {},
     "output_type": "display_data"
    }
   ],
   "source": [
    "v3 = vector(QQ, [32,36,31,35,30,15,11,10])\n",
    "show('v3 =', matrix(v3).transpose())"
   ]
  },
  {
   "cell_type": "code",
   "execution_count": 113,
   "metadata": {},
   "outputs": [
    {
     "data": {
      "text/html": [
       "<html><script type=\"math/tex; mode=display\">\\newcommand{\\Bold}[1]{\\mathbf{#1}}\\verb|Normalized|\\phantom{\\verb!x!}\\verb|v3|\\phantom{\\verb!x!}\\verb|=| \\left(\\begin{array}{r}\n",
       "0.16 \\\\\n",
       "0.18 \\\\\n",
       "0.15 \\\\\n",
       "0.18 \\\\\n",
       "0.15 \\\\\n",
       "0.075 \\\\\n",
       "0.055 \\\\\n",
       "0.050\n",
       "\\end{array}\\right)</script></html>"
      ],
      "text/plain": [
       "'Normalized v3 =' [ 0.16]\n",
       "[ 0.18]\n",
       "[ 0.15]\n",
       "[ 0.18]\n",
       "[ 0.15]\n",
       "[0.075]\n",
       "[0.055]\n",
       "[0.050]"
      ]
     },
     "metadata": {},
     "output_type": "display_data"
    }
   ],
   "source": [
    "norm_v3 = v3/sum(v3).n(digits = 1)\n",
    "show('Normalized v3 =', matrix(norm_v3).transpose())"
   ]
  },
  {
   "cell_type": "code",
   "execution_count": 114,
   "metadata": {},
   "outputs": [
    {
     "data": {
      "text/html": [
       "<html><script type=\"math/tex; mode=display\">\\newcommand{\\Bold}[1]{\\mathbf{#1}}\\verb|M|\\phantom{\\verb!x!}\\verb|v3|\\phantom{\\verb!x!}\\verb|=| \\left(\\begin{array}{r}\n",
       "0.13 \\\\\n",
       "0.14 \\\\\n",
       "0.11 \\\\\n",
       "0.11 \\\\\n",
       "0.22 \\\\\n",
       "0.10 \\\\\n",
       "0.088 \\\\\n",
       "0.094\n",
       "\\end{array}\\right)</script></html>"
      ],
      "text/plain": [
       "'M v3 =' [ 0.13]\n",
       "[ 0.14]\n",
       "[ 0.11]\n",
       "[ 0.11]\n",
       "[ 0.22]\n",
       "[ 0.10]\n",
       "[0.088]\n",
       "[0.094]"
      ]
     },
     "metadata": {},
     "output_type": "display_data"
    },
    {
     "data": {
      "text/html": [
       "<html><script type=\"math/tex; mode=display\">\\newcommand{\\Bold}[1]{\\mathbf{#1}}\\verb|MM|\\phantom{\\verb!x!}\\verb|v3|\\phantom{\\verb!x!}\\verb|=| \\left(\\begin{array}{r}\n",
       "0.12 \\\\\n",
       "0.12 \\\\\n",
       "0.092 \\\\\n",
       "0.092 \\\\\n",
       "0.28 \\\\\n",
       "0.097 \\\\\n",
       "0.097 \\\\\n",
       "0.11\n",
       "\\end{array}\\right)</script></html>"
      ],
      "text/plain": [
       "'MM v3 =' [ 0.12]\n",
       "[ 0.12]\n",
       "[0.092]\n",
       "[0.092]\n",
       "[ 0.28]\n",
       "[0.097]\n",
       "[0.097]\n",
       "[ 0.11]"
      ]
     },
     "metadata": {},
     "output_type": "display_data"
    },
    {
     "data": {
      "text/html": [
       "<html><script type=\"math/tex; mode=display\">\\newcommand{\\Bold}[1]{\\mathbf{#1}}\\verb|MMM|\\phantom{\\verb!x!}\\verb|v3|\\phantom{\\verb!x!}\\verb|=| \\left(\\begin{array}{r}\n",
       "0.10 \\\\\n",
       "0.11 \\\\\n",
       "0.082 \\\\\n",
       "0.082 \\\\\n",
       "0.31 \\\\\n",
       "0.092 \\\\\n",
       "0.10 \\\\\n",
       "0.13\n",
       "\\end{array}\\right)</script></html>"
      ],
      "text/plain": [
       "'MMM v3 =' [ 0.10]\n",
       "[ 0.11]\n",
       "[0.082]\n",
       "[0.082]\n",
       "[ 0.31]\n",
       "[0.092]\n",
       "[ 0.10]\n",
       "[ 0.13]"
      ]
     },
     "metadata": {},
     "output_type": "display_data"
    },
    {
     "data": {
      "text/html": [
       "<html><script type=\"math/tex; mode=display\">\\newcommand{\\Bold}[1]{\\mathbf{#1}}\\verb|MMMM|\\phantom{\\verb!x!}\\verb|v3|\\phantom{\\verb!x!}\\verb|=| \\left(\\begin{array}{r}\n",
       "0.098 \\\\\n",
       "0.096 \\\\\n",
       "0.078 \\\\\n",
       "0.077 \\\\\n",
       "0.33 \\\\\n",
       "0.084 \\\\\n",
       "0.10 \\\\\n",
       "0.13\n",
       "\\end{array}\\right)</script></html>"
      ],
      "text/plain": [
       "'MMMM v3 =' [0.098]\n",
       "[0.096]\n",
       "[0.078]\n",
       "[0.077]\n",
       "[ 0.33]\n",
       "[0.084]\n",
       "[ 0.10]\n",
       "[ 0.13]"
      ]
     },
     "metadata": {},
     "output_type": "display_data"
    },
    {
     "data": {
      "text/html": [
       "<html><script type=\"math/tex; mode=display\">\\newcommand{\\Bold}[1]{\\mathbf{#1}}\\verb|MMMMM|\\phantom{\\verb!x!}\\verb|v3|\\phantom{\\verb!x!}\\verb|=| \\left(\\begin{array}{r}\n",
       "0.093 \\\\\n",
       "0.090 \\\\\n",
       "0.076 \\\\\n",
       "0.074 \\\\\n",
       "0.35 \\\\\n",
       "0.080 \\\\\n",
       "0.097 \\\\\n",
       "0.14\n",
       "\\end{array}\\right)</script></html>"
      ],
      "text/plain": [
       "'MMMMM v3 =' [0.093]\n",
       "[0.090]\n",
       "[0.076]\n",
       "[0.074]\n",
       "[ 0.35]\n",
       "[0.080]\n",
       "[0.097]\n",
       "[ 0.14]"
      ]
     },
     "metadata": {},
     "output_type": "display_data"
    },
    {
     "data": {
      "text/html": [
       "<html><script type=\"math/tex; mode=display\">\\newcommand{\\Bold}[1]{\\mathbf{#1}}\\verb|M^8|\\phantom{\\verb!x!}\\verb|v3|\\phantom{\\verb!x!}\\verb|=| \\left(\\begin{array}{r}\n",
       "0.085 \\\\\n",
       "0.082 \\\\\n",
       "0.074 \\\\\n",
       "0.073 \\\\\n",
       "0.38 \\\\\n",
       "0.074 \\\\\n",
       "0.093 \\\\\n",
       "0.14\n",
       "\\end{array}\\right)</script></html>"
      ],
      "text/plain": [
       "'M^8 v3 =' [0.085]\n",
       "[0.082]\n",
       "[0.074]\n",
       "[0.073]\n",
       "[ 0.38]\n",
       "[0.074]\n",
       "[0.093]\n",
       "[ 0.14]"
      ]
     },
     "metadata": {},
     "output_type": "display_data"
    },
    {
     "data": {
      "text/html": [
       "<html><script type=\"math/tex; mode=display\">\\newcommand{\\Bold}[1]{\\mathbf{#1}}\\verb|M^10|\\phantom{\\verb!x!}\\verb|v3|\\phantom{\\verb!x!}\\verb|=| \\left(\\begin{array}{r}\n",
       "0.083 \\\\\n",
       "0.078 \\\\\n",
       "0.073 \\\\\n",
       "0.072 \\\\\n",
       "0.38 \\\\\n",
       "0.074 \\\\\n",
       "0.092 \\\\\n",
       "0.14\n",
       "\\end{array}\\right)</script></html>"
      ],
      "text/plain": [
       "'M^10 v3 =' [0.083]\n",
       "[0.078]\n",
       "[0.073]\n",
       "[0.072]\n",
       "[ 0.38]\n",
       "[0.074]\n",
       "[0.092]\n",
       "[ 0.14]"
      ]
     },
     "metadata": {},
     "output_type": "display_data"
    },
    {
     "data": {
      "text/html": [
       "<html><script type=\"math/tex; mode=display\">\\newcommand{\\Bold}[1]{\\mathbf{#1}}\\verb|M^12|\\phantom{\\verb!x!}\\verb|v3|\\phantom{\\verb!x!}\\verb|=| \\left(\\begin{array}{r}\n",
       "0.082 \\\\\n",
       "0.078 \\\\\n",
       "0.073 \\\\\n",
       "0.072 \\\\\n",
       "0.38 \\\\\n",
       "0.074 \\\\\n",
       "0.090 \\\\\n",
       "0.14\n",
       "\\end{array}\\right)</script></html>"
      ],
      "text/plain": [
       "'M^12 v3 =' [0.082]\n",
       "[0.078]\n",
       "[0.073]\n",
       "[0.072]\n",
       "[ 0.38]\n",
       "[0.074]\n",
       "[0.090]\n",
       "[ 0.14]"
      ]
     },
     "metadata": {},
     "output_type": "display_data"
    }
   ],
   "source": [
    "\n",
    "show('M v3 =', matrix(M*norm_v3).transpose())\n",
    "show('MM v3 =', matrix(M^2*norm_v3).transpose())\n",
    "show('MMM v3 =', matrix(M^3*norm_v3).transpose())\n",
    "show('MMMM v3 =', matrix(M^4*norm_v3).transpose())\n",
    "show('MMMMM v3 =', matrix(M^5*norm_v3).transpose())\n",
    "show('M^8 v3 =', matrix(M^8*norm_v3).transpose())\n",
    "show('M^10 v3 =', matrix(M^10*norm_v3).transpose())\n",
    "show('M^12 v3 =', matrix(M^12*norm_v3).transpose())\n"
   ]
  },
  {
   "cell_type": "code",
   "execution_count": 115,
   "metadata": {},
   "outputs": [
    {
     "data": {
      "image/png": "[encoded data removed]",
      "text/plain": [
       "<Figure size 432x288 with 1 Axes>"
      ]
     },
     "metadata": {},
     "output_type": "display_data"
    }
   ],
   "source": [
    "time = [0]\n",
    "prob = [list(norm_v1)]\n",
    "for i in range(1,13):\n",
    "    time.append(i*10)\n",
    "    now_prob = list(M^i*norm_v1)\n",
    "    prob.append(now_prob)\n",
    "    \n",
    "axis_labels = ['McD', 'KFC', 'Chai', 'Boba',\n",
    "               'SPAR', 'Phone', 'Shoe', 'Glass']\n",
    "\n",
    "prob = np.array(prob).round(3)\n",
    "\n",
    "for i in range(len(prob[0])):\n",
    "    plt.plot(time, prob[:,i], label = axis_labels[i])\n",
    "\n",
    "plt.plot([110]*8, list(norm_v), 'g<', label = 'e-vector')\n",
    "plt.legend(loc = 9)\n",
    "plt.xlabel('Time (min)')\n",
    "plt.ylabel('Population Distribution')\n",
    "plt.show()"
   ]
  }
 ],
 "metadata": {
  "kernelspec": {
   "display_name": "SageMath 8.8",
   "language": "sage",
   "name": "sagemath"
  },
  "language_info": {
   "codemirror_mode": {
    "name": "ipython",
    "version": 2
   },
   "file_extension": ".py",
   "mimetype": "text/x-python",
   "name": "python",
   "nbconvert_exporter": "python",
   "pygments_lexer": "ipython2",
   "version": "2.7.15"
  }
 },
 "nbformat": 4,
 "nbformat_minor": 4
}
