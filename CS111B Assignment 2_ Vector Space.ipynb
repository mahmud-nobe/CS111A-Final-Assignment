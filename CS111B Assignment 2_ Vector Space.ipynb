{
 "cells": [
  {
   "cell_type": "markdown",
   "metadata": {},
   "source": [
    "## Skill Builder"
   ]
  },
  {
   "cell_type": "markdown",
   "metadata": {},
   "source": [
    "### Session 4.1 and 4.2: The Geometry of Vectors"
   ]
  },
  {
   "cell_type": "markdown",
   "metadata": {},
   "source": [
    "\n",
    "(1) Prove the following distributive properties hold for vectors $\\vec{u}$, $\\vec{v}$, $\\vec{w}$ in $\\mathbb{R}^2$ and scalars $c$ and $d$.\n",
    "\\begin{align*}\n",
    "    a) &c (\\vec{u} + \\vec{v}) &&= c\\vec{u} + c\\vec{v}\\\\\n",
    "    b) &(c+d)\\vec{v} &&= c\\vec{v} + d\\vec{v}\\\\\n",
    "    c) &\\vec{u} \\cdot (\\vec{v} + \\vec{w}) &&= \\vec{u} \\cdot \\vec{v} + \\vec{u}\\cdot \\vec{w}\\\\\n",
    "\\end{align*}\n",
    "\n",
    "   d) (Optional) Generalize one (or more) of your proofs to vectors in $\\mathbb{R}^n$.\n"
   ]
  },
  {
   "cell_type": "markdown",
   "metadata": {},
   "source": [
    "Let any vector in $\\mathbb{R}^n$, $v = \\langle v_1, v_2, ..., v_n \\rangle$\n",
    "\n",
    "**a)**\n",
    "\n",
    "The left hand side,\n",
    "\n",
    "\\begin{align*}\n",
    "    &c(\\vec{u} + \\vec{v})\\\\\n",
    "    = & c(\\langle u_1, u_2, ..., u_n \\rangle + \\langle v_1, v_2, ..., v_n \\rangle) &&\\text{[Writing by their components]}\\\\\n",
    "    = & c\\langle u_1 + v_1, u_2 + v_2, ..., u_n + v_n \\rangle &&\\text{[Definition of addition in two vectors]}\\\\\n",
    "    = & \\langle c (u_1 + v_1), c(u_2 + v_2), ..., c(u_n + v_n) \\rangle &&\\text{[Definition of scalar multiplication of vectors]}\n",
    "\\end{align*}\n",
    "\n",
    "The right hand side,\n",
    "\n",
    "\\begin{align*}\n",
    "    &c\\vec{u} + c\\vec{v}\\\\\n",
    "    = & c\\langle u_1, u_2, ..., u_n \\rangle + c\\langle v_1, v_2, ..., v_n \\rangle &&\\text{[Writing by their components]}\\\\\n",
    "    = & \\langle c u_1, c u_2, ..., c u_n \\rangle + \\langle c v_1, c v_2, ..., c v_n \\rangle &&\\text{[Definition of scalar multiplication of vectors]}\\\\\n",
    "    = & \\langle c u_1 + c v_1, c u_2 +c  v_2, ..., c u_n + c v_n \\rangle &&\\text{[Definition of addition in two vectors]}\\\\\n",
    "    = & \\langle c (u_1 + v_1), c(u_2 + v_2), ..., c(u_n + v_n) \\rangle &&\\text{[Distributive property of real number]}\n",
    "\\end{align*}\n",
    "\n",
    "All the components are equal for the left hand side and the right hand side.\n",
    "\n",
    "$\\therefore c(\\vec{u} + \\vec{v}) = c\\vec{u} + c\\vec{v}$"
   ]
  },
  {
   "cell_type": "markdown",
   "metadata": {},
   "source": [
    "**b)**\n",
    "\n",
    "The left hand side,\n",
    "\n",
    "\\begin{align*}\n",
    "    &(c+d)\\vec{v}\\\\\n",
    "    = & (c+d) \\langle v_1, v_2, ..., v_n \\rangle &&\\text{[Writing by their components]}\\\\\n",
    "    = & \\langle (c+d) v_1, (c+d) v_2, ..., (c+d) v_n \\rangle &&\\text{[Definition of scalar multiplication of vectors]}\\\\\n",
    "    = & \\langle c v_1 + d v_1, c v_2 + d v_2, ..., c v_n + d v_n \\rangle &&\\text{[Distributive property of real number]}\n",
    "\\end{align*}\n",
    "\n",
    "The right hand side,\n",
    "\n",
    "\\begin{align*}\n",
    "    &c\\vec{v} + d\\vec{v}\\\\\n",
    "    = & c\\langle v_1, v_2, ..., v_n \\rangle + d\\langle v_1, v_2, ..., v_n \\rangle &&\\text{[Writing by their components]}\\\\\n",
    "    = & \\langle c v_1, c v_2, ..., c v_n \\rangle + \\langle d v_1, d v_2, ..., d v_n \\rangle &&\\text{[Definition of scalar multiplication of vectors]}\\\\\n",
    "    = & \\langle c u_1 + d v_1, c u_2 + d v_2, ..., c u_n + d v_n \\rangle &&\\text{[Definition of addition in two vectors]}\\\\\n",
    "\\end{align*}\n",
    "\n",
    "All the components are equal for the left hand side and the right hand side.\n",
    "\n",
    "$\\therefore (c+d)\\vec{v} = c\\vec{v} + d\\vec{v}$"
   ]
  },
  {
   "cell_type": "markdown",
   "metadata": {},
   "source": [
    "**c)**\n",
    "\n",
    "The left hand side,\n",
    "\n",
    "\\begin{align*}\n",
    "    &\\vec{u}\\cdot(\\vec{v} + \\vec{w})\\\\\n",
    "    = & \\langle u_1, u_2, ..., u_n \\rangle \\cdot (\\langle v_1, v_2, ..., v_n \\rangle + \\langle w_1, w_2, ..., w_n \\rangle) &&\\text{[Writing by their components]}\\\\\n",
    "    = & \\langle u_1, u_2, ..., u_n \\rangle \\cdot \\langle v_1 + w_1, v_2 + w_2, ..., v_n + w_n \\rangle &&\\text{[Definition of addition in two vectors]}\\\\\n",
    "    = & u_1(v_1 + w_1) + u_2(v_2 + w_2) + ... + u_n(v_n + w_n) &&\\text{[Definition of dot products of vector]}\\\\\n",
    "    = & u_1 v_1 + u_1 w_1 + u_2 v_2 + u_2 w_2 + ... + u_n v_n + u_n w_n  &&\\text{[Distributive property of real number]}\n",
    "\\end{align*}\n",
    "\n",
    "The right hand side,\n",
    "\n",
    "\\begin{align*}\n",
    "    &\\vec{u}\\cdot\\vec{v} + \\vec{u}\\cdot\\vec{w}\\\\\n",
    "    = &\\langle u_1, u_2, ..., u_n \\rangle \\cdot \\langle v_1, v_2, ..., v_n \\rangle + \\langle u_1, u_2, ..., u_n \\rangle \\cdot \\langle w_1, w_2, ..., w_n \\rangle &&\\text{[Writing by their components]}\\\\\n",
    "    = & u_1 v_1 + u_2 v_2 + ... + u_n v_n + u_1 w_1 + u_2 w_2 + ... + u_n w_n  &&\\text{[Distributive property of real number]}\\\\\n",
    "    = & u_1 v_1 + u_1 w_1 + u_2 v_2 + u_2 w_2 + ... + u_n v_n + u_n w_n +  &&\\text{}\n",
    "\\end{align*}\n",
    "\n",
    "The scalar results are equal for the left hand side and the right hand side.\n",
    "\n",
    "$\\therefore \\vec{u}\\cdot(\\vec{v} + \\vec{w}) = \\vec{u}\\cdot\\vec{v} + \\vec{u}\\cdot\\vec{w}$"
   ]
  },
  {
   "cell_type": "markdown",
   "metadata": {},
   "source": [
    "(2) Consider the following system of equations:\n",
    "\n",
    "\\begin{align*}\n",
    "    x_1 + x_2 - 2x_3 + x_4 &=1 \\\\\n",
    "    x_1 + 4x_2 - 4x_3 + 6x_4 &=5 \\\\\n",
    "    3x_1 + 6x_2 - 8x_3 + 8x_4 &=7 \\\\\n",
    "\\end{align*}\n",
    "\n",
    "Find the parametric solution of this system. Decompose the solution into column vector form. Describe the geometry of the solution set. (Hint: Where does the solution live? What is the dimension of the solution space?) \n"
   ]
  },
  {
   "cell_type": "code",
   "execution_count": 1,
   "metadata": {},
   "outputs": [],
   "source": [
    "%display typeset"
   ]
  },
  {
   "cell_type": "code",
   "execution_count": 2,
   "metadata": {},
   "outputs": [
    {
     "data": {
      "text/html": [
       "<html><script type=\"math/tex; mode=display\">\\newcommand{\\Bold}[1]{\\mathbf{#1}}\\verb|Coefficient|\\phantom{\\verb!x!}\\verb|Matrix,|\\phantom{\\verb!x!}\\verb|A:| \\left(\\begin{array}{rrrr}\n",
       "1 & 1 & -2 & 1 \\\\\n",
       "1 & 4 & -4 & 6 \\\\\n",
       "3 & 6 & -8 & 8\n",
       "\\end{array}\\right)</script></html>"
      ],
      "text/plain": [
       "'Coefficient Matrix, A:' [ 1  1 -2  1]\n",
       "[ 1  4 -4  6]\n",
       "[ 3  6 -8  8]"
      ]
     },
     "metadata": {},
     "output_type": "display_data"
    }
   ],
   "source": [
    "# coefficient Matrix\n",
    "A = matrix([[1,1,-2,1],[1,4,-4,6],[3,6,-8,8]])\n",
    "show('Coefficient Matrix, A:', A)"
   ]
  },
  {
   "cell_type": "code",
   "execution_count": 3,
   "metadata": {},
   "outputs": [
    {
     "data": {
      "text/html": [
       "<html><script type=\"math/tex; mode=display\">\\newcommand{\\Bold}[1]{\\mathbf{#1}}\\verb|Augmented|\\phantom{\\verb!x!}\\verb|Matrix:| \\left(\\begin{array}{rrrrr}\n",
       "1 & 1 & -2 & 1 & 1 \\\\\n",
       "1 & 4 & -4 & 6 & 5 \\\\\n",
       "3 & 6 & -8 & 8 & 7\n",
       "\\end{array}\\right)</script></html>"
      ],
      "text/plain": [
       "'Augmented Matrix: ' [ 1  1 -2  1  1]\n",
       "[ 1  4 -4  6  5]\n",
       "[ 3  6 -8  8  7]"
      ]
     },
     "metadata": {},
     "output_type": "display_data"
    },
    {
     "data": {
      "text/html": [
       "<html><script type=\"math/tex; mode=display\">\\newcommand{\\Bold}[1]{\\mathbf{#1}}\\verb|RREF:| \\left(\\begin{array}{rrrrr}\n",
       "1 & 0 & -\\frac{4}{3} & -\\frac{2}{3} & -\\frac{1}{3} \\\\\n",
       "0 & 1 & -\\frac{2}{3} & \\frac{5}{3} & \\frac{4}{3} \\\\\n",
       "0 & 0 & 0 & 0 & 0\n",
       "\\end{array}\\right)</script></html>"
      ],
      "text/plain": [
       "'RREF: ' [   1    0 -4/3 -2/3 -1/3]\n",
       "[   0    1 -2/3  5/3  4/3]\n",
       "[   0    0    0    0    0]"
      ]
     },
     "metadata": {},
     "output_type": "display_data"
    }
   ],
   "source": [
    "# Augmented Matrix\n",
    "b = vector([1,5,7])\n",
    "AA = A.augment(b)\n",
    "show('Augmented Matrix: ', AA)\n",
    "show('RREF: ', AA.rref())"
   ]
  },
  {
   "cell_type": "markdown",
   "metadata": {},
   "source": [
    "Let assume, $(x_3, x_4) = (s,t)$, then from the RREF,\n",
    "\n",
    "- x1 - 4/3 s - 2/3 t = -1/3\n",
    "    - x1 = -1/3 + 4/3 s + 2/3 t\n",
    "- x2 - 2/3 s + 5/3 t = 4/3\n",
    "    - x2 = 4/3 + 2/3 s -5/3 t"
   ]
  },
  {
   "cell_type": "markdown",
   "metadata": {},
   "source": [
    "$ \\therefore \\begin{bmatrix}\n",
    "x_1\\\\\n",
    "x_2\\\\\n",
    "x_3\\\\\n",
    "x_4\n",
    "\\end{bmatrix}\n",
    "= \\begin{bmatrix}\n",
    "-1/3 + 4/3 s + 2/3 t\\\\\n",
    "4/3 + 2/3 s - 5/3 t\\\\\n",
    "s\\\\\n",
    "t\n",
    "\\end{bmatrix}\n",
    "= \\begin{bmatrix}\n",
    "-1/3\\\\\n",
    "4/3\\\\\n",
    "0\\\\\n",
    "0\n",
    "\\end{bmatrix}\n",
    "+ s \\begin{bmatrix}\n",
    "4/3\\\\\n",
    "2/3\\\\\n",
    "1\\\\\n",
    "0\n",
    "\\end{bmatrix}\n",
    "+ t \\begin{bmatrix}\n",
    " 2/3\\\\\n",
    "- 5/3\\\\\n",
    "0\\\\\n",
    "1\n",
    "\\end{bmatrix}$"
   ]
  },
  {
   "cell_type": "markdown",
   "metadata": {},
   "source": [
    "There is two free variables. So, the solution set lives in a plane and the dimension of the solution set is 2."
   ]
  },
  {
   "cell_type": "markdown",
   "metadata": {},
   "source": [
    "### Session 5.1, 5.2 and 6.2: Vector Spaces"
   ]
  },
  {
   "cell_type": "markdown",
   "metadata": {},
   "source": [
    "(1). Show that the set of $3 \\times 3$ lower trianglular matrices $T$ is a vector space under matrix addition and scalar multiplication. "
   ]
  },
  {
   "cell_type": "markdown",
   "metadata": {},
   "source": [
    "- Condition 1: Closure under addition:\n",
    "\n",
    "$\\begin{bmatrix}\n",
    "a_1 & 0 & 0 \\\\\n",
    "b_1 & d_1 & 0 \\\\\n",
    "c_1 & e_1 & f_1\n",
    "\\end{bmatrix}\n",
    "+ \\begin{bmatrix}\n",
    "a_2 & 0 & 0 \\\\\n",
    "b_2 & d_2 & 0\\\\\n",
    "c_2 & e_2 & f_2\n",
    "\\end{bmatrix}\n",
    "= \\begin{bmatrix}\n",
    "a_1 + a_2 & 0 & 0 \\\\\n",
    "b_1 + b_2 & d_1 + d_2 & 0 \\\\\n",
    "c_1 + c_2 & e_1 + e_2 & f_1 + f_2\n",
    "\\end{bmatrix}$\n",
    "\n",
    "The result is also a 3 x 3 lower triangular Matrix. "
   ]
  },
  {
   "cell_type": "markdown",
   "metadata": {},
   "source": [
    "- Condition 2: Closure under scalar multiplication\n",
    "\n",
    "$ k \\begin{bmatrix}\n",
    "a & 0 & 0\\\\\n",
    "b & d & 0\\\\\n",
    "c & e & f\n",
    "\\end{bmatrix}\n",
    "= \\begin{bmatrix}\n",
    "ka & 0 & 0\\\\\n",
    "kb & kd & 0\\\\\n",
    "kc & ke & kf\n",
    "\\end{bmatrix}$\n",
    "\n",
    "The result is also a 3 x 3 lower triangular Matrix."
   ]
  },
  {
   "cell_type": "markdown",
   "metadata": {},
   "source": [
    "- Condition 3: Existence of 0 vector\n",
    "\n",
    "when (a,b,c,d,e,f) = (0,0,0,0,0,0)\n",
    "\n",
    "$ \\begin{bmatrix}\n",
    "a & 0 & 0 \\\\\n",
    "b & d & 0 \\\\\n",
    "c & e & f \n",
    "\\end{bmatrix}\n",
    "= \\begin{bmatrix}\n",
    "0 & 0 & 0\\\\\n",
    "0 & 0 & 0\\\\\n",
    "0 & 0 & 0\n",
    "\\end{bmatrix}$"
   ]
  },
  {
   "cell_type": "markdown",
   "metadata": {},
   "source": [
    "- Condition 4: Existence of additive inverse:\n",
    "\n",
    "$ \\begin{bmatrix}\n",
    "a & 0 & 0\\\\\n",
    "b & d & 0\\\\\n",
    "c & e & f\n",
    "\\end{bmatrix}\n",
    "+ \\begin{bmatrix}\n",
    "-a & 0 & 0\\\\\n",
    "-b & -d & 0\\\\\n",
    "-c & -e & -f\n",
    "\\end{bmatrix}\n",
    "= \\begin{bmatrix}\n",
    "0 & 0 & 0\\\\\n",
    "0 & 0 & 0\\\\\n",
    "0 & 0 & 0\n",
    "\\end{bmatrix}$"
   ]
  },
  {
   "cell_type": "markdown",
   "metadata": {},
   "source": [
    "- Condition 5: Scalar Identity\n",
    "\n",
    "$ 1 \\begin{bmatrix}\n",
    "a & 0 & 0\\\\\n",
    "b & d & 0\\\\\n",
    "c & e & f\n",
    "\\end{bmatrix}\n",
    "= \\begin{bmatrix}\n",
    "a & 0 & 0\\\\\n",
    "b & d & 0\\\\\n",
    "c & e & f\n",
    "\\end{bmatrix}$"
   ]
  },
  {
   "cell_type": "markdown",
   "metadata": {},
   "source": [
    "- Condition 6: Addition is commutitive\n",
    "\n",
    "$\\begin{bmatrix}\n",
    "a_1 & 0 & 0\\\\\n",
    "b_1 & d_1 & 0\\\\\n",
    "c_1 & e_1 & f_1\n",
    "\\end{bmatrix}\n",
    "+ \\begin{bmatrix}\n",
    "a_2 & 0 & 0 \\\\\n",
    "b_2 & d_2 & 0\\\\\n",
    "c_2 & e_2 & f_2\n",
    "\\end{bmatrix}\n",
    "= \\begin{bmatrix}\n",
    "a_1 + a_2 & 0 & 0\\\\\n",
    "b_1 + b_2 & d_1 + d_2 & 0\\\\\n",
    "c_1 + c_2 & e_1 + e_2 & f_1 + f_2\n",
    "\\end{bmatrix}$\n",
    "\n",
    "$\\begin{bmatrix}\n",
    "a_2 & 0 & 0\\\\\n",
    "b_2 & d_2 & 0\\\\\n",
    "c_2 & e_2 & f_2\n",
    "\\end{bmatrix}\n",
    "+ \\begin{bmatrix}\n",
    "a_1 & 0 & 0\\\\\n",
    "b_1 & d_1 & 0\\\\\n",
    "c_1 & e_1 & f_1\n",
    "\\end{bmatrix}\n",
    "= \\begin{bmatrix}\n",
    "a_2 + a_1 & 0 & 0\\\\\n",
    "b_2 + b_1 & d_2 + d_1 & 0\\\\\n",
    "c_2 + c_1 & e_2 + e_1 & f_2 + f_1\n",
    "\\end{bmatrix}\n",
    "= \\begin{bmatrix}\n",
    "a_1 + a_2 & 0 & 0\\\\\n",
    "b_1 + b_2 & d_1 + d_2 & 0\\\\\n",
    "c_1 + c_2 & e_1 + e_2 & f_1 + f_2\n",
    "\\end{bmatrix}$(Commutive of real number)\n"
   ]
  },
  {
   "cell_type": "markdown",
   "metadata": {},
   "source": [
    "- Condition 7: Addition is associative\n",
    "\n",
    "$\\begin{bmatrix}\n",
    "a_1 & 0 & 0 & 0\\\\\n",
    "b_1 & d_1 & 0 & 0\\\\\n",
    "c_1 & e_1 & f_1 & 0\n",
    "\\end{bmatrix}\n",
    "+ \\left( \\begin{bmatrix}\n",
    "a_2 & 0 & 0 & 0\\\\\n",
    "b_2 & d_2 & 0 & 0\\\\\n",
    "c_2 & e_2 & f_2 & 0\n",
    "\\end{bmatrix}\n",
    "+ \\begin{bmatrix}\n",
    "a_3 & 0 & 0 & 0\\\\\n",
    "b_3 & d_3 & 0 & 0\\\\\n",
    "c_3 & e_3 & f_3 & 0\n",
    "\\end{bmatrix}\\right)\n",
    "= \\left( \\begin{bmatrix}\n",
    "a_1 & 0 & 0 & 0\\\\\n",
    "b_1 & d_1 & 0 & 0\\\\\n",
    "c_1 & e_1 & f_1 & 0\n",
    "\\end{bmatrix}\n",
    "+ \\begin{bmatrix}\n",
    "a_2 & 0 & 0 & 0\\\\\n",
    "b_2 & d_2 & 0 & 0\\\\\n",
    "c_2 & e_2 & f_2 & 0\n",
    "\\end{bmatrix}\\right)\n",
    "+ \\begin{bmatrix}\n",
    "a_3 & 0 & 0 & 0\\\\\n",
    "b_3 & d_3 & 0 & 0\\\\\n",
    "c_3 & e_3 & f_3 & 0\n",
    "\\end{bmatrix}$\n",
    "\n",
    "$ = \\begin{bmatrix}\n",
    "a_1 + a_2 + a_3 & 0 & 0 & 0\\\\\n",
    "b_1 + b_2 + b_3 & d_1 + d_2 + d_3 & 0 & 0\\\\\n",
    "c_1 + c_2 + c_3 & e_1 + e_2 + e_3 & f_1 + f_2 + f_3 & 0\n",
    "\\end{bmatrix}$"
   ]
  },
  {
   "cell_type": "markdown",
   "metadata": {},
   "source": [
    "- Condition 8: Distrubutive Property\n",
    "\n",
    "$\\begin{bmatrix}\n",
    "a_1 & 0 & 0\\\\\n",
    "b_1 & d_1 & 0\\\\\n",
    "c_1 & e_1 & f_1\n",
    "\\end{bmatrix}\n",
    "\\cdot \\left( \\begin{bmatrix}\n",
    "a_2 & 0 & 0\\\\\n",
    "b_2 & d_2 & 0\\\\\n",
    "c_2 & e_2 & f_2\n",
    "\\end{bmatrix}\n",
    "+ \\begin{bmatrix}\n",
    "a_3 & 0 & 0\\\\\n",
    "b_3 & d_3 & 0\\\\\n",
    "c_3 & e_3 & f_3\n",
    "\\end{bmatrix}\\right)$\n",
    "\n",
    "$ = \\begin{bmatrix}\n",
    "a_1 & 0 & 0\\\\\n",
    "b_1 & d_1 & 0\\\\\n",
    "c_1 & e_1 & f_1\n",
    "\\end{bmatrix}\n",
    "\\cdot \\begin{bmatrix}\n",
    "a_2 + a_3 & 0 & 0\\\\\n",
    "b_2 + b_3 & d_2 + d_3 & 0\\\\\n",
    "c_2 + c_3 & e_2 + e_3 & f_2 + f_3\n",
    "\\end{bmatrix}$"
   ]
  },
  {
   "cell_type": "markdown",
   "metadata": {},
   "source": [
    "$ \\begin{bmatrix}\n",
    "a_1 (a_2 + a_3) & 0 & 0 \\\\\n",
    "b_1 (b_2 + b_3) & d_1 (d_2 + d_3) & 0\\\\\n",
    "c_1 (c_2 + c_3) & e_1 (e_2 + e_3) & f_1 (f_2 + f_3)\n",
    "\\end{bmatrix}\n",
    "= \\begin{bmatrix}\n",
    "a_1 a_2 + a_1 a_3 & 0 & 0 \\\\\n",
    "b_1 b_2 + b_1 b_3 & d_1 d_2 + d_1 d_3) & 0\\\\\n",
    "c_1 c_2 + c_1 c_3 & e_1 e_2 + e_1 e_3) & f_1 f_2 + f_1 f_3)\n",
    "\\end{bmatrix}$(Distributive property of real number)\n"
   ]
  },
  {
   "cell_type": "markdown",
   "metadata": {},
   "source": [
    "Now,\n",
    "\n",
    "$\\begin{bmatrix}\n",
    "a_1 & 0 & 0\\\\\n",
    "b_1 & d_1 & 0\\\\\n",
    "c_1 & e_1 & f_1\n",
    "\\end{bmatrix}\n",
    "\\cdot  \\begin{bmatrix}\n",
    "a_2 & 0 & 0\\\\\n",
    "b_2 & d_2 & 0\\\\\n",
    "c_2 & e_2 & f_2\n",
    "\\end{bmatrix}\n",
    "+ \\begin{bmatrix}\n",
    "a_1 & 0 & 0\\\\\n",
    "b_1 & d_1 & 0\\\\\n",
    "c_1 & e_1 & f_1\n",
    "\\end{bmatrix}\n",
    "\\cdot \\begin{bmatrix}\n",
    "a_3 & 0 & 0\\\\\n",
    "b_3 & d_3 & 0\\\\\n",
    "c_3 & e_3 & f_3\n",
    "\\end{bmatrix}$"
   ]
  },
  {
   "cell_type": "markdown",
   "metadata": {},
   "source": [
    "$ = \\begin{bmatrix}\n",
    "a_1 a_2 & 0 & 0\\\\\n",
    "b_1 b_2 & d_1 d_2 & 0\\\\\n",
    "c_1 c_2 & e_1 e_2 & f_1 f_2\n",
    "\\end{bmatrix}\n",
    "+ \\begin{bmatrix}\n",
    "a_1 a_3 & 0 & 0\\\\\n",
    "b_1 b_3 & d_1 d_3 & 0\\\\\n",
    "c_1 c_3 & e_1 e_3 & f_1 f_3\n",
    "\\end{bmatrix}$\n",
    "\n",
    "$ = \\begin{bmatrix}\n",
    "a_1 a_2 + a_1 a_3 & 0 & 0 \\\\\n",
    "b_1 b_2 + b_1 b_3 & d_1 d_2 + d_1 d_3) & 0\\\\\n",
    "c_1 c_2 + c_1 c_3 & e_1 e_2 + e_1 e_3) & f_1 f_2 + f_1 f_3)\n",
    "\\end{bmatrix}$"
   ]
  },
  {
   "cell_type": "markdown",
   "metadata": {},
   "source": [
    "$\\therefore T$ is a vector space."
   ]
  },
  {
   "cell_type": "markdown",
   "metadata": {},
   "source": [
    "(2). Show that the set of $4 \\times 4$ diagonal matrices $D$ is a subspace of $M_{4\\times 4}$."
   ]
  },
  {
   "cell_type": "markdown",
   "metadata": {},
   "source": [
    "- Condition 1: Closure under addition:\n",
    "\n",
    "$\\begin{bmatrix}\n",
    "a_1 & 0 & 0 & 0\\\\\n",
    "0 & b_1 & 0 & 0\\\\\n",
    "0 & 0 & c_1 & 0\\\\\n",
    "0 & 0 & 0 & d_1\n",
    "\\end{bmatrix}\n",
    "+ \\begin{bmatrix}\n",
    "a_2 & 0 & 0 & 0\\\\\n",
    "0 & b_2 & 0 & 0\\\\\n",
    "0 & 0 & c_2 & 0\\\\\n",
    "0 & 0 & 0 & d_2\n",
    "\\end{bmatrix}\n",
    "= \\begin{bmatrix}\n",
    "a_1 + a_2 & 0 & 0 & 0\\\\\n",
    "0 & b_1 + b_2 & 0 & 0\\\\\n",
    "0 & 0 & c_1 + c_2 & 0\\\\\n",
    "0 & 0 & 0 & d_1 + d_2\n",
    "\\end{bmatrix}$\n",
    "\n",
    "The result is also a diagonal 4 x 4 Matrix. "
   ]
  },
  {
   "cell_type": "markdown",
   "metadata": {},
   "source": [
    "- Condition 2: Closure under scalar multiplication\n",
    "\n",
    "$ k \\begin{bmatrix}\n",
    "a & 0 & 0 & 0\\\\\n",
    "0 & b & 0 & 0\\\\\n",
    "0 & 0 & c & 0\\\\\n",
    "0 & 0 & 0 & d\n",
    "\\end{bmatrix}\n",
    "= \\begin{bmatrix}\n",
    "ka & 0 & 0 & 0\\\\\n",
    "0 & kb & 0 & 0\\\\\n",
    "0 & 0 & kc & 0\\\\\n",
    "0 & 0 & 0 & kd\n",
    "\\end{bmatrix}$\n",
    "\n",
    "The result is also a diagonal 4 x 4 Matrix."
   ]
  },
  {
   "cell_type": "markdown",
   "metadata": {},
   "source": [
    "- Existence of 0 vector:\n",
    "\n",
    "when (a,b,c,d) = (0,0,0,0)\n",
    "\n",
    "$ \\begin{bmatrix}\n",
    "a & 0 & 0 & 0\\\\\n",
    "0 & b & 0 & 0\\\\\n",
    "0 & 0 & c & 0\\\\\n",
    "0 & 0 & 0 & d\n",
    "\\end{bmatrix}\n",
    "= \\begin{bmatrix}\n",
    "0 & 0 & 0 & 0\\\\\n",
    "0 & 0 & 0 & 0\\\\\n",
    "0 & 0 & 0 & 0\\\\\n",
    "0 & 0 & 0 & 0\n",
    "\\end{bmatrix}$\n",
    "\n",
    "$\\therefore$ D is a subspace of $M_{4\\times4}$"
   ]
  },
  {
   "cell_type": "markdown",
   "metadata": {},
   "source": [
    "(3). For each of the following sets of vectors $S$ in a vector space $V$: (i) Describe the subspace spanned by the set $S$. (ii) Determine the dimension of $S$. (iii) Extend the set $S$ to a basis for $V$:\n",
    "\n",
    "   a) $S = \\{ \\langle 1, 0, -2, 1\\rangle, \\langle 0, 1, 0, 1\\rangle \\}$ in $\\mathbb{R}^4$\n",
    "    \n",
    "   b) $S = \\{ x^2 - 4, 3x, 2x^2 - 1 \\}$ in $P(3)$ (i.e., the space of polynomials of degree at most $3$)\n"
   ]
  },
  {
   "cell_type": "markdown",
   "metadata": {},
   "source": [
    "**a) S={⟨1,0,−2,1⟩,⟨0,1,0,1⟩}**\n",
    "\n",
    "*Linearly Independence Test: *\n",
    "\n",
    "To check that every vectors in the subset are linearly independent, we could check if there is any non-trivial solution for their linear combination be a zero vector.\n",
    "\n",
    "a(1,0,-2,1) + b(0,1,0,1) =  = (0,0,0,0)\n",
    "\n",
    "$\\rightarrow$ (a, b, -2a, a+b) = (0,0,0,0) \n",
    "\n",
    "- a = 0\n",
    "- b = 0\n",
    "- -2a = 0\n",
    "- a+b = 0\n",
    "\n",
    "So, the only solution for (a,b) = (0,0). $\\therefore$, they are linearly independent.\n",
    "\n",
    "So, the span of S will be a(1,0,-2,1) + b(0,1,0,1), for any real number a and b. As we have two free variable here (a and b), the geometric shape will be a plane. \n",
    "\n",
    "As both of them are linearly independent, they form the basis, so the dimension of the subspace is 2.\n",
    "\n",
    "The vector space $\\mathbb{R}^4$ has the dimension of 4. So we can add another 2 linearly independent vector with the set S to extand the set as a basis of  $\\mathbb{R}^4$\n",
    "\n",
    "One possible solution are:\n",
    "\n",
    "S' = {<1,0,−2,1>, <0,1,0,1>, <0,0,1,0>, <0,0,0,1>}"
   ]
  },
  {
   "cell_type": "markdown",
   "metadata": {},
   "source": [
    "**b) S={$x^2-4,3x,2x^2−1$}**\n",
    "\n",
    "*Linearly independence test*\n",
    "\n",
    "To check that every polynomial in the are linearly independent, we could check if there is any non-trivial solution for their linear combination be zero.\n",
    "\n",
    "$a(x^2-4) + b(3x) + c(2x^2−1) = 0$\n",
    "\n",
    "$ \\rightarrow x^2(a + 2c) + x(3b) + (-4a - c) = 0$\n",
    "\n",
    "Equating the coefficients of the like terms:\n",
    "\n",
    "- a+2c = 0\n",
    "- 3b = 0\n",
    "- -4a - c = 0\n"
   ]
  },
  {
   "cell_type": "code",
   "execution_count": 4,
   "metadata": {},
   "outputs": [
    {
     "data": {
      "text/html": [
       "<html><script type=\"math/tex; mode=display\">\\newcommand{\\Bold}[1]{\\mathbf{#1}}\\verb|Augmented|\\phantom{\\verb!x!}\\verb|Matrix|\\phantom{\\verb!x!}\\verb|=| \\left(\\begin{array}{rrrr}\n",
       "1 & 0 & 2 & 0 \\\\\n",
       "0 & 3 & 0 & 0 \\\\\n",
       "-4 & 0 & -1 & 0\n",
       "\\end{array}\\right)</script></html>"
      ],
      "text/plain": [
       "'Augmented Matrix = ' [ 1  0  2  0]\n",
       "[ 0  3  0  0]\n",
       "[-4  0 -1  0]"
      ]
     },
     "metadata": {},
     "output_type": "display_data"
    },
    {
     "data": {
      "text/html": [
       "<html><script type=\"math/tex; mode=display\">\\newcommand{\\Bold}[1]{\\mathbf{#1}}\\verb|RREF|\\phantom{\\verb!x!}\\verb|=| \\left(\\begin{array}{rrrr}\n",
       "1 & 0 & 0 & 0 \\\\\n",
       "0 & 1 & 0 & 0 \\\\\n",
       "0 & 0 & 1 & 0\n",
       "\\end{array}\\right)</script></html>"
      ],
      "text/plain": [
       "'RREF =' [1 0 0 0]\n",
       "[0 1 0 0]\n",
       "[0 0 1 0]"
      ]
     },
     "metadata": {},
     "output_type": "display_data"
    }
   ],
   "source": [
    "# null vector\n",
    "null = vector([0,0,0])\n",
    "\n",
    "# augmented matrix to solve the system \n",
    "S = matrix([[1,0,2],[0,3,0],[-4,0,-1]])\n",
    "SS = S.augment(null)\n",
    "\n",
    "show('Augmented Matrix = ',SS)\n",
    "show('RREF =', SS.rref())"
   ]
  },
  {
   "cell_type": "markdown",
   "metadata": {},
   "source": [
    "So, only unique solution is $(a,b,c) = (0,0,0)$ which is the trivial solution, so set S is linearly independent.\n",
    "\n",
    "So, the span of S will be $a(x^2-4) + b(3x) + c(2x^2−1) = x^2(a + 2c) + x(3b) + (-4a - c) = 0$, for any real number a, b and c. As we have three free variable here the subspace will includes any polynomial with degree less than or equal to 2, P(2).\n",
    "\n",
    "As all of them are linearly independent, they form the basis, so the dimension of the subspace is 3.\n",
    "\n",
    "The vector space P(3) has the dimension of 4. So we can add another linearly independent polynomial with the set S to extand the set as a basis of  P(3)\n",
    "\n",
    "One possible solution is:\n",
    "\n",
    "S' = {$x^2-4, 3x, 2x^2−1, x^3$}"
   ]
  },
  {
   "cell_type": "code",
   "execution_count": null,
   "metadata": {},
   "outputs": [],
   "source": []
  },
  {
   "cell_type": "markdown",
   "metadata": {},
   "source": [
    "### Session 7.1 and 7.2: Orthonormal Bases"
   ]
  },
  {
   "cell_type": "markdown",
   "metadata": {},
   "source": [
    "1. Consider the vectors $v_1 = \\langle 1, 1, 0 \\rangle$, $v_2 = \\langle 0, 1, -4 \\rangle$, $v_3 = \\langle -3, 0, 2 \\rangle$.\n",
    "\n",
    "    a. Show that $B = \\{v_1, v_2, v_3\\}$ is a basis of $\\mathbb{R}^3$.\n",
    "    \n",
    "    b. Use the Gram Schmidt Algorithm to transform B into an orthonormal basis.\n",
    "    \n",
    "    c. Repeat the process, this time using a different ordering on the vectors of $B$ (i.e., if you started the algorithm with $v_1$ before, start with $v_3$ this time.\n",
    "    \n",
    "    d. Compare the results of your two applications of Gram Schmidt. What happened? What does it tell you about the algorithm?"
   ]
  },
  {
   "cell_type": "markdown",
   "metadata": {},
   "source": [
    "**a)** First criteria: Linearly independent.\n",
    "\n",
    "To check that every vectors in a basis are linearly independent, we could check if there is any non-trivial solution for their linear combination be a zero vector.\n",
    "\n",
    "The linear combination of B equals to 0:\n",
    "\n",
    "$a(1,1,0) + b(0,1,-4) + c(-3,0,2) = (0,0,0)$\n",
    "\n",
    "$ \\rightarrow (a-3c, a+b, -4b+2c) = (0,0,0)$\n",
    "- a-3c = 0\n",
    "- a + b = 0\n",
    "- -4b + 2c = 0\n"
   ]
  },
  {
   "cell_type": "code",
   "execution_count": 5,
   "metadata": {},
   "outputs": [
    {
     "data": {
      "text/html": [
       "<html><script type=\"math/tex; mode=display\">\\newcommand{\\Bold}[1]{\\mathbf{#1}}\\verb|Augmented|\\phantom{\\verb!x!}\\verb|Matrix|\\phantom{\\verb!x!}\\verb|=| \\left(\\begin{array}{rrrr}\n",
       "1 & 0 & -3 & 0 \\\\\n",
       "1 & 1 & 0 & 0 \\\\\n",
       "0 & -4 & 2 & 0\n",
       "\\end{array}\\right)</script></html>"
      ],
      "text/plain": [
       "'Augmented Matrix = ' [ 1  0 -3  0]\n",
       "[ 1  1  0  0]\n",
       "[ 0 -4  2  0]"
      ]
     },
     "metadata": {},
     "output_type": "display_data"
    },
    {
     "data": {
      "text/html": [
       "<html><script type=\"math/tex; mode=display\">\\newcommand{\\Bold}[1]{\\mathbf{#1}}\\verb|RREF|\\phantom{\\verb!x!}\\verb|=| \\left(\\begin{array}{rrrr}\n",
       "1 & 0 & 0 & 0 \\\\\n",
       "0 & 1 & 0 & 0 \\\\\n",
       "0 & 0 & 1 & 0\n",
       "\\end{array}\\right)</script></html>"
      ],
      "text/plain": [
       "'RREF =' [1 0 0 0]\n",
       "[0 1 0 0]\n",
       "[0 0 1 0]"
      ]
     },
     "metadata": {},
     "output_type": "display_data"
    }
   ],
   "source": [
    "# vectors of B\n",
    "v1 = vector([1,1,0])\n",
    "v2 = vector([0,1,-4])\n",
    "v3 = vector([-3,0,2])\n",
    "null = vector([0,0,0])\n",
    "\n",
    "# augmented matrix to solve the system \n",
    "B = matrix([v1,v2,v3]).transpose()\n",
    "BB = B.augment(null)\n",
    "\n",
    "show('Augmented Matrix = ', BB)\n",
    "show('RREF =', BB.rref())"
   ]
  },
  {
   "cell_type": "markdown",
   "metadata": {},
   "source": [
    "So, only unique solution is $(a,b,c) = (0,0,0)$ which is the trivial solution. We also have pivots in every columns in the RREF matrix. So B is linearly independent."
   ]
  },
  {
   "cell_type": "markdown",
   "metadata": {},
   "source": [
    "2nd criteria: Spanning all of $R^3$\n",
    "\n",
    "The number of linearly independent column in B is 3, means the dim(B) = 3\n",
    "\n",
    "but, dim($\\mathbb{R}^3$) = 3\n",
    "\n",
    "$\\therefore$ B spans all of $R^3$\n",
    "\n",
    "$\\therefore$ B is a basis for $R^3$."
   ]
  },
  {
   "cell_type": "markdown",
   "metadata": {},
   "source": [
    "**b)** Gram Schmidt Algorithm to transform B = ${\\vec{v_1}, \\vec{v_2}, \\vec{v_3}}$ to a orthonormal basis:\n"
   ]
  },
  {
   "cell_type": "code",
   "execution_count": 6,
   "metadata": {},
   "outputs": [
    {
     "data": {
      "text/html": [
       "<html><script type=\"math/tex; mode=display\">\\newcommand{\\Bold}[1]{\\mathbf{#1}}\\verb|q1|\\phantom{\\verb!x!}\\verb|=| \\left(\\frac{1}{2} \\, \\sqrt{2},\\,\\frac{1}{2} \\, \\sqrt{2},\\,0\\right)</script></html>"
      ],
      "text/plain": [
       "'q1 =' (1/2*sqrt(2), 1/2*sqrt(2), 0)"
      ]
     },
     "metadata": {},
     "output_type": "display_data"
    }
   ],
   "source": [
    "# step 1: Normailize v1:\n",
    "q1 = v1/v1.norm()\n",
    "show('q1 =',q1)"
   ]
  },
  {
   "cell_type": "code",
   "execution_count": 7,
   "metadata": {},
   "outputs": [
    {
     "data": {
      "text/html": [
       "<html><script type=\"math/tex; mode=display\">\\newcommand{\\Bold}[1]{\\mathbf{#1}}\\verb|a1|\\phantom{\\verb!x!}\\verb|=| \\left(-\\frac{1}{2},\\,\\frac{1}{2},\\,-4\\right)</script></html>"
      ],
      "text/plain": [
       "'a1 = ' (-1/2, 1/2, -4)"
      ]
     },
     "metadata": {},
     "output_type": "display_data"
    }
   ],
   "source": [
    "# step 2: Find the perpendicular component of v2 along the q1:\n",
    "# a1 = v2 - proj_q1_(v2) = v2 - (v2.q1)q1 (as |q1| = 1)\n",
    "a1 = v2 - v2.dot_product(q1)*q1\n",
    "show('a1 = ',a1)"
   ]
  },
  {
   "cell_type": "code",
   "execution_count": 8,
   "metadata": {},
   "outputs": [
    {
     "data": {
      "text/html": [
       "<html><script type=\"math/tex; mode=display\">\\newcommand{\\Bold}[1]{\\mathbf{#1}}\\verb|q2|\\phantom{\\verb!x!}\\verb|=| \\left(-\\frac{1}{33} \\, \\sqrt{\\frac{33}{2}},\\,\\frac{1}{33} \\, \\sqrt{\\frac{33}{2}},\\,-\\frac{8}{33} \\, \\sqrt{\\frac{33}{2}}\\right)</script></html>"
      ],
      "text/plain": [
       "'q2 =' (-1/33*sqrt(33/2), 1/33*sqrt(33/2), -8/33*sqrt(33/2))"
      ]
     },
     "metadata": {},
     "output_type": "display_data"
    }
   ],
   "source": [
    "# step 3: Normalize a1\n",
    "q2 = a1/a1.norm()\n",
    "show('q2 =', q2)"
   ]
  },
  {
   "cell_type": "code",
   "execution_count": 9,
   "metadata": {},
   "outputs": [
    {
     "data": {
      "text/html": [
       "<html><script type=\"math/tex; mode=display\">\\newcommand{\\Bold}[1]{\\mathbf{#1}}\\verb|a2|\\phantom{\\verb!x!}\\verb|=| \\left(-\\frac{56}{33},\\,\\frac{56}{33},\\,\\frac{14}{33}\\right)</script></html>"
      ],
      "text/plain": [
       "'a2 =' (-56/33, 56/33, 14/33)"
      ]
     },
     "metadata": {},
     "output_type": "display_data"
    }
   ],
   "source": [
    "# step 4: Find the perpendicular component of v3 along q1 and q2\n",
    "# a2 = v3 - proj_q1_(v3) - proj_q2_(v3) = v3 - (v3.q1)q1 - (v3.q2)q2 (as |q1| = |q2| = 1)\n",
    "a2 = v3 - v3.dot_product(q1)*q1 - v3.dot_product(q2)*q2\n",
    "show('a2 =',a2)"
   ]
  },
  {
   "cell_type": "code",
   "execution_count": 10,
   "metadata": {},
   "outputs": [
    {
     "data": {
      "text/html": [
       "<html><script type=\"math/tex; mode=display\">\\newcommand{\\Bold}[1]{\\mathbf{#1}}\\verb|q3|\\phantom{\\verb!x!}\\verb|=| \\left(-4 \\, \\sqrt{\\frac{1}{33}},\\,4 \\, \\sqrt{\\frac{1}{33}},\\,\\sqrt{\\frac{1}{33}}\\right)</script></html>"
      ],
      "text/plain": [
       "'q3 =' (-4*sqrt(1/33), 4*sqrt(1/33), sqrt(1/33))"
      ]
     },
     "metadata": {},
     "output_type": "display_data"
    }
   ],
   "source": [
    "# step 5: Normalize a2\n",
    "q3 = a2/a2.norm()\n",
    "show('q3 =',q3)"
   ]
  },
  {
   "cell_type": "code",
   "execution_count": 11,
   "metadata": {},
   "outputs": [
    {
     "data": {
      "text/html": [
       "<html><script type=\"math/tex; mode=display\">\\newcommand{\\Bold}[1]{\\mathbf{#1}}\\verb|Orthonormal|\\phantom{\\verb!x!}\\verb|Basis:| \\left[\\left(\\frac{1}{2} \\, \\sqrt{2},\\,\\frac{1}{2} \\, \\sqrt{2},\\,0\\right), \\left(-\\frac{1}{33} \\, \\sqrt{\\frac{33}{2}},\\,\\frac{1}{33} \\, \\sqrt{\\frac{33}{2}},\\,-\\frac{8}{33} \\, \\sqrt{\\frac{33}{2}}\\right), \\left(-4 \\, \\sqrt{\\frac{1}{33}},\\,4 \\, \\sqrt{\\frac{1}{33}},\\,\\sqrt{\\frac{1}{33}}\\right)\\right]</script></html>"
      ],
      "text/plain": [
       "'Orthonormal Basis:' [(1/2*sqrt(2), 1/2*sqrt(2), 0),\n",
       " (-1/33*sqrt(33/2), 1/33*sqrt(33/2), -8/33*sqrt(33/2)),\n",
       " (-4*sqrt(1/33), 4*sqrt(1/33), sqrt(1/33))]"
      ]
     },
     "metadata": {},
     "output_type": "display_data"
    }
   ],
   "source": [
    "Q = [q1,q2,q3]\n",
    "show('Orthonormal Basis:',Q)"
   ]
  },
  {
   "cell_type": "code",
   "execution_count": 12,
   "metadata": {},
   "outputs": [
    {
     "data": {
      "text/html": [
       "<html><script type=\"math/tex; mode=display\">\\newcommand{\\Bold}[1]{\\mathbf{#1}}\\verb|q1.q1|\\phantom{\\verb!x!}\\verb|=| 1</script></html>"
      ],
      "text/plain": [
       "'q1.q1 =' 1"
      ]
     },
     "metadata": {},
     "output_type": "display_data"
    },
    {
     "data": {
      "text/html": [
       "<html><script type=\"math/tex; mode=display\">\\newcommand{\\Bold}[1]{\\mathbf{#1}}\\verb|q2.q2|\\phantom{\\verb!x!}\\verb|=| 1</script></html>"
      ],
      "text/plain": [
       "'q2.q2 =' 1"
      ]
     },
     "metadata": {},
     "output_type": "display_data"
    },
    {
     "data": {
      "text/html": [
       "<html><script type=\"math/tex; mode=display\">\\newcommand{\\Bold}[1]{\\mathbf{#1}}\\verb|q3.q3|\\phantom{\\verb!x!}\\verb|=| 1</script></html>"
      ],
      "text/plain": [
       "'q3.q3 =' 1"
      ]
     },
     "metadata": {},
     "output_type": "display_data"
    }
   ],
   "source": [
    "# cheking the property of normal:\n",
    "show('q1.q1 =', q1.dot_product(q1))\n",
    "show('q2.q2 =', q2.dot_product(q2))\n",
    "show('q3.q3 =', q3.dot_product(q3))"
   ]
  },
  {
   "cell_type": "code",
   "execution_count": 13,
   "metadata": {},
   "outputs": [
    {
     "data": {
      "text/html": [
       "<html><script type=\"math/tex; mode=display\">\\newcommand{\\Bold}[1]{\\mathbf{#1}}\\verb|q1.q2|\\phantom{\\verb!x!}\\verb|=| 0</script></html>"
      ],
      "text/plain": [
       "'q1.q2 =' 0"
      ]
     },
     "metadata": {},
     "output_type": "display_data"
    },
    {
     "data": {
      "text/html": [
       "<html><script type=\"math/tex; mode=display\">\\newcommand{\\Bold}[1]{\\mathbf{#1}}\\verb|q2.q3|\\phantom{\\verb!x!}\\verb|=| 0</script></html>"
      ],
      "text/plain": [
       "'q2.q3 =' 0"
      ]
     },
     "metadata": {},
     "output_type": "display_data"
    },
    {
     "data": {
      "text/html": [
       "<html><script type=\"math/tex; mode=display\">\\newcommand{\\Bold}[1]{\\mathbf{#1}}\\verb|q3.q1|\\phantom{\\verb!x!}\\verb|=| 0</script></html>"
      ],
      "text/plain": [
       "'q3.q1 =' 0"
      ]
     },
     "metadata": {},
     "output_type": "display_data"
    }
   ],
   "source": [
    "# cheking the property of orthogonal:\n",
    "show('q1.q2 =', q1.dot_product(q2))\n",
    "show('q2.q3 =', q2.dot_product(q3))\n",
    "show('q3.q1 =', q3.dot_product(q1))"
   ]
  },
  {
   "cell_type": "code",
   "execution_count": 14,
   "metadata": {},
   "outputs": [
    {
     "data": {
      "text/html": [
       "<html><script type=\"math/tex; mode=display\">\\newcommand{\\Bold}[1]{\\mathbf{#1}}\\verb|Matrix:| \\left(\\begin{array}{rrr}\n",
       "1 & 1 & 0 \\\\\n",
       "0 & 1 & -4 \\\\\n",
       "-3 & 0 & 2\n",
       "\\end{array}\\right)</script></html>"
      ],
      "text/plain": [
       "'Matrix:' [ 1  1  0]\n",
       "[ 0  1 -4]\n",
       "[-3  0  2]"
      ]
     },
     "metadata": {},
     "output_type": "display_data"
    },
    {
     "data": {
      "text/html": [
       "<html><script type=\"math/tex; mode=display\">\\newcommand{\\Bold}[1]{\\mathbf{#1}}\\verb|Orthogonal|\\phantom{\\verb!x!}\\verb|Basis:| \\left(\\begin{array}{rrr}\n",
       "1 & 1 & 0 \\\\\n",
       "-\\frac{1}{2} & \\frac{1}{2} & -4 \\\\\n",
       "-\\frac{56}{33} & \\frac{56}{33} & \\frac{14}{33}\n",
       "\\end{array}\\right)</script></html>"
      ],
      "text/plain": [
       "'Orthogonal Basis:' [     1      1      0]\n",
       "[  -1/2    1/2     -4]\n",
       "[-56/33  56/33  14/33]"
      ]
     },
     "metadata": {},
     "output_type": "display_data"
    }
   ],
   "source": [
    "# Using the built-in function:\n",
    "\n",
    "# Make a matrix by keeping the vectors as a row\n",
    "M = matrix([v1,v2,v3])\n",
    "show('Matrix:', M)\n",
    "# use gram.schmidt() function and taking only the left hand side\n",
    "show('Orthogonal Basis:', M.gram_schmidt()[0])"
   ]
  },
  {
   "cell_type": "code",
   "execution_count": 15,
   "metadata": {},
   "outputs": [
    {
     "data": {
      "text/html": [
       "<html><script type=\"math/tex; mode=display\">\\newcommand{\\Bold}[1]{\\mathbf{#1}}\\verb|Orthonormal|\\phantom{\\verb!x!}\\verb|Basis:| \\left[\\left(\\frac{1}{2} \\, \\sqrt{2},\\,\\frac{1}{2} \\, \\sqrt{2},\\,0\\right), \\left(-\\frac{1}{33} \\, \\sqrt{\\frac{33}{2}},\\,\\frac{1}{33} \\, \\sqrt{\\frac{33}{2}},\\,-\\frac{8}{33} \\, \\sqrt{\\frac{33}{2}}\\right), \\left(-4 \\, \\sqrt{\\frac{1}{33}},\\,4 \\, \\sqrt{\\frac{1}{33}},\\,\\sqrt{\\frac{1}{33}}\\right)\\right]</script></html>"
      ],
      "text/plain": [
       "'Orthonormal Basis: ' [(1/2*sqrt(2), 1/2*sqrt(2), 0),\n",
       " (-1/33*sqrt(33/2), 1/33*sqrt(33/2), -8/33*sqrt(33/2)),\n",
       " (-4*sqrt(1/33), 4*sqrt(1/33), sqrt(1/33))]"
      ]
     },
     "metadata": {},
     "output_type": "display_data"
    }
   ],
   "source": [
    "# normalize the row vectors to get a orthonormal vector:\n",
    "\n",
    "GS = M.gram_schmidt()[0] \n",
    "\n",
    "Q2 = [] # empty list to store the normalized row vector\n",
    "for i in range(GS.nrows()):\n",
    "    v = GS.row(i)\n",
    "    Q2.append(v/v.norm())\n",
    "show('Orthonormal Basis: ', Q2)"
   ]
  },
  {
   "cell_type": "markdown",
   "metadata": {},
   "source": [
    "**c)** Find the orthonormal basis again but starting with a different order (v3 -> v2 -> v1):"
   ]
  },
  {
   "cell_type": "code",
   "execution_count": 16,
   "metadata": {},
   "outputs": [
    {
     "data": {
      "text/html": [
       "<html><script type=\"math/tex; mode=display\">\\newcommand{\\Bold}[1]{\\mathbf{#1}}\\verb|q1|\\phantom{\\verb!x!}\\verb|=| \\left(-\\frac{3}{13} \\, \\sqrt{13},\\,0,\\,\\frac{2}{13} \\, \\sqrt{13}\\right)</script></html>"
      ],
      "text/plain": [
       "'q1 =' (-3/13*sqrt(13), 0, 2/13*sqrt(13))"
      ]
     },
     "metadata": {},
     "output_type": "display_data"
    }
   ],
   "source": [
    "# step 1: Normailize v3:\n",
    "q1 = v3/v3.norm()\n",
    "show('q1 =',q1)"
   ]
  },
  {
   "cell_type": "code",
   "execution_count": 17,
   "metadata": {},
   "outputs": [
    {
     "data": {
      "text/html": [
       "<html><script type=\"math/tex; mode=display\">\\newcommand{\\Bold}[1]{\\mathbf{#1}}\\verb|a1|\\phantom{\\verb!x!}\\verb|=| \\left(-\\frac{24}{13},\\,1,\\,-\\frac{36}{13}\\right)</script></html>"
      ],
      "text/plain": [
       "'a1 = ' (-24/13, 1, -36/13)"
      ]
     },
     "metadata": {},
     "output_type": "display_data"
    }
   ],
   "source": [
    "# step 2: Find the perpendicular component of v2 along the q1:\n",
    "# a1 = v2 - proj_q1_(v2) = v2 - (v2.q1)q1 (as |q1| = 1)\n",
    "a1 = v2 - v2.dot_product(q1)*q1\n",
    "show('a1 = ',a1)"
   ]
  },
  {
   "cell_type": "code",
   "execution_count": 18,
   "metadata": {},
   "outputs": [
    {
     "data": {
      "text/html": [
       "<html><script type=\"math/tex; mode=display\">\\newcommand{\\Bold}[1]{\\mathbf{#1}}\\verb|q2|\\phantom{\\verb!x!}\\verb|=| \\left(-\\frac{24}{157} \\, \\sqrt{\\frac{157}{13}},\\,\\frac{13}{157} \\, \\sqrt{\\frac{157}{13}},\\,-\\frac{36}{157} \\, \\sqrt{\\frac{157}{13}}\\right)</script></html>"
      ],
      "text/plain": [
       "'q2 =' (-24/157*sqrt(157/13), 13/157*sqrt(157/13), -36/157*sqrt(157/13))"
      ]
     },
     "metadata": {},
     "output_type": "display_data"
    }
   ],
   "source": [
    "# step 3: Normalize a1\n",
    "q2 = a1/a1.norm()\n",
    "show('q2 =', q2)"
   ]
  },
  {
   "cell_type": "code",
   "execution_count": 19,
   "metadata": {},
   "outputs": [
    {
     "data": {
      "text/html": [
       "<html><script type=\"math/tex; mode=display\">\\newcommand{\\Bold}[1]{\\mathbf{#1}}\\verb|a2|\\phantom{\\verb!x!}\\verb|=| \\left(\\frac{28}{157},\\,\\frac{168}{157},\\,\\frac{42}{157}\\right)</script></html>"
      ],
      "text/plain": [
       "'a2 =' (28/157, 168/157, 42/157)"
      ]
     },
     "metadata": {},
     "output_type": "display_data"
    }
   ],
   "source": [
    "# step 4: Find the perpendicular component of v1 along q1 and q2\n",
    "# a2 = v1 - proj_q1_(v1) - proj_q2_(v1) = v1 - (v1.q1)q1 - (v1.q2)q2 (as |q1| = |q2| = 1)\n",
    "a2 = v1 - v1.dot_product(q1)*q1 - v1.dot_product(q2)*q2\n",
    "show('a2 =',a2)"
   ]
  },
  {
   "cell_type": "code",
   "execution_count": 20,
   "metadata": {},
   "outputs": [
    {
     "data": {
      "text/html": [
       "<html><script type=\"math/tex; mode=display\">\\newcommand{\\Bold}[1]{\\mathbf{#1}}\\verb|q3|\\phantom{\\verb!x!}\\verb|=| \\left(2 \\, \\sqrt{\\frac{1}{157}},\\,12 \\, \\sqrt{\\frac{1}{157}},\\,3 \\, \\sqrt{\\frac{1}{157}}\\right)</script></html>"
      ],
      "text/plain": [
       "'q3 =' (2*sqrt(1/157), 12*sqrt(1/157), 3*sqrt(1/157))"
      ]
     },
     "metadata": {},
     "output_type": "display_data"
    }
   ],
   "source": [
    "# step 5: Normalize a2\n",
    "q3 = a2/a2.norm()\n",
    "show('q3 =',q3)"
   ]
  },
  {
   "cell_type": "code",
   "execution_count": 21,
   "metadata": {},
   "outputs": [
    {
     "data": {
      "text/html": [
       "<html><script type=\"math/tex; mode=display\">\\newcommand{\\Bold}[1]{\\mathbf{#1}}\\verb|Orthonormal|\\phantom{\\verb!x!}\\verb|Basis:| \\left[\\left(-\\frac{3}{13} \\, \\sqrt{13},\\,0,\\,\\frac{2}{13} \\, \\sqrt{13}\\right), \\left(-\\frac{24}{157} \\, \\sqrt{\\frac{157}{13}},\\,\\frac{13}{157} \\, \\sqrt{\\frac{157}{13}},\\,-\\frac{36}{157} \\, \\sqrt{\\frac{157}{13}}\\right), \\left(2 \\, \\sqrt{\\frac{1}{157}},\\,12 \\, \\sqrt{\\frac{1}{157}},\\,3 \\, \\sqrt{\\frac{1}{157}}\\right)\\right]</script></html>"
      ],
      "text/plain": [
       "'Orthonormal Basis:' [(-3/13*sqrt(13), 0, 2/13*sqrt(13)),\n",
       " (-24/157*sqrt(157/13), 13/157*sqrt(157/13), -36/157*sqrt(157/13)),\n",
       " (2*sqrt(1/157), 12*sqrt(1/157), 3*sqrt(1/157))]"
      ]
     },
     "metadata": {},
     "output_type": "display_data"
    }
   ],
   "source": [
    "Q = [q1,q2,q3]\n",
    "show('Orthonormal Basis:',Q)"
   ]
  },
  {
   "cell_type": "code",
   "execution_count": 22,
   "metadata": {},
   "outputs": [
    {
     "data": {
      "text/html": [
       "<html><script type=\"math/tex; mode=display\">\\newcommand{\\Bold}[1]{\\mathbf{#1}}\\verb|q1.q1|\\phantom{\\verb!x!}\\verb|=| 1</script></html>"
      ],
      "text/plain": [
       "'q1.q1 =' 1"
      ]
     },
     "metadata": {},
     "output_type": "display_data"
    },
    {
     "data": {
      "text/html": [
       "<html><script type=\"math/tex; mode=display\">\\newcommand{\\Bold}[1]{\\mathbf{#1}}\\verb|q2.q2|\\phantom{\\verb!x!}\\verb|=| 1</script></html>"
      ],
      "text/plain": [
       "'q2.q2 =' 1"
      ]
     },
     "metadata": {},
     "output_type": "display_data"
    },
    {
     "data": {
      "text/html": [
       "<html><script type=\"math/tex; mode=display\">\\newcommand{\\Bold}[1]{\\mathbf{#1}}\\verb|q3.q3|\\phantom{\\verb!x!}\\verb|=| 1</script></html>"
      ],
      "text/plain": [
       "'q3.q3 =' 1"
      ]
     },
     "metadata": {},
     "output_type": "display_data"
    }
   ],
   "source": [
    "# cheking the property of normal:\n",
    "show('q1.q1 =', q1.dot_product(q1))\n",
    "show('q2.q2 =', q2.dot_product(q2))\n",
    "show('q3.q3 =', q3.dot_product(q3))"
   ]
  },
  {
   "cell_type": "code",
   "execution_count": 23,
   "metadata": {},
   "outputs": [
    {
     "data": {
      "text/html": [
       "<html><script type=\"math/tex; mode=display\">\\newcommand{\\Bold}[1]{\\mathbf{#1}}\\verb|q1.q2|\\phantom{\\verb!x!}\\verb|=| 0</script></html>"
      ],
      "text/plain": [
       "'q1.q2 =' 0"
      ]
     },
     "metadata": {},
     "output_type": "display_data"
    },
    {
     "data": {
      "text/html": [
       "<html><script type=\"math/tex; mode=display\">\\newcommand{\\Bold}[1]{\\mathbf{#1}}\\verb|q2.q3|\\phantom{\\verb!x!}\\verb|=| 0</script></html>"
      ],
      "text/plain": [
       "'q2.q3 =' 0"
      ]
     },
     "metadata": {},
     "output_type": "display_data"
    },
    {
     "data": {
      "text/html": [
       "<html><script type=\"math/tex; mode=display\">\\newcommand{\\Bold}[1]{\\mathbf{#1}}\\verb|q3.q1|\\phantom{\\verb!x!}\\verb|=| 0</script></html>"
      ],
      "text/plain": [
       "'q3.q1 =' 0"
      ]
     },
     "metadata": {},
     "output_type": "display_data"
    }
   ],
   "source": [
    "# cheking the property of orthogonal:\n",
    "show('q1.q2 =', q1.dot_product(q2))\n",
    "show('q2.q3 =', q2.dot_product(q3))\n",
    "show('q3.q1 =', q3.dot_product(q1))"
   ]
  },
  {
   "cell_type": "code",
   "execution_count": 24,
   "metadata": {},
   "outputs": [
    {
     "data": {
      "text/html": [
       "<html><script type=\"math/tex; mode=display\">\\newcommand{\\Bold}[1]{\\mathbf{#1}}\\verb|Matrix:| \\left(\\begin{array}{rrr}\n",
       "-3 & 0 & 2 \\\\\n",
       "0 & 1 & -4 \\\\\n",
       "1 & 1 & 0\n",
       "\\end{array}\\right)</script></html>"
      ],
      "text/plain": [
       "'Matrix:' [-3  0  2]\n",
       "[ 0  1 -4]\n",
       "[ 1  1  0]"
      ]
     },
     "metadata": {},
     "output_type": "display_data"
    },
    {
     "data": {
      "text/html": [
       "<html><script type=\"math/tex; mode=display\">\\newcommand{\\Bold}[1]{\\mathbf{#1}}\\verb|Orthogonal|\\phantom{\\verb!x!}\\verb|Basis:| \\left(\\begin{array}{rrr}\n",
       "-3 & 0 & 2 \\\\\n",
       "-\\frac{24}{13} & 1 & -\\frac{36}{13} \\\\\n",
       "\\frac{28}{157} & \\frac{168}{157} & \\frac{42}{157}\n",
       "\\end{array}\\right)</script></html>"
      ],
      "text/plain": [
       "'Orthogonal Basis:' [     -3       0       2]\n",
       "[ -24/13       1  -36/13]\n",
       "[ 28/157 168/157  42/157]"
      ]
     },
     "metadata": {},
     "output_type": "display_data"
    }
   ],
   "source": [
    "# Using the built-in function:\n",
    "\n",
    "# Make a matrix by keeping the vectors as a row\n",
    "M = matrix([v3,v2,v1])\n",
    "show('Matrix:', M)\n",
    "# use gram.schmidt() function and taking only the left hand side\n",
    "show('Orthogonal Basis:', M.gram_schmidt()[0])"
   ]
  },
  {
   "cell_type": "code",
   "execution_count": 25,
   "metadata": {},
   "outputs": [
    {
     "data": {
      "text/html": [
       "<html><script type=\"math/tex; mode=display\">\\newcommand{\\Bold}[1]{\\mathbf{#1}}\\verb|Orthonormal|\\phantom{\\verb!x!}\\verb|Basis:| \\left[\\left(-\\frac{3}{13} \\, \\sqrt{13},\\,0,\\,\\frac{2}{13} \\, \\sqrt{13}\\right), \\left(-\\frac{24}{157} \\, \\sqrt{\\frac{157}{13}},\\,\\frac{13}{157} \\, \\sqrt{\\frac{157}{13}},\\,-\\frac{36}{157} \\, \\sqrt{\\frac{157}{13}}\\right), \\left(2 \\, \\sqrt{\\frac{1}{157}},\\,12 \\, \\sqrt{\\frac{1}{157}},\\,3 \\, \\sqrt{\\frac{1}{157}}\\right)\\right]</script></html>"
      ],
      "text/plain": [
       "'Orthonormal Basis: ' [(-3/13*sqrt(13), 0, 2/13*sqrt(13)),\n",
       " (-24/157*sqrt(157/13), 13/157*sqrt(157/13), -36/157*sqrt(157/13)),\n",
       " (2*sqrt(1/157), 12*sqrt(1/157), 3*sqrt(1/157))]"
      ]
     },
     "metadata": {},
     "output_type": "display_data"
    }
   ],
   "source": [
    "# normalize the row vectors to get a orthonormal vector:\n",
    "\n",
    "GS = M.gram_schmidt()[0] \n",
    "\n",
    "Q2 = [] # empty list to store the normalized row vector\n",
    "for i in range(GS.nrows()):\n",
    "    v = GS.row(i)\n",
    "    Q2.append(v/v.norm())\n",
    "show('Orthonormal Basis: ', Q2)"
   ]
  },
  {
   "cell_type": "markdown",
   "metadata": {},
   "source": [
    "**d)** Comparing the two results:\n",
    "\n",
    "We get two different basis for different starting order. As the gram_schmidt algorithm takes the normalized first vector as one of the basis, then it finds the other vectors orthogonal to it. \n",
    "\n",
    "And orthonormal basis are just the rotation of standard basis. This rotation depends on our choice of order of the vectors in the basis."
   ]
  },
  {
   "cell_type": "markdown",
   "metadata": {},
   "source": [
    "### Session 8.1: Change of Basis"
   ]
  },
  {
   "cell_type": "markdown",
   "metadata": {},
   "source": [
    "1. Let $B_1 = \\{ \\langle 1,2,0 \\rangle, \\langle 1,3,2 \\rangle, \\langle 0, 1, 3 \\rangle \\}$ and $B_2= \\{ \\langle 1,1,0 \\rangle, \\langle 0,1,1 \\rangle, \\langle 1, 2, 2 \\rangle \\}$\n",
    "\n",
    "    a. Show that both $B_1$ and $B_2$ form bases of $\\mathbb{R}^3$.\n",
    "    \n",
    "    b. Find the coordinates of the vector $\\vec{v} = \\langle 4, -7, 1 \\rangle$ in both bases.\n",
    "    \n",
    "    c. Find the change-of-basis matrix $P$ that sends $B_1$ to $B_2$. Check that $P[\\vec{v}]_{B_1} = [\\vec{v}]_{B_2}$.\n",
    "    \n",
    "    d. Find the the change-of-basis matrix $Q$ that sends $B_2$ to $B_1$. Check that $Q[\\vec{v}]_{B_2} = [\\vec{v}]_{B_1}$."
   ]
  },
  {
   "cell_type": "markdown",
   "metadata": {},
   "source": [
    "**a)** First criteria: Linearly independent.\n",
    "\n",
    "To check that every vectors in a basis are linearly independent, we could check if there is any non-trivial solution for their linear combination be a zero vector.\n",
    "\n",
    "The linear combination of $B_1$ equals to 0:\n",
    "\n",
    "$a(1,2,0) + b(1,3,2) + c(0,1,3) = (0,0,0)$\n",
    "\n",
    "$ \\rightarrow (a+b, 2a+3b+c, 2b+3c) = (0,0,0)$\n",
    "- a+b = 0\n",
    "- 2a + 3b + c = 0\n",
    "- 2b + 3c = 0\n"
   ]
  },
  {
   "cell_type": "code",
   "execution_count": 26,
   "metadata": {},
   "outputs": [
    {
     "data": {
      "text/html": [
       "<html><script type=\"math/tex; mode=display\">\\newcommand{\\Bold}[1]{\\mathbf{#1}}\\verb|Augmented|\\phantom{\\verb!x!}\\verb|Matrix|\\phantom{\\verb!x!}\\verb|=| \\left(\\begin{array}{rrrr}\n",
       "1 & 1 & 0 & 0 \\\\\n",
       "2 & 3 & 1 & 0 \\\\\n",
       "0 & 2 & 3 & 0\n",
       "\\end{array}\\right)</script></html>"
      ],
      "text/plain": [
       "'Augmented Matrix = ' [1 1 0 0]\n",
       "[2 3 1 0]\n",
       "[0 2 3 0]"
      ]
     },
     "metadata": {},
     "output_type": "display_data"
    },
    {
     "data": {
      "text/html": [
       "<html><script type=\"math/tex; mode=display\">\\newcommand{\\Bold}[1]{\\mathbf{#1}}\\verb|RREF|\\phantom{\\verb!x!}\\verb|=| \\left(\\begin{array}{rrrr}\n",
       "1 & 0 & 0 & 0 \\\\\n",
       "0 & 1 & 0 & 0 \\\\\n",
       "0 & 0 & 1 & 0\n",
       "\\end{array}\\right)</script></html>"
      ],
      "text/plain": [
       "'RREF =' [1 0 0 0]\n",
       "[0 1 0 0]\n",
       "[0 0 1 0]"
      ]
     },
     "metadata": {},
     "output_type": "display_data"
    }
   ],
   "source": [
    "# vectors of B1\n",
    "v1 = vector([1,2,0])\n",
    "v2 = vector([1,3,2])\n",
    "v3 = vector([0,1,3])\n",
    "null = vector([0,0,0])\n",
    "\n",
    "# augmented matrix to solve the system \n",
    "B1 = matrix([v1,v2,v3]).transpose()\n",
    "BB1 = B1.augment(null)\n",
    "\n",
    "show('Augmented Matrix = ', BB1)\n",
    "show('RREF =', BB1.rref())"
   ]
  },
  {
   "cell_type": "markdown",
   "metadata": {},
   "source": [
    "So, only unique solution is $(a,b,c) = (0,0,0)$ which is the trivial solution. We also have pivots in every columns in the RREF matrix. So $B_1$ is linearly independent."
   ]
  },
  {
   "cell_type": "markdown",
   "metadata": {},
   "source": [
    "2nd criteria: Spanning all of $R^3$\n",
    "\n",
    "The number of linearly independent column in $B_1$ is 3, means the $dim(B_1$) = 3\n",
    "\n",
    "but, dim($\\mathbb{R}^3$) = 3\n",
    "\n",
    "$\\therefore$ $B_1$ spans all of $R^3$\n",
    "\n",
    "$\\therefore$ $B_1$ is a basis for $R^3$."
   ]
  },
  {
   "cell_type": "markdown",
   "metadata": {},
   "source": [
    "\n",
    "Similarly we can check both criteria for $B_2$.\n",
    "\n",
    "First criteria: Linearly independent.\n",
    "\n",
    "To check that every vectors in a basis are linearly independent, we could check if there is any non-trivial solution for their linear combination be a zero vector.\n",
    "\n",
    "The linear combination of $B_2$ equals to 0:\n",
    "\n",
    "$a(1,1,0) + b(0,1,1) + c(1,2,2) = (0,0,0)$\n",
    "\n",
    "$ \\Rightarrow (a+c, a+b+2c, b+2c) = (0,0,0)$\n",
    "- a+c = 0\n",
    "- a + b + 2c = 0\n",
    "- b + 2c = 0\n"
   ]
  },
  {
   "cell_type": "code",
   "execution_count": 27,
   "metadata": {},
   "outputs": [
    {
     "data": {
      "text/html": [
       "<html><script type=\"math/tex; mode=display\">\\newcommand{\\Bold}[1]{\\mathbf{#1}}\\verb|Augmented|\\phantom{\\verb!x!}\\verb|Matrix|\\phantom{\\verb!x!}\\verb|=| \\left(\\begin{array}{rrrr}\n",
       "1 & 0 & 1 & 0 \\\\\n",
       "1 & 1 & 2 & 0 \\\\\n",
       "0 & 1 & 2 & 0\n",
       "\\end{array}\\right)</script></html>"
      ],
      "text/plain": [
       "'Augmented Matrix = ' [1 0 1 0]\n",
       "[1 1 2 0]\n",
       "[0 1 2 0]"
      ]
     },
     "metadata": {},
     "output_type": "display_data"
    },
    {
     "data": {
      "text/html": [
       "<html><script type=\"math/tex; mode=display\">\\newcommand{\\Bold}[1]{\\mathbf{#1}}\\verb|RREF|\\phantom{\\verb!x!}\\verb|=| \\left(\\begin{array}{rrrr}\n",
       "1 & 0 & 0 & 0 \\\\\n",
       "0 & 1 & 0 & 0 \\\\\n",
       "0 & 0 & 1 & 0\n",
       "\\end{array}\\right)</script></html>"
      ],
      "text/plain": [
       "'RREF =' [1 0 0 0]\n",
       "[0 1 0 0]\n",
       "[0 0 1 0]"
      ]
     },
     "metadata": {},
     "output_type": "display_data"
    }
   ],
   "source": [
    "# vectors of B2\n",
    "u1 = vector([1,1,0])\n",
    "u2 = vector([0,1,1])\n",
    "u3 = vector([1,2,2])\n",
    "null = vector([0,0,0])\n",
    "\n",
    "# Augmented matrix to solve the system\n",
    "B2 = matrix([u1,u2,u3]).transpose()\n",
    "BB2 = B2.augment(null)\n",
    "\n",
    "show('Augmented Matrix = ', BB2)\n",
    "show('RREF =', BB2.rref())"
   ]
  },
  {
   "cell_type": "markdown",
   "metadata": {},
   "source": [
    "So, only unique solution is $(a,b,c) = (0,0,0)$ which is the trivial solution. We also have pivots in every columns in the RREF matrix. So $B_1$ is linearly independent."
   ]
  },
  {
   "cell_type": "markdown",
   "metadata": {},
   "source": [
    "2nd criteria: Spanning all of $R^3$\n",
    "\n",
    "The number of linearly independent column in $B_2$ is 3, means the $dim(B_2$) = 3\n",
    "\n",
    "where, dim($\\mathbb{R}^3$) = 3\n",
    "\n",
    "$\\therefore$ $B_2$ spans all of $R^3$\n",
    "\n",
    "$\\therefore$ $B_2$ is a basis for $R^3$."
   ]
  },
  {
   "attachments": {},
   "cell_type": "markdown",
   "metadata": {},
   "source": [
    "**(b)**\n",
    "\n",
    "To find the coordinate of a vector v in any one of the basis, we need to find the coefficients of the linear combination of the basis vectors which equals the vector. Then to solve for the coefficients, we need to augment a matrix by the vector, where the matrix has the basis vectors in its column.\n",
    "\n",
    "For the vector v = (4,-7,1),\n",
    "\n",
    "The linear combination of $B_1$ equals to v:\n",
    "\n",
    "$a(1,2,0) + b(1,3,2) + c(0,1,3) = (4,-7,1)$\n",
    "\n",
    "$ \\rightarrow (a+b, 2a+3b+c, 2b+3c) = (4,-7,1)$\n",
    "- a+b = 4\n",
    "- 2a + 3b + c = -7\n",
    "- 2b + 3c = 1"
   ]
  },
  {
   "cell_type": "code",
   "execution_count": 28,
   "metadata": {},
   "outputs": [
    {
     "data": {
      "text/html": [
       "<html><script type=\"math/tex; mode=display\">\\newcommand{\\Bold}[1]{\\mathbf{#1}}\\verb|Augmented|\\phantom{\\verb!x!}\\verb|Matrix|\\phantom{\\verb!x!}\\verb|=| \\left(\\begin{array}{rrrr}\n",
       "1 & 1 & 0 & 4 \\\\\n",
       "2 & 3 & 1 & -7 \\\\\n",
       "0 & 2 & 3 & 1\n",
       "\\end{array}\\right)</script></html>"
      ],
      "text/plain": [
       "'Augmented Matrix = ' [ 1  1  0  4]\n",
       "[ 2  3  1 -7]\n",
       "[ 0  2  3  1]"
      ]
     },
     "metadata": {},
     "output_type": "display_data"
    },
    {
     "data": {
      "text/html": [
       "<html><script type=\"math/tex; mode=display\">\\newcommand{\\Bold}[1]{\\mathbf{#1}}\\verb|RREF|\\phantom{\\verb!x!}\\verb|=| \\left(\\begin{array}{rrrr}\n",
       "1 & 0 & 0 & 50 \\\\\n",
       "0 & 1 & 0 & -46 \\\\\n",
       "0 & 0 & 1 & 31\n",
       "\\end{array}\\right)</script></html>"
      ],
      "text/plain": [
       "'RREF =' [  1   0   0  50]\n",
       "[  0   1   0 -46]\n",
       "[  0   0   1  31]"
      ]
     },
     "metadata": {},
     "output_type": "display_data"
    }
   ],
   "source": [
    "v = vector([4,-7,1])\n",
    "\n",
    "# Augmented matrix to solve the system\n",
    "BB1 = B1.augment(v)\n",
    "\n",
    "show('Augmented Matrix = ', BB1)\n",
    "show('RREF =', BB1.rref())"
   ]
  },
  {
   "cell_type": "markdown",
   "metadata": {},
   "source": [
    "$\\therefore$ the coordinate of v in B1 basis, $\\left[v\\right]_{B_1} = <50, -46, 31>$"
   ]
  },
  {
   "cell_type": "markdown",
   "metadata": {},
   "source": [
    "Similarly to find the coordinates of v in $B_2$, we follow the steps again.\n",
    "\n",
    "The linear combination of $B_2$ equals to v:\n",
    "\n",
    "$a(1,1,0) + b(0,1,1) + c(1,2,2) = (4,-7,1)$\n",
    "\n",
    "$ \\Rightarrow (a+c, a+b+2c, b+2c) = (4,-7,1)$\n",
    "- a+c = 4\n",
    "- a + b + 2c = -7\n",
    "- b + 2c = 1"
   ]
  },
  {
   "cell_type": "code",
   "execution_count": 29,
   "metadata": {},
   "outputs": [
    {
     "data": {
      "text/html": [
       "<html><script type=\"math/tex; mode=display\">\\newcommand{\\Bold}[1]{\\mathbf{#1}}\\verb|Augmented|\\phantom{\\verb!x!}\\verb|Matrix|\\phantom{\\verb!x!}\\verb|=| \\left(\\begin{array}{rrrr}\n",
       "1 & 0 & 1 & 4 \\\\\n",
       "1 & 1 & 2 & -7 \\\\\n",
       "0 & 1 & 2 & 1\n",
       "\\end{array}\\right)</script></html>"
      ],
      "text/plain": [
       "'Augmented Matrix = ' [ 1  0  1  4]\n",
       "[ 1  1  2 -7]\n",
       "[ 0  1  2  1]"
      ]
     },
     "metadata": {},
     "output_type": "display_data"
    },
    {
     "data": {
      "text/html": [
       "<html><script type=\"math/tex; mode=display\">\\newcommand{\\Bold}[1]{\\mathbf{#1}}\\verb|RREF|\\phantom{\\verb!x!}\\verb|=| \\left(\\begin{array}{rrrr}\n",
       "1 & 0 & 0 & -8 \\\\\n",
       "0 & 1 & 0 & -23 \\\\\n",
       "0 & 0 & 1 & 12\n",
       "\\end{array}\\right)</script></html>"
      ],
      "text/plain": [
       "'RREF =' [  1   0   0  -8]\n",
       "[  0   1   0 -23]\n",
       "[  0   0   1  12]"
      ]
     },
     "metadata": {},
     "output_type": "display_data"
    }
   ],
   "source": [
    "# Augmented matrix to solve the system\n",
    "BB2 = B2.augment(v)\n",
    "\n",
    "show('Augmented Matrix = ', BB2)\n",
    "show('RREF =', BB2.rref())"
   ]
  },
  {
   "cell_type": "markdown",
   "metadata": {},
   "source": [
    "$\\therefore$ the coordinate of v in B2 basis, $\\left[v\\right]_{B_2} = <-8, -23, 12>$"
   ]
  },
  {
   "cell_type": "markdown",
   "metadata": {},
   "source": [
    "**c): The change-of-basis matrix P that sends $B_1$ to $B_2$:**\n",
    "\n",
    "Every column of the change-of-basis matrix $P_{B_1 \\rightarrow B_2}$. is the coordinates of the vectors of $B_1\\{(v_1,v_2,v_3)\\}$ expressed in the basis of $B_2 \\{(u_1, u_2, u_3)\\}$.\n",
    "\n",
    "Just like the previous question, to find the coordinates for each vectors of $B_1$, we can augment a matrix by them, where the matrix has the vectors of basis $B_2$ in its columns. Then, the augmented side of the RREF will be the coordinate of that vector in basis $B_2$.\n",
    "\n",
    "Instead of doing it one by one, we can put all the vectors of $B_1$ together in the augmented side. Then the augmented side of the RREF will be the change-of-basis matrix $P_{B_1 \\rightarrow B_2}$.\n"
   ]
  },
  {
   "cell_type": "code",
   "execution_count": 30,
   "metadata": {},
   "outputs": [
    {
     "data": {
      "text/html": [
       "<html><script type=\"math/tex; mode=display\">\\newcommand{\\Bold}[1]{\\mathbf{#1}}\\verb|Augmented|\\phantom{\\verb!x!}\\verb|Matrix:| \\left(\\begin{array}{rrrrrr}\n",
       "1 & 0 & 1 & 1 & 1 & 0 \\\\\n",
       "1 & 1 & 2 & 2 & 3 & 1 \\\\\n",
       "0 & 1 & 2 & 0 & 2 & 3\n",
       "\\end{array}\\right)</script></html>"
      ],
      "text/plain": [
       "'Augmented Matrix: ' [1 0 1 1 1 0]\n",
       "[1 1 2 2 3 1]\n",
       "[0 1 2 0 2 3]"
      ]
     },
     "metadata": {},
     "output_type": "display_data"
    },
    {
     "data": {
      "text/html": [
       "<html><script type=\"math/tex; mode=display\">\\newcommand{\\Bold}[1]{\\mathbf{#1}}\\verb|RREF:| \\left(\\begin{array}{rrrrrr}\n",
       "1 & 0 & 0 & 2 & 1 & -2 \\\\\n",
       "0 & 1 & 0 & 2 & 2 & -1 \\\\\n",
       "0 & 0 & 1 & -1 & 0 & 2\n",
       "\\end{array}\\right)</script></html>"
      ],
      "text/plain": [
       "'RREF: ' [ 1  0  0  2  1 -2]\n",
       "[ 0  1  0  2  2 -1]\n",
       "[ 0  0  1 -1  0  2]"
      ]
     },
     "metadata": {},
     "output_type": "display_data"
    },
    {
     "data": {
      "text/html": [
       "<html><script type=\"math/tex; mode=display\">\\newcommand{\\Bold}[1]{\\mathbf{#1}}\\verb|Change|\\phantom{\\verb!x!}\\verb|of|\\phantom{\\verb!x!}\\verb|Basis|\\phantom{\\verb!x!}\\verb|Matrix:| P_{B_1 -> B_2} \\left(\\begin{array}{rrr}\n",
       "2 & 1 & -2 \\\\\n",
       "2 & 2 & -1 \\\\\n",
       "-1 & 0 & 2\n",
       "\\end{array}\\right)</script></html>"
      ],
      "text/plain": [
       "'Change of Basis Matrix:' P_{B_1 -> B_2} [ 2  1 -2]\n",
       "[ 2  2 -1]\n",
       "[-1  0  2]"
      ]
     },
     "metadata": {},
     "output_type": "display_data"
    }
   ],
   "source": [
    "# building the augented matrix \n",
    "Augmented_B2 = B2.augment(v1)\n",
    "Augmented_B2 = Augmented_B2.augment(v2)\n",
    "Augmented_B2 = Augmented_B2.augment(v3)\n",
    "\n",
    "show(\"Augmented Matrix: \", Augmented_B2)\n",
    "show(\"RREF: \", Augmented_B2.rref())\n",
    "\n",
    "# change-of-basis matrix\n",
    "P = Augmented_B2.rref()[:,-3:]\n",
    "show('Change of Basis Matrix:', LatexExpr('P_{B_1 -> B_2}'), P)\n"
   ]
  },
  {
   "cell_type": "code",
   "execution_count": 31,
   "metadata": {},
   "outputs": [
    {
     "data": {
      "text/html": [
       "<html><script type=\"math/tex; mode=display\">\\newcommand{\\Bold}[1]{\\mathbf{#1}}\\verb|v|\\phantom{\\verb!x!}\\verb|in|\\phantom{\\verb!x!}\\verb|B1|\\phantom{\\verb!x!}\\verb|=| \\left(50,\\,-46,\\,31\\right)</script></html>"
      ],
      "text/plain": [
       "'v in B1 =' (50, -46, 31)"
      ]
     },
     "metadata": {},
     "output_type": "display_data"
    },
    {
     "data": {
      "text/html": [
       "<html><script type=\"math/tex; mode=display\">\\newcommand{\\Bold}[1]{\\mathbf{#1}}\\verb|v|\\phantom{\\verb!x!}\\verb|in|\\phantom{\\verb!x!}\\verb|B2|\\phantom{\\verb!x!}\\verb|=| \\left(-8,\\,-23,\\,12\\right)</script></html>"
      ],
      "text/plain": [
       "'v in B2 =' (-8, -23, 12)"
      ]
     },
     "metadata": {},
     "output_type": "display_data"
    },
    {
     "data": {
      "text/html": [
       "<html><script type=\"math/tex; mode=display\">\\newcommand{\\Bold}[1]{\\mathbf{#1}}\\verb|P|\\phantom{\\verb!x!}\\verb|*|\\phantom{\\verb!x!}\\verb|[v]_B1|\\phantom{\\verb!x!}\\verb|=| \\left(-8,\\,-23,\\,12\\right)</script></html>"
      ],
      "text/plain": [
       "'P * [v]_B1 =' (-8, -23, 12)"
      ]
     },
     "metadata": {},
     "output_type": "display_data"
    },
    {
     "data": {
      "text/html": [
       "<html><script type=\"math/tex; mode=display\">\\newcommand{\\Bold}[1]{\\mathbf{#1}}\\left(\\begin{array}{rrr}\n",
       "2 & 1 & -2 \\\\\n",
       "2 & 2 & -1 \\\\\n",
       "-1 & 0 & 2\n",
       "\\end{array}\\right) \\left(\\begin{array}{r}\n",
       "50 \\\\\n",
       "-46 \\\\\n",
       "31\n",
       "\\end{array}\\right) \\verb|=| \\left(\\begin{array}{r}\n",
       "-8 \\\\\n",
       "-23 \\\\\n",
       "12\n",
       "\\end{array}\\right)</script></html>"
      ],
      "text/plain": [
       "[ 2  1 -2]\n",
       "[ 2  2 -1]\n",
       "[-1  0  2] [ 50]\n",
       "[-46]\n",
       "[ 31] '=' [ -8]\n",
       "[-23]\n",
       "[ 12]"
      ]
     },
     "metadata": {},
     "output_type": "display_data"
    },
    {
     "data": {
      "text/html": [
       "<html><script type=\"math/tex; mode=display\">\\newcommand{\\Bold}[1]{\\mathbf{#1}}\\mathrm{True}</script></html>"
      ],
      "text/plain": [
       "True"
      ]
     },
     "metadata": {},
     "output_type": "display_data"
    }
   ],
   "source": [
    "# testing the change-of-basis matrix\n",
    "\n",
    "# coordinate of v in B1\n",
    "v_B1 = vector([50,-46,31])\n",
    "show('v in B1 =', v_B1)\n",
    "\n",
    "# coordinate of v in B2\n",
    "v_B2 = vector([-8,-23,12])\n",
    "show('v in B2 =', v_B2)\n",
    "\n",
    "# left multiplication of P with v_in_B1\n",
    "show('P * [v]_B1 =', P*v_B1)\n",
    "show(P, matrix([v_B1]).transpose(), '=', matrix([P*v_B1]).transpose())\n",
    "show(v_B2 == P*v_B1)\n"
   ]
  },
  {
   "cell_type": "code",
   "execution_count": 32,
   "metadata": {},
   "outputs": [
    {
     "data": {
      "text/html": [
       "<html><script type=\"math/tex; mode=display\">\\newcommand{\\Bold}[1]{\\mathbf{#1}}Q = P^{-1} = \\left(\\begin{array}{rrr}\n",
       "4 & -2 & 3 \\\\\n",
       "-3 & 2 & -2 \\\\\n",
       "2 & -1 & 2\n",
       "\\end{array}\\right)</script></html>"
      ],
      "text/plain": [
       "Q = P^{-1} = [ 4 -2  3]\n",
       "[-3  2 -2]\n",
       "[ 2 -1  2]"
      ]
     },
     "metadata": {},
     "output_type": "display_data"
    },
    {
     "data": {
      "text/html": [
       "<html><script type=\"math/tex; mode=display\">\\newcommand{\\Bold}[1]{\\mathbf{#1}}\\verb|v|\\phantom{\\verb!x!}\\verb|in|\\phantom{\\verb!x!}\\verb|B1|\\phantom{\\verb!x!}\\verb|=| \\left(50,\\,-46,\\,31\\right)</script></html>"
      ],
      "text/plain": [
       "'v in B1 =' (50, -46, 31)"
      ]
     },
     "metadata": {},
     "output_type": "display_data"
    },
    {
     "data": {
      "text/html": [
       "<html><script type=\"math/tex; mode=display\">\\newcommand{\\Bold}[1]{\\mathbf{#1}}\\verb|v|\\phantom{\\verb!x!}\\verb|in|\\phantom{\\verb!x!}\\verb|B2|\\phantom{\\verb!x!}\\verb|=| \\left(-8,\\,-23,\\,12\\right)</script></html>"
      ],
      "text/plain": [
       "'v in B2 =' (-8, -23, 12)"
      ]
     },
     "metadata": {},
     "output_type": "display_data"
    },
    {
     "data": {
      "text/html": [
       "<html><script type=\"math/tex; mode=display\">\\newcommand{\\Bold}[1]{\\mathbf{#1}}\\verb|Q|\\phantom{\\verb!x!}\\verb|*|\\phantom{\\verb!x!}\\verb|[v]_B2|\\phantom{\\verb!x!}\\verb|=| \\left(50,\\,-46,\\,31\\right)</script></html>"
      ],
      "text/plain": [
       "'Q * [v]_B2 =' (50, -46, 31)"
      ]
     },
     "metadata": {},
     "output_type": "display_data"
    },
    {
     "data": {
      "text/html": [
       "<html><script type=\"math/tex; mode=display\">\\newcommand{\\Bold}[1]{\\mathbf{#1}}\\left(\\begin{array}{rrr}\n",
       "4 & -2 & 3 \\\\\n",
       "-3 & 2 & -2 \\\\\n",
       "2 & -1 & 2\n",
       "\\end{array}\\right) \\left(\\begin{array}{r}\n",
       "-8 \\\\\n",
       "-23 \\\\\n",
       "12\n",
       "\\end{array}\\right) \\verb|=| \\left(\\begin{array}{r}\n",
       "50 \\\\\n",
       "-46 \\\\\n",
       "31\n",
       "\\end{array}\\right)</script></html>"
      ],
      "text/plain": [
       "[ 4 -2  3]\n",
       "[-3  2 -2]\n",
       "[ 2 -1  2] [ -8]\n",
       "[-23]\n",
       "[ 12] '=' [ 50]\n",
       "[-46]\n",
       "[ 31]"
      ]
     },
     "metadata": {},
     "output_type": "display_data"
    },
    {
     "data": {
      "text/html": [
       "<html><script type=\"math/tex; mode=display\">\\newcommand{\\Bold}[1]{\\mathbf{#1}}\\mathrm{True}</script></html>"
      ],
      "text/plain": [
       "True"
      ]
     },
     "metadata": {},
     "output_type": "display_data"
    }
   ],
   "source": [
    "# Finding Q\n",
    "Q = P^-1\n",
    "show(LatexExpr('Q = P^{-1} ='), Q)\n",
    "\n",
    "# coordinate of v in B1\n",
    "v_B1 = vector([50,-46,31])\n",
    "show('v in B1 =', v_B1)\n",
    "\n",
    "# coordinate of v in B2\n",
    "v_B2 = vector([-8,-23,12])\n",
    "show('v in B2 =', v_B2)\n",
    "\n",
    "# left multiplication of Q with v_in_B2\n",
    "show('Q * [v]_B2 =', Q*v_B2)\n",
    "show(Q, matrix([v_B2]).transpose(), '=', matrix([Q*v_B2]).transpose())\n",
    "show(v_B1 == Q*v_B2)"
   ]
  },
  {
   "cell_type": "markdown",
   "metadata": {},
   "source": [
    "## Deep Dive"
   ]
  },
  {
   "cell_type": "markdown",
   "metadata": {},
   "source": [
    "### 1. The least of your problems\n",
    "\n",
    "In this problem you will derive and then apply the least squares approximation of a solution to a system of linear equations. Suppose that you want to solve the linear system $$Ax=b,$$ but the system is over-determined, i.e., it has no solution. This often happens when you have more equations than you have unknowns. Your goal is to find a vector $\\hat{x}$ that is as close as possible to being a solution to $Ax=b$. The approach we take avoids the use of calculus, and is often used with large systems."
   ]
  },
  {
   "cell_type": "markdown",
   "metadata": {},
   "source": [
    "a) Let $A=\\left[ {\\begin{array}{cc}\n",
    "   1 & 2\\\\\n",
    "   1 & 3 \\\\\n",
    "   0 & 0\n",
    "  \\end{array} } \\right], b=\\left[ {\\begin{array}{c}\n",
    "   4\\\\\n",
    "   5 \\\\\n",
    "   6\n",
    "  \\end{array} } \\right].$\n",
    "  \n",
    "  i. Why is this system inconsistent?\n",
    "  \n",
    "  ii. Are the columns of $A$ independent? Why or why not?\n",
    "  \n",
    "  iii. Make a 3d plot that includes the vector $b$ and basis vectors for the column space of $A$. Be sure to label the vectors.\n",
    "  \n",
    "  iv. Give a geometric description of the span of the columns of A, which we will denote the “column space of A,” or Col(A)."
   ]
  },
  {
   "cell_type": "markdown",
   "metadata": {},
   "source": [
    "**(a) i.**\n",
    "\n",
    "We can make the augmented matrix and take it to RREF to check the inconsistency:"
   ]
  },
  {
   "cell_type": "code",
   "execution_count": 33,
   "metadata": {},
   "outputs": [
    {
     "data": {
      "text/html": [
       "<html><script type=\"math/tex; mode=display\">\\newcommand{\\Bold}[1]{\\mathbf{#1}}\\verb|Augmented|\\phantom{\\verb!x!}\\verb|Matrix:| \\left(\\begin{array}{rrr}\n",
       "1 & 2 & 4 \\\\\n",
       "1 & 3 & 5 \\\\\n",
       "0 & 0 & 6\n",
       "\\end{array}\\right)</script></html>"
      ],
      "text/plain": [
       "'Augmented Matrix: ' [1 2 4]\n",
       "[1 3 5]\n",
       "[0 0 6]"
      ]
     },
     "metadata": {},
     "output_type": "display_data"
    },
    {
     "data": {
      "text/html": [
       "<html><script type=\"math/tex; mode=display\">\\newcommand{\\Bold}[1]{\\mathbf{#1}}\\verb|RREF:| \\left(\\begin{array}{rrr}\n",
       "1 & 0 & 0 \\\\\n",
       "0 & 1 & 0 \\\\\n",
       "0 & 0 & 1\n",
       "\\end{array}\\right)</script></html>"
      ],
      "text/plain": [
       "'RREF: ' [1 0 0]\n",
       "[0 1 0]\n",
       "[0 0 1]"
      ]
     },
     "metadata": {},
     "output_type": "display_data"
    }
   ],
   "source": [
    "# Matrix A\n",
    "A = matrix([[1,2],[1,3],[0,0]])\n",
    "\n",
    "# vector b\n",
    "b = vector([4,5,6])\n",
    "\n",
    "# Augmented Matrix\n",
    "AA = A.augment(b)\n",
    "\n",
    "show('Augmented Matrix: ', AA)\n",
    "show('RREF: ', AA.rref())"
   ]
  },
  {
   "cell_type": "markdown",
   "metadata": {},
   "source": [
    "Here from the last column, \n",
    "\n",
    "- 0x + 0y = 1 \n",
    "- 0 + 0 = 1\n",
    "\n",
    "This is not possible, so The system $Ax = b$ is inconsistent.\n",
    "\n",
    "Also, we can note that we have more equations (3) here, than our number of variable (2). \n"
   ]
  },
  {
   "cell_type": "markdown",
   "metadata": {},
   "source": [
    "\n",
    "**(a)ii.** Linearly independeence test\n",
    "\n",
    "To check that every columns are linearly independent, we could check if there is any non-trivial solution for their linear combination be a zero vector.\n",
    "\n",
    "The linear combination of A equals to 0:\n",
    "\n",
    "$a(1,1,0) + b(2,3,0) = (0,0,0)$\n",
    "\n",
    "$ \\Rightarrow (a+2b, a+3b, 0+0) = (0,0,0)$\n",
    "- a+2b = 0\n",
    "- a + 3b = 0\n",
    "- 0 + 0 = 0\n"
   ]
  },
  {
   "cell_type": "code",
   "execution_count": 34,
   "metadata": {},
   "outputs": [
    {
     "data": {
      "text/html": [
       "<html><script type=\"math/tex; mode=display\">\\newcommand{\\Bold}[1]{\\mathbf{#1}}\\verb|Augmented|\\phantom{\\verb!x!}\\verb|Matrix:| \\left(\\begin{array}{rrr}\n",
       "1 & 2 & 0 \\\\\n",
       "1 & 3 & 0 \\\\\n",
       "0 & 0 & 0\n",
       "\\end{array}\\right)</script></html>"
      ],
      "text/plain": [
       "'Augmented Matrix: ' [1 2 0]\n",
       "[1 3 0]\n",
       "[0 0 0]"
      ]
     },
     "metadata": {},
     "output_type": "display_data"
    },
    {
     "data": {
      "text/html": [
       "<html><script type=\"math/tex; mode=display\">\\newcommand{\\Bold}[1]{\\mathbf{#1}}\\verb|RREF:| \\left(\\begin{array}{rrr}\n",
       "1 & 0 & 0 \\\\\n",
       "0 & 1 & 0 \\\\\n",
       "0 & 0 & 0\n",
       "\\end{array}\\right)</script></html>"
      ],
      "text/plain": [
       "'RREF: ' [1 0 0]\n",
       "[0 1 0]\n",
       "[0 0 0]"
      ]
     },
     "metadata": {},
     "output_type": "display_data"
    }
   ],
   "source": [
    "# null vectors\n",
    "null = vector([0,0,0])\n",
    "\n",
    "# Augmented matrix\n",
    "AA = A.augment(null)\n",
    "\n",
    "show('Augmented Matrix: ', AA)\n",
    "show('RREF: ', AA.rref())"
   ]
  },
  {
   "cell_type": "markdown",
   "metadata": {},
   "source": [
    "So, only unique solution is $(a,b) = (0,0)$ which is the trivial solution. We also have pivots in every column in the RREF matrix. So columns of A are linearly independent."
   ]
  },
  {
   "cell_type": "markdown",
   "metadata": {},
   "source": [
    "**(a) iii: 3D Plot of the system**\n",
    "\n",
    "As the columns are linearly independent, they form the basis of the column space of A, Col(A). The columns of A (basis of col(A)) and the vector b are plotted in the following 3d plot:"
   ]
  },
  {
   "attachments": {
    "3dplot1.png": {
     "image/png": "[encoded data removed]"
    }
   },
   "cell_type": "markdown",
   "metadata": {},
   "source": [
    "<img src=\"attachment:3dplot1.png\" style=\"max-width:100%\">"
   ]
  },
  {
   "cell_type": "markdown",
   "metadata": {},
   "source": [
    "Figure 1: The basis of Col(A), v1 and v2 along with the vector b are shown in the plot. The grey plane with the grids (x-z plane) is the plane of the basis vectors v1 and v2, thus the columns space of A. Every element in this plane lies in Col(A). But the vector b doesn't lie in the plane."
   ]
  },
  {
   "cell_type": "markdown",
   "metadata": {},
   "source": [
    "**(d)iv. Geometric shape of Col(A):**\n",
    "\n",
    "As we can see from the above graph, the column space, which is spanned by the vectors $v_1, v_2$ is a x-y plane with z=0. As we have two linearly dependant vectors, we can go along any point on this plane with the linear combination of the vector $v_1, v_2$. So the span is the full $\\mathbb{R}^2$."
   ]
  },
  {
   "cell_type": "markdown",
   "metadata": {},
   "source": [
    "b) Another way to state the goal is that you want to find a vector $\\hat{x}$ such that $A\\hat{x}$ is as close as possible to $b$. In other words, you want to minimize $\\|A\\hat{x}-b\\|$.\n",
    "\n",
    "  i. Show that $A\\hat{x}$ is an element of the column space of $A$.\n",
    "    \n",
    "  ii. The distance between $A\\hat{x}$ and $b$ is minimized with $b-A\\hat{x}$ being orthogonal to every vector in the column space of $A$, i.e., $A\\hat{x}$ is the projection of $b$ onto $Col(A)$. Why?\n",
    "  \n",
    "  iii. Show that this is equivalent to saying $$A^T(b-A\\hat{x})=\\vec{0}.$$ Hint: Think about matrix multiplication in terms of dot products of rows and columns."
   ]
  },
  {
   "cell_type": "markdown",
   "metadata": {},
   "source": [
    "**(b) i. $A\\hat{x}$ is an element of Col(A)**\n",
    "\n",
    "For a m x n coefficient matrix, \n",
    "$A = \\begin{bmatrix}\n",
    "a_{11} & a_{12} & ... & a_{1n}\\\\\n",
    "a_{21} & a_{22} & ... & a_{2n}\\\\\n",
    "... & ... & ... & ...\\\\\n",
    "a_{m1} & a_{m2} & ... & a_{mn}\n",
    "\\end{bmatrix}$\n",
    "\n",
    "The solution set will be a n x 1 matrix,\n",
    "$ \\hat{x} = \\begin{bmatrix}\n",
    "x_{11}\\\\\n",
    "x_{21}\\\\\n",
    "...\\\\\n",
    "x_{m1}\n",
    "\\end{bmatrix}$\n",
    "\n",
    "Then,\n",
    "$A\\hat{x} = \\begin{bmatrix}\n",
    "a_{11} & a_{12} & ... & a_{1n}\\\\\n",
    "a_{21} & a_{22} & ... & a_{2n}\\\\\n",
    "... & ... & ... & ...\\\\\n",
    "a_{m1} & a_{m2} & ... & a_{mn}\n",
    "\\end{bmatrix}\n",
    "\\begin{bmatrix}\n",
    "x_{11}\\\\\n",
    "x_{21}\\\\\n",
    "...\\\\\n",
    "x_{n1}\n",
    "\\end{bmatrix}\n",
    "= \\begin{bmatrix}\n",
    "(a_{11}x_{11} + a_{12}x_{21} + ... + a_{1n}x_{n1})\\\\\n",
    "(a_{21}x_{11} + a_{22}x_{21} + ... + a_{2n}x_{n1})\\\\\n",
    "...\\\\\n",
    "(a_{m1}x_{11} + a_{m2}x_{21} + ... + a_{mn}x_{n1})\n",
    "\\end{bmatrix}$"
   ]
  },
  {
   "cell_type": "markdown",
   "metadata": {},
   "source": [
    "$= x_{11}\\begin{bmatrix}\n",
    "a_{11}\\\\\n",
    "a_{21}\\\\\n",
    "...\\\\\n",
    "a_{m1}\n",
    "\\end{bmatrix}\n",
    "+ x_{21}\\begin{bmatrix}\n",
    "a_{12}\\\\\n",
    "a_{22}\\\\\n",
    "...\\\\\n",
    "a_{m2}\n",
    "\\end{bmatrix}\n",
    "+ ...\n",
    "+ x_{n1}\\begin{bmatrix}\n",
    "a_{1n}\\\\\n",
    "a_{2n}\\\\\n",
    "...\\\\\n",
    "a_{mn}\n",
    "\\end{bmatrix}$\n",
    "\n",
    "But, $\\begin{bmatrix}\n",
    "a_{11}\\\\\n",
    "a_{21}\\\\\n",
    "...\\\\\n",
    "a_{m1}\n",
    "\\end{bmatrix},\n",
    "\\begin{bmatrix}\n",
    "a_{12}\\\\\n",
    "a_{22}\\\\\n",
    "...\\\\\n",
    "a_{m2}\n",
    "\\end{bmatrix}$ etc. are the 1st, 2nd and so on column of the matrix A. "
   ]
  },
  {
   "cell_type": "markdown",
   "metadata": {},
   "source": [
    "So, for any real number $(x_{11}, x_{21}, ..., x_{n1})$, $A\\hat{x}$ is just the linear combination of the columns of A, which means it lies in the column space of A."
   ]
  },
  {
   "cell_type": "markdown",
   "metadata": {},
   "source": [
    "**(b) ii.**\n",
    "\n",
    "We can first visualize such scenario in 2d plane, where it is easier and more intuitive to understand. Suppose we want to reach *as close as possible* to the head of a vector v (4,2). But we are constraint by the vector space defined by the line, y = 1. \n",
    "\n",
    "To visualize the shortest distance possible, we can plotted different possible lines from the point (4,2) to our vector space, line y = 1."
   ]
  },
  {
   "cell_type": "code",
   "execution_count": 35,
   "metadata": {},
   "outputs": [
    {
     "data": {
      "image/png": "[encoded data removed]",
      "text/plain": [
       "Graphics object consisting of 14 graphics primitives"
      ]
     },
     "execution_count": 35,
     "metadata": {},
     "output_type": "execute_result"
    }
   ],
   "source": [
    "# plotting the point\n",
    "p1 = point((4,2), color = 'green', size = 25)\n",
    "\n",
    "# plotting the base line\n",
    "f(x) = 1\n",
    "base = plot(f, (x,-2,8), color = 'red')\n",
    "\n",
    "# plotting different line from the point to the base\n",
    "lines = []\n",
    "for i in range(-2,9):\n",
    "    if(i == 4):\n",
    "        l = line2d([(4,2), (i,1)], color = 'purple')    \n",
    "    else:\n",
    "        l = line2d([(4,2), (i,1)])\n",
    "    lines.append(l)\n",
    "    \n",
    "p1 + base + lines[0] + lines[1] + lines[2] + lines[3] + lines[4] + lines[5] + lines[6] + lines[7] + lines[8] + lines[9] + lines[10]"
   ]
  },
  {
   "cell_type": "markdown",
   "metadata": {},
   "source": [
    "As we can see among the lines from the point to the baseline, the perpendicular line (shown in purple) is the shortest one. As we go away in either direction from the directly perpendicular point, the distance is increasing. So, with the constraint of y=1 line, the closest we can reach to the head of the vector (4,2) is the projection of that vector on our constraint line. Here the projection of v on the line is the vector, v_proj = (4,1). The remaining of the vector v (the segment from (4,2) to (4,1) or v - v_proj) is totally orthogonal to the line y = 1.\n",
    "\n",
    "If we extrapolate the same idea in 3d plane of our example, as we seen in figure 1, we want to reach  $\\vec{b}$ = (4,5,6), but we are contraint by the x-y plane. So the closest we can get is the projection of $\\vec{b}$ along the x-y plane. So, the remaining component of $\\vec{b}$, is directly perpendicular to the x-y plane. Thus, if we define the projection as our desire point $A\\hat{x}$, the remaining of  $\\vec{b}$,  $\\vec{b} - A\\hat{x}$ will be orthogoanal to every vectors on the x-y plane, which is the column space of Matrix A."
   ]
  },
  {
   "cell_type": "markdown",
   "metadata": {},
   "source": [
    "**(b) iii.**\n",
    "\n",
    "From b(ii), every vector of the column space of Matrix A is orthogonal to the vector $(b-A\\hat{x})$. \n",
    "\n",
    "Every vector in this vector space is simply the linear combination of the column vectors of matrix A (as they are linearly independent). So, it is sufficient to show that each column vector of matrix A is orthogonal to $(b-A\\hat{x})$ . As they are orthogonal, the dot product of each column of A and $(b-A\\hat{x})$ should be equal to 0.\n",
    "\n",
    "For a m x n matrix A, each column has m components and $(b-A\\hat{x})$ also has m components. In dot product we multiply each of the corresponding components and add them together.\n",
    "\n",
    "Similarly in matrix multiplication of A (m x n) and B (n x l), we multiply each components of a single row from the matrix A with the corresponding components of a single column of matrix B. \n",
    "\n",
    "So, if we want to do the dot product of columns of A and $(b-A\\hat{x})$, we can arrange the columns of matrix A as the rows of a matrix and multiply that matrix and $(b-A\\hat{x})$. But arranging columns of matrix as rows is exactly what transpose matrix does. So, we can multiply the transpose of A with $(b-A\\hat{x})$. As they are orthogonal, the dot product will be 0 for each of the vectors, so our result will be a null vector.\n",
    "\n",
    "So, we can say,\n",
    "$$A^T(b-A\\hat{x})=\\vec{0}.$$\n",
    "\n"
   ]
  },
  {
   "cell_type": "markdown",
   "metadata": {},
   "source": [
    "c) We can manipulate the above formula to solve for $\\hat{x}$.\n",
    "\n",
    "  i. Show that if $A^TA$ is invertible then $\\hat{x}=(A^TA)^{-1}A^Tb.$\n",
    "  \n",
    "  ii. For the system from (a) verify that $A^TA$ is invertible, then compute $\\hat{x}$ and $A\\hat{x}$.\n",
    "  \n",
    "  iii. Add $A\\hat{x}$ to your plot from (a). Discuss the result. (i.e., How does $A\\hat{x}$ relate to $b$?"
   ]
  },
  {
   "cell_type": "markdown",
   "metadata": {},
   "source": [
    "**c) i.**\n",
    "\n",
    "\\begin{align*}\n",
    "    &A^T (b-A\\hat{x}) &&= \\vec{0} &&&\\text{[ From (b) ]}\\\\\n",
    "    \\Rightarrow \\quad &A^T b - A^T A\\hat{x} &&= \\vec{0} &&&\\text{[ Distributive property of a vector space]}\\\\\n",
    "    \\Rightarrow \\quad &A^T A\\hat{x} &&= A^T b &&&\\text{[ Existence of additive inverses in a vector space ]}\\\\\n",
    "    \\Rightarrow \\quad &(A^T A)^{-1} A^T A\\hat{x} \\quad &&= (A^T A)^{-1} A^T b &&&\\text{[ Left Multiplying with $(A^T A)^{-1}$]}\\\\\n",
    "    \\therefore \\quad &\\hat{x} &&= (A^T A)^{-1} A^T b \\quad &&&\\text{[ Property of inverse matrix ]}\n",
    "\\end{align*}\n"
   ]
  },
  {
   "cell_type": "markdown",
   "metadata": {},
   "source": [
    "**c) ii. $\\hat{x}$ and $A\\hat{x}$ for system of (a)**\n",
    "\n",
    "We can use determinant to check the invertibility"
   ]
  },
  {
   "cell_type": "code",
   "execution_count": 36,
   "metadata": {},
   "outputs": [
    {
     "data": {
      "text/html": [
       "<html><script type=\"math/tex; mode=display\">\\newcommand{\\Bold}[1]{\\mathbf{#1}}\\verb|A:| \\left(\\begin{array}{rr}\n",
       "1 & 2 \\\\\n",
       "1 & 3 \\\\\n",
       "0 & 0\n",
       "\\end{array}\\right)</script></html>"
      ],
      "text/plain": [
       "'A:' [1 2]\n",
       "[1 3]\n",
       "[0 0]"
      ]
     },
     "metadata": {},
     "output_type": "display_data"
    },
    {
     "data": {
      "text/html": [
       "<html><script type=\"math/tex; mode=display\">\\newcommand{\\Bold}[1]{\\mathbf{#1}}A^T: \\left(\\begin{array}{rrr}\n",
       "1 & 1 & 0 \\\\\n",
       "2 & 3 & 0\n",
       "\\end{array}\\right)</script></html>"
      ],
      "text/plain": [
       "A^T: [1 1 0]\n",
       "[2 3 0]"
      ]
     },
     "metadata": {},
     "output_type": "display_data"
    },
    {
     "data": {
      "text/html": [
       "<html><script type=\"math/tex; mode=display\">\\newcommand{\\Bold}[1]{\\mathbf{#1}}A^T A: \\left(\\begin{array}{rrr}\n",
       "1 & 1 & 0 \\\\\n",
       "2 & 3 & 0\n",
       "\\end{array}\\right) \\left(\\begin{array}{rr}\n",
       "1 & 2 \\\\\n",
       "1 & 3 \\\\\n",
       "0 & 0\n",
       "\\end{array}\\right) \\verb|=| \\left(\\begin{array}{rr}\n",
       "2 & 5 \\\\\n",
       "5 & 13\n",
       "\\end{array}\\right)</script></html>"
      ],
      "text/plain": [
       "A^T A: [1 1 0]\n",
       "[2 3 0] [1 2]\n",
       "[1 3]\n",
       "[0 0] '=' [ 2  5]\n",
       "[ 5 13]"
      ]
     },
     "metadata": {},
     "output_type": "display_data"
    },
    {
     "data": {
      "text/html": [
       "<html><script type=\"math/tex; mode=display\">\\newcommand{\\Bold}[1]{\\mathbf{#1}}\\verb|Determinant:| 1</script></html>"
      ],
      "text/plain": [
       "'Determinant: ' 1"
      ]
     },
     "metadata": {},
     "output_type": "display_data"
    }
   ],
   "source": [
    "# matrix A\n",
    "show('A:', A)\n",
    "\n",
    "# matrix A^T\n",
    "A_t = A.transpose()\n",
    "show(LatexExpr('A^T:'), A_t)\n",
    "\n",
    "# A^T A\n",
    "show(LatexExpr('A^T A:'), A_t, A, '=', A_t*A)\n",
    "\n",
    "# det(A^T A)\n",
    "show('Determinant: ', det(A_t*A))"
   ]
  },
  {
   "cell_type": "markdown",
   "metadata": {},
   "source": [
    "As the determinant is not 0, we can say that $A^T A$ is invertible. "
   ]
  },
  {
   "cell_type": "code",
   "execution_count": 37,
   "metadata": {},
   "outputs": [
    {
     "data": {
      "text/html": [
       "<html><script type=\"math/tex; mode=display\">\\newcommand{\\Bold}[1]{\\mathbf{#1}}\\hat{x} = (A^T A)^{-1} A^T b</script></html>"
      ],
      "text/plain": [
       "\\hat{x} = (A^T A)^{-1} A^T b"
      ]
     },
     "metadata": {},
     "output_type": "display_data"
    },
    {
     "data": {
      "text/html": [
       "<html><script type=\"math/tex; mode=display\">\\newcommand{\\Bold}[1]{\\mathbf{#1}}(A^T A)^{-1} = \\left(\\begin{array}{rr}\n",
       "13 & -5 \\\\\n",
       "-5 & 2\n",
       "\\end{array}\\right)</script></html>"
      ],
      "text/plain": [
       "(A^T A)^{-1} = [13 -5]\n",
       "[-5  2]"
      ]
     },
     "metadata": {},
     "output_type": "display_data"
    },
    {
     "data": {
      "text/html": [
       "<html><script type=\"math/tex; mode=display\">\\newcommand{\\Bold}[1]{\\mathbf{#1}}A^T b = \\left(\\begin{array}{rrr}\n",
       "1 & 1 & 0 \\\\\n",
       "2 & 3 & 0\n",
       "\\end{array}\\right) \\left(4,\\,5,\\,6\\right) \\verb|=| \\left(9,\\,23\\right)</script></html>"
      ],
      "text/plain": [
       "A^T b = [1 1 0]\n",
       "[2 3 0] (4, 5, 6) '=' (9, 23)"
      ]
     },
     "metadata": {},
     "output_type": "display_data"
    },
    {
     "data": {
      "text/html": [
       "<html><script type=\"math/tex; mode=display\">\\newcommand{\\Bold}[1]{\\mathbf{#1}}\\hat{x} = (A^T A)^{-1} A^T b = \\left(\\begin{array}{rr}\n",
       "13 & -5 \\\\\n",
       "-5 & 2\n",
       "\\end{array}\\right) \\left(9,\\,23\\right) \\verb|=| \\left(2,\\,1\\right)</script></html>"
      ],
      "text/plain": [
       "\\hat{x} = (A^T A)^{-1} A^T b = [13 -5]\n",
       "[-5  2] (9, 23) '=' (2, 1)"
      ]
     },
     "metadata": {},
     "output_type": "display_data"
    }
   ],
   "source": [
    "# Computing x:\n",
    "\n",
    "show(LatexExpr('\\hat{x} = (A^T A)^{-1} A^T b'))\n",
    "\n",
    "# (A^T A)^{-1}\n",
    "show(LatexExpr('(A^T A)^{-1} ='), (A_t*A)^-1)\n",
    "\n",
    "# A^T b\n",
    "show(LatexExpr('A^T b ='), A_t, b, '=', A_t*b)\n",
    "\n",
    "# (A^T A)^{-1} A^T b')\n",
    "x = ((A_t*A)^-1) * (A_t*b)\n",
    "show(LatexExpr('\\hat{x} = (A^T A)^{-1} A^T b ='), (A_t*A)^-1, A_t*b, '=', x)"
   ]
  },
  {
   "cell_type": "code",
   "execution_count": 38,
   "metadata": {},
   "outputs": [
    {
     "data": {
      "text/html": [
       "<html><script type=\"math/tex; mode=display\">\\newcommand{\\Bold}[1]{\\mathbf{#1}}A\\hat{x} =  \\left(\\begin{array}{rr}\n",
       "1 & 2 \\\\\n",
       "1 & 3 \\\\\n",
       "0 & 0\n",
       "\\end{array}\\right) \\left(2,\\,1\\right) \\verb|=| \\left(4,\\,5,\\,0\\right)</script></html>"
      ],
      "text/plain": [
       "A\\hat{x} =  [1 2]\n",
       "[1 3]\n",
       "[0 0] (2, 1) '=' (4, 5, 0)"
      ]
     },
     "metadata": {},
     "output_type": "display_data"
    }
   ],
   "source": [
    "# Computing Ax:\n",
    "\n",
    "Ax = A*x\n",
    "show(LatexExpr('A\\hat{x} = '), A,x, '=', Ax)"
   ]
  },
  {
   "cell_type": "markdown",
   "metadata": {},
   "source": [
    "**c) iii. Plotting again with the $A\\hat{x}$**\n",
    "\n"
   ]
  },
  {
   "attachments": {
    "3dplot2.png": {
     "image/png": "[encoded data removed]"
    }
   },
   "cell_type": "markdown",
   "metadata": {},
   "source": [
    "<img src=\"attachment:3dplot2.png\" style=\"max-width:100%\">"
   ]
  },
  {
   "cell_type": "markdown",
   "metadata": {},
   "source": [
    "Figure 3: The closest solution vector $A\\hat{x}$ is shown in purple. As we can see, it is the projection of the $\\vec{b}$ on the x-y plane, the column space of matrix A. The perpendicular line from $\\vec{b}$ on the plane are shown in dotted black, which shows that the remaining of $\\vec{b}$, $\\vec{b} - A\\hat{x}$  is orthogonal to all the vectors of the Col(A)."
   ]
  },
  {
   "cell_type": "markdown",
   "metadata": {},
   "source": [
    "**d) Regression Example**\n",
    "\n",
    "  Suppose you want to predict your average HC/LO score across your next day of classes based on whether you got more or less sleep than your usual 6 hours. You decide to make a regression model $b=C+Mt$, where $b$ is the output, $C$ and $M$ are the coefficients of your model (what you need to find), and $t$ is the number of hours above (or below for negative values) 6 hours of sleep.\n",
    "  \n",
    "  You feel lazy and only take four measurements: $b=3$ when $t=-2$, $b=1$ when $t=1$, $b=4$ when $t=3$, and $b=5$ when $t=4$. "
   ]
  },
  {
   "cell_type": "markdown",
   "metadata": {},
   "source": [
    "i. Inputting the above into the formula for our linear model gives us a system of four equations and two unknowns - $C$ and $M$. Write out this system explicitly, then describe it as the matrix equation $Ax=b$, where $x=\\left[ {\\begin{array}{c}\n",
    "   C\\\\\n",
    "   M \\\\\n",
    "  \\end{array}} \\right]$. What is $A$? \n",
    "  \n",
    "  \n",
    "ii. Demonstrate that the system is inconsistent and that the columns of $A$ are independent.\n",
    "\n",
    "iii. Use the techniques from above to solve for $\\hat{x}$.\n",
    "\n",
    "iv. Make a diagram that includes each of the data points and the  regression line. Interpret the solution in the context of your sleep and your scores."
   ]
  },
  {
   "cell_type": "markdown",
   "metadata": {},
   "source": [
    "**d) i. Making the system:**\n",
    "\n",
    "Regression model, $C + Mt = b$\n",
    "\n",
    "So, putting the measurements into the regression model, we get the following equations:\n",
    "\n",
    "- C -2M = 3\n",
    "- C + M = 1\n",
    "- C + 3M = 4\n",
    "- C + 4M = 5\n",
    "\n",
    "Now, we can express the system of equations with matrix equation, $Ax = b$ following steps:\n",
    "\n",
    "The augmented side is $b$. \n",
    "\n",
    "$\\therefore b = \\begin{bmatrix}\n",
    "3\\\\\n",
    "1\\\\\n",
    "4\\\\\n",
    "5\n",
    "\\end{bmatrix}$\n",
    "\n",
    "Given, \n",
    "$x = \\begin{bmatrix}\n",
    "C\\\\\n",
    "M\n",
    "\\end{bmatrix}$\n",
    "\n",
    "$\\therefore A$ will be the coefficient matrix of $C$ and $M$. From the equations, we can determine,\n",
    "\n",
    "$A = \\begin{bmatrix}\n",
    "1 & -2\\\\\n",
    "1 & 1\\\\\n",
    "1 & 3\\\\\n",
    "1 & 4\n",
    "\\end{bmatrix}$"
   ]
  },
  {
   "cell_type": "markdown",
   "metadata": {},
   "source": [
    "**(d) ii. Checking inconsistency and linear indepence of the columns**\n",
    "\n",
    "We can make the augmented matrix and take it to RREF to check the inconsistency:"
   ]
  },
  {
   "cell_type": "code",
   "execution_count": 39,
   "metadata": {},
   "outputs": [
    {
     "data": {
      "text/html": [
       "<html><script type=\"math/tex; mode=display\">\\newcommand{\\Bold}[1]{\\mathbf{#1}}\\verb|Augmented|\\phantom{\\verb!x!}\\verb|Matrix:| \\left(\\begin{array}{rrr}\n",
       "1 & -2 & 3 \\\\\n",
       "1 & 1 & 1 \\\\\n",
       "1 & 3 & 4 \\\\\n",
       "1 & 4 & 5\n",
       "\\end{array}\\right)</script></html>"
      ],
      "text/plain": [
       "'Augmented Matrix: ' [ 1 -2  3]\n",
       "[ 1  1  1]\n",
       "[ 1  3  4]\n",
       "[ 1  4  5]"
      ]
     },
     "metadata": {},
     "output_type": "display_data"
    },
    {
     "data": {
      "text/html": [
       "<html><script type=\"math/tex; mode=display\">\\newcommand{\\Bold}[1]{\\mathbf{#1}}\\verb|RREF:| \\left(\\begin{array}{rrr}\n",
       "1 & 0 & 0 \\\\\n",
       "0 & 1 & 0 \\\\\n",
       "0 & 0 & 1 \\\\\n",
       "0 & 0 & 0\n",
       "\\end{array}\\right)</script></html>"
      ],
      "text/plain": [
       "'RREF: ' [1 0 0]\n",
       "[0 1 0]\n",
       "[0 0 1]\n",
       "[0 0 0]"
      ]
     },
     "metadata": {},
     "output_type": "display_data"
    }
   ],
   "source": [
    "# Matrix A\n",
    "A = matrix([[1,-2],[1,1],[1,3], [1,4]])\n",
    "\n",
    "# vector b\n",
    "b = vector([3,1,4,5])\n",
    "\n",
    "# Augmented Matrix\n",
    "AA = A.augment(b)\n",
    "\n",
    "show('Augmented Matrix: ', AA)\n",
    "show('RREF: ', AA.rref())"
   ]
  },
  {
   "cell_type": "markdown",
   "metadata": {},
   "source": [
    "Here from the 3rd column, \n",
    "\n",
    "- 0C + 0M = 1 \n",
    "- 0 + 0 = 1\n",
    "\n",
    "This is not possible, so The system $Ax = b$ is inconsistent."
   ]
  },
  {
   "cell_type": "markdown",
   "metadata": {},
   "source": [
    "Linearly independence test:\n",
    "\n",
    "To check that every columns are linearly independent, we could check if there is any non-trivial solution for their linear combination to be a zero vector.\n",
    "\n",
    "The linear combination of A equals to 0:\n",
    "\n",
    "$a(1,1,1,1) + b(-2,1,3,4) = (0,0,0,0)$\n",
    "\n",
    "$ \\Rightarrow (a-2b, a+b, a+3b, a+4b) = (0,0,0,0)$\n",
    "- a - 2b = 0\n",
    "- a + b = 0\n",
    "- a + 3b = 0\n",
    "- a + 4b = 0\n"
   ]
  },
  {
   "cell_type": "code",
   "execution_count": 40,
   "metadata": {},
   "outputs": [
    {
     "data": {
      "text/html": [
       "<html><script type=\"math/tex; mode=display\">\\newcommand{\\Bold}[1]{\\mathbf{#1}}\\verb|Augmented|\\phantom{\\verb!x!}\\verb|Matrix:| \\left(\\begin{array}{rrr}\n",
       "1 & -2 & 0 \\\\\n",
       "1 & 1 & 0 \\\\\n",
       "1 & 3 & 0 \\\\\n",
       "1 & 4 & 0\n",
       "\\end{array}\\right)</script></html>"
      ],
      "text/plain": [
       "'Augmented Matrix: ' [ 1 -2  0]\n",
       "[ 1  1  0]\n",
       "[ 1  3  0]\n",
       "[ 1  4  0]"
      ]
     },
     "metadata": {},
     "output_type": "display_data"
    },
    {
     "data": {
      "text/html": [
       "<html><script type=\"math/tex; mode=display\">\\newcommand{\\Bold}[1]{\\mathbf{#1}}\\verb|RREF:| \\left(\\begin{array}{rrr}\n",
       "1 & 0 & 0 \\\\\n",
       "0 & 1 & 0 \\\\\n",
       "0 & 0 & 0 \\\\\n",
       "0 & 0 & 0\n",
       "\\end{array}\\right)</script></html>"
      ],
      "text/plain": [
       "'RREF: ' [1 0 0]\n",
       "[0 1 0]\n",
       "[0 0 0]\n",
       "[0 0 0]"
      ]
     },
     "metadata": {},
     "output_type": "display_data"
    }
   ],
   "source": [
    "# null vectors\n",
    "null = vector([0,0,0,0])\n",
    "\n",
    "# Augmented matrix\n",
    "AA = A.augment(null)\n",
    "\n",
    "show('Augmented Matrix: ', AA)\n",
    "show('RREF: ', AA.rref())"
   ]
  },
  {
   "cell_type": "markdown",
   "metadata": {},
   "source": [
    "So, only unique solution is $(a,b) = (0,0)$ which is the trivial solution. We also have pivots in every column in the RREF matrix. So columns of A are linearly independent."
   ]
  },
  {
   "cell_type": "markdown",
   "metadata": {},
   "source": [
    "\n",
    "**(d) iii. Solve for $\\hat{x}$**\n",
    "\n",
    "First we need to check the invertibility of $A^T A$ using determinant."
   ]
  },
  {
   "cell_type": "code",
   "execution_count": 41,
   "metadata": {},
   "outputs": [
    {
     "data": {
      "text/html": [
       "<html><script type=\"math/tex; mode=display\">\\newcommand{\\Bold}[1]{\\mathbf{#1}}\\verb|A:| \\left(\\begin{array}{rr}\n",
       "1 & -2 \\\\\n",
       "1 & 1 \\\\\n",
       "1 & 3 \\\\\n",
       "1 & 4\n",
       "\\end{array}\\right)</script></html>"
      ],
      "text/plain": [
       "'A:' [ 1 -2]\n",
       "[ 1  1]\n",
       "[ 1  3]\n",
       "[ 1  4]"
      ]
     },
     "metadata": {},
     "output_type": "display_data"
    },
    {
     "data": {
      "text/html": [
       "<html><script type=\"math/tex; mode=display\">\\newcommand{\\Bold}[1]{\\mathbf{#1}}A^T: \\left(\\begin{array}{rrrr}\n",
       "1 & 1 & 1 & 1 \\\\\n",
       "-2 & 1 & 3 & 4\n",
       "\\end{array}\\right)</script></html>"
      ],
      "text/plain": [
       "A^T: [ 1  1  1  1]\n",
       "[-2  1  3  4]"
      ]
     },
     "metadata": {},
     "output_type": "display_data"
    },
    {
     "data": {
      "text/html": [
       "<html><script type=\"math/tex; mode=display\">\\newcommand{\\Bold}[1]{\\mathbf{#1}}A^T A: \\left(\\begin{array}{rrrr}\n",
       "1 & 1 & 1 & 1 \\\\\n",
       "-2 & 1 & 3 & 4\n",
       "\\end{array}\\right) \\left(\\begin{array}{rr}\n",
       "1 & -2 \\\\\n",
       "1 & 1 \\\\\n",
       "1 & 3 \\\\\n",
       "1 & 4\n",
       "\\end{array}\\right) \\verb|=| \\left(\\begin{array}{rr}\n",
       "4 & 6 \\\\\n",
       "6 & 30\n",
       "\\end{array}\\right)</script></html>"
      ],
      "text/plain": [
       "A^T A: [ 1  1  1  1]\n",
       "[-2  1  3  4] [ 1 -2]\n",
       "[ 1  1]\n",
       "[ 1  3]\n",
       "[ 1  4] '=' [ 4  6]\n",
       "[ 6 30]"
      ]
     },
     "metadata": {},
     "output_type": "display_data"
    },
    {
     "data": {
      "text/html": [
       "<html><script type=\"math/tex; mode=display\">\\newcommand{\\Bold}[1]{\\mathbf{#1}}\\verb|Determinant:| 84</script></html>"
      ],
      "text/plain": [
       "'Determinant: ' 84"
      ]
     },
     "metadata": {},
     "output_type": "display_data"
    }
   ],
   "source": [
    "# matrix A\n",
    "show('A:', A)\n",
    "\n",
    "# matrix A^T\n",
    "A_t = A.transpose()\n",
    "show(LatexExpr('A^T:'), A_t)\n",
    "\n",
    "# A^T A\n",
    "show(LatexExpr('A^T A:'), A_t, A, '=', A_t*A)\n",
    "\n",
    "# det(A^T A)\n",
    "show('Determinant: ', det(A_t*A))"
   ]
  },
  {
   "cell_type": "markdown",
   "metadata": {},
   "source": [
    "As the determinant is not 0, we can say that $A^T A$ is invertible. "
   ]
  },
  {
   "cell_type": "code",
   "execution_count": 42,
   "metadata": {},
   "outputs": [
    {
     "data": {
      "text/html": [
       "<html><script type=\"math/tex; mode=display\">\\newcommand{\\Bold}[1]{\\mathbf{#1}}\\hat{x} = (A^T A)^{-1} A^T b</script></html>"
      ],
      "text/plain": [
       "\\hat{x} = (A^T A)^{-1} A^T b"
      ]
     },
     "metadata": {},
     "output_type": "display_data"
    },
    {
     "data": {
      "text/html": [
       "<html><script type=\"math/tex; mode=display\">\\newcommand{\\Bold}[1]{\\mathbf{#1}}(A^T A)^{-1} = \\left(\\begin{array}{rr}\n",
       "\\frac{5}{14} & -\\frac{1}{14} \\\\\n",
       "-\\frac{1}{14} & \\frac{1}{21}\n",
       "\\end{array}\\right)</script></html>"
      ],
      "text/plain": [
       "(A^T A)^{-1} = [ 5/14 -1/14]\n",
       "[-1/14  1/21]"
      ]
     },
     "metadata": {},
     "output_type": "display_data"
    },
    {
     "data": {
      "text/html": [
       "<html><script type=\"math/tex; mode=display\">\\newcommand{\\Bold}[1]{\\mathbf{#1}}A^T b = \\left(\\begin{array}{rrrr}\n",
       "1 & 1 & 1 & 1 \\\\\n",
       "-2 & 1 & 3 & 4\n",
       "\\end{array}\\right) \\left(3,\\,1,\\,4,\\,5\\right) \\verb|=| \\left(13,\\,27\\right)</script></html>"
      ],
      "text/plain": [
       "A^T b = [ 1  1  1  1]\n",
       "[-2  1  3  4] (3, 1, 4, 5) '=' (13, 27)"
      ]
     },
     "metadata": {},
     "output_type": "display_data"
    },
    {
     "data": {
      "text/html": [
       "<html><script type=\"math/tex; mode=display\">\\newcommand{\\Bold}[1]{\\mathbf{#1}}\\hat{x} = (A^T A)^{-1} A^T b = \\left(\\begin{array}{rr}\n",
       "\\frac{5}{14} & -\\frac{1}{14} \\\\\n",
       "-\\frac{1}{14} & \\frac{1}{21}\n",
       "\\end{array}\\right) \\left(13,\\,27\\right) \\verb|=| \\left(\\frac{19}{7},\\,\\frac{5}{14}\\right)</script></html>"
      ],
      "text/plain": [
       "\\hat{x} = (A^T A)^{-1} A^T b = [ 5/14 -1/14]\n",
       "[-1/14  1/21] (13, 27) '=' (19/7, 5/14)"
      ]
     },
     "metadata": {},
     "output_type": "display_data"
    }
   ],
   "source": [
    "# Computing x:\n",
    "\n",
    "show(LatexExpr('\\hat{x} = (A^T A)^{-1} A^T b'))\n",
    "\n",
    "# (A^T A)^{-1}\n",
    "show(LatexExpr('(A^T A)^{-1} ='), (A_t*A)^-1)\n",
    "\n",
    "# A^T b\n",
    "show(LatexExpr('A^T b ='), A_t, b, '=', A_t*b)\n",
    "\n",
    "# (A^T A)^{-1} A^T b)\n",
    "x = ((A_t*A)^-1) * (A_t*b)\n",
    "show(LatexExpr('\\hat{x} = (A^T A)^{-1} A^T b ='), (A_t*A)^-1, A_t*b, '=', x)\n"
   ]
  },
  {
   "cell_type": "markdown",
   "metadata": {},
   "source": [
    "$\\therefore \\hat{x} = \\begin{bmatrix}\n",
    "C\\\\\n",
    "M\n",
    "\\end{bmatrix}\n",
    "= \\begin{bmatrix}\n",
    "\\frac{19}{7}\\\\\n",
    "\\frac{5}{14}\n",
    "\\end{bmatrix}$\n",
    "\n",
    "$\\therefore$ The estimated regression model: \n",
    "\n",
    "$b = \\frac{19}{7} + \\frac{5}{14} t$"
   ]
  },
  {
   "cell_type": "markdown",
   "metadata": {},
   "source": [
    "**(d) iv. Plotting the data points and the regression line**\n"
   ]
  },
  {
   "cell_type": "code",
   "execution_count": 43,
   "metadata": {},
   "outputs": [
    {
     "data": {
      "image/png": "[encoded data removed]",
      "text/plain": [
       "Graphics object consisting of 5 graphics primitives"
      ]
     },
     "execution_count": 43,
     "metadata": {},
     "output_type": "execute_result"
    }
   ],
   "source": [
    "# plotting all the (t,b) points\n",
    "p1 = point((-2,3), size=20, color = 'red')\n",
    "p2 = point((1,1), size=20, color = 'red')\n",
    "p3 = point((3,4), size=20, color = 'red')\n",
    "p4 = point((4,5), size=20, color = 'red')\n",
    "\n",
    "# regression line\n",
    "var('b','t')\n",
    "b(t) = 19/7 + 5/14*t\n",
    "line = plot(b(t), (-5,10), color = 'blue', axes_labels=['$t (hour)$','HC/LO score, $b$'])\n",
    "\n",
    "# showing all together\n",
    "p1 + p2 + p3 + p4 + line"
   ]
  },
  {
   "cell_type": "markdown",
   "metadata": {},
   "source": [
    "The HC/LO score is positively correlated with the extra sleep hours. The more I sleep on a certain day, according to the prediction of this model, my HC/LO score will likely be better. But we must keep in mind that it is just a correlation and it has nothing to do with the causation."
   ]
  },
  {
   "cell_type": "markdown",
   "metadata": {},
   "source": [
    "**Appendix:**\n",
    "\n",
    "#analogies: Specially in deep dive b(ii), I used analogy by taking the scenario in 2D space to understand the reasoning more visually. Then I extrapolate that reasoning for 3d space. Particularly, the vector, b and the Col(A) was analogous to the point (4,2) and the line (y=1) in the 2d space exmple.\n",
    "\n",
    "#communicationdesign: In the graphs, I used different colors for different vectors and used same corresponding color for labelling them. In the regression graph, added axis labelling properly with different color for data points and the regression line. Aligned the Matrix and the equations properly using latex.\n",
    "\n",
    "#deduction: I followed some logical steps to reach to a destination from a given scenario, both in the proofs as well as deep dive d(iii). The logic that is used in each line is also explicitly mentioned.\n",
    "\n",
    "#organization: Used latex, markdown, sagemath and figures appropriately to express and organize all the information in a proper manner. While using show() function in sagemath, latex expression is used for appropriate formatting."
   ]
  },
  {
   "cell_type": "markdown",
   "metadata": {},
   "source": [
    "**Glossary:**\n",
    "\n",
    "https://docs.google.com/document/d/1Xgfp6yAVkcmclgkypgZh25cZkVIxo1S7Miwp2ihOwDU/edit"
   ]
  },
  {
   "cell_type": "markdown",
   "metadata": {},
   "source": [
    "**Sagemath Notebook link:**\n",
    "\n"
   ]
  }
 ],
 "metadata": {
  "kernelspec": {
   "display_name": "SageMath 8.8",
   "language": "sage",
   "name": "sagemath"
  },
  "language_info": {
   "codemirror_mode": {
    "name": "ipython",
    "version": 2
   },
   "file_extension": ".py",
   "mimetype": "text/x-python",
   "name": "python",
   "nbconvert_exporter": "python",
   "pygments_lexer": "ipython2",
   "version": "2.7.15"
  }
 },
 "nbformat": 4,
 "nbformat_minor": 1
}
