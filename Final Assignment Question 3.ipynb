{
 "cells": [
  {
   "cell_type": "markdown",
   "metadata": {},
   "source": [
    "### 3.a. Parametric plot"
   ]
  },
  {
   "cell_type": "code",
   "execution_count": 1,
   "metadata": {},
   "outputs": [],
   "source": [
    "x(t) = (t+1)^2"
   ]
  },
  {
   "cell_type": "code",
   "execution_count": 2,
   "metadata": {},
   "outputs": [],
   "source": [
    "y(t) = 2*t^2 - 1"
   ]
  },
  {
   "cell_type": "code",
   "execution_count": 3,
   "metadata": {},
   "outputs": [
    {
     "data": {
      "image/png": "[encoded data removed]",
      "text/plain": [
       "Graphics object consisting of 1 graphics primitive"
      ]
     },
     "execution_count": 3,
     "metadata": {},
     "output_type": "execute_result"
    }
   ],
   "source": [
    "parametric_plot((x(t), y(t)),(t,0,2), axes_labels = [\"$x(t)$\",\"$y(t)$\"])\n"
   ]
  },
  {
   "cell_type": "markdown",
   "metadata": {},
   "source": [
    "### 3.b. Parametric 3d plot"
   ]
  },
  {
   "cell_type": "code",
   "execution_count": 4,
   "metadata": {},
   "outputs": [
    {
     "data": {
      "text/html": [
       "\n",
       "<iframe srcdoc=\"\n",
       "<html>\n",
       "<head>\n",
       "  <style>\n",
       "    * {\n",
       "      margin: 0;\n",
       "      padding: 0;\n",
       "      overflow: hidden;\n",
       "    }\n",
       "    body, html {      \n",
       "      height: 100%;\n",
       "      width: 100%;\n",
       "    }\n",
       "  </style>\n",
       "  <script type=&quot;text/javascript&quot; src=&quot;/nbextensions/jsmol/JSmol.min.js&quot;></script>\n",
       "</head>\n",
       "<body>\n",
       "  <script type=&quot;text/javascript&quot;>\n",
       "    var script = [\n",
       "  'data &quot;model list&quot;',\n",
       "  '10',\n",
       "  'empty',\n",
       "  'Xx -3.0 -4.0 -3.0',\n",
       "  'Xx 0.0 -4.0 -3.0',\n",
       "  'Xx 3.0 -4.0 -3.0',\n",
       "  'Xx 4.0 -3.0 -3.0',\n",
       "  'Xx 4.0 0.0 -3.0',\n",
       "  'Xx 4.0 3.0 -3.0',\n",
       "  'Xx -4.0 -3.0 -3.0',\n",
       "  'Xx -4.0 -3.0 0.0',\n",
       "  'Xx -4.0 -3.0 3.0',\n",
       "  'Xx 5.5 5.5 5.5',\n",
       "  'end &quot;model list&quot;; show data',\n",
       "  'select *',\n",
       "  'wireframe off; spacefill off',\n",
       "  'set labelOffset 0 0',\n",
       "  'background [255,255,255]',\n",
       "  'spin OFF',\n",
       "  'moveto 0 -764 -346 -545 76.39',\n",
       "  'centerAt absolute {0 0 0}',\n",
       "  'zoom 100',\n",
       "  'frank OFF',\n",
       "  'set perspectivedepth ON',\n",
       "  'draw line_1 diameter 1 curve {-3.0 -3.0 -3.0}  {-2.94558071585 -2.99890430972 -2.98280653723}  {-2.89043097151 -2.99561723886 -2.96527334814}  {-2.83455076698 -2.99013878744 -2.94737741353}  {-2.77794010226 -2.98246895544 -2.92909425674}  {-2.72059897736 -2.97260774288 -2.91039791725}  {-2.66252739226 -2.96055514974 -2.89126092343}  {-2.60372534697 -2.94631117604 -2.87165426435}  {-2.54419284149 -2.92987582177 -2.85154736056}  {-2.48392987582 -2.91124908692 -2.83090803392}  {-2.42293644996 -2.89043097151 -2.80970247638}  {-2.36121256392 -2.86742147553 -2.78789521776}  {-2.29875821768 -2.84222059898 -2.76544909247}  {-2.23557341125 -2.81482834186 -2.74232520513}  {-2.17165814463 -2.78524470416 -2.71848289509}  {-2.10701241782 -2.7534696859 -2.69387969988}  {-2.04163623083 -2.71950328707 -2.66847131741}  {-1.97552958364 -2.68334550767 -2.64221156714}  {-1.90869247626 -2.6449963477 -2.61505234991}  {-1.84112490869 -2.60445580716 -2.58694360663}  {-1.77282688093 -2.56172388605 -2.55783327571}  {-1.70379839299 -2.51680058437 -2.52766724919}  {-1.63403944485 -2.46968590212 -2.49638932761}  {-1.56355003652 -2.4203798393 -2.46394117345}  {-1.49233016801 -2.36888239591 -2.43026226333}  {-1.4203798393 -2.31519357195 -2.39528983872}  {-1.3476990504 -2.25931336742 -2.35895885525}  {-1.27428780131 -2.20124178232 -2.32120193059}  {-1.20014609204 -2.14097881665 -2.2819492908}  {-1.12527392257 -2.07852447042 -2.24112871516}  {-1.04967129291 -2.01387874361 -2.19866547944}  {-0.973338203068 -1.94704163623 -2.15448229759}  {-0.896274653031 -1.87801314828 -2.10849926176}  {-0.818480642805 -1.80679327977 -2.06063378067}  {-0.739956172389 -1.73338203068 -2.01080051628}  {-0.660701241782 -1.65777940102 -1.95891131863}  {-0.580715850986 -1.5799853908 -1.90487515901}  {-0.5 -1.5 -1.84859806117}  {-0.418553688824 -1.41782322863 -1.78998303075}  {-0.336376917458 -1.3334550767 -1.72892998267}  {-0.253469685902 -1.24689554419 -1.6653356667}  {-0.169831994156 -1.15814463112 -1.59909359085}  {-0.0854638422206 -1.06720233747 -1.5300939428}  {-0.000365230094964 -0.974068663258 -1.4582235092}  {0.0854638422206 -0.878743608473 -1.38336559275}  {0.172023374726 -0.781227173119 -1.30539992709}  {0.259313367421 -0.681519357195 -1.22420258944}  {0.347333820307 -0.579620160701 -1.13964591089}  {0.436084733382 -0.475529583638 -1.05159838425}  {0.525566106647 -0.369247626004 -0.959924569569}  {0.615777940102 -0.260774287801 -0.864484997047}  {0.706720233747 -0.150109569028 -0.765136067428}  {0.798392987582 -0.0372534696859 -0.661729949755}  {0.890796201607 0.0777940102264 -0.554114476436}  {0.983929875822 0.195032870709 -0.44213303554}  {1.07779401023 0.31446311176 -0.325624460274}  {1.17238860482 0.436084733382 -0.20442291556}  {1.26771365961 0.559897735573 -0.0783577816429}  {1.36376917458 0.685902118335 0.0527464653491}  {1.46055514974 0.814097881665 0.189070375954}  {1.5580715851 0.944485025566 0.330799653129}  {1.65631848064 1.07706355004 0.478125281274}  {1.75529583638 1.21183345508 0.631243658613}  {1.8550036523 1.34879474069 0.790356733019}  {1.95544192841 1.48794740687 0.955672141361}  {2.05661066472 1.62929145362 1.12740335247}  {2.15850986121 1.77282688093 1.3057698138}  {2.2611395179 1.91855368882 1.4909971019}  {2.36449963477 2.06647187728 1.68331707679}  {2.46859021183 2.21658144631 1.88296804027}  {2.57341124909 2.36888239591 2.0901948984}  {2.67896274653 2.52337472608 2.30524932811}  {2.78524470416 2.68005843682 2.52838994817}  {2.89225712199 2.83893352812 2.75988249449}  {3.0 3.0 3.0} ',\n",
       "  'color $line_1  [102,102,255]',\n",
       "  'draw line_2 diameter 1 curve {-3.0 -3.0 -3.0}  {-3.0 3.0 -3.0} ',\n",
       "  'color $line_2 translucent 0.5 [0,0,0]',\n",
       "  'draw line_3 diameter 1 curve {-3.0 3.0 -3.0}  {3.0 3.0 -3.0} ',\n",
       "  'color $line_3 translucent 0.5 [0,0,0]',\n",
       "  'draw line_4 diameter 1 curve {3.0 3.0 -3.0}  {3.0 -3.0 -3.0} ',\n",
       "  'color $line_4 translucent 0.5 [0,0,0]',\n",
       "  'draw line_5 diameter 1 curve {3.0 -3.0 -3.0}  {-3.0 -3.0 -3.0} ',\n",
       "  'color $line_5 translucent 0.5 [0,0,0]',\n",
       "  'draw line_6 diameter 1 curve {-3.0 -3.0 -3.0}  {-3.0 -3.0 3.0} ',\n",
       "  'color $line_6 translucent 0.5 [0,0,0]',\n",
       "  'draw line_7 diameter 1 curve {-3.0 -3.0 3.0}  {-3.0 3.0 3.0} ',\n",
       "  'color $line_7 translucent 0.5 [0,0,0]',\n",
       "  'draw line_8 diameter 1 curve {-3.0 3.0 3.0}  {3.0 3.0 3.0} ',\n",
       "  'color $line_8 translucent 0.5 [0,0,0]',\n",
       "  'draw line_9 diameter 1 curve {3.0 3.0 3.0}  {3.0 -3.0 3.0} ',\n",
       "  'color $line_9 translucent 0.5 [0,0,0]',\n",
       "  'draw line_10 diameter 1 curve {3.0 -3.0 3.0}  {-3.0 -3.0 3.0} ',\n",
       "  'color $line_10 translucent 0.5 [0,0,0]',\n",
       "  'draw line_11 diameter 1 curve {-3.0 -3.0 3.0} ',\n",
       "  'color $line_11 translucent 0.5 [0,0,0]',\n",
       "  'draw line_12 diameter 1 curve {-3.0 3.0 -3.0}  {-3.0 3.0 3.0} ',\n",
       "  'color $line_12 translucent 0.5 [0,0,0]',\n",
       "  'draw line_13 diameter 1 curve {3.0 -3.0 -3.0}  {3.0 -3.0 3.0} ',\n",
       "  'color $line_13 translucent 0.5 [0,0,0]',\n",
       "  'draw line_14 diameter 1 curve {3.0 3.0 -3.0}  {3.0 3.0 3.0} ',\n",
       "  'color $line_14 translucent 0.5 [0,0,0]',\n",
       "  'select atomno = 1',\n",
       "  'color atom  [76,76,76]',\n",
       "  'label &quot;1.0&quot;',\n",
       "  'select atomno = 2',\n",
       "  'color atom  [76,76,76]',\n",
       "  'label &quot;2.5&quot;',\n",
       "  'select atomno = 3',\n",
       "  'color atom  [76,76,76]',\n",
       "  'label &quot;4.0&quot;',\n",
       "  'select atomno = 4',\n",
       "  'color atom  [76,76,76]',\n",
       "  'label &quot;-1.0&quot;',\n",
       "  'select atomno = 5',\n",
       "  'color atom  [76,76,76]',\n",
       "  'label &quot;0.0&quot;',\n",
       "  'select atomno = 6',\n",
       "  'color atom  [76,76,76]',\n",
       "  'label &quot;1.0&quot;',\n",
       "  'select atomno = 7',\n",
       "  'color atom  [76,76,76]',\n",
       "  'label &quot;2.2&quot;',\n",
       "  'select atomno = 8',\n",
       "  'color atom  [76,76,76]',\n",
       "  'label &quot;13.8&quot;',\n",
       "  'select atomno = 9',\n",
       "  'color atom  [76,76,76]',\n",
       "  'label &quot;25.4&quot;',\n",
       "  'isosurface fullylit; pmesh o* fullylit; set antialiasdisplay on;',\n",
       "].join('\\n');;\n",
       "    var Info = {\n",
       "      width: '100%',\n",
       "      height: '500',\n",
       "      debug: false,\n",
       "      disableInitialConsole: true,   // very slow when used with inline mesh\n",
       "      color: '#3131ff',\n",
       "      addSelectionOptions: false,\n",
       "      use: 'HTML5',\n",
       "      j2sPath: '/nbextensions/jsmol/j2s',\n",
       "      script: script,\n",
       "    };\n",
       "    var jmolApplet0 = Jmol.getApplet('jmolApplet0', Info);\n",
       "  </script>\n",
       "</body>\n",
       "</html>\n",
       "\" \n",
       "        width=\"100%\"\n",
       "        height=\"500\"\n",
       "        style=\"border: 0;\">\n",
       "</iframe>\n"
      ],
      "text/plain": [
       "Graphics3d Object"
      ]
     },
     "execution_count": 4,
     "metadata": {},
     "output_type": "execute_result"
    }
   ],
   "source": [
    "# Parametric plot  \n",
    "# w/o axes labelling\n",
    "x(t) = (t+1)^2\n",
    "y(t) = 2*t^2 - 1\n",
    "T(t) = e^(x/10) * (x^2 + y^2)\n",
    "plot1 = parametric_plot3d((x(t), y(t), T(t)),(t,0,1))\n",
    "plot1"
   ]
  },
  {
   "cell_type": "code",
   "execution_count": 5,
   "metadata": {},
   "outputs": [
    {
     "data": {
      "text/html": [
       "\n",
       "<iframe srcdoc=\"\n",
       "<html>\n",
       "<head>\n",
       "  <style>\n",
       "    * {\n",
       "      margin: 0;\n",
       "      padding: 0;\n",
       "      overflow: hidden;\n",
       "    }\n",
       "    body, html {      \n",
       "      height: 100%;\n",
       "      width: 100%;\n",
       "    }\n",
       "  </style>\n",
       "  <script type=&quot;text/javascript&quot; src=&quot;/nbextensions/jsmol/JSmol.min.js&quot;></script>\n",
       "</head>\n",
       "<body>\n",
       "  <script type=&quot;text/javascript&quot;>\n",
       "    var script = [\n",
       "  'data &quot;model list&quot;',\n",
       "  '13',\n",
       "  'empty',\n",
       "  'Xx 0.0 -3.0 -3.0',\n",
       "  'Xx 3.0 0.142857142857 -3.0',\n",
       "  'Xx -3.0 -3.0 0.142857142857',\n",
       "  'Xx -3.0 -4.0 -3.0',\n",
       "  'Xx 0.0 -4.0 -3.0',\n",
       "  'Xx 3.0 -4.0 -3.0',\n",
       "  'Xx 4.0 -3.0 -3.0',\n",
       "  'Xx 4.0 0.0 -3.0',\n",
       "  'Xx 4.0 3.0 -3.0',\n",
       "  'Xx -4.0 -3.0 -3.0',\n",
       "  'Xx -4.0 -3.0 0.0',\n",
       "  'Xx -4.0 -3.0 3.0',\n",
       "  'Xx 5.5 5.5 5.5',\n",
       "  'end &quot;model list&quot;; show data',\n",
       "  'select *',\n",
       "  'wireframe off; spacefill off',\n",
       "  'set labelOffset 0 0',\n",
       "  'background [255,255,255]',\n",
       "  'spin OFF',\n",
       "  'moveto 0 -764 -346 -545 76.39',\n",
       "  'centerAt absolute {0 0 0}',\n",
       "  'zoom 100',\n",
       "  'frank OFF',\n",
       "  'set perspectivedepth ON',\n",
       "  'draw line_1 diameter 1 curve {-2.72727272727 -2.71428571429 -2.71428571429}  {-2.67780065077 -2.71324219973 -2.69791098784}  {-2.62766451956 -2.71011165606 -2.68121271251}  {-2.57686433362 -2.70489408327 -2.66416896527}  {-2.52540009297 -2.69758948137 -2.64675643499}  {-2.4732717976 -2.68819785036 -2.62895039738}  {-2.42047944751 -2.67671919023 -2.61072468898}  {-2.3670230427 -2.66315350099 -2.59205168033}  {-2.31290258317 -2.64750078264 -2.57290224815}  {-2.25811806893 -2.62976103517 -2.55324574659}  {-2.20266949997 -2.60993425858 -2.5330499775}  {-2.14655687629 -2.58802045289 -2.51228115977}  {-2.08978019789 -2.56401961807 -2.49090389759}  {-2.03233946477 -2.53793175415 -2.46888114774}  {-1.97423467694 -2.50975686111 -2.4461741858}  {-1.91546583438 -2.47949493895 -2.42274257131}  {-1.85603293711 -2.44714598769 -2.39854411182}  {-1.79593598513 -2.4127100073 -2.37353482585}  {-1.73517497842 -2.37618699781 -2.34766890467}  {-1.67374991699 -2.3375769592 -2.32089867298}  {-1.61166080085 -2.29687989147 -2.29317454829}  {-1.54890762999 -2.25409579464 -2.26444499923}  {-1.48549040441 -2.20922466868 -2.23465650249}  {-1.42140912411 -2.16226651362 -2.20375349853}  {-1.3566637891 -2.11322132944 -2.17167834603}  {-1.29125439936 -2.06208911614 -2.13837127497}  {-1.22518095491 -2.00886987373 -2.10377033833}  {-1.15844345574 -1.95356360221 -2.06781136247}  {-1.09104190185 -1.89617030158 -2.030427896}  {-1.02297629325 -1.83668997183 -1.99155115729}  {-0.954246629922 -1.77512261296 -1.95110998042}  {-0.88485291188 -1.71146822498 -1.90903075961}  {-0.814795139119 -1.64572680789 -1.86523739215}  {-0.744073311641 -1.57789836168 -1.81965121969}  {-0.672687429444 -1.50798288636 -1.77219096788}  {-0.600637492529 -1.43598038193 -1.72277268441}  {-0.527923500896 -1.36189084838 -1.67130967525}  {-0.454545454545 -1.28571428571 -1.61771243921}  {-0.380503353476 -1.20745069394 -1.56188860071}  {-0.305797197689 -1.12710007305 -1.50374284064}  {-0.230426987184 -1.04466242304 -1.44317682543}  {-0.15439272196 -0.960137743922 -1.38008913414}  {-0.0776944020187 -0.873526035688 -1.31437518362}  {-0.000332027359057 -0.784827298341 -1.24592715162}  {0.0776944020187 -0.694041531879 -1.17463389786}  {0.156384886115 -0.601168736304 -1.10038088294}  {0.235739424929 -0.506208911614 -1.02305008519}  {0.315758018461 -0.409162057811 -0.942519915131}  {0.396440666711 -0.310028174893 -0.858665127856}  {0.477787369679 -0.208807262861 -0.771356732923}  {0.559798127366 -0.105499321716 -0.68046190195}  {0.64247293977 -0.000104351455709 -0.585843873741}  {0.725811806893 0.107377647918 -0.48736185691}  {0.809814728734 0.216946676406 -0.384870929939}  {0.894481705293 0.328602734008 -0.278221938609}  {0.979812736569 0.442345820724 -0.167261390737}  {1.06580782256 0.558175936554 -0.0518313481527}  {1.15246696328 0.676093081498 0.0682306841496}  {1.23979015871 0.796097255557 0.193091871761}  {1.32777740886 0.918188458729 0.322924167575}  {1.41642871373 1.04236669102 0.457904431552}  {1.50574407331 1.16863195242 0.598214553594}  {1.59572348762 1.29698424293 0.744041579631}  {1.68636695664 1.42742356256 0.89557784097}  {1.77767448038 1.5599499113 1.05302108701}  {1.86964605884 1.69456328916 1.2165746214}  {1.96228169201 1.83126369613 1.38644744171}  {2.05558137991 1.97005113221 1.56285438276}  {2.14954512252 2.11092559741 1.74601626361}  {2.24417291985 2.25388709172 1.93616003835}  {2.3394647719 2.39893561515 2.13351895085}  {2.43542067866 2.54607116769 2.33833269344}  {2.53204064015 2.69529374935 2.55084756969}  {2.62932465635 2.84660336012 2.77131666142}  {2.72727272727 3.0 3.0} ',\n",
       "  'color $line_1  [102,102,255]',\n",
       "  'select atomno = 1',\n",
       "  'color atom  [0,0,0]',\n",
       "  'label &quot;  x(t)&quot;',\n",
       "  'select atomno = 2',\n",
       "  'color atom  [0,0,0]',\n",
       "  'label &quot;  y(t)&quot;',\n",
       "  'select atomno = 3',\n",
       "  'color atom  [0,0,0]',\n",
       "  'label &quot;  T(t)&quot;',\n",
       "  'draw line_2 diameter 1 curve {-3.0 -3.0 -3.0}  {-3.0 3.0 -3.0} ',\n",
       "  'color $line_2 translucent 0.5 [0,0,0]',\n",
       "  'draw line_3 diameter 1 curve {-3.0 3.0 -3.0}  {3.0 3.0 -3.0} ',\n",
       "  'color $line_3 translucent 0.5 [0,0,0]',\n",
       "  'draw line_4 diameter 1 curve {3.0 3.0 -3.0}  {3.0 -3.0 -3.0} ',\n",
       "  'color $line_4 translucent 0.5 [0,0,0]',\n",
       "  'draw line_5 diameter 1 curve {3.0 -3.0 -3.0}  {-3.0 -3.0 -3.0} ',\n",
       "  'color $line_5 translucent 0.5 [0,0,0]',\n",
       "  'draw line_6 diameter 1 curve {-3.0 -3.0 -3.0}  {-3.0 -3.0 3.0} ',\n",
       "  'color $line_6 translucent 0.5 [0,0,0]',\n",
       "  'draw line_7 diameter 1 curve {-3.0 -3.0 3.0}  {-3.0 3.0 3.0} ',\n",
       "  'color $line_7 translucent 0.5 [0,0,0]',\n",
       "  'draw line_8 diameter 1 curve {-3.0 3.0 3.0}  {3.0 3.0 3.0} ',\n",
       "  'color $line_8 translucent 0.5 [0,0,0]',\n",
       "  'draw line_9 diameter 1 curve {3.0 3.0 3.0}  {3.0 -3.0 3.0} ',\n",
       "  'color $line_9 translucent 0.5 [0,0,0]',\n",
       "  'draw line_10 diameter 1 curve {3.0 -3.0 3.0}  {-3.0 -3.0 3.0} ',\n",
       "  'color $line_10 translucent 0.5 [0,0,0]',\n",
       "  'draw line_11 diameter 1 curve {-3.0 -3.0 3.0} ',\n",
       "  'color $line_11 translucent 0.5 [0,0,0]',\n",
       "  'draw line_12 diameter 1 curve {-3.0 3.0 -3.0}  {-3.0 3.0 3.0} ',\n",
       "  'color $line_12 translucent 0.5 [0,0,0]',\n",
       "  'draw line_13 diameter 1 curve {3.0 -3.0 -3.0}  {3.0 -3.0 3.0} ',\n",
       "  'color $line_13 translucent 0.5 [0,0,0]',\n",
       "  'draw line_14 diameter 1 curve {3.0 3.0 -3.0}  {3.0 3.0 3.0} ',\n",
       "  'color $line_14 translucent 0.5 [0,0,0]',\n",
       "  'select atomno = 4',\n",
       "  'color atom  [76,76,76]',\n",
       "  'label &quot;0.8&quot;',\n",
       "  'select atomno = 5',\n",
       "  'color atom  [76,76,76]',\n",
       "  'label &quot;2.5&quot;',\n",
       "  'select atomno = 6',\n",
       "  'color atom  [76,76,76]',\n",
       "  'label &quot;4.2&quot;',\n",
       "  'select atomno = 7',\n",
       "  'color atom  [76,76,76]',\n",
       "  'label &quot;-1.1&quot;',\n",
       "  'select atomno = 8',\n",
       "  'color atom  [76,76,76]',\n",
       "  'label &quot;-0.1&quot;',\n",
       "  'select atomno = 9',\n",
       "  'color atom  [76,76,76]',\n",
       "  'label &quot;1.0&quot;',\n",
       "  'select atomno = 10',\n",
       "  'color atom  [76,76,76]',\n",
       "  'label &quot;1.1&quot;',\n",
       "  'select atomno = 11',\n",
       "  'color atom  [76,76,76]',\n",
       "  'label &quot;13.2&quot;',\n",
       "  'select atomno = 12',\n",
       "  'color atom  [76,76,76]',\n",
       "  'label &quot;25.4&quot;',\n",
       "  'isosurface fullylit; pmesh o* fullylit; set antialiasdisplay on;',\n",
       "].join('\\n');;\n",
       "    var Info = {\n",
       "      width: '100%',\n",
       "      height: '500',\n",
       "      debug: false,\n",
       "      disableInitialConsole: true,   // very slow when used with inline mesh\n",
       "      color: '#3131ff',\n",
       "      addSelectionOptions: false,\n",
       "      use: 'HTML5',\n",
       "      j2sPath: '/nbextensions/jsmol/j2s',\n",
       "      script: script,\n",
       "    };\n",
       "    var jmolApplet0 = Jmol.getApplet('jmolApplet0', Info);\n",
       "  </script>\n",
       "</body>\n",
       "</html>\n",
       "\" \n",
       "        width=\"100%\"\n",
       "        height=\"500\"\n",
       "        style=\"border: 0;\">\n",
       "</iframe>\n"
      ],
      "text/plain": [
       "Graphics3d Object"
      ]
     },
     "execution_count": 5,
     "metadata": {},
     "output_type": "execute_result"
    }
   ],
   "source": [
    "# Parametric plot w/ axes labelling\n",
    "from sage.manifolds.utilities import set_axes_labels\n",
    "set_axes_labels(plot1, \"x(t)\",\"y(t)\", \"T(t)\")"
   ]
  },
  {
   "cell_type": "markdown",
   "metadata": {},
   "source": [
    "### 3.c. - 3.d \n",
    "**When we have a differentiable function T(x,y) where the variables x and y are themselvees differentiable functions of a single variable t, does the chain rule hold for T(t) at t=1?**"
   ]
  },
  {
   "cell_type": "code",
   "execution_count": 6,
   "metadata": {},
   "outputs": [
    {
     "name": "stdout",
     "output_type": "stream",
     "text": [
      "\n",
      " The derivative of T with respect to t: dT/dt\n",
      "\n"
     ]
    },
    {
     "data": {
      "text/html": [
       "<html><script type=\"math/tex; mode=display\">\\newcommand{\\Bold}[1]{\\mathbf{#1}}t \\ {\\mapsto}\\ \\frac{1}{5} \\, {\\left({\\left(t + 1\\right)}^{4} + {\\left(2 \\, t^{2} - 1\\right)}^{2}\\right)} {\\left(t + 1\\right)} e^{\\left(\\frac{1}{10} \\, {\\left(t + 1\\right)}^{2}\\right)} + 4 \\, {\\left({\\left(t + 1\\right)}^{3} + 2 \\, {\\left(2 \\, t^{2} - 1\\right)} t\\right)} e^{\\left(\\frac{1}{10} \\, {\\left(t + 1\\right)}^{2}\\right)}</script></html>"
      ],
      "text/plain": [
       "t |--> 1/5*((t + 1)^4 + (2*t^2 - 1)^2)*(t + 1)*e^(1/10*(t + 1)^2) + 4*((t + 1)^3 + 2*(2*t^2 - 1)*t)*e^(1/10*(t + 1)^2)"
      ]
     },
     "metadata": {},
     "output_type": "display_data"
    },
    {
     "name": "stdout",
     "output_type": "stream",
     "text": [
      "\n",
      " evaluated at t = 1: dT/dt\n",
      "\n"
     ]
    },
    {
     "data": {
      "text/html": [
       "<html><script type=\"math/tex; mode=display\">\\newcommand{\\Bold}[1]{\\mathbf{#1}}\\frac{234}{5} \\, e^{\\frac{2}{5}}</script></html>"
      ],
      "text/plain": [
       "234/5*e^(2/5)"
      ]
     },
     "metadata": {},
     "output_type": "display_data"
    },
    {
     "name": "stdout",
     "output_type": "stream",
     "text": [
      "\n",
      " The partial derivative of T with respect to x:\n",
      "\n"
     ]
    },
    {
     "data": {
      "text/html": [
       "<html><script type=\"math/tex; mode=display\">\\newcommand{\\Bold}[1]{\\mathbf{#1}}\\left( x, y \\right) \\ {\\mapsto} \\ \\frac{1}{10} \\, {\\left(x^{2} + y^{2}\\right)} e^{\\left(\\frac{1}{10} \\, x\\right)} + 2 \\, x e^{\\left(\\frac{1}{10} \\, x\\right)}</script></html>"
      ],
      "text/plain": [
       "(x, y) |--> 1/10*(x^2 + y^2)*e^(1/10*x) + 2*x*e^(1/10*x)"
      ]
     },
     "metadata": {},
     "output_type": "display_data"
    },
    {
     "name": "stdout",
     "output_type": "stream",
     "text": [
      "\n",
      " evaluated at t = 1: dT/dx\n",
      "\n"
     ]
    },
    {
     "data": {
      "text/html": [
       "<html><script type=\"math/tex; mode=display\">\\newcommand{\\Bold}[1]{\\mathbf{#1}}\\frac{97}{10} \\, e^{\\frac{2}{5}}</script></html>"
      ],
      "text/plain": [
       "97/10*e^(2/5)"
      ]
     },
     "metadata": {},
     "output_type": "display_data"
    },
    {
     "name": "stdout",
     "output_type": "stream",
     "text": [
      "\n",
      " The partial derivative of T with respect to y:\n",
      "\n"
     ]
    },
    {
     "data": {
      "text/html": [
       "<html><script type=\"math/tex; mode=display\">\\newcommand{\\Bold}[1]{\\mathbf{#1}}\\left( x, y \\right) \\ {\\mapsto} \\ 2 \\, y e^{\\left(\\frac{1}{10} \\, x\\right)}</script></html>"
      ],
      "text/plain": [
       "(x, y) |--> 2*y*e^(1/10*x)"
      ]
     },
     "metadata": {},
     "output_type": "display_data"
    },
    {
     "name": "stdout",
     "output_type": "stream",
     "text": [
      "\n",
      " evaluated at t = 1: dT/dy\n",
      "\n"
     ]
    },
    {
     "data": {
      "text/html": [
       "<html><script type=\"math/tex; mode=display\">\\newcommand{\\Bold}[1]{\\mathbf{#1}}2 \\, e^{\\frac{2}{5}}</script></html>"
      ],
      "text/plain": [
       "2*e^(2/5)"
      ]
     },
     "metadata": {},
     "output_type": "display_data"
    },
    {
     "name": "stdout",
     "output_type": "stream",
     "text": [
      "\n",
      " The derivative of x with respect to t: dx/dt\n",
      "\n"
     ]
    },
    {
     "data": {
      "text/html": [
       "<html><script type=\"math/tex; mode=display\">\\newcommand{\\Bold}[1]{\\mathbf{#1}}t \\ {\\mapsto}\\ 2 \\, t + 2</script></html>"
      ],
      "text/plain": [
       "t |--> 2*t + 2"
      ]
     },
     "metadata": {},
     "output_type": "display_data"
    },
    {
     "name": "stdout",
     "output_type": "stream",
     "text": [
      "\n",
      " evaluated at t = 1 : \n",
      "\n"
     ]
    },
    {
     "data": {
      "text/html": [
       "<html><script type=\"math/tex; mode=display\">\\newcommand{\\Bold}[1]{\\mathbf{#1}}4</script></html>"
      ],
      "text/plain": [
       "4"
      ]
     },
     "metadata": {},
     "output_type": "display_data"
    },
    {
     "name": "stdout",
     "output_type": "stream",
     "text": [
      "\n",
      " The derivative of y with respect to t: dy/dt\n",
      "\n"
     ]
    },
    {
     "data": {
      "text/html": [
       "<html><script type=\"math/tex; mode=display\">\\newcommand{\\Bold}[1]{\\mathbf{#1}}t \\ {\\mapsto}\\ 4 \\, t</script></html>"
      ],
      "text/plain": [
       "t |--> 4*t"
      ]
     },
     "metadata": {},
     "output_type": "display_data"
    },
    {
     "name": "stdout",
     "output_type": "stream",
     "text": [
      "\n",
      " evaluated at t = 1 :\n",
      "\n"
     ]
    },
    {
     "data": {
      "text/html": [
       "<html><script type=\"math/tex; mode=display\">\\newcommand{\\Bold}[1]{\\mathbf{#1}}4</script></html>"
      ],
      "text/plain": [
       "4"
      ]
     },
     "metadata": {},
     "output_type": "display_data"
    },
    {
     "name": "stdout",
     "output_type": "stream",
     "text": [
      "\n",
      " Plugging it all in :\n",
      " \n"
     ]
    },
    {
     "data": {
      "text/html": [
       "<html><script type=\"math/tex; mode=display\">\\newcommand{\\Bold}[1]{\\mathbf{#1}}\\frac{234}{5} \\, e^{\\frac{2}{5}}</script></html>"
      ],
      "text/plain": [
       "234/5*e^(2/5)"
      ]
     },
     "metadata": {},
     "output_type": "display_data"
    }
   ],
   "source": [
    "# T expressed in terms of t\n",
    "f(t) = (e^(((t+1)^2)/10))*(((t+1)^2)^2 + ((2)*(t^2) - 1)^2)\n",
    "\n",
    "# The derivative of T with respect to t\n",
    "dT_dt = f.diff(t) \n",
    "print(\"\\n The derivative of T with respect to t: dT/dt\\n\")\n",
    "show(dT_dt)\n",
    "\n",
    "print(\"\\n evaluated at t = 1: dT/dt\\n\")\n",
    "dT_dt_1 = dT_dt(1)\n",
    "show(dT_dt_1)\n",
    "\n",
    "\n",
    "# T expressed in terms of x and y\n",
    "T(x, y) = (e^(x/10))*(x^2 + y^2)\n",
    "\n",
    "\n",
    "# Finding the partial derivatives of T\n",
    "# with respect to x\n",
    "print(\"\\n The partial derivative of T with respect to x:\\n\")\n",
    "dT_dx = T.diff(x)\n",
    "show(dT_dx)\n",
    "# evaluated at t = 1\n",
    "\n",
    "print(\"\\n evaluated at t = 1: dT/dx\\n\")\n",
    "x_t_1 = ((1)+1)^2\n",
    "y_t_1 = (2)*((1)^2) - 1\n",
    "dT_dx_1 = dT_dx(x_t_1, y_t_1)\n",
    "show(dT_dx_1)\n",
    "\n",
    "# with respect to y\n",
    "print(\"\\n The partial derivative of T with respect to y:\\n\")\n",
    "dT_dy = T.diff(y)\n",
    "show(dT_dy)\n",
    "\n",
    "# evaluated at t = 1\n",
    "print(\"\\n evaluated at t = 1: dT/dy\\n\")\n",
    "dT_dy_1 = dT_dy(x_t_1, y_t_1)\n",
    "show(dT_dy_1)\n",
    "\n",
    "# Defining the position functions x and y as given by t \n",
    "t = var('t')\n",
    "x(t) = (t+1)^2\n",
    "y(t) = (2)*(t^2) - 1\n",
    "\n",
    "\n",
    "# Finding the derivatives of positions x and y with respect to t \n",
    "print(\"\\n The derivative of x with respect to t: dx/dt\\n\")\n",
    "dx_dt = x.diff(t)\n",
    "show(dx_dt)\n",
    "print(\"\\n evaluated at t = 1 : \\n\")\n",
    "dx_dt_1 = dx_dt(1)\n",
    "show(dx_dt_1)\n",
    "\n",
    "\n",
    "print(\"\\n The derivative of y with respect to t: dy/dt\\n\")\n",
    "dy_dt = y.diff(t)\n",
    "show(dy_dt)\n",
    "print(\"\\n evaluated at t = 1 :\\n\")\n",
    "dy_dt_1 = dy_dt(1)\n",
    "show(dy_dt_1)\n",
    "\n",
    "\n",
    "# Checking if the chain rule holds for T(t) at t =1\n",
    "print(\"\\n Plugging it all in :\\n \")\n",
    "sum_dT_dx_dy = dT_dx_1*dx_dt_1 + dT_dy_1*dy_dt_1\n",
    "show(sum_dT_dx_dy)"
   ]
  }
 ],
 "metadata": {
  "kernelspec": {
   "display_name": "SageMath 8.8",
   "language": "sage",
   "name": "sagemath"
  },
  "language_info": {
   "codemirror_mode": {
    "name": "ipython",
    "version": 2
   },
   "file_extension": ".py",
   "mimetype": "text/x-python",
   "name": "python",
   "nbconvert_exporter": "python",
   "pygments_lexer": "ipython2",
   "version": "2.7.15"
  }
 },
 "nbformat": 4,
 "nbformat_minor": 2
}
