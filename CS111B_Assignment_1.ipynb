{
 "cells": [
  {
   "cell_type": "markdown",
   "metadata": {},
   "source": [
    "## Skill Builder"
   ]
  },
  {
   "cell_type": "markdown",
   "metadata": {},
   "source": [
    "### Session 1.1\n",
    "##### a)"
   ]
  },
  {
   "cell_type": "markdown",
   "metadata": {},
   "source": [
    "**i)** \n",
    "\n",
    "The associated coefficient matrix would be the matrix where coefficient of x stays in the first column, then next column has the coefficient of y, then next column coefficient of z.\n",
    "\n",
    "Then when we add the constants of each equation as our 4th column, it becomes the augmented matrix."
   ]
  },
  {
   "cell_type": "code",
   "execution_count": 1,
   "metadata": {},
   "outputs": [],
   "source": [
    "%display typeset"
   ]
  },
  {
   "cell_type": "code",
   "execution_count": 2,
   "metadata": {},
   "outputs": [],
   "source": [
    "A = matrix(QQ,[[1,1,1],[1,3,-1],[3,5,4]])\n",
    "b = vector([3,1,10])\n",
    "AA = A.augment(b)"
   ]
  },
  {
   "cell_type": "code",
   "execution_count": 3,
   "metadata": {},
   "outputs": [
    {
     "data": {
      "text/html": [
       "<html><script type=\"math/tex; mode=display\">\\newcommand{\\Bold}[1]{\\mathbf{#1}}\\verb|Coef|\\phantom{\\verb!x!}\\verb|Matrix:| \\left(\\begin{array}{rrr}\n",
       "1 & 1 & 1 \\\\\n",
       "1 & 3 & -1 \\\\\n",
       "3 & 5 & 4\n",
       "\\end{array}\\right)</script></html>"
      ],
      "text/plain": [
       "'Coef Matrix:' [ 1  1  1]\n",
       "[ 1  3 -1]\n",
       "[ 3  5  4]"
      ]
     },
     "metadata": {},
     "output_type": "display_data"
    },
    {
     "data": {
      "text/html": [
       "<html><script type=\"math/tex; mode=display\">\\newcommand{\\Bold}[1]{\\mathbf{#1}}\\verb|Augmented|\\phantom{\\verb!x!}\\verb|Matrix:| \\left(\\begin{array}{rrrr}\n",
       "1 & 1 & 1 & 3 \\\\\n",
       "1 & 3 & -1 & 1 \\\\\n",
       "3 & 5 & 4 & 10\n",
       "\\end{array}\\right)</script></html>"
      ],
      "text/plain": [
       "'Augmented Matrix:' [ 1  1  1  3]\n",
       "[ 1  3 -1  1]\n",
       "[ 3  5  4 10]"
      ]
     },
     "metadata": {},
     "output_type": "display_data"
    }
   ],
   "source": [
    "show('Coef Matrix:', A)\n",
    "show('Augmented Matrix:', AA)"
   ]
  },
  {
   "cell_type": "markdown",
   "metadata": {},
   "source": [
    "##### (ii) Row Operations"
   ]
  },
  {
   "cell_type": "code",
   "execution_count": 4,
   "metadata": {},
   "outputs": [
    {
     "data": {
      "text/html": [
       "<html><script type=\"math/tex; mode=display\">\\newcommand{\\Bold}[1]{\\mathbf{#1}}\\left(\\begin{array}{rrrr}\n",
       "1 & 1 & 1 & 3 \\\\\n",
       "0 & 2 & -2 & -2 \\\\\n",
       "0 & 2 & 1 & 1\n",
       "\\end{array}\\right)</script></html>"
      ],
      "text/plain": [
       "[ 1  1  1  3]\n",
       "[ 0  2 -2 -2]\n",
       "[ 0  2  1  1]"
      ]
     },
     "metadata": {},
     "output_type": "display_data"
    }
   ],
   "source": [
    "# r2 = r2 - r1\n",
    "AA.add_multiple_of_row(1,0,-1)\n",
    "# r3 = r3 - 3*r1\n",
    "AA.add_multiple_of_row(2,0,-3)\n",
    "show(AA)"
   ]
  },
  {
   "cell_type": "code",
   "execution_count": 5,
   "metadata": {},
   "outputs": [
    {
     "data": {
      "text/html": [
       "<html><script type=\"math/tex; mode=display\">\\newcommand{\\Bold}[1]{\\mathbf{#1}}\\left(\\begin{array}{rrrr}\n",
       "1 & 1 & 1 & 3 \\\\\n",
       "0 & 1 & -1 & -1 \\\\\n",
       "0 & 2 & 1 & 1\n",
       "\\end{array}\\right)</script></html>"
      ],
      "text/plain": [
       "[ 1  1  1  3]\n",
       "[ 0  1 -1 -1]\n",
       "[ 0  2  1  1]"
      ]
     },
     "metadata": {},
     "output_type": "display_data"
    }
   ],
   "source": [
    "# r2 = r2/2\n",
    "AA.rescale_row(1,0.5) \n",
    "show(AA)"
   ]
  },
  {
   "cell_type": "code",
   "execution_count": 6,
   "metadata": {},
   "outputs": [
    {
     "data": {
      "text/html": [
       "<html><script type=\"math/tex; mode=display\">\\newcommand{\\Bold}[1]{\\mathbf{#1}}\\left(\\begin{array}{rrrr}\n",
       "1 & 1 & 1 & 3 \\\\\n",
       "0 & 1 & -1 & -1 \\\\\n",
       "0 & 0 & 3 & 3\n",
       "\\end{array}\\right)</script></html>"
      ],
      "text/plain": [
       "[ 1  1  1  3]\n",
       "[ 0  1 -1 -1]\n",
       "[ 0  0  3  3]"
      ]
     },
     "metadata": {},
     "output_type": "display_data"
    }
   ],
   "source": [
    "# r3 = r3 - 2r1\n",
    "AA.add_multiple_of_row(2,1,-2)\n",
    "show(AA)"
   ]
  },
  {
   "cell_type": "code",
   "execution_count": 7,
   "metadata": {},
   "outputs": [
    {
     "data": {
      "text/html": [
       "<html><script type=\"math/tex; mode=display\">\\newcommand{\\Bold}[1]{\\mathbf{#1}}\\left(\\begin{array}{rrrr}\n",
       "1 & 1 & 1 & 3 \\\\\n",
       "0 & 1 & -1 & -1 \\\\\n",
       "0 & 0 & 1 & 1\n",
       "\\end{array}\\right)</script></html>"
      ],
      "text/plain": [
       "[ 1  1  1  3]\n",
       "[ 0  1 -1 -1]\n",
       "[ 0  0  1  1]"
      ]
     },
     "metadata": {},
     "output_type": "display_data"
    }
   ],
   "source": [
    "# r3 = r3/3\n",
    "AA.rescale_row(2,1/3)\n",
    "show(AA)"
   ]
  },
  {
   "cell_type": "code",
   "execution_count": 8,
   "metadata": {},
   "outputs": [
    {
     "data": {
      "text/html": [
       "<html><script type=\"math/tex; mode=display\">\\newcommand{\\Bold}[1]{\\mathbf{#1}}\\left(\\begin{array}{rrrr}\n",
       "1 & 0 & 2 & 4 \\\\\n",
       "0 & 1 & -1 & -1 \\\\\n",
       "0 & 0 & 1 & 1\n",
       "\\end{array}\\right)</script></html>"
      ],
      "text/plain": [
       "[ 1  0  2  4]\n",
       "[ 0  1 -1 -1]\n",
       "[ 0  0  1  1]"
      ]
     },
     "metadata": {},
     "output_type": "display_data"
    }
   ],
   "source": [
    "# r1 = r1 - r2\n",
    "AA.add_multiple_of_row(0,1,-1)\n",
    "show(AA)"
   ]
  },
  {
   "cell_type": "code",
   "execution_count": 9,
   "metadata": {},
   "outputs": [
    {
     "data": {
      "text/html": [
       "<html><script type=\"math/tex; mode=display\">\\newcommand{\\Bold}[1]{\\mathbf{#1}}\\left(\\begin{array}{rrrr}\n",
       "1 & 0 & 0 & 2 \\\\\n",
       "0 & 1 & 0 & 0 \\\\\n",
       "0 & 0 & 1 & 1\n",
       "\\end{array}\\right)</script></html>"
      ],
      "text/plain": [
       "[1 0 0 2]\n",
       "[0 1 0 0]\n",
       "[0 0 1 1]"
      ]
     },
     "metadata": {},
     "output_type": "display_data"
    }
   ],
   "source": [
    "# r1 = r1 - 2*r3\n",
    "AA.add_multiple_of_row(0,2,-2)\n",
    "\n",
    "# r2 = r2 + r3\n",
    "AA.add_multiple_of_row(1,2,1)\n",
    "show(AA)"
   ]
  },
  {
   "cell_type": "markdown",
   "metadata": {},
   "source": [
    "##### Testing with sage"
   ]
  },
  {
   "cell_type": "code",
   "execution_count": 10,
   "metadata": {},
   "outputs": [
    {
     "data": {
      "text/html": [
       "<html><script type=\"math/tex; mode=display\">\\newcommand{\\Bold}[1]{\\mathbf{#1}}\\verb|RREF:| \\left(\\begin{array}{rrrr}\n",
       "1 & 0 & 0 & 2 \\\\\n",
       "0 & 1 & 0 & 0 \\\\\n",
       "0 & 0 & 1 & 1\n",
       "\\end{array}\\right)</script></html>"
      ],
      "text/plain": [
       "'RREF:' [1 0 0 2]\n",
       "[0 1 0 0]\n",
       "[0 0 1 1]"
      ]
     },
     "metadata": {},
     "output_type": "display_data"
    }
   ],
   "source": [
    "A = matrix(QQ,[[1,1,1],[1,3,-1],[3,5,4]])\n",
    "b = vector([3,1,10])\n",
    "AA = A.augment(b)\n",
    "show('RREF:', AA.rref())"
   ]
  },
  {
   "cell_type": "markdown",
   "metadata": {},
   "source": [
    "**(iii)**\n",
    "\n",
    "As we are seeing that the coefficient side becomes an identity matrix in RREF, we can say that the system is consistent."
   ]
  },
  {
   "cell_type": "markdown",
   "metadata": {},
   "source": [
    "**(iv)**\n",
    "\n",
    "According to our RREF matrix, we can say that,\n",
    "\n",
    "- x = 2\n",
    "- y = 0 and\n",
    "- z = 1\n",
    "\n",
    "$\\therefore$ (x,y,z) = (2,0,1)"
   ]
  },
  {
   "cell_type": "markdown",
   "metadata": {},
   "source": [
    "##### b) (i)"
   ]
  },
  {
   "cell_type": "code",
   "execution_count": 11,
   "metadata": {},
   "outputs": [],
   "source": [
    "B = matrix(QQ, [[2,-4,8],[1,-1,1],[3,-4,6]])\n",
    "b = vector([4,4,7])\n",
    "BB = B.augment(b)"
   ]
  },
  {
   "cell_type": "code",
   "execution_count": 12,
   "metadata": {
    "scrolled": true
   },
   "outputs": [
    {
     "data": {
      "text/html": [
       "<html><script type=\"math/tex; mode=display\">\\newcommand{\\Bold}[1]{\\mathbf{#1}}\\verb|Coef|\\phantom{\\verb!x!}\\verb|Matrix:| \\left(\\begin{array}{rrr}\n",
       "2 & -4 & 8 \\\\\n",
       "1 & -1 & 1 \\\\\n",
       "3 & -4 & 6\n",
       "\\end{array}\\right)</script></html>"
      ],
      "text/plain": [
       "'Coef Matrix:' [ 2 -4  8]\n",
       "[ 1 -1  1]\n",
       "[ 3 -4  6]"
      ]
     },
     "metadata": {},
     "output_type": "display_data"
    },
    {
     "data": {
      "text/html": [
       "<html><script type=\"math/tex; mode=display\">\\newcommand{\\Bold}[1]{\\mathbf{#1}}\\verb|Augmented|\\phantom{\\verb!x!}\\verb|Matrix:| \\left(\\begin{array}{rrrr}\n",
       "2 & -4 & 8 & 4 \\\\\n",
       "1 & -1 & 1 & 4 \\\\\n",
       "3 & -4 & 6 & 7\n",
       "\\end{array}\\right)</script></html>"
      ],
      "text/plain": [
       "'Augmented Matrix:' [ 2 -4  8  4]\n",
       "[ 1 -1  1  4]\n",
       "[ 3 -4  6  7]"
      ]
     },
     "metadata": {},
     "output_type": "display_data"
    }
   ],
   "source": [
    "show('Coef Matrix:', B)\n",
    "show('Augmented Matrix:', BB)"
   ]
  },
  {
   "cell_type": "markdown",
   "metadata": {},
   "source": [
    "**(ii) Row operation:**"
   ]
  },
  {
   "cell_type": "code",
   "execution_count": 13,
   "metadata": {},
   "outputs": [
    {
     "data": {
      "text/html": [
       "<html><script type=\"math/tex; mode=display\">\\newcommand{\\Bold}[1]{\\mathbf{#1}}\\left(\\begin{array}{rrrr}\n",
       "1 & -2 & 4 & 2 \\\\\n",
       "1 & -1 & 1 & 4 \\\\\n",
       "3 & -4 & 6 & 7\n",
       "\\end{array}\\right)</script></html>"
      ],
      "text/plain": [
       "[ 1 -2  4  2]\n",
       "[ 1 -1  1  4]\n",
       "[ 3 -4  6  7]"
      ]
     },
     "metadata": {},
     "output_type": "display_data"
    }
   ],
   "source": [
    "# r1 = r1 / 2\n",
    "BB.rescale_row(0,1/2)\n",
    "show(BB)\n"
   ]
  },
  {
   "cell_type": "code",
   "execution_count": 14,
   "metadata": {},
   "outputs": [
    {
     "data": {
      "text/html": [
       "<html><script type=\"math/tex; mode=display\">\\newcommand{\\Bold}[1]{\\mathbf{#1}}\\left(\\begin{array}{rrrr}\n",
       "1 & -2 & 4 & 2 \\\\\n",
       "0 & 1 & -3 & 2 \\\\\n",
       "0 & 2 & -6 & 1\n",
       "\\end{array}\\right)</script></html>"
      ],
      "text/plain": [
       "[ 1 -2  4  2]\n",
       "[ 0  1 -3  2]\n",
       "[ 0  2 -6  1]"
      ]
     },
     "metadata": {},
     "output_type": "display_data"
    }
   ],
   "source": [
    "# r2 = r2 - r1\n",
    "BB.add_multiple_of_row(1,0,-1)\n",
    "# r3 = r3 - 3*r1\n",
    "BB.add_multiple_of_row(2,0,-3)\n",
    "show(BB)"
   ]
  },
  {
   "cell_type": "code",
   "execution_count": 15,
   "metadata": {},
   "outputs": [
    {
     "data": {
      "text/html": [
       "<html><script type=\"math/tex; mode=display\">\\newcommand{\\Bold}[1]{\\mathbf{#1}}\\left(\\begin{array}{rrrr}\n",
       "1 & 0 & -2 & 6 \\\\\n",
       "0 & 1 & -3 & 2 \\\\\n",
       "0 & 0 & 0 & -3\n",
       "\\end{array}\\right)</script></html>"
      ],
      "text/plain": [
       "[ 1  0 -2  6]\n",
       "[ 0  1 -3  2]\n",
       "[ 0  0  0 -3]"
      ]
     },
     "metadata": {},
     "output_type": "display_data"
    }
   ],
   "source": [
    "# r1 = r1 + 2*r2\n",
    "BB.add_multiple_of_row(0,1,2)\n",
    "# r3 = r3 - 2*r2\n",
    "BB.add_multiple_of_row(2,1,-2)\n",
    "show(BB)"
   ]
  },
  {
   "cell_type": "markdown",
   "metadata": {},
   "source": [
    "There is 0 in our (3,3) index of the matrix BB, so we cannot find any pivots in this column."
   ]
  },
  {
   "cell_type": "code",
   "execution_count": 16,
   "metadata": {},
   "outputs": [
    {
     "data": {
      "text/html": [
       "<html><script type=\"math/tex; mode=display\">\\newcommand{\\Bold}[1]{\\mathbf{#1}}\\left(\\begin{array}{rrrr}\n",
       "1 & 0 & -2 & 6 \\\\\n",
       "0 & 1 & -3 & 2 \\\\\n",
       "0 & 0 & 0 & 1\n",
       "\\end{array}\\right)</script></html>"
      ],
      "text/plain": [
       "[ 1  0 -2  6]\n",
       "[ 0  1 -3  2]\n",
       "[ 0  0  0  1]"
      ]
     },
     "metadata": {},
     "output_type": "display_data"
    }
   ],
   "source": [
    "# r3 = r3 / -3\n",
    "BB.rescale_row(2,-1/3)\n",
    "show(BB)"
   ]
  },
  {
   "cell_type": "code",
   "execution_count": 17,
   "metadata": {},
   "outputs": [
    {
     "data": {
      "text/html": [
       "<html><script type=\"math/tex; mode=display\">\\newcommand{\\Bold}[1]{\\mathbf{#1}}\\left(\\begin{array}{rrrr}\n",
       "1 & 0 & -2 & 0 \\\\\n",
       "0 & 1 & -3 & 0 \\\\\n",
       "0 & 0 & 0 & 1\n",
       "\\end{array}\\right)</script></html>"
      ],
      "text/plain": [
       "[ 1  0 -2  0]\n",
       "[ 0  1 -3  0]\n",
       "[ 0  0  0  1]"
      ]
     },
     "metadata": {},
     "output_type": "display_data"
    }
   ],
   "source": [
    "# r1 = r1 - 6*r3\n",
    "BB.add_multiple_of_row(0,2,-6)\n",
    "# r2 = r2 - 2*r3\n",
    "BB.add_multiple_of_row(1,2,-2)\n",
    "show(BB)"
   ]
  },
  {
   "cell_type": "markdown",
   "metadata": {},
   "source": [
    "**Testing with sage**"
   ]
  },
  {
   "cell_type": "code",
   "execution_count": 18,
   "metadata": {},
   "outputs": [
    {
     "data": {
      "text/html": [
       "<html><script type=\"math/tex; mode=display\">\\newcommand{\\Bold}[1]{\\mathbf{#1}}\\verb|RREF:| \\left(\\begin{array}{rrrr}\n",
       "1 & 0 & -2 & 0 \\\\\n",
       "0 & 1 & -3 & 0 \\\\\n",
       "0 & 0 & 0 & 1\n",
       "\\end{array}\\right)</script></html>"
      ],
      "text/plain": [
       "'RREF:' [ 1  0 -2  0]\n",
       "[ 0  1 -3  0]\n",
       "[ 0  0  0  1]"
      ]
     },
     "metadata": {},
     "output_type": "display_data"
    }
   ],
   "source": [
    "B = matrix(QQ, [[2,-4,8],[1,-1,1],[3,-4,6]])\n",
    "b = vector([4,4,7])\n",
    "BB = B.augment(b)\n",
    "show('RREF:',BB.rref())"
   ]
  },
  {
   "cell_type": "markdown",
   "metadata": {},
   "source": [
    "**(iii)**\n",
    "\n",
    "As we are seeing that the coefficient side didn't an identity matrix, there is no unique solution.\n",
    "\n",
    "Now the last line of the RREF matrix says that,\n",
    "\n",
    "$0x + 0y + 0z = 1$\n",
    "\n",
    "$\\Rightarrow 0 = 1$\n",
    "\n",
    "This is not possible. As we are getting an inconsistenct here, the system is not consistent and there is no solution for this system."
   ]
  },
  {
   "cell_type": "markdown",
   "metadata": {},
   "source": [
    "**(iv)**\n",
    "\n",
    "There is no solution."
   ]
  },
  {
   "cell_type": "markdown",
   "metadata": {},
   "source": [
    "##### c) (i)"
   ]
  },
  {
   "cell_type": "code",
   "execution_count": 19,
   "metadata": {},
   "outputs": [],
   "source": [
    "C = matrix(QQ, [[2,2,6],[6,9,-3],[10,14,2]])\n",
    "b = vector([2,9,14])\n",
    "CC = C.augment(b)"
   ]
  },
  {
   "cell_type": "code",
   "execution_count": 20,
   "metadata": {},
   "outputs": [
    {
     "data": {
      "text/html": [
       "<html><script type=\"math/tex; mode=display\">\\newcommand{\\Bold}[1]{\\mathbf{#1}}\\verb|Coef|\\phantom{\\verb!x!}\\verb|Matrix:| \\left(\\begin{array}{rrr}\n",
       "2 & 2 & 6 \\\\\n",
       "6 & 9 & -3 \\\\\n",
       "10 & 14 & 2\n",
       "\\end{array}\\right)</script></html>"
      ],
      "text/plain": [
       "'Coef Matrix:' [ 2  2  6]\n",
       "[ 6  9 -3]\n",
       "[10 14  2]"
      ]
     },
     "metadata": {},
     "output_type": "display_data"
    },
    {
     "data": {
      "text/html": [
       "<html><script type=\"math/tex; mode=display\">\\newcommand{\\Bold}[1]{\\mathbf{#1}}\\verb|Augmented|\\phantom{\\verb!x!}\\verb|Matrix:| \\left(\\begin{array}{rrrr}\n",
       "2 & 2 & 6 & 2 \\\\\n",
       "6 & 9 & -3 & 9 \\\\\n",
       "10 & 14 & 2 & 14\n",
       "\\end{array}\\right)</script></html>"
      ],
      "text/plain": [
       "'Augmented Matrix:' [ 2  2  6  2]\n",
       "[ 6  9 -3  9]\n",
       "[10 14  2 14]"
      ]
     },
     "metadata": {},
     "output_type": "display_data"
    }
   ],
   "source": [
    "show('Coef Matrix:', C)\n",
    "show('Augmented Matrix:', CC)"
   ]
  },
  {
   "cell_type": "code",
   "execution_count": 21,
   "metadata": {},
   "outputs": [
    {
     "data": {
      "text/html": [
       "<html><script type=\"math/tex; mode=display\">\\newcommand{\\Bold}[1]{\\mathbf{#1}}\\left(\\begin{array}{rrrr}\n",
       "1 & 1 & 3 & 1 \\\\\n",
       "6 & 9 & -3 & 9 \\\\\n",
       "10 & 14 & 2 & 14\n",
       "\\end{array}\\right)</script></html>"
      ],
      "text/plain": [
       "[ 1  1  3  1]\n",
       "[ 6  9 -3  9]\n",
       "[10 14  2 14]"
      ]
     },
     "metadata": {},
     "output_type": "display_data"
    }
   ],
   "source": [
    "# r1 = r1 / 2\n",
    "CC.rescale_row(0,1/2)\n",
    "show(CC)"
   ]
  },
  {
   "cell_type": "code",
   "execution_count": 22,
   "metadata": {},
   "outputs": [
    {
     "data": {
      "text/html": [
       "<html><script type=\"math/tex; mode=display\">\\newcommand{\\Bold}[1]{\\mathbf{#1}}\\left(\\begin{array}{rrrr}\n",
       "1 & 1 & 3 & 1 \\\\\n",
       "0 & 3 & -21 & 3 \\\\\n",
       "0 & 4 & -28 & 4\n",
       "\\end{array}\\right)</script></html>"
      ],
      "text/plain": [
       "[  1   1   3   1]\n",
       "[  0   3 -21   3]\n",
       "[  0   4 -28   4]"
      ]
     },
     "metadata": {},
     "output_type": "display_data"
    }
   ],
   "source": [
    "# r2 = r2 - 6*r1\n",
    "CC.add_multiple_of_row(1,0,-6)\n",
    "# r3 = r3 - 10*r1\n",
    "CC.add_multiple_of_row(2,0,-10)\n",
    "show(CC)"
   ]
  },
  {
   "cell_type": "code",
   "execution_count": 23,
   "metadata": {},
   "outputs": [
    {
     "data": {
      "text/html": [
       "<html><script type=\"math/tex; mode=display\">\\newcommand{\\Bold}[1]{\\mathbf{#1}}\\left(\\begin{array}{rrrr}\n",
       "1 & 1 & 3 & 1 \\\\\n",
       "0 & 1 & -7 & 1 \\\\\n",
       "0 & 4 & -28 & 4\n",
       "\\end{array}\\right)</script></html>"
      ],
      "text/plain": [
       "[  1   1   3   1]\n",
       "[  0   1  -7   1]\n",
       "[  0   4 -28   4]"
      ]
     },
     "metadata": {},
     "output_type": "display_data"
    }
   ],
   "source": [
    "# r2 = r2 / 3\n",
    "CC.rescale_row(1,1/3)\n",
    "show(CC)"
   ]
  },
  {
   "cell_type": "code",
   "execution_count": 24,
   "metadata": {},
   "outputs": [
    {
     "data": {
      "text/html": [
       "<html><script type=\"math/tex; mode=display\">\\newcommand{\\Bold}[1]{\\mathbf{#1}}\\left(\\begin{array}{rrrr}\n",
       "1 & 0 & 10 & 0 \\\\\n",
       "0 & 1 & -7 & 1 \\\\\n",
       "0 & 0 & 0 & 0\n",
       "\\end{array}\\right)</script></html>"
      ],
      "text/plain": [
       "[ 1  0 10  0]\n",
       "[ 0  1 -7  1]\n",
       "[ 0  0  0  0]"
      ]
     },
     "metadata": {},
     "output_type": "display_data"
    }
   ],
   "source": [
    "# r1 = r1 - r2\n",
    "CC.add_multiple_of_row(0,1,-1)\n",
    "# r3 = r3 - 4*r2\n",
    "CC.add_multiple_of_row(2,1,-4)\n",
    "show(CC)"
   ]
  },
  {
   "cell_type": "markdown",
   "metadata": {},
   "source": [
    "There is 0 in our (3,3) index of the matrix BB, so we cannot find any pivots in this column. The next column also have 0 in its 3rd index, so there will be no pivot in that column also, because we cannot change 0 to 1 by any row operation and also as this is last line, there is no row left to consider swapping."
   ]
  },
  {
   "cell_type": "markdown",
   "metadata": {},
   "source": [
    "**Testing with sage:**"
   ]
  },
  {
   "cell_type": "code",
   "execution_count": 25,
   "metadata": {},
   "outputs": [
    {
     "data": {
      "text/html": [
       "<html><script type=\"math/tex; mode=display\">\\newcommand{\\Bold}[1]{\\mathbf{#1}}\\verb|RREF:| \\left(\\begin{array}{rrrr}\n",
       "1 & 0 & 10 & 0 \\\\\n",
       "0 & 1 & -7 & 1 \\\\\n",
       "0 & 0 & 0 & 0\n",
       "\\end{array}\\right)</script></html>"
      ],
      "text/plain": [
       "'RREF:' [ 1  0 10  0]\n",
       "[ 0  1 -7  1]\n",
       "[ 0  0  0  0]"
      ]
     },
     "metadata": {},
     "output_type": "display_data"
    }
   ],
   "source": [
    "show('RREF:',CC.rref())"
   ]
  },
  {
   "cell_type": "markdown",
   "metadata": {},
   "source": [
    "**(iii)**\n",
    "\n",
    "As we are seeing that the coefficient side didn't an identity matrix, there is no unique solution.\n",
    "\n",
    "Now the last line of the RREF matrix says that,\n",
    "\n",
    "$0x + 0y + 0z = 0$\n",
    "\n",
    "$\\Rightarrow 0 = 0$\n",
    "\n",
    "This is not inconsistent. So, though we could not get any unique solution, we will have infinitely many solution as the system is not inconsistent."
   ]
  },
  {
   "cell_type": "markdown",
   "metadata": {},
   "source": [
    "**(iv)**\n",
    "\n",
    "We can assert a free variable, t as a value of z. Then from the RREF matrix, we get,\n",
    "\n",
    "- $x + 10z = 0$ $\\Rightarrow x = -10t$\n",
    "- $y - 7z = 1$ $\\Rightarrow y = 1 + 7t$\n",
    "- $z = t$\n",
    "\n",
    "$\\therefore$ The solution set, (x,y,z) = (-10t, 1+7t, t), where t is a free variable."
   ]
  },
  {
   "cell_type": "markdown",
   "metadata": {},
   "source": [
    "### Session 1.2"
   ]
  },
  {
   "cell_type": "markdown",
   "metadata": {},
   "source": [
    "Given Matrix:\n",
    "\n",
    "$$\\begin{bmatrix} \n",
    "1 & 2 & 3 & a\\\\\n",
    "0 & 4 & 5 & b\\\\\n",
    "0 & 0 & d & c\n",
    "\\end{bmatrix}$$"
   ]
  },
  {
   "cell_type": "markdown",
   "metadata": {},
   "source": [
    "**(a): No solution: Inconsistent**\n",
    "\n",
    "If $d$ becomes 0, then the last line will have total value of 0 in the coefficient side. Then if we have a non zero number in $c$, the system will become inconsistent, irrespective of any value for $a$ and $b$."
   ]
  },
  {
   "cell_type": "markdown",
   "metadata": {},
   "source": [
    "For example, when,\n",
    "\n",
    "$(a,b,c,d) = (5,4,2,0)$\n",
    "\n",
    "The matrix becomes:"
   ]
  },
  {
   "cell_type": "code",
   "execution_count": 26,
   "metadata": {
    "scrolled": true
   },
   "outputs": [
    {
     "data": {
      "text/html": [
       "<html><script type=\"math/tex; mode=display\">\\newcommand{\\Bold}[1]{\\mathbf{#1}}\\verb|Matrix:| \\left(\\begin{array}{rrrr}\n",
       "1 & 2 & 3 & 5 \\\\\n",
       "0 & 4 & 5 & 4 \\\\\n",
       "0 & 0 & 0 & 2\n",
       "\\end{array}\\right)</script></html>"
      ],
      "text/plain": [
       "'Matrix:' [1 2 3 5]\n",
       "[0 4 5 4]\n",
       "[0 0 0 2]"
      ]
     },
     "metadata": {},
     "output_type": "display_data"
    },
    {
     "data": {
      "text/html": [
       "<html><script type=\"math/tex; mode=display\">\\newcommand{\\Bold}[1]{\\mathbf{#1}}\\verb|RREF:| \\left(\\begin{array}{rrrr}\n",
       "1 & 0 & \\frac{1}{2} & 0 \\\\\n",
       "0 & 1 & \\frac{5}{4} & 0 \\\\\n",
       "0 & 0 & 0 & 1\n",
       "\\end{array}\\right)</script></html>"
      ],
      "text/plain": [
       "'RREF: ' [  1   0 1/2   0]\n",
       "[  0   1 5/4   0]\n",
       "[  0   0   0   1]"
      ]
     },
     "metadata": {},
     "output_type": "display_data"
    }
   ],
   "source": [
    "M = matrix([[1,2,3],[0,4,5],[0,0,0]])\n",
    "b = vector([5,4,2])\n",
    "MM = M.augment(b)\n",
    "show('Matrix:',MM)\n",
    "show('RREF: ', MM.rref())"
   ]
  },
  {
   "cell_type": "markdown",
   "metadata": {},
   "source": [
    "In RREF form, we can see the inconsistency, as it says\n",
    "\n",
    "$0 = 1$\n",
    "\n",
    "$\\therefore$ There is no solution."
   ]
  },
  {
   "cell_type": "markdown",
   "metadata": {},
   "source": [
    "**(b) Infinity many solutions:**"
   ]
  },
  {
   "cell_type": "markdown",
   "metadata": {},
   "source": [
    "Similarly, if $d$ becomes 0, it can never reach to an identity matrix in RREF form, as 0 cannot change into non-zero number using any of the row operation. \n",
    "\n",
    "In that case the last line will have total value of 0 in the coefficient side. Then if $c$ also becomes 0, the system will not be inconsistent, irrespective of any value for $a$ and $b$. And we will find infinitely many solutions.\n",
    "\n",
    "For example, when\n",
    "\n",
    "$(a,b,c,d) = (5,4,0,0)$\n",
    "\n",
    "The matrix becomes:"
   ]
  },
  {
   "cell_type": "code",
   "execution_count": 27,
   "metadata": {},
   "outputs": [
    {
     "data": {
      "text/html": [
       "<html><script type=\"math/tex; mode=display\">\\newcommand{\\Bold}[1]{\\mathbf{#1}}\\verb|Matrix:| \\left(\\begin{array}{rrrr}\n",
       "1 & 2 & 3 & 5 \\\\\n",
       "0 & 4 & 5 & 4 \\\\\n",
       "0 & 0 & 0 & 0\n",
       "\\end{array}\\right)</script></html>"
      ],
      "text/plain": [
       "'Matrix:' [1 2 3 5]\n",
       "[0 4 5 4]\n",
       "[0 0 0 0]"
      ]
     },
     "metadata": {},
     "output_type": "display_data"
    },
    {
     "data": {
      "text/html": [
       "<html><script type=\"math/tex; mode=display\">\\newcommand{\\Bold}[1]{\\mathbf{#1}}\\verb|RREF:| \\left(\\begin{array}{rrrr}\n",
       "1 & 0 & \\frac{1}{2} & 3 \\\\\n",
       "0 & 1 & \\frac{5}{4} & 1 \\\\\n",
       "0 & 0 & 0 & 0\n",
       "\\end{array}\\right)</script></html>"
      ],
      "text/plain": [
       "'RREF:' [  1   0 1/2   3]\n",
       "[  0   1 5/4   1]\n",
       "[  0   0   0   0]"
      ]
     },
     "metadata": {},
     "output_type": "display_data"
    }
   ],
   "source": [
    "M = matrix([[1,2,3],[0,4,5],[0,0,0]])\n",
    "b = vector([5,4,0])\n",
    "MM = M.augment(b)\n",
    "show('Matrix:',MM)\n",
    "show('RREF:',MM.rref())"
   ]
  },
  {
   "cell_type": "markdown",
   "metadata": {},
   "source": [
    "In RREF form, we can see there is no inconsistency, as it says\n",
    "\n",
    "$0 = 0$\n",
    "\n",
    "$\\therefore$ There is infinity many solution."
   ]
  },
  {
   "cell_type": "markdown",
   "metadata": {},
   "source": [
    "**No effect:**\n",
    "So there is no effect of a and b on the solvability as the coefficient side of first two lines would have a pivot in RREF format, the constant can be any real number."
   ]
  },
  {
   "cell_type": "markdown",
   "metadata": {},
   "source": [
    "### 1.3"
   ]
  },
  {
   "cell_type": "markdown",
   "metadata": {},
   "source": [
    "**True:**\n",
    "\n",
    "Homogenous systems are the system, where every equation has 0 as constant. So, for homogenous system all the values in the augmented side is 0.\n",
    "\n",
    "Algebrically, no row operations can change 0 to any non-zero number, so no matter what row operations we do, the augmented side will never become non-zero. To be an inconsistent system, in the RREF matrix, the coefficient side should be 0 and the augmented side non-zero. But as in homogenous system, the augmented side never becomes non-zero, it will never be an inconsistent system.\n",
    "\n",
    "Geometrically, as our constant is 0 in every equation, it means all the equations goes through the origin. So at least the origin is the common point for every equation. So either we will have a unique solution for the system, which will be the origin or there will be infinitely many solution (and origin is one of them). But it will never be inconsistent.\n"
   ]
  },
  {
   "cell_type": "markdown",
   "metadata": {},
   "source": [
    "### Session 2.1"
   ]
  },
  {
   "cell_type": "markdown",
   "metadata": {},
   "source": [
    "#### a) i)"
   ]
  },
  {
   "cell_type": "code",
   "execution_count": 28,
   "metadata": {},
   "outputs": [],
   "source": [
    "A = matrix(QQ,[[1,1,1],[1,3,-1],[3,5,4]])\n",
    "b = vector([3,1,10])\n",
    "AA = A.augment(b)"
   ]
  },
  {
   "cell_type": "code",
   "execution_count": 29,
   "metadata": {},
   "outputs": [
    {
     "data": {
      "text/html": [
       "<html><script type=\"math/tex; mode=display\">\\newcommand{\\Bold}[1]{\\mathbf{#1}}\\verb|Coef|\\phantom{\\verb!x!}\\verb|Matrix:| \\left(\\begin{array}{rrr}\n",
       "1 & 1 & 1 \\\\\n",
       "1 & 3 & -1 \\\\\n",
       "3 & 5 & 4\n",
       "\\end{array}\\right)</script></html>"
      ],
      "text/plain": [
       "'Coef Matrix:' [ 1  1  1]\n",
       "[ 1  3 -1]\n",
       "[ 3  5  4]"
      ]
     },
     "metadata": {},
     "output_type": "display_data"
    },
    {
     "data": {
      "text/html": [
       "<html><script type=\"math/tex; mode=display\">\\newcommand{\\Bold}[1]{\\mathbf{#1}}\\verb|Augmented|\\phantom{\\verb!x!}\\verb|Matrix:| \\left(\\begin{array}{rrrr}\n",
       "1 & 1 & 1 & 3 \\\\\n",
       "1 & 3 & -1 & 1 \\\\\n",
       "3 & 5 & 4 & 10\n",
       "\\end{array}\\right)</script></html>"
      ],
      "text/plain": [
       "'Augmented Matrix:' [ 1  1  1  3]\n",
       "[ 1  3 -1  1]\n",
       "[ 3  5  4 10]"
      ]
     },
     "metadata": {},
     "output_type": "display_data"
    }
   ],
   "source": [
    "show('Coef Matrix:', A)\n",
    "show('Augmented Matrix:', AA)"
   ]
  },
  {
   "cell_type": "markdown",
   "metadata": {},
   "source": [
    "**Row Operation:**"
   ]
  },
  {
   "cell_type": "code",
   "execution_count": 30,
   "metadata": {},
   "outputs": [
    {
     "data": {
      "text/html": [
       "<html><script type=\"math/tex; mode=display\">\\newcommand{\\Bold}[1]{\\mathbf{#1}}\\left(\\begin{array}{rrr}\n",
       "1 & 0 & 0 \\\\\n",
       "-1 & 1 & 0 \\\\\n",
       "-3 & 0 & 1\n",
       "\\end{array}\\right) \\verb|*| \\left(\\begin{array}{rrrr}\n",
       "1 & 1 & 1 & 3 \\\\\n",
       "1 & 3 & -1 & 1 \\\\\n",
       "3 & 5 & 4 & 10\n",
       "\\end{array}\\right) \\verb|=| \\left(\\begin{array}{rrrr}\n",
       "1 & 1 & 1 & 3 \\\\\n",
       "0 & 2 & -2 & -2 \\\\\n",
       "0 & 2 & 1 & 1\n",
       "\\end{array}\\right)</script></html>"
      ],
      "text/plain": [
       "[ 1  0  0]\n",
       "[-1  1  0]\n",
       "[-3  0  1] '*' [ 1  1  1  3]\n",
       "[ 1  3 -1  1]\n",
       "[ 3  5  4 10] '=' [ 1  1  1  3]\n",
       "[ 0  2 -2 -2]\n",
       "[ 0  2  1  1]"
      ]
     },
     "metadata": {},
     "output_type": "display_data"
    }
   ],
   "source": [
    "# r2 = r2 - r1\n",
    "# r3 = r3 - 3*r1\n",
    "\n",
    "M1 = matrix([[1,0,0],[-1,1,0],[-3,0,1]])\n",
    "show(M1,'*',AA,'=',M1*AA)"
   ]
  },
  {
   "cell_type": "code",
   "execution_count": 31,
   "metadata": {},
   "outputs": [
    {
     "data": {
      "text/html": [
       "<html><script type=\"math/tex; mode=display\">\\newcommand{\\Bold}[1]{\\mathbf{#1}}\\left(\\begin{array}{rrr}\n",
       "1 & 0 & 0 \\\\\n",
       "0 & \\frac{1}{2} & 0 \\\\\n",
       "0 & 0 & 1\n",
       "\\end{array}\\right) \\verb|*| \\left(\\begin{array}{rrrr}\n",
       "1 & 1 & 1 & 3 \\\\\n",
       "0 & 2 & -2 & -2 \\\\\n",
       "0 & 2 & 1 & 1\n",
       "\\end{array}\\right) \\verb|=| \\left(\\begin{array}{rrrr}\n",
       "1 & 1 & 1 & 3 \\\\\n",
       "0 & 1 & -1 & -1 \\\\\n",
       "0 & 2 & 1 & 1\n",
       "\\end{array}\\right)</script></html>"
      ],
      "text/plain": [
       "[  1   0   0]\n",
       "[  0 1/2   0]\n",
       "[  0   0   1] '*' [ 1  1  1  3]\n",
       "[ 0  2 -2 -2]\n",
       "[ 0  2  1  1] '=' [ 1  1  1  3]\n",
       "[ 0  1 -1 -1]\n",
       "[ 0  2  1  1]"
      ]
     },
     "metadata": {},
     "output_type": "display_data"
    }
   ],
   "source": [
    "# r2 = r2/2\n",
    "\n",
    "M2 = matrix([[1,0,0],[0,1/2,0],[0,0,1]])\n",
    "show(M2,'*',M1*AA,'=',M2*M1*AA)"
   ]
  },
  {
   "cell_type": "code",
   "execution_count": 32,
   "metadata": {},
   "outputs": [
    {
     "data": {
      "text/html": [
       "<html><script type=\"math/tex; mode=display\">\\newcommand{\\Bold}[1]{\\mathbf{#1}}\\left(\\begin{array}{rrr}\n",
       "1 & -1 & 0 \\\\\n",
       "0 & 1 & 0 \\\\\n",
       "0 & -2 & 1\n",
       "\\end{array}\\right) \\verb|*| \\left(\\begin{array}{rrrr}\n",
       "1 & 1 & 1 & 3 \\\\\n",
       "0 & 1 & -1 & -1 \\\\\n",
       "0 & 2 & 1 & 1\n",
       "\\end{array}\\right) \\verb|=| \\left(\\begin{array}{rrrr}\n",
       "1 & 0 & 2 & 4 \\\\\n",
       "0 & 1 & -1 & -1 \\\\\n",
       "0 & 0 & 3 & 3\n",
       "\\end{array}\\right)</script></html>"
      ],
      "text/plain": [
       "[ 1 -1  0]\n",
       "[ 0  1  0]\n",
       "[ 0 -2  1] '*' [ 1  1  1  3]\n",
       "[ 0  1 -1 -1]\n",
       "[ 0  2  1  1] '=' [ 1  0  2  4]\n",
       "[ 0  1 -1 -1]\n",
       "[ 0  0  3  3]"
      ]
     },
     "metadata": {},
     "output_type": "display_data"
    }
   ],
   "source": [
    "# r3 = r3 - 2*r1\n",
    "# r1 = r1 - r2\n",
    "\n",
    "M3 = matrix([[1,-1,0],[0,1,0],[0,-2,1]])\n",
    "show(M3,'*',M2*M1*AA,'=',M3*M2*M1*AA)"
   ]
  },
  {
   "cell_type": "code",
   "execution_count": 33,
   "metadata": {},
   "outputs": [
    {
     "data": {
      "text/html": [
       "<html><script type=\"math/tex; mode=display\">\\newcommand{\\Bold}[1]{\\mathbf{#1}}\\left(\\begin{array}{rrr}\n",
       "1 & 0 & 0 \\\\\n",
       "0 & 1 & 0 \\\\\n",
       "0 & 0 & \\frac{1}{3}\n",
       "\\end{array}\\right) \\verb|*| \\left(\\begin{array}{rrrr}\n",
       "1 & 0 & 2 & 4 \\\\\n",
       "0 & 1 & -1 & -1 \\\\\n",
       "0 & 0 & 3 & 3\n",
       "\\end{array}\\right) \\verb|=| \\left(\\begin{array}{rrrr}\n",
       "1 & 0 & 2 & 4 \\\\\n",
       "0 & 1 & -1 & -1 \\\\\n",
       "0 & 0 & 1 & 1\n",
       "\\end{array}\\right)</script></html>"
      ],
      "text/plain": [
       "[  1   0   0]\n",
       "[  0   1   0]\n",
       "[  0   0 1/3] '*' [ 1  0  2  4]\n",
       "[ 0  1 -1 -1]\n",
       "[ 0  0  3  3] '=' [ 1  0  2  4]\n",
       "[ 0  1 -1 -1]\n",
       "[ 0  0  1  1]"
      ]
     },
     "metadata": {},
     "output_type": "display_data"
    }
   ],
   "source": [
    "# r3 = r3/3\n",
    "\n",
    "M4 = matrix([[1,0,0],[0,1,0],[0,0,1/3]])\n",
    "show(M4,'*',M3*M2*M1*AA,'=',M4*M3*M2*M1*AA)"
   ]
  },
  {
   "cell_type": "code",
   "execution_count": 34,
   "metadata": {},
   "outputs": [
    {
     "data": {
      "text/html": [
       "<html><script type=\"math/tex; mode=display\">\\newcommand{\\Bold}[1]{\\mathbf{#1}}\\left(\\begin{array}{rrr}\n",
       "1 & 0 & -2 \\\\\n",
       "0 & 1 & 1 \\\\\n",
       "0 & 0 & 1\n",
       "\\end{array}\\right) \\verb|*| \\left(\\begin{array}{rrrr}\n",
       "1 & 0 & 2 & 4 \\\\\n",
       "0 & 1 & -1 & -1 \\\\\n",
       "0 & 0 & 1 & 1\n",
       "\\end{array}\\right) \\verb|=| \\left(\\begin{array}{rrrr}\n",
       "1 & 0 & 0 & 2 \\\\\n",
       "0 & 1 & 0 & 0 \\\\\n",
       "0 & 0 & 1 & 1\n",
       "\\end{array}\\right)</script></html>"
      ],
      "text/plain": [
       "[ 1  0 -2]\n",
       "[ 0  1  1]\n",
       "[ 0  0  1] '*' [ 1  0  2  4]\n",
       "[ 0  1 -1 -1]\n",
       "[ 0  0  1  1] '=' [1 0 0 2]\n",
       "[0 1 0 0]\n",
       "[0 0 1 1]"
      ]
     },
     "metadata": {},
     "output_type": "display_data"
    }
   ],
   "source": [
    "# r1 = r1 - 2*r3\n",
    "# r2 = r2 + r3\n",
    "\n",
    "M5 = matrix([[1,0,-2],[0,1,1],[0,0,1]])\n",
    "show(M5,'*',M4*M3*M2*M1*AA,'=',M5*M4*M3*M2*M1*AA)"
   ]
  },
  {
   "cell_type": "markdown",
   "metadata": {},
   "source": [
    "**Testing with sage:**"
   ]
  },
  {
   "cell_type": "code",
   "execution_count": 35,
   "metadata": {},
   "outputs": [
    {
     "data": {
      "text/html": [
       "<html><script type=\"math/tex; mode=display\">\\newcommand{\\Bold}[1]{\\mathbf{#1}}\\left(\\begin{array}{rrrr}\n",
       "1 & 0 & 0 & 2 \\\\\n",
       "0 & 1 & 0 & 0 \\\\\n",
       "0 & 0 & 1 & 1\n",
       "\\end{array}\\right)</script></html>"
      ],
      "text/plain": [
       "[1 0 0 2]\n",
       "[0 1 0 0]\n",
       "[0 0 1 1]"
      ]
     },
     "execution_count": 35,
     "metadata": {},
     "output_type": "execute_result"
    }
   ],
   "source": [
    "AA.rref()"
   ]
  },
  {
   "cell_type": "markdown",
   "metadata": {},
   "source": [
    "**(ii) Inversibility:**\n",
    "\n",
    "From the RREF matrix, we can see that the coefficient side has become an identity matrix. So it is *inversible*.\n",
    "\n",
    "Testing:"
   ]
  },
  {
   "cell_type": "code",
   "execution_count": 36,
   "metadata": {},
   "outputs": [
    {
     "data": {
      "text/html": [
       "<html><script type=\"math/tex; mode=display\">\\newcommand{\\Bold}[1]{\\mathbf{#1}}\\mathrm{True}</script></html>"
      ],
      "text/plain": [
       "True"
      ]
     },
     "execution_count": 36,
     "metadata": {},
     "output_type": "execute_result"
    }
   ],
   "source": [
    "A.is_invertible()"
   ]
  },
  {
   "cell_type": "markdown",
   "metadata": {},
   "source": [
    "**(iii) Inverse Matrix:**\n",
    "\n",
    "We can find the inverse matrix by sage:"
   ]
  },
  {
   "cell_type": "code",
   "execution_count": 37,
   "metadata": {},
   "outputs": [
    {
     "data": {
      "text/html": [
       "<html><script type=\"math/tex; mode=display\">\\newcommand{\\Bold}[1]{\\mathbf{#1}}\\left(\\begin{array}{rrr}\n",
       "\\frac{17}{6} & \\frac{1}{6} & -\\frac{2}{3} \\\\\n",
       "-\\frac{7}{6} & \\frac{1}{6} & \\frac{1}{3} \\\\\n",
       "-\\frac{2}{3} & -\\frac{1}{3} & \\frac{1}{3}\n",
       "\\end{array}\\right)</script></html>"
      ],
      "text/plain": [
       "[17/6  1/6 -2/3]\n",
       "[-7/6  1/6  1/3]\n",
       "[-2/3 -1/3  1/3]"
      ]
     },
     "execution_count": 37,
     "metadata": {},
     "output_type": "execute_result"
    }
   ],
   "source": [
    "A.inverse()"
   ]
  },
  {
   "cell_type": "markdown",
   "metadata": {},
   "source": [
    "If we multiply the elementary matrices (in left) found in (i):"
   ]
  },
  {
   "cell_type": "code",
   "execution_count": 38,
   "metadata": {},
   "outputs": [
    {
     "data": {
      "text/html": [
       "<html><script type=\"math/tex; mode=display\">\\newcommand{\\Bold}[1]{\\mathbf{#1}}\\left(\\begin{array}{rrr}\n",
       "\\frac{17}{6} & \\frac{1}{6} & -\\frac{2}{3} \\\\\n",
       "-\\frac{7}{6} & \\frac{1}{6} & \\frac{1}{3} \\\\\n",
       "-\\frac{2}{3} & -\\frac{1}{3} & \\frac{1}{3}\n",
       "\\end{array}\\right)</script></html>"
      ],
      "text/plain": [
       "[17/6  1/6 -2/3]\n",
       "[-7/6  1/6  1/3]\n",
       "[-2/3 -1/3  1/3]"
      ]
     },
     "execution_count": 38,
     "metadata": {},
     "output_type": "execute_result"
    }
   ],
   "source": [
    "M5*M4*M3*M2*M1"
   ]
  },
  {
   "cell_type": "markdown",
   "metadata": {},
   "source": [
    "So, we can see that the inverse of the matrix is the same as the multiplications of the elementary matrices. So we can derive the inverse of a matrix A, $A^{-1}$, by multiplying the elementary matrices needed to transform the matrix A to an identity matrix."
   ]
  },
  {
   "cell_type": "markdown",
   "metadata": {},
   "source": [
    "##### b) "
   ]
  },
  {
   "cell_type": "markdown",
   "metadata": {},
   "source": [
    "**(i) Row Operation:**"
   ]
  },
  {
   "cell_type": "code",
   "execution_count": 39,
   "metadata": {},
   "outputs": [],
   "source": [
    "B = matrix([[2,-4,8],[1,-1,1],[3,-4,6]])\n",
    "b = vector([4,4,7])\n",
    "BB = B.augment(b)"
   ]
  },
  {
   "cell_type": "code",
   "execution_count": 40,
   "metadata": {
    "scrolled": true
   },
   "outputs": [
    {
     "data": {
      "text/html": [
       "<html><script type=\"math/tex; mode=display\">\\newcommand{\\Bold}[1]{\\mathbf{#1}}\\verb|Coef|\\phantom{\\verb!x!}\\verb|Matrix:| \\left(\\begin{array}{rrr}\n",
       "2 & -4 & 8 \\\\\n",
       "1 & -1 & 1 \\\\\n",
       "3 & -4 & 6\n",
       "\\end{array}\\right)</script></html>"
      ],
      "text/plain": [
       "'Coef Matrix:' [ 2 -4  8]\n",
       "[ 1 -1  1]\n",
       "[ 3 -4  6]"
      ]
     },
     "metadata": {},
     "output_type": "display_data"
    },
    {
     "data": {
      "text/html": [
       "<html><script type=\"math/tex; mode=display\">\\newcommand{\\Bold}[1]{\\mathbf{#1}}\\verb|Augmented|\\phantom{\\verb!x!}\\verb|Matrix:| \\left(\\begin{array}{rrrr}\n",
       "2 & -4 & 8 & 4 \\\\\n",
       "1 & -1 & 1 & 4 \\\\\n",
       "3 & -4 & 6 & 7\n",
       "\\end{array}\\right)</script></html>"
      ],
      "text/plain": [
       "'Augmented Matrix:' [ 2 -4  8  4]\n",
       "[ 1 -1  1  4]\n",
       "[ 3 -4  6  7]"
      ]
     },
     "metadata": {},
     "output_type": "display_data"
    }
   ],
   "source": [
    "show('Coef Matrix:', B)\n",
    "show('Augmented Matrix:', BB)"
   ]
  },
  {
   "cell_type": "code",
   "execution_count": 41,
   "metadata": {},
   "outputs": [
    {
     "data": {
      "text/html": [
       "<html><script type=\"math/tex; mode=display\">\\newcommand{\\Bold}[1]{\\mathbf{#1}}\\left(\\begin{array}{rrr}\n",
       "\\frac{1}{2} & 0 & 0 \\\\\n",
       "0 & 1 & 0 \\\\\n",
       "0 & 0 & 1\n",
       "\\end{array}\\right) \\verb|*| \\left(\\begin{array}{rrrr}\n",
       "2 & -4 & 8 & 4 \\\\\n",
       "1 & -1 & 1 & 4 \\\\\n",
       "3 & -4 & 6 & 7\n",
       "\\end{array}\\right) \\verb|=| \\left(\\begin{array}{rrrr}\n",
       "1 & -2 & 4 & 2 \\\\\n",
       "1 & -1 & 1 & 4 \\\\\n",
       "3 & -4 & 6 & 7\n",
       "\\end{array}\\right)</script></html>"
      ],
      "text/plain": [
       "[1/2   0   0]\n",
       "[  0   1   0]\n",
       "[  0   0   1] '*' [ 2 -4  8  4]\n",
       "[ 1 -1  1  4]\n",
       "[ 3 -4  6  7] '=' [ 1 -2  4  2]\n",
       "[ 1 -1  1  4]\n",
       "[ 3 -4  6  7]"
      ]
     },
     "metadata": {},
     "output_type": "display_data"
    }
   ],
   "source": [
    "# r1 = r1 / 2\n",
    "\n",
    "M1 = matrix([[1/2,0,0],[0,1,0],[0,0,1]])\n",
    "show(M1,'*',BB,'=',M1*BB)"
   ]
  },
  {
   "cell_type": "code",
   "execution_count": 42,
   "metadata": {},
   "outputs": [
    {
     "data": {
      "text/html": [
       "<html><script type=\"math/tex; mode=display\">\\newcommand{\\Bold}[1]{\\mathbf{#1}}\\left(\\begin{array}{rrr}\n",
       "1 & 0 & 0 \\\\\n",
       "-1 & 1 & 0 \\\\\n",
       "-3 & 0 & 1\n",
       "\\end{array}\\right) \\verb|*| \\left(\\begin{array}{rrrr}\n",
       "1 & -2 & 4 & 2 \\\\\n",
       "1 & -1 & 1 & 4 \\\\\n",
       "3 & -4 & 6 & 7\n",
       "\\end{array}\\right) \\verb|=| \\left(\\begin{array}{rrrr}\n",
       "1 & -2 & 4 & 2 \\\\\n",
       "0 & 1 & -3 & 2 \\\\\n",
       "0 & 2 & -6 & 1\n",
       "\\end{array}\\right)</script></html>"
      ],
      "text/plain": [
       "[ 1  0  0]\n",
       "[-1  1  0]\n",
       "[-3  0  1] '*' [ 1 -2  4  2]\n",
       "[ 1 -1  1  4]\n",
       "[ 3 -4  6  7] '=' [ 1 -2  4  2]\n",
       "[ 0  1 -3  2]\n",
       "[ 0  2 -6  1]"
      ]
     },
     "metadata": {},
     "output_type": "display_data"
    }
   ],
   "source": [
    "# r2 = r2 - r1\n",
    "# r3 = r3 - 3*r1\n",
    "\n",
    "M2 = matrix([[1,0,0],[-1,1,0],[-3,0,1]])\n",
    "show(M2,'*',M1*BB,'=',M2*M1*BB)"
   ]
  },
  {
   "cell_type": "code",
   "execution_count": 43,
   "metadata": {},
   "outputs": [
    {
     "data": {
      "text/html": [
       "<html><script type=\"math/tex; mode=display\">\\newcommand{\\Bold}[1]{\\mathbf{#1}}\\left(\\begin{array}{rrr}\n",
       "1 & 2 & 0 \\\\\n",
       "0 & 1 & 0 \\\\\n",
       "0 & -2 & 1\n",
       "\\end{array}\\right) \\verb|*| \\left(\\begin{array}{rrrr}\n",
       "1 & -2 & 4 & 2 \\\\\n",
       "0 & 1 & -3 & 2 \\\\\n",
       "0 & 2 & -6 & 1\n",
       "\\end{array}\\right) \\verb|=| \\left(\\begin{array}{rrrr}\n",
       "1 & 0 & -2 & 6 \\\\\n",
       "0 & 1 & -3 & 2 \\\\\n",
       "0 & 0 & 0 & -3\n",
       "\\end{array}\\right)</script></html>"
      ],
      "text/plain": [
       "[ 1  2  0]\n",
       "[ 0  1  0]\n",
       "[ 0 -2  1] '*' [ 1 -2  4  2]\n",
       "[ 0  1 -3  2]\n",
       "[ 0  2 -6  1] '=' [ 1  0 -2  6]\n",
       "[ 0  1 -3  2]\n",
       "[ 0  0  0 -3]"
      ]
     },
     "metadata": {},
     "output_type": "display_data"
    }
   ],
   "source": [
    "# r1 = r1 + 2*r2\n",
    "# r3 = r3 - 2*r2\n",
    "\n",
    "M3 = matrix([[1,2,0],[0,1,0],[0,-2,1]])\n",
    "show(M3,'*',M2*M1*BB,'=',M3*M2*M1*BB)"
   ]
  },
  {
   "cell_type": "markdown",
   "metadata": {},
   "source": [
    "There is 0 in our (3,3) index of the matrix BB, so we cannot find any pivots in this column."
   ]
  },
  {
   "cell_type": "code",
   "execution_count": 44,
   "metadata": {},
   "outputs": [
    {
     "data": {
      "text/html": [
       "<html><script type=\"math/tex; mode=display\">\\newcommand{\\Bold}[1]{\\mathbf{#1}}\\left(\\begin{array}{rrr}\n",
       "1 & 0 & 0 \\\\\n",
       "0 & 1 & 0 \\\\\n",
       "0 & 0 & -\\frac{1}{3}\n",
       "\\end{array}\\right) \\verb|*| \\left(\\begin{array}{rrrr}\n",
       "1 & 0 & -2 & 6 \\\\\n",
       "0 & 1 & -3 & 2 \\\\\n",
       "0 & 0 & 0 & -3\n",
       "\\end{array}\\right) \\verb|=| \\left(\\begin{array}{rrrr}\n",
       "1 & 0 & -2 & 6 \\\\\n",
       "0 & 1 & -3 & 2 \\\\\n",
       "0 & 0 & 0 & 1\n",
       "\\end{array}\\right)</script></html>"
      ],
      "text/plain": [
       "[   1    0    0]\n",
       "[   0    1    0]\n",
       "[   0    0 -1/3] '*' [ 1  0 -2  6]\n",
       "[ 0  1 -3  2]\n",
       "[ 0  0  0 -3] '=' [ 1  0 -2  6]\n",
       "[ 0  1 -3  2]\n",
       "[ 0  0  0  1]"
      ]
     },
     "metadata": {},
     "output_type": "display_data"
    }
   ],
   "source": [
    "# r3 = r3 / -3\n",
    "\n",
    "M4 = matrix([[1,0,0],[0,1,0],[0,0,-1/3]])\n",
    "show(M4,'*',M3*M2*M1*BB,'=',M4*M3*M2*M1*BB)"
   ]
  },
  {
   "cell_type": "code",
   "execution_count": 45,
   "metadata": {},
   "outputs": [
    {
     "data": {
      "text/html": [
       "<html><script type=\"math/tex; mode=display\">\\newcommand{\\Bold}[1]{\\mathbf{#1}}\\left(\\begin{array}{rrr}\n",
       "1 & 0 & -6 \\\\\n",
       "0 & 1 & -2 \\\\\n",
       "0 & 0 & 1\n",
       "\\end{array}\\right) \\verb|*| \\left(\\begin{array}{rrrr}\n",
       "1 & 0 & -2 & 6 \\\\\n",
       "0 & 1 & -3 & 2 \\\\\n",
       "0 & 0 & 0 & 1\n",
       "\\end{array}\\right) \\verb|=| \\left(\\begin{array}{rrrr}\n",
       "1 & 0 & -2 & 0 \\\\\n",
       "0 & 1 & -3 & 0 \\\\\n",
       "0 & 0 & 0 & 1\n",
       "\\end{array}\\right)</script></html>"
      ],
      "text/plain": [
       "[ 1  0 -6]\n",
       "[ 0  1 -2]\n",
       "[ 0  0  1] '*' [ 1  0 -2  6]\n",
       "[ 0  1 -3  2]\n",
       "[ 0  0  0  1] '=' [ 1  0 -2  0]\n",
       "[ 0  1 -3  0]\n",
       "[ 0  0  0  1]"
      ]
     },
     "metadata": {},
     "output_type": "display_data"
    }
   ],
   "source": [
    "# r1 = r1 - 6*r3\n",
    "# r2 = r2 - 2*r3\n",
    "\n",
    "M5 = matrix([[1,0,-6],[0,1,-2],[0,0,1]])\n",
    "show(M5,'*',M4*M3*M2*M1*BB,'=',M5*M4*M3*M2*M1*BB)"
   ]
  },
  {
   "cell_type": "markdown",
   "metadata": {},
   "source": [
    "**Testing with sage:**"
   ]
  },
  {
   "cell_type": "code",
   "execution_count": 46,
   "metadata": {},
   "outputs": [
    {
     "data": {
      "text/html": [
       "<html><script type=\"math/tex; mode=display\">\\newcommand{\\Bold}[1]{\\mathbf{#1}}\\left(\\begin{array}{rrrr}\n",
       "1 & 0 & -2 & 0 \\\\\n",
       "0 & 1 & -3 & 0 \\\\\n",
       "0 & 0 & 0 & 1\n",
       "\\end{array}\\right)</script></html>"
      ],
      "text/plain": [
       "[ 1  0 -2  0]\n",
       "[ 0  1 -3  0]\n",
       "[ 0  0  0  1]"
      ]
     },
     "execution_count": 46,
     "metadata": {},
     "output_type": "execute_result"
    }
   ],
   "source": [
    "BB.rref()"
   ]
  },
  {
   "cell_type": "markdown",
   "metadata": {},
   "source": [
    "**(ii) Inversibility:**\n",
    "\n",
    "From the RREF matrix, we can see that the coefficient side has not become an identity matrix and there is a non-pivot column in that side. So it is *not inversible*.\n",
    "\n",
    "Testing:"
   ]
  },
  {
   "cell_type": "code",
   "execution_count": 47,
   "metadata": {},
   "outputs": [
    {
     "data": {
      "text/html": [
       "<html><script type=\"math/tex; mode=display\">\\newcommand{\\Bold}[1]{\\mathbf{#1}}\\mathrm{False}</script></html>"
      ],
      "text/plain": [
       "False"
      ]
     },
     "execution_count": 47,
     "metadata": {},
     "output_type": "execute_result"
    }
   ],
   "source": [
    "B.is_invertible()"
   ]
  },
  {
   "cell_type": "markdown",
   "metadata": {},
   "source": [
    "**(iii) Inverse Matrix:**\n",
    "\n",
    "Do not exist."
   ]
  },
  {
   "cell_type": "markdown",
   "metadata": {},
   "source": [
    "##### c) (i)"
   ]
  },
  {
   "cell_type": "code",
   "execution_count": 48,
   "metadata": {},
   "outputs": [],
   "source": [
    "C = matrix(QQ, [[2,2,6],[6,9,-3],[10,14,2]])\n",
    "b = vector([2,9,14])\n",
    "CC = C.augment(b)"
   ]
  },
  {
   "cell_type": "code",
   "execution_count": 49,
   "metadata": {},
   "outputs": [
    {
     "data": {
      "text/html": [
       "<html><script type=\"math/tex; mode=display\">\\newcommand{\\Bold}[1]{\\mathbf{#1}}\\verb|Coef|\\phantom{\\verb!x!}\\verb|Matrix:| \\left(\\begin{array}{rrr}\n",
       "2 & 2 & 6 \\\\\n",
       "6 & 9 & -3 \\\\\n",
       "10 & 14 & 2\n",
       "\\end{array}\\right)</script></html>"
      ],
      "text/plain": [
       "'Coef Matrix:' [ 2  2  6]\n",
       "[ 6  9 -3]\n",
       "[10 14  2]"
      ]
     },
     "metadata": {},
     "output_type": "display_data"
    },
    {
     "data": {
      "text/html": [
       "<html><script type=\"math/tex; mode=display\">\\newcommand{\\Bold}[1]{\\mathbf{#1}}\\verb|Augmented|\\phantom{\\verb!x!}\\verb|Matrix:| \\left(\\begin{array}{rrrr}\n",
       "2 & 2 & 6 & 2 \\\\\n",
       "6 & 9 & -3 & 9 \\\\\n",
       "10 & 14 & 2 & 14\n",
       "\\end{array}\\right)</script></html>"
      ],
      "text/plain": [
       "'Augmented Matrix:' [ 2  2  6  2]\n",
       "[ 6  9 -3  9]\n",
       "[10 14  2 14]"
      ]
     },
     "metadata": {},
     "output_type": "display_data"
    }
   ],
   "source": [
    "show('Coef Matrix:', C)\n",
    "show('Augmented Matrix:', CC)"
   ]
  },
  {
   "cell_type": "markdown",
   "metadata": {},
   "source": [
    "**Row Operation:**"
   ]
  },
  {
   "cell_type": "code",
   "execution_count": 50,
   "metadata": {},
   "outputs": [
    {
     "data": {
      "text/html": [
       "<html><script type=\"math/tex; mode=display\">\\newcommand{\\Bold}[1]{\\mathbf{#1}}\\left(\\begin{array}{rrr}\n",
       "\\frac{1}{2} & 0 & 0 \\\\\n",
       "0 & 1 & 0 \\\\\n",
       "0 & 0 & 1\n",
       "\\end{array}\\right) \\verb|*| \\left(\\begin{array}{rrrr}\n",
       "2 & 2 & 6 & 2 \\\\\n",
       "6 & 9 & -3 & 9 \\\\\n",
       "10 & 14 & 2 & 14\n",
       "\\end{array}\\right) \\verb|=| \\left(\\begin{array}{rrrr}\n",
       "1 & 1 & 3 & 1 \\\\\n",
       "6 & 9 & -3 & 9 \\\\\n",
       "10 & 14 & 2 & 14\n",
       "\\end{array}\\right)</script></html>"
      ],
      "text/plain": [
       "[1/2   0   0]\n",
       "[  0   1   0]\n",
       "[  0   0   1] '*' [ 2  2  6  2]\n",
       "[ 6  9 -3  9]\n",
       "[10 14  2 14] '=' [ 1  1  3  1]\n",
       "[ 6  9 -3  9]\n",
       "[10 14  2 14]"
      ]
     },
     "metadata": {},
     "output_type": "display_data"
    }
   ],
   "source": [
    "# r1 = r1 / 2\n",
    "\n",
    "M1 = matrix([[1/2,0,0],[0,1,0],[0,0,1]])\n",
    "show(M1,'*',CC,'=',M1*CC)"
   ]
  },
  {
   "cell_type": "code",
   "execution_count": 51,
   "metadata": {},
   "outputs": [
    {
     "data": {
      "text/html": [
       "<html><script type=\"math/tex; mode=display\">\\newcommand{\\Bold}[1]{\\mathbf{#1}}\\left(\\begin{array}{rrr}\n",
       "1 & 0 & 0 \\\\\n",
       "-6 & 1 & 0 \\\\\n",
       "-10 & 0 & 1\n",
       "\\end{array}\\right) \\verb|*| \\left(\\begin{array}{rrrr}\n",
       "1 & 1 & 3 & 1 \\\\\n",
       "6 & 9 & -3 & 9 \\\\\n",
       "10 & 14 & 2 & 14\n",
       "\\end{array}\\right) \\verb|=| \\left(\\begin{array}{rrrr}\n",
       "1 & 1 & 3 & 1 \\\\\n",
       "0 & 3 & -21 & 3 \\\\\n",
       "0 & 4 & -28 & 4\n",
       "\\end{array}\\right)</script></html>"
      ],
      "text/plain": [
       "[  1   0   0]\n",
       "[ -6   1   0]\n",
       "[-10   0   1] '*' [ 1  1  3  1]\n",
       "[ 6  9 -3  9]\n",
       "[10 14  2 14] '=' [  1   1   3   1]\n",
       "[  0   3 -21   3]\n",
       "[  0   4 -28   4]"
      ]
     },
     "metadata": {},
     "output_type": "display_data"
    }
   ],
   "source": [
    "# r2 = r2 - 6*r1\n",
    "# r3 = r3 - 10*r1\n",
    "\n",
    "M2 = matrix([[1,0,0],[-6,1,0],[-10,0,1]])\n",
    "show(M2,'*',M1*CC,'=',M2*M1*CC)"
   ]
  },
  {
   "cell_type": "code",
   "execution_count": 52,
   "metadata": {},
   "outputs": [
    {
     "data": {
      "text/html": [
       "<html><script type=\"math/tex; mode=display\">\\newcommand{\\Bold}[1]{\\mathbf{#1}}\\left(\\begin{array}{rrr}\n",
       "1 & 0 & 0 \\\\\n",
       "0 & \\frac{1}{3} & 0 \\\\\n",
       "0 & 0 & 1\n",
       "\\end{array}\\right) \\verb|*| \\left(\\begin{array}{rrrr}\n",
       "1 & 1 & 3 & 1 \\\\\n",
       "0 & 3 & -21 & 3 \\\\\n",
       "0 & 4 & -28 & 4\n",
       "\\end{array}\\right) \\verb|=| \\left(\\begin{array}{rrrr}\n",
       "1 & 1 & 3 & 1 \\\\\n",
       "0 & 1 & -7 & 1 \\\\\n",
       "0 & 4 & -28 & 4\n",
       "\\end{array}\\right)</script></html>"
      ],
      "text/plain": [
       "[  1   0   0]\n",
       "[  0 1/3   0]\n",
       "[  0   0   1] '*' [  1   1   3   1]\n",
       "[  0   3 -21   3]\n",
       "[  0   4 -28   4] '=' [  1   1   3   1]\n",
       "[  0   1  -7   1]\n",
       "[  0   4 -28   4]"
      ]
     },
     "metadata": {},
     "output_type": "display_data"
    }
   ],
   "source": [
    "# r2 = r2 / 3\n",
    "\n",
    "M3 = matrix([[1,0,0],[0,1/3,0],[0,0,1]])\n",
    "show(M3,'*',M2*M1*CC,'=',M3*M2*M1*CC)"
   ]
  },
  {
   "cell_type": "code",
   "execution_count": 53,
   "metadata": {},
   "outputs": [
    {
     "data": {
      "text/html": [
       "<html><script type=\"math/tex; mode=display\">\\newcommand{\\Bold}[1]{\\mathbf{#1}}\\left(\\begin{array}{rrr}\n",
       "1 & -1 & 0 \\\\\n",
       "0 & 1 & 0 \\\\\n",
       "0 & -4 & 1\n",
       "\\end{array}\\right) \\verb|*| \\left(\\begin{array}{rrrr}\n",
       "1 & 1 & 3 & 1 \\\\\n",
       "0 & 1 & -7 & 1 \\\\\n",
       "0 & 4 & -28 & 4\n",
       "\\end{array}\\right) \\verb|=| \\left(\\begin{array}{rrrr}\n",
       "1 & 0 & 10 & 0 \\\\\n",
       "0 & 1 & -7 & 1 \\\\\n",
       "0 & 0 & 0 & 0\n",
       "\\end{array}\\right)</script></html>"
      ],
      "text/plain": [
       "[ 1 -1  0]\n",
       "[ 0  1  0]\n",
       "[ 0 -4  1] '*' [  1   1   3   1]\n",
       "[  0   1  -7   1]\n",
       "[  0   4 -28   4] '=' [ 1  0 10  0]\n",
       "[ 0  1 -7  1]\n",
       "[ 0  0  0  0]"
      ]
     },
     "metadata": {},
     "output_type": "display_data"
    }
   ],
   "source": [
    "# r1 = r1 - r2\n",
    "# r3 = r3 - 4*r2\n",
    "\n",
    "M4 = matrix([[1,-1,0],[0,1,0],[0,-4,1]])\n",
    "show(M4,'*',M3*M2*M1*CC,'=',M4*M3*M2*M1*CC)"
   ]
  },
  {
   "cell_type": "markdown",
   "metadata": {},
   "source": [
    "There is 0 in our (3,3) index of the matrix BB, so we cannot find any pivots in this column. The next column also have 0 in its 3rd index, so there will be no pivot in that column also, because we cannot change 0 to 1 by any row operation and also as this is last line, there is no row left to consider swapping."
   ]
  },
  {
   "cell_type": "markdown",
   "metadata": {},
   "source": [
    "**Testing with sage:**"
   ]
  },
  {
   "cell_type": "code",
   "execution_count": 54,
   "metadata": {},
   "outputs": [
    {
     "data": {
      "text/html": [
       "<html><script type=\"math/tex; mode=display\">\\newcommand{\\Bold}[1]{\\mathbf{#1}}\\verb|RREF:| \\left(\\begin{array}{rrrr}\n",
       "1 & 0 & 10 & 0 \\\\\n",
       "0 & 1 & -7 & 1 \\\\\n",
       "0 & 0 & 0 & 0\n",
       "\\end{array}\\right)</script></html>"
      ],
      "text/plain": [
       "'RREF:' [ 1  0 10  0]\n",
       "[ 0  1 -7  1]\n",
       "[ 0  0  0  0]"
      ]
     },
     "metadata": {},
     "output_type": "display_data"
    }
   ],
   "source": [
    "show('RREF:',CC.rref())"
   ]
  },
  {
   "cell_type": "markdown",
   "metadata": {},
   "source": [
    "**(ii) Inversibility:**\n",
    "\n",
    "From the RREF matrix, we can see that the coefficient side has not become an identity matrix, there is a non-pivot column in the coefficient side, So it is *not inversible*.\n",
    "\n",
    "Testing:"
   ]
  },
  {
   "cell_type": "code",
   "execution_count": 55,
   "metadata": {},
   "outputs": [
    {
     "data": {
      "text/html": [
       "<html><script type=\"math/tex; mode=display\">\\newcommand{\\Bold}[1]{\\mathbf{#1}}\\mathrm{False}</script></html>"
      ],
      "text/plain": [
       "False"
      ]
     },
     "execution_count": 55,
     "metadata": {},
     "output_type": "execute_result"
    }
   ],
   "source": [
    "C.is_invertible()"
   ]
  },
  {
   "cell_type": "markdown",
   "metadata": {},
   "source": [
    "**(iii) Inverse Matrix:**\n",
    "\n",
    "Do not exist."
   ]
  },
  {
   "cell_type": "markdown",
   "metadata": {},
   "source": [
    "### Session 2.2"
   ]
  },
  {
   "cell_type": "markdown",
   "metadata": {},
   "source": [
    "**(a)** \n",
    "\n",
    "A pair of matrices B and C such that BC = −CB:"
   ]
  },
  {
   "cell_type": "code",
   "execution_count": 56,
   "metadata": {},
   "outputs": [
    {
     "data": {
      "text/html": [
       "<html><script type=\"math/tex; mode=display\">\\newcommand{\\Bold}[1]{\\mathbf{#1}}\\verb|B|\\phantom{\\verb!x!}\\verb|=| \\left(\\begin{array}{rr}\n",
       "0 & -1 \\\\\n",
       "1 & 0\n",
       "\\end{array}\\right) \\verb|C|\\phantom{\\verb!x!}\\verb|=| \\left(\\begin{array}{rr}\n",
       "0 & 1 \\\\\n",
       "1 & 0\n",
       "\\end{array}\\right)</script></html>"
      ],
      "text/plain": [
       "'B =' [ 0 -1]\n",
       "[ 1  0] 'C =' [0 1]\n",
       "[1 0]"
      ]
     },
     "metadata": {},
     "output_type": "display_data"
    },
    {
     "data": {
      "text/html": [
       "<html><script type=\"math/tex; mode=display\">\\newcommand{\\Bold}[1]{\\mathbf{#1}}\\verb|BC|\\phantom{\\verb!x!}\\verb|=| \\left(\\begin{array}{rr}\n",
       "-1 & 0 \\\\\n",
       "0 & 1\n",
       "\\end{array}\\right) \\verb|CB|\\phantom{\\verb!x!}\\verb|=| \\left(\\begin{array}{rr}\n",
       "1 & 0 \\\\\n",
       "0 & -1\n",
       "\\end{array}\\right)</script></html>"
      ],
      "text/plain": [
       "'BC =' [-1  0]\n",
       "[ 0  1] 'CB =' [ 1  0]\n",
       "[ 0 -1]"
      ]
     },
     "metadata": {},
     "output_type": "display_data"
    }
   ],
   "source": [
    "B = matrix([[0,-1],[1,0]])\n",
    "C = matrix([[0,1],[1,0]])\n",
    "show(\"B =\",B,'C =', C)\n",
    "show('BC =',B*C,'CB =', C*B)"
   ]
  },
  {
   "cell_type": "code",
   "execution_count": 57,
   "metadata": {},
   "outputs": [
    {
     "name": "stdout",
     "output_type": "stream",
     "text": [
      "True\n"
     ]
    }
   ],
   "source": [
    "print(B*C == -1*C*B)"
   ]
  },
  {
   "cell_type": "markdown",
   "metadata": {},
   "source": [
    "**(b)**\n",
    "\n",
    "A non-zero matrix M so that $M^2$ = 0"
   ]
  },
  {
   "cell_type": "code",
   "execution_count": 58,
   "metadata": {},
   "outputs": [
    {
     "data": {
      "text/html": [
       "<html><script type=\"math/tex; mode=display\">\\newcommand{\\Bold}[1]{\\mathbf{#1}}\\verb|M=| \\left(\\begin{array}{rr}\n",
       "1 & 1 \\\\\n",
       "-1 & -1\n",
       "\\end{array}\\right)</script></html>"
      ],
      "text/plain": [
       "'M=' [ 1  1]\n",
       "[-1 -1]"
      ]
     },
     "metadata": {},
     "output_type": "display_data"
    },
    {
     "data": {
      "text/html": [
       "<html><script type=\"math/tex; mode=display\">\\newcommand{\\Bold}[1]{\\mathbf{#1}}\\verb|M*M=| \\left(\\begin{array}{rr}\n",
       "0 & 0 \\\\\n",
       "0 & 0\n",
       "\\end{array}\\right)</script></html>"
      ],
      "text/plain": [
       "'M*M=' [0 0]\n",
       "[0 0]"
      ]
     },
     "metadata": {},
     "output_type": "display_data"
    }
   ],
   "source": [
    "M = matrix([[1,1],[-1,-1]])\n",
    "show('M=',M)\n",
    "show('M*M=',M^2)"
   ]
  },
  {
   "cell_type": "markdown",
   "metadata": {},
   "source": [
    "**(c)**\n",
    "\n",
    "Invertible matrices A and B so that A + B is not invertible:"
   ]
  },
  {
   "cell_type": "code",
   "execution_count": 59,
   "metadata": {},
   "outputs": [
    {
     "data": {
      "text/html": [
       "<html><script type=\"math/tex; mode=display\">\\newcommand{\\Bold}[1]{\\mathbf{#1}}\\verb|A|\\phantom{\\verb!x!}\\verb|=| \\left(\\begin{array}{rr}\n",
       "1 & 0 \\\\\n",
       "0 & 1\n",
       "\\end{array}\\right) \\verb|B|\\phantom{\\verb!x!}\\verb|=| \\left(\\begin{array}{rr}\n",
       "0 & 1 \\\\\n",
       "1 & 0\n",
       "\\end{array}\\right) \\verb|A+B|\\phantom{\\verb!x!}\\verb|=| \\left(\\begin{array}{rr}\n",
       "1 & 1 \\\\\n",
       "1 & 1\n",
       "\\end{array}\\right)</script></html>"
      ],
      "text/plain": [
       "'A =' [1 0]\n",
       "[0 1] 'B =' [0 1]\n",
       "[1 0] 'A+B =' [1 1]\n",
       "[1 1]"
      ]
     },
     "metadata": {},
     "output_type": "display_data"
    }
   ],
   "source": [
    "# (c)\n",
    "A = matrix([[1,0],[0,1]])\n",
    "B = matrix([[0,1],[1,0]])\n",
    "show('A =',A,'B =',B,'A+B =',A+B)"
   ]
  },
  {
   "cell_type": "code",
   "execution_count": 60,
   "metadata": {},
   "outputs": [
    {
     "data": {
      "text/html": [
       "<html><script type=\"math/tex; mode=display\">\\newcommand{\\Bold}[1]{\\mathbf{#1}}\\mathrm{False}</script></html>"
      ],
      "text/plain": [
       "False"
      ]
     },
     "execution_count": 60,
     "metadata": {},
     "output_type": "execute_result"
    }
   ],
   "source": [
    "(A+B).is_invertible()"
   ]
  },
  {
   "cell_type": "code",
   "execution_count": 61,
   "metadata": {},
   "outputs": [
    {
     "data": {
      "text/html": [
       "<html><script type=\"math/tex; mode=display\">\\newcommand{\\Bold}[1]{\\mathbf{#1}}\\verb|Det(A)|\\phantom{\\verb!x!}\\verb|=| 1</script></html>"
      ],
      "text/plain": [
       "'Det(A) =' 1"
      ]
     },
     "metadata": {},
     "output_type": "display_data"
    },
    {
     "data": {
      "text/html": [
       "<html><script type=\"math/tex; mode=display\">\\newcommand{\\Bold}[1]{\\mathbf{#1}}\\verb|Det(B)|\\phantom{\\verb!x!}\\verb|=| -1</script></html>"
      ],
      "text/plain": [
       "'Det(B) =' -1"
      ]
     },
     "metadata": {},
     "output_type": "display_data"
    },
    {
     "data": {
      "text/html": [
       "<html><script type=\"math/tex; mode=display\">\\newcommand{\\Bold}[1]{\\mathbf{#1}}\\verb|Det(A+B)|\\phantom{\\verb!x!}\\verb|=| 0</script></html>"
      ],
      "text/plain": [
       "'Det(A+B) =' 0"
      ]
     },
     "metadata": {},
     "output_type": "display_data"
    }
   ],
   "source": [
    "show('Det(A) =',A.det())\n",
    "show('Det(B) =',B.det())\n",
    "show('Det(A+B) =',(A+B).det())"
   ]
  },
  {
   "cell_type": "markdown",
   "metadata": {},
   "source": [
    "**(d)**\n",
    "\n",
    "Non-invertible matrices C and D so that C + D is invertible."
   ]
  },
  {
   "cell_type": "code",
   "execution_count": 62,
   "metadata": {},
   "outputs": [
    {
     "data": {
      "text/html": [
       "<html><script type=\"math/tex; mode=display\">\\newcommand{\\Bold}[1]{\\mathbf{#1}}\\verb|C|\\phantom{\\verb!x!}\\verb|=| \\left(\\begin{array}{rr}\n",
       "4 & 2 \\\\\n",
       "2 & 1\n",
       "\\end{array}\\right) \\verb|D|\\phantom{\\verb!x!}\\verb|=| \\left(\\begin{array}{rr}\n",
       "1 & 1 \\\\\n",
       "1 & 1\n",
       "\\end{array}\\right) \\verb|C+D|\\phantom{\\verb!x!}\\verb|=| \\left(\\begin{array}{rr}\n",
       "5 & 3 \\\\\n",
       "3 & 2\n",
       "\\end{array}\\right)</script></html>"
      ],
      "text/plain": [
       "'C =' [4 2]\n",
       "[2 1] 'D =' [1 1]\n",
       "[1 1] 'C+D =' [5 3]\n",
       "[3 2]"
      ]
     },
     "metadata": {},
     "output_type": "display_data"
    },
    {
     "data": {
      "text/html": [
       "<html><script type=\"math/tex; mode=display\">\\newcommand{\\Bold}[1]{\\mathbf{#1}}\\verb|RREF:| \\verb|C:| \\left(\\begin{array}{rr}\n",
       "1 & \\frac{1}{2} \\\\\n",
       "0 & 0\n",
       "\\end{array}\\right) \\verb|D:| \\left(\\begin{array}{rr}\n",
       "1 & 1 \\\\\n",
       "0 & 0\n",
       "\\end{array}\\right) \\verb|C+D:| \\left(\\begin{array}{rr}\n",
       "1 & 0 \\\\\n",
       "0 & 1\n",
       "\\end{array}\\right)</script></html>"
      ],
      "text/plain": [
       "'RREF:' 'C:' [  1 1/2]\n",
       "[  0   0] 'D:' [1 1]\n",
       "[0 0] 'C+D:' [1 0]\n",
       "[0 1]"
      ]
     },
     "metadata": {},
     "output_type": "display_data"
    }
   ],
   "source": [
    "# (d)\n",
    "C = matrix([[4,2],[2,1]])\n",
    "D = matrix([[1,1],[1,1]])\n",
    "show('C =',C,'D =',D,'C+D =',C+D)\n",
    "show(\"RREF:\",'C:',C.rref(), 'D:',D.rref(),\n",
    "     'C+D:',(C+D).rref())"
   ]
  },
  {
   "cell_type": "code",
   "execution_count": 63,
   "metadata": {},
   "outputs": [
    {
     "data": {
      "text/html": [
       "<html><script type=\"math/tex; mode=display\">\\newcommand{\\Bold}[1]{\\mathbf{#1}}\\verb|det(C)|\\phantom{\\verb!x!}\\verb|=| 0</script></html>"
      ],
      "text/plain": [
       "'det(C) =' 0"
      ]
     },
     "metadata": {},
     "output_type": "display_data"
    },
    {
     "data": {
      "text/html": [
       "<html><script type=\"math/tex; mode=display\">\\newcommand{\\Bold}[1]{\\mathbf{#1}}\\verb|det(D)|\\phantom{\\verb!x!}\\verb|=| 0</script></html>"
      ],
      "text/plain": [
       "'det(D) =' 0"
      ]
     },
     "metadata": {},
     "output_type": "display_data"
    },
    {
     "data": {
      "text/html": [
       "<html><script type=\"math/tex; mode=display\">\\newcommand{\\Bold}[1]{\\mathbf{#1}}\\verb|det(C+D)|\\phantom{\\verb!x!}\\verb|=| 1</script></html>"
      ],
      "text/plain": [
       "'det(C+D) =' 1"
      ]
     },
     "metadata": {},
     "output_type": "display_data"
    }
   ],
   "source": [
    "show('det(C) =',C.det())\n",
    "show('det(D) =',D.det())\n",
    "show('det(C+D) =',(C+D).det())"
   ]
  },
  {
   "cell_type": "markdown",
   "metadata": {},
   "source": [
    "### Session 3.1"
   ]
  },
  {
   "cell_type": "markdown",
   "metadata": {},
   "source": [
    "**(a) False**\n",
    "\n"
   ]
  },
  {
   "cell_type": "code",
   "execution_count": 64,
   "metadata": {},
   "outputs": [
    {
     "data": {
      "text/html": [
       "<html><script type=\"math/tex; mode=display\">\\newcommand{\\Bold}[1]{\\mathbf{#1}}\\verb|A|\\phantom{\\verb!x!}\\verb|=| \\left(\\begin{array}{rrr}\n",
       "2 & 2 & 6 \\\\\n",
       "6 & 9 & -3 \\\\\n",
       "10 & 14 & 2\n",
       "\\end{array}\\right) \\verb|det(A)|\\phantom{\\verb!x!}\\verb|=| 0</script></html>"
      ],
      "text/plain": [
       "'A =' [ 2  2  6]\n",
       "[ 6  9 -3]\n",
       "[10 14  2] 'det(A) =' 0"
      ]
     },
     "metadata": {},
     "output_type": "display_data"
    }
   ],
   "source": [
    "A = matrix(QQ, [[2,2,6],[6,9,-3],[10,14,2]])\n",
    "show('A =',A, 'det(A) =',det(A))"
   ]
  },
  {
   "cell_type": "markdown",
   "metadata": {},
   "source": [
    "But the cofactors are the followings:\n",
    "\n",
    "- $A_{11}=\\begin{vmatrix} 9 & -3\\\\ 14 & 2\\end{vmatrix}$\n",
    "- $A_{12}=-\\begin{vmatrix} 6 & -3\\\\ 10 & 2\\end{vmatrix}$\n",
    "- $A_{13}=\\begin{vmatrix} 6 & 9\\\\ 10 & 14\\end{vmatrix}$\n",
    "- $A_{21}=-\\begin{vmatrix} 2 & 6\\\\ 14 & 2\\end{vmatrix}$\n",
    "- $A_{22}=\\begin{vmatrix} 2 & 6\\\\ 10 & 2\\end{vmatrix}$\n",
    "- $A_{23}=-\\begin{vmatrix} 2 & 2\\\\ 10 & 14\\end{vmatrix}$\n",
    "- $A_{31}=\\begin{vmatrix} 2 & 6\\\\ 9 & -3\\end{vmatrix}$\n",
    "- $A_{32}=-\\begin{vmatrix} 2 & 6\\\\ 6 & -3\\end{vmatrix}$\n",
    "- $A_{33}=\\begin{vmatrix} 2 & 2\\\\ 6 & 9\\end{vmatrix}$"
   ]
  },
  {
   "cell_type": "code",
   "execution_count": 65,
   "metadata": {},
   "outputs": [],
   "source": [
    "A11 = det(matrix([[9,-3],[14,2]]))\n",
    "A12 = (-1)*det(matrix([[6,-3],[10,2]]))\n",
    "A13 = det(matrix([[6,9],[10,14]]))\n",
    "A21 = (-1)*det(matrix([[2,6],[14,2]]))\n",
    "A22 = det(matrix([[2,6],[10,2]]))\n",
    "A23 = (-1)*det(matrix([[2,2],[10,14]]))\n",
    "A31 = det(matrix([[2,6],[9,-3]]))\n",
    "A32 = (-1)*det(matrix([[2,6],[6,-3]]))\n",
    "A33 = det(matrix([[2,2],[6,9]]))"
   ]
  },
  {
   "cell_type": "code",
   "execution_count": 66,
   "metadata": {},
   "outputs": [
    {
     "data": {
      "text/html": [
       "<html><script type=\"math/tex; mode=display\">\\newcommand{\\Bold}[1]{\\mathbf{#1}}\\verb|A11|\\phantom{\\verb!x!}\\verb|=| 60</script></html>"
      ],
      "text/plain": [
       "'A11 =' 60"
      ]
     },
     "metadata": {},
     "output_type": "display_data"
    },
    {
     "data": {
      "text/html": [
       "<html><script type=\"math/tex; mode=display\">\\newcommand{\\Bold}[1]{\\mathbf{#1}}\\verb|A12|\\phantom{\\verb!x!}\\verb|=| -42</script></html>"
      ],
      "text/plain": [
       "'A12 =' -42"
      ]
     },
     "metadata": {},
     "output_type": "display_data"
    },
    {
     "data": {
      "text/html": [
       "<html><script type=\"math/tex; mode=display\">\\newcommand{\\Bold}[1]{\\mathbf{#1}}\\verb|A13|\\phantom{\\verb!x!}\\verb|=| -6</script></html>"
      ],
      "text/plain": [
       "'A13 =' -6"
      ]
     },
     "metadata": {},
     "output_type": "display_data"
    },
    {
     "data": {
      "text/html": [
       "<html><script type=\"math/tex; mode=display\">\\newcommand{\\Bold}[1]{\\mathbf{#1}}\\verb|A21|\\phantom{\\verb!x!}\\verb|=| 80</script></html>"
      ],
      "text/plain": [
       "'A21 =' 80"
      ]
     },
     "metadata": {},
     "output_type": "display_data"
    },
    {
     "data": {
      "text/html": [
       "<html><script type=\"math/tex; mode=display\">\\newcommand{\\Bold}[1]{\\mathbf{#1}}\\verb|A22|\\phantom{\\verb!x!}\\verb|=| -56</script></html>"
      ],
      "text/plain": [
       "'A22 =' -56"
      ]
     },
     "metadata": {},
     "output_type": "display_data"
    },
    {
     "data": {
      "text/html": [
       "<html><script type=\"math/tex; mode=display\">\\newcommand{\\Bold}[1]{\\mathbf{#1}}\\verb|A23|\\phantom{\\verb!x!}\\verb|=| -8</script></html>"
      ],
      "text/plain": [
       "'A23 =' -8"
      ]
     },
     "metadata": {},
     "output_type": "display_data"
    },
    {
     "data": {
      "text/html": [
       "<html><script type=\"math/tex; mode=display\">\\newcommand{\\Bold}[1]{\\mathbf{#1}}\\verb|A31|\\phantom{\\verb!x!}\\verb|=| -60</script></html>"
      ],
      "text/plain": [
       "'A31 =' -60"
      ]
     },
     "metadata": {},
     "output_type": "display_data"
    },
    {
     "data": {
      "text/html": [
       "<html><script type=\"math/tex; mode=display\">\\newcommand{\\Bold}[1]{\\mathbf{#1}}\\verb|A32|\\phantom{\\verb!x!}\\verb|=| 42</script></html>"
      ],
      "text/plain": [
       "'A32 =' 42"
      ]
     },
     "metadata": {},
     "output_type": "display_data"
    },
    {
     "data": {
      "text/html": [
       "<html><script type=\"math/tex; mode=display\">\\newcommand{\\Bold}[1]{\\mathbf{#1}}\\verb|A33|\\phantom{\\verb!x!}\\verb|=| 6</script></html>"
      ],
      "text/plain": [
       "'A33 =' 6"
      ]
     },
     "metadata": {},
     "output_type": "display_data"
    }
   ],
   "source": [
    "show('A11 =', A11)\n",
    "show('A12 =', A12)\n",
    "show('A13 =', A13)\n",
    "show('A21 =', A21)\n",
    "show('A22 =', A22)\n",
    "show('A23 =', A23)\n",
    "show('A31 =', A31)\n",
    "show('A32 =', A32)\n",
    "show('A33 =', A33)"
   ]
  },
  {
   "cell_type": "markdown",
   "metadata": {},
   "source": [
    "**(b) False**\n",
    "\n",
    "Counter-example:"
   ]
  },
  {
   "cell_type": "code",
   "execution_count": 67,
   "metadata": {},
   "outputs": [
    {
     "data": {
      "text/html": [
       "<html><script type=\"math/tex; mode=display\">\\newcommand{\\Bold}[1]{\\mathbf{#1}}\\verb|A|\\phantom{\\verb!x!}\\verb|=| \\left(\\begin{array}{rrr}\n",
       "1 & 0 & 1 \\\\\n",
       "1 & 1 & 0 \\\\\n",
       "0 & 1 & 1\n",
       "\\end{array}\\right) \\verb|det(A)|\\phantom{\\verb!x!}\\verb|=| 2</script></html>"
      ],
      "text/plain": [
       "'A =' [1 0 1]\n",
       "[1 1 0]\n",
       "[0 1 1] 'det(A) =' 2"
      ]
     },
     "metadata": {},
     "output_type": "display_data"
    }
   ],
   "source": [
    "A = matrix(QQ, [[1,0,1],[1,1,0],[0,1,1]])\n",
    "show('A =', A, 'det(A) =', det(A))"
   ]
  },
  {
   "cell_type": "markdown",
   "metadata": {},
   "source": [
    "**(c) False**\n",
    "\n",
    "Counterexample:"
   ]
  },
  {
   "cell_type": "code",
   "execution_count": 68,
   "metadata": {},
   "outputs": [
    {
     "data": {
      "text/html": [
       "<html><script type=\"math/tex; mode=display\">\\newcommand{\\Bold}[1]{\\mathbf{#1}}\\verb|A|\\phantom{\\verb!x!}\\verb|=| \\left(\\begin{array}{rrr}\n",
       "1 & 2 & 3 \\\\\n",
       "2 & 3 & 4 \\\\\n",
       "3 & 4 & 5\n",
       "\\end{array}\\right) \\verb|det(A)|\\phantom{\\verb!x!}\\verb|=| 0</script></html>"
      ],
      "text/plain": [
       "'A =' [1 2 3]\n",
       "[2 3 4]\n",
       "[3 4 5] 'det(A) =' 0"
      ]
     },
     "metadata": {},
     "output_type": "display_data"
    },
    {
     "data": {
      "text/html": [
       "<html><script type=\"math/tex; mode=display\">\\newcommand{\\Bold}[1]{\\mathbf{#1}}\\verb|B|\\phantom{\\verb!x!}\\verb|=| \\left(\\begin{array}{rrr}\n",
       "2 & 2 & 3 \\\\\n",
       "2 & 3 & 4 \\\\\n",
       "3 & 4 & 5\n",
       "\\end{array}\\right) \\verb|det(B)|\\phantom{\\verb!x!}\\verb|=| -1</script></html>"
      ],
      "text/plain": [
       "'B =' [2 2 3]\n",
       "[2 3 4]\n",
       "[3 4 5] 'det(B) =' -1"
      ]
     },
     "metadata": {},
     "output_type": "display_data"
    }
   ],
   "source": [
    "A = matrix([[1,2,3],[2,3,4],[3,4,5]])\n",
    "B = matrix([[2,2,3],[2,3,4],[3,4,5]])\n",
    "show('A =',A,'det(A) =',det(A))\n",
    "show('B =',B,'det(B) =',det(B))"
   ]
  },
  {
   "cell_type": "markdown",
   "metadata": {},
   "source": [
    "**(d) False**\n",
    "\n",
    "Counterexample:"
   ]
  },
  {
   "cell_type": "code",
   "execution_count": 69,
   "metadata": {},
   "outputs": [
    {
     "data": {
      "text/html": [
       "<html><script type=\"math/tex; mode=display\">\\newcommand{\\Bold}[1]{\\mathbf{#1}}\\verb|A|\\phantom{\\verb!x!}\\verb|=| \\left(\\begin{array}{rrr}\n",
       "1 & 3 & 2 \\\\\n",
       "2 & 3 & 4 \\\\\n",
       "3 & 4 & 5\n",
       "\\end{array}\\right)</script></html>"
      ],
      "text/plain": [
       "'A = ' [1 3 2]\n",
       "[2 3 4]\n",
       "[3 4 5]"
      ]
     },
     "metadata": {},
     "output_type": "display_data"
    },
    {
     "data": {
      "text/html": [
       "<html><script type=\"math/tex; mode=display\">\\newcommand{\\Bold}[1]{\\mathbf{#1}}\\verb|RREF|\\phantom{\\verb!x!}\\verb|of|\\phantom{\\verb!x!}\\verb|A|\\phantom{\\verb!x!}\\verb|=| \\left(\\begin{array}{rrr}\n",
       "1 & 0 & 0 \\\\\n",
       "0 & 1 & 0 \\\\\n",
       "0 & 0 & 1\n",
       "\\end{array}\\right)</script></html>"
      ],
      "text/plain": [
       "'RREF of A =' [1 0 0]\n",
       "[0 1 0]\n",
       "[0 0 1]"
      ]
     },
     "metadata": {},
     "output_type": "display_data"
    },
    {
     "data": {
      "text/html": [
       "<html><script type=\"math/tex; mode=display\">\\newcommand{\\Bold}[1]{\\mathbf{#1}}\\verb|Product|\\phantom{\\verb!x!}\\verb|of|\\phantom{\\verb!x!}\\verb|the|\\phantom{\\verb!x!}\\verb|pivots|\\phantom{\\verb!x!}\\verb|=| 1</script></html>"
      ],
      "text/plain": [
       "'Product of the pivots = ' 1"
      ]
     },
     "metadata": {},
     "output_type": "display_data"
    },
    {
     "data": {
      "text/html": [
       "<html><script type=\"math/tex; mode=display\">\\newcommand{\\Bold}[1]{\\mathbf{#1}}\\verb|Det(A)|\\phantom{\\verb!x!}\\verb|=| 3</script></html>"
      ],
      "text/plain": [
       "'Det(A) = ' 3"
      ]
     },
     "metadata": {},
     "output_type": "display_data"
    }
   ],
   "source": [
    "A = matrix([[1,3,2],[2,3,4],[3,4,5]])\n",
    "show('A = ',A)\n",
    "show('RREF of A =',A.rref())\n",
    "show('Product of the pivots = ', 1)\n",
    "show('Det(A) = ', det(A))"
   ]
  },
  {
   "cell_type": "markdown",
   "metadata": {},
   "source": [
    "### Session 3.2"
   ]
  },
  {
   "cell_type": "markdown",
   "metadata": {},
   "source": [
    "**(a)**\n",
    "\n",
    "From class, we know that,\n",
    "\n",
    "1. For matrix A and B, det(AB) = det(A)$\\cdot$ det(B) (stated in the study guide and proved in the class)\n",
    "\n",
    "we are given,\n",
    "\n",
    "2. A is invertible and B is singular\n",
    "\n",
    "From the definition of singular matrix, \n",
    "\n",
    "3. det(B) = 0 and det(A) $\\neq$ 0\n",
    "\n",
    "Using the property of step 1,\n",
    "\n",
    "4. det(AB) = det(A)$\\cdot$det(B) = det(A)$cdot$0 = 0\n",
    "\n",
    "From the definition of singular matrix, \n",
    "\n",
    "5. $\\therefore$ AB is singular\n",
    "\n",
    "(Proved for both 2 x 2 and n x n matrices)\n"
   ]
  },
  {
   "cell_type": "markdown",
   "metadata": {},
   "source": [
    "**(b)**\n",
    "\n",
    "1. For any 2 x 2 matrix, \n",
    "\n",
    "    A = $\\begin{bmatrix}a & b\\\\ c & d\\end{bmatrix}$\n",
    "\n",
    "    $A^T = \\begin{bmatrix}a & c\\\\ b & d\\end{bmatrix}$\n",
    "\n",
    "    $\\therefore$ det(A) = ad - cb\n",
    "\n",
    "    And det($A^T$) = ad - bc = det(A)\n",
    "\n",
    "2. Given, A is singular.\n",
    "\n",
    "3. From the definition of singular, det(A) = 0\n",
    "\n",
    "4. From step 1, for any 2 x 2 matrix, det($A^T$) = det(A) = 0\n",
    "\n",
    "5. From the definition of singular, $A^T$ is singular when  A is singular 2 x 2 matrix.\n",
    "\n",
    "(Proved)\n"
   ]
  },
  {
   "cell_type": "markdown",
   "metadata": {},
   "source": [
    "## Deep Dive"
   ]
  },
  {
   "cell_type": "markdown",
   "metadata": {},
   "source": [
    "### 1. A matrix by any other name:"
   ]
  },
  {
   "cell_type": "markdown",
   "metadata": {},
   "source": [
    "**(a)**"
   ]
  },
  {
   "cell_type": "code",
   "execution_count": 70,
   "metadata": {},
   "outputs": [
    {
     "data": {
      "text/html": [
       "<html><script type=\"math/tex; mode=display\">\\newcommand{\\Bold}[1]{\\mathbf{#1}}\\verb|M1|\\phantom{\\verb!x!}\\verb|=| \\left(\\begin{array}{rrrr}\n",
       "0 & 2 & -4 & 2 \\\\\n",
       "1 & 0 & 2 & 1 \\\\\n",
       "4 & -1 & 11 & 2\n",
       "\\end{array}\\right)</script></html>"
      ],
      "text/plain": [
       "'M1 =' [ 0  2 -4  2]\n",
       "[ 1  0  2  1]\n",
       "[ 4 -1 11  2]"
      ]
     },
     "metadata": {},
     "output_type": "display_data"
    },
    {
     "data": {
      "text/html": [
       "<html><script type=\"math/tex; mode=display\">\\newcommand{\\Bold}[1]{\\mathbf{#1}}\\verb|M2|\\phantom{\\verb!x!}\\verb|=| \\left(\\begin{array}{rrrr}\n",
       "2 & -1 & 7 & 0 \\\\\n",
       "0 & 1 & -2 & 1 \\\\\n",
       "5 & 0 & 10 & 5\n",
       "\\end{array}\\right)</script></html>"
      ],
      "text/plain": [
       "'M2 =' [ 2 -1  7  0]\n",
       "[ 0  1 -2  1]\n",
       "[ 5  0 10  5]"
      ]
     },
     "metadata": {},
     "output_type": "display_data"
    }
   ],
   "source": [
    "M1 = matrix([[0,2,-4,2], [1,0,2,1], [4,-1,11,2]])\n",
    "M2 = matrix([[2,-1,7,0],[0,1,-2,1], [5,0,10,5]])\n",
    "show(\"M1 =\",M1)\n",
    "show(\"M2 =\",M2)"
   ]
  },
  {
   "cell_type": "markdown",
   "metadata": {},
   "source": [
    "If two matrices are row-equivalent, then their RREF should be the same. Because, on that case, we can convert one matrix, $M_1$ to the RREF and follow the reverse of the steps, that needed to transform $M_2$ to the RREF, to make $M_1$ and $M_2$ equal."
   ]
  },
  {
   "cell_type": "code",
   "execution_count": 71,
   "metadata": {},
   "outputs": [
    {
     "data": {
      "text/html": [
       "<html><script type=\"math/tex; mode=display\">\\newcommand{\\Bold}[1]{\\mathbf{#1}}\\verb|M1.RREF|\\phantom{\\verb!x!}\\verb|=| \\left(\\begin{array}{rrrr}\n",
       "1 & 0 & 0 & 3 \\\\\n",
       "0 & 1 & 0 & -1 \\\\\n",
       "0 & 0 & 1 & -1\n",
       "\\end{array}\\right)</script></html>"
      ],
      "text/plain": [
       "'M1.RREF =' [ 1  0  0  3]\n",
       "[ 0  1  0 -1]\n",
       "[ 0  0  1 -1]"
      ]
     },
     "metadata": {},
     "output_type": "display_data"
    },
    {
     "data": {
      "text/html": [
       "<html><script type=\"math/tex; mode=display\">\\newcommand{\\Bold}[1]{\\mathbf{#1}}\\verb|M2.RREF|\\phantom{\\verb!x!}\\verb|=| \\left(\\begin{array}{rrrr}\n",
       "1 & 0 & 0 & 3 \\\\\n",
       "0 & 1 & 0 & -1 \\\\\n",
       "0 & 0 & 1 & -1\n",
       "\\end{array}\\right)</script></html>"
      ],
      "text/plain": [
       "'M2.RREF =' [ 1  0  0  3]\n",
       "[ 0  1  0 -1]\n",
       "[ 0  0  1 -1]"
      ]
     },
     "metadata": {},
     "output_type": "display_data"
    }
   ],
   "source": [
    "show('M1.RREF =',M1.rref())\n",
    "show('M2.RREF =',M2.rref())"
   ]
  },
  {
   "cell_type": "markdown",
   "metadata": {},
   "source": [
    "As both of their RREF is similar, $M_1$ and $M_2$ are row-equivalent."
   ]
  },
  {
   "cell_type": "markdown",
   "metadata": {},
   "source": [
    "**(b)**\n",
    "\n",
    "Removing the 3rd column of each matrix, we get,"
   ]
  },
  {
   "cell_type": "code",
   "execution_count": 72,
   "metadata": {},
   "outputs": [
    {
     "data": {
      "text/html": [
       "<html><script type=\"math/tex; mode=display\">\\newcommand{\\Bold}[1]{\\mathbf{#1}}\\verb|N1|\\phantom{\\verb!x!}\\verb|=| \\left(\\begin{array}{rrr}\n",
       "0 & 2 & 2 \\\\\n",
       "1 & 0 & 1 \\\\\n",
       "4 & -1 & 2\n",
       "\\end{array}\\right)</script></html>"
      ],
      "text/plain": [
       "'N1 =' [ 0  2  2]\n",
       "[ 1  0  1]\n",
       "[ 4 -1  2]"
      ]
     },
     "metadata": {},
     "output_type": "display_data"
    },
    {
     "data": {
      "text/html": [
       "<html><script type=\"math/tex; mode=display\">\\newcommand{\\Bold}[1]{\\mathbf{#1}}\\verb|N2|\\phantom{\\verb!x!}\\verb|=| \\left(\\begin{array}{rrr}\n",
       "2 & -1 & 0 \\\\\n",
       "0 & 1 & 1 \\\\\n",
       "5 & 0 & 5\n",
       "\\end{array}\\right)</script></html>"
      ],
      "text/plain": [
       "'N2 =' [ 2 -1  0]\n",
       "[ 0  1  1]\n",
       "[ 5  0  5]"
      ]
     },
     "metadata": {},
     "output_type": "display_data"
    }
   ],
   "source": [
    "## Removing the 3rd column:\n",
    "N1 = matrix([[0,2,2], [1,0,1], [4,-1,2]])\n",
    "N2 = matrix([[2,-1,0],[0,1,1], [5,0,5]])\n",
    "show(\"N1 =\",N1)\n",
    "show(\"N2 =\",N2)"
   ]
  },
  {
   "cell_type": "code",
   "execution_count": 73,
   "metadata": {},
   "outputs": [
    {
     "data": {
      "text/html": [
       "<html><script type=\"math/tex; mode=display\">\\newcommand{\\Bold}[1]{\\mathbf{#1}}\\verb|N1.RREF|\\phantom{\\verb!x!}\\verb|=| \\left(\\begin{array}{rrr}\n",
       "1 & 0 & 0 \\\\\n",
       "0 & 1 & 0 \\\\\n",
       "0 & 0 & 1\n",
       "\\end{array}\\right)</script></html>"
      ],
      "text/plain": [
       "'N1.RREF =' [1 0 0]\n",
       "[0 1 0]\n",
       "[0 0 1]"
      ]
     },
     "metadata": {},
     "output_type": "display_data"
    },
    {
     "data": {
      "text/html": [
       "<html><script type=\"math/tex; mode=display\">\\newcommand{\\Bold}[1]{\\mathbf{#1}}\\verb|N2.RREF|\\phantom{\\verb!x!}\\verb|=| \\left(\\begin{array}{rrr}\n",
       "1 & 0 & 0 \\\\\n",
       "0 & 1 & 0 \\\\\n",
       "0 & 0 & 1\n",
       "\\end{array}\\right)</script></html>"
      ],
      "text/plain": [
       "'N2.RREF =' [1 0 0]\n",
       "[0 1 0]\n",
       "[0 0 1]"
      ]
     },
     "metadata": {},
     "output_type": "display_data"
    }
   ],
   "source": [
    "show('N1.RREF =',N1.rref())\n",
    "show('N2.RREF =',N2.rref())"
   ]
  },
  {
   "cell_type": "markdown",
   "metadata": {},
   "source": [
    "$\\therefore$ Matrices $N_1$ and $N_2$ are still row-equivalent. If I instead remove the fourth column, it should still be row-equivalent because I can still perform the same row operations that I applied to transform $M_1$ to $M_2$. It will work cause in row operations our columns don't interact with each other, so it doesn't matter or affect if I remove a same column from both side.\n",
    "\n",
    "We can check removing 4th column too:"
   ]
  },
  {
   "cell_type": "code",
   "execution_count": 74,
   "metadata": {},
   "outputs": [
    {
     "data": {
      "text/html": [
       "<html><script type=\"math/tex; mode=display\">\\newcommand{\\Bold}[1]{\\mathbf{#1}}\\verb|N3|\\phantom{\\verb!x!}\\verb|=| \\left(\\begin{array}{rrr}\n",
       "0 & 2 & -4 \\\\\n",
       "1 & 0 & 2 \\\\\n",
       "4 & -1 & 11\n",
       "\\end{array}\\right)</script></html>"
      ],
      "text/plain": [
       "'N3 =' [ 0  2 -4]\n",
       "[ 1  0  2]\n",
       "[ 4 -1 11]"
      ]
     },
     "metadata": {},
     "output_type": "display_data"
    },
    {
     "data": {
      "text/html": [
       "<html><script type=\"math/tex; mode=display\">\\newcommand{\\Bold}[1]{\\mathbf{#1}}\\verb|N4|\\phantom{\\verb!x!}\\verb|=| \\left(\\begin{array}{rrr}\n",
       "2 & -1 & 7 \\\\\n",
       "0 & 1 & -2 \\\\\n",
       "5 & 0 & 10\n",
       "\\end{array}\\right)</script></html>"
      ],
      "text/plain": [
       "'N4 =' [ 2 -1  7]\n",
       "[ 0  1 -2]\n",
       "[ 5  0 10]"
      ]
     },
     "metadata": {},
     "output_type": "display_data"
    }
   ],
   "source": [
    "## Test with removing 4th column\n",
    "N3 = matrix([[0,2,-4], [1,0,2], [4,-1,11]])\n",
    "N4 = matrix([[2,-1,7],[0,1,-2], [5,0,10]])\n",
    "show(\"N3 =\",N3)\n",
    "show(\"N4 =\",N4)"
   ]
  },
  {
   "cell_type": "code",
   "execution_count": 75,
   "metadata": {},
   "outputs": [
    {
     "data": {
      "text/html": [
       "<html><script type=\"math/tex; mode=display\">\\newcommand{\\Bold}[1]{\\mathbf{#1}}\\verb|N3.RREF|\\phantom{\\verb!x!}\\verb|=| \\left(\\begin{array}{rrr}\n",
       "1 & 0 & 0 \\\\\n",
       "0 & 1 & 0 \\\\\n",
       "0 & 0 & 1\n",
       "\\end{array}\\right)</script></html>"
      ],
      "text/plain": [
       "'N3.RREF =' [1 0 0]\n",
       "[0 1 0]\n",
       "[0 0 1]"
      ]
     },
     "metadata": {},
     "output_type": "display_data"
    },
    {
     "data": {
      "text/html": [
       "<html><script type=\"math/tex; mode=display\">\\newcommand{\\Bold}[1]{\\mathbf{#1}}\\verb|N4.RREF|\\phantom{\\verb!x!}\\verb|=| \\left(\\begin{array}{rrr}\n",
       "1 & 0 & 0 \\\\\n",
       "0 & 1 & 0 \\\\\n",
       "0 & 0 & 1\n",
       "\\end{array}\\right)</script></html>"
      ],
      "text/plain": [
       "'N4.RREF =' [1 0 0]\n",
       "[0 1 0]\n",
       "[0 0 1]"
      ]
     },
     "metadata": {},
     "output_type": "display_data"
    }
   ],
   "source": [
    "show('N3.RREF =',N3.rref())\n",
    "show('N4.RREF =',N4.rref())"
   ]
  },
  {
   "cell_type": "markdown",
   "metadata": {},
   "source": [
    "$\\therefore$ Matrices $N_3$ and $N_4$ are still row-equivalent."
   ]
  },
  {
   "cell_type": "markdown",
   "metadata": {},
   "source": [
    "**(c)**\n",
    "\n",
    "No, removing same column from a pair of equivalent matrices does not affect the row equivalence.\n",
    "\n",
    "The pair of matrices should still be row-equivalent because we can still perform the same row operations that we applied to transform  the initial matrices to each other. It will work because, in row operations, the columns don't interact with each other, so it doesn't matter or affect the row-equivalence if we remove a same column from both side"
   ]
  },
  {
   "cell_type": "markdown",
   "metadata": {},
   "source": [
    "**(d)**"
   ]
  },
  {
   "cell_type": "code",
   "execution_count": 76,
   "metadata": {},
   "outputs": [],
   "source": [
    "A = matrix([[2,4],[2,9],[4,1]])\n",
    "b = vector([5,-1,20])\n",
    "AA = A.augment(b)\n"
   ]
  },
  {
   "cell_type": "code",
   "execution_count": 77,
   "metadata": {},
   "outputs": [
    {
     "data": {
      "text/html": [
       "<html><script type=\"math/tex; mode=display\">\\newcommand{\\Bold}[1]{\\mathbf{#1}}\\verb|Matrix|\\phantom{\\verb!x!}\\verb|=| \\left(\\begin{array}{rrr}\n",
       "2 & 4 & 5 \\\\\n",
       "2 & 9 & -1 \\\\\n",
       "4 & 1 & 20\n",
       "\\end{array}\\right)</script></html>"
      ],
      "text/plain": [
       "'Matrix =' [ 2  4  5]\n",
       "[ 2  9 -1]\n",
       "[ 4  1 20]"
      ]
     },
     "metadata": {},
     "output_type": "display_data"
    },
    {
     "data": {
      "text/html": [
       "<html><script type=\"math/tex; mode=display\">\\newcommand{\\Bold}[1]{\\mathbf{#1}}\\verb|RREF:| \\left(\\begin{array}{rrr}\n",
       "1 & 0 & 0 \\\\\n",
       "0 & 1 & 0 \\\\\n",
       "0 & 0 & 1\n",
       "\\end{array}\\right)</script></html>"
      ],
      "text/plain": [
       "'RREF: ' [1 0 0]\n",
       "[0 1 0]\n",
       "[0 0 1]"
      ]
     },
     "metadata": {},
     "output_type": "display_data"
    },
    {
     "data": {
      "text/html": [
       "<html><script type=\"math/tex; mode=display\">\\newcommand{\\Bold}[1]{\\mathbf{#1}}\\verb|Coef|\\phantom{\\verb!x!}\\verb|Side:| \\left(\\begin{array}{rr}\n",
       "1 & 0 \\\\\n",
       "0 & 1 \\\\\n",
       "0 & 0\n",
       "\\end{array}\\right)</script></html>"
      ],
      "text/plain": [
       "'Coef Side: ' [1 0]\n",
       "[0 1]\n",
       "[0 0]"
      ]
     },
     "metadata": {},
     "output_type": "display_data"
    }
   ],
   "source": [
    "show(\"Matrix =\", AA)\n",
    "show('RREF: ', AA.rref())\n",
    "show('Coef Side: ', A.rref())"
   ]
  },
  {
   "cell_type": "markdown",
   "metadata": {},
   "source": [
    "We can see in the RREF matrix that the coefficient side didn't become an identity matrix, so there is no unique solution.\n",
    "\n",
    "Now the last line of the RREF matrix says that,\n",
    "\n",
    "$0x + 0y = 1$\n",
    "\n",
    "$\\Rightarrow 0 = 1$\n",
    "\n",
    "This is not possible. As we are getting an inconsistenct here, the system is not consistent and there is no solution for this system."
   ]
  },
  {
   "cell_type": "markdown",
   "metadata": {},
   "source": [
    "**(e)**\n",
    "\n",
    "Removing a row from the augmented side means removing  one equation from the system. If, due to the removal of an equation, the number of independent equation is now lower than the number of variable, it will not have any unique solution set, rather it will have infinity many solution.\n",
    "\n",
    "Similarly, removal of a equation from an inconsistant system, can results in infinity many solution.\n",
    "\n",
    "\n",
    "Again, if there is more independent equations than the number of variables in the initial system, then the system is inconsistent and has no solution set. Then if we remove a equation from the system, it might have a unique solution.\n",
    "\n",
    "\n",
    "From this understanding, we can say that, the effect of removing a row cannot break the row-equivalance. For example, two non-singular matrix is row equivalent as they become an identity matrix in RREF. But if we remove the last equation from both side, both of them will have a infinity many solution set.\n",
    "\n",
    "Similarly, if there are two inconsistent systems and removal of a row removes the inconsistency of one system, it will also remove the inconsistency of the second system, thus they will be row equivalent again."
   ]
  },
  {
   "cell_type": "markdown",
   "metadata": {},
   "source": [
    "**(f)**\n",
    "\n",
    "**(i): True**\n",
    "\n",
    "When two matrices are row equivalent, it means that, in their RREF, both coefficient side and augmented side is exactly the same. Now there could be three cases.\n",
    "\n",
    "1st Case: When the coefficient side is an identity matrix, there is only one unique solution and that is given by the augmented side. As both of their augmented sides are same, their solution set is the same.\n",
    "\n",
    "2nd Case: When one of row of the coefficient side contains only 0 but the augmented side of that row contains a non-zero, the solution will be an empty set. But the row equivalent matrix will also have same RREF, thus its solution is also empty set.\n",
    "\n",
    "3rd case: When one of row of the coefficient side contains only 0 and the augmented side of that row also contains a 0, there could be infinity many solutions and we need a free variable to express the solutions. Now the solution set will be a line whose equation can be expressed from the column vectors derive from the RREF matrices. As both RREF is same, their column vector will also be the same.\n",
    "\n",
    "$\\therefore$ Row-equivalent augmented matrices have the same solution set."
   ]
  },
  {
   "cell_type": "markdown",
   "metadata": {},
   "source": [
    "**(ii): False**\n",
    "\n",
    "Counter-example:"
   ]
  },
  {
   "cell_type": "code",
   "execution_count": 78,
   "metadata": {},
   "outputs": [
    {
     "data": {
      "text/html": [
       "<html><script type=\"math/tex; mode=display\">\\newcommand{\\Bold}[1]{\\mathbf{#1}}\\verb|A|\\phantom{\\verb!x!}\\verb|=| \\left(\\begin{array}{rrr}\n",
       "1 & 0 & 1 \\\\\n",
       "0 & 0 & 1\n",
       "\\end{array}\\right)</script></html>"
      ],
      "text/plain": [
       "'A =' [1 0 1]\n",
       "[0 0 1]"
      ]
     },
     "metadata": {},
     "output_type": "display_data"
    },
    {
     "data": {
      "text/html": [
       "<html><script type=\"math/tex; mode=display\">\\newcommand{\\Bold}[1]{\\mathbf{#1}}\\verb|B|\\phantom{\\verb!x!}\\verb|=| \\left(\\begin{array}{rrr}\n",
       "1 & 0 & 0 \\\\\n",
       "0 & 0 & 1\n",
       "\\end{array}\\right)</script></html>"
      ],
      "text/plain": [
       "'B =' [1 0 0]\n",
       "[0 0 1]"
      ]
     },
     "metadata": {},
     "output_type": "display_data"
    }
   ],
   "source": [
    "A = matrix([[1,0,1],[0,0,1]])\n",
    "B = matrix([[1,0,0],[0,0,1]])\n",
    "show('A =',A)\n",
    "show('B =',B)"
   ]
  },
  {
   "cell_type": "markdown",
   "metadata": {},
   "source": [
    "Both of these matrices have inconsistency in the last line, thus there is no solution set. So their solution set is an empty set.\n",
    "\n",
    "Though their solution set are the same, we can clearly see that they are not row equivalent."
   ]
  },
  {
   "cell_type": "markdown",
   "metadata": {},
   "source": [
    "### 2. *Opening the model*"
   ]
  },
  {
   "cell_type": "markdown",
   "metadata": {},
   "source": [
    "**a) System of equations for Minervalia**\n",
    "\n",
    "Other than the outside demand, they use 0.2 unit of A for each unit of A, 0.1 unit of A for 1 unit of N, ... , 0.1 unit of A for 1 unit of T.\n",
    "\n",
    "As we have total $x_A$ unit of product from A, we can say,\n",
    "\n",
    "$$x_A = 0.2 x_A + 0.1 x_N + ... + 0.1 x_T + 15$$\n",
    "\n",
    "Similarly, we get the following equation from the table:\n",
    "\n",
    "1. $$x_A = 0.2 x_A + 0.1 x_N + 0.05 x_R + 0.3 x_E + 0.1 x_T + 15$$\n",
    "2. $$x_N = 0.1 x_A + 0.2 x_N + 0.1 x_R + 0.05 x_E + 0.2 x_T + 10$$\n",
    "3. $$x_R = 0.4 x_A + 0.3 x_N + 0.1 x_R + 0.1 x_E + 0.25 x_T + 0$$\n",
    "4. $$x_E = 0.3 x_A + 0.1 x_N + 0.2 x_R + 0.4 x_E + 0.2 x_T + 25$$\n",
    "5. $$x_T = 0.1 x_A + 0.1 x_N + 0.1 x_R + 0.05 x_E + 0.25 x_T + 5$$"
   ]
  },
  {
   "cell_type": "markdown",
   "metadata": {},
   "source": [
    "Rearranging the equations to separate the coefficients and the constants, we get, \n",
    "\n",
    "1. $$-0.8 x_A + 0.1 x_N + 0.05 x_R + 0.3 x_E + 0.1 x_T = -15 $$\n",
    "2. $$ 0.1 x_A - 0.8 x_N + 0.1 x_R + 0.05 x_E + 0.2 x_T = -10 $$\n",
    "3. $$ 0.4 x_A + 0.3 x_N - 0.9 x_R + 0.1 x_E + 0.25 x_T = 0 $$\n",
    "4. $$ 0.3 x_A + 0.1 x_N + 0.2 x_R - 0.6 x_E + 0.2 x_T = -25 $$\n",
    "5. $$ 0.1 x_A + 0.1 x_N + 0.1 x_R + 0.05 x_E - 0.75 x_T = -5 $$"
   ]
  },
  {
   "cell_type": "markdown",
   "metadata": {},
   "source": [
    "In the above system of equations, $x_A, x_N, x_R, x_E, x_T$ are the number of units should be produced by respectively Agriculture, Energy, Real Estate, Education and Entertainment sector to satisfy both internal and external demand."
   ]
  },
  {
   "cell_type": "markdown",
   "metadata": {},
   "source": [
    "**(b)**"
   ]
  },
  {
   "cell_type": "code",
   "execution_count": 79,
   "metadata": {},
   "outputs": [
    {
     "data": {
      "text/html": [
       "<html><script type=\"math/tex; mode=display\">\\newcommand{\\Bold}[1]{\\mathbf{#1}}\\verb|M|\\phantom{\\verb!x!}\\verb|=| \\left(\\begin{array}{rrrrr}\n",
       "-\\frac{4}{5} & \\frac{1}{10} & \\frac{1}{20} & \\frac{3}{10} & \\frac{1}{10} \\\\\n",
       "\\frac{1}{10} & -\\frac{4}{5} & \\frac{1}{10} & \\frac{1}{20} & \\frac{1}{5} \\\\\n",
       "\\frac{2}{5} & \\frac{3}{10} & -\\frac{9}{10} & \\frac{1}{10} & \\frac{1}{4} \\\\\n",
       "\\frac{3}{10} & \\frac{1}{10} & \\frac{1}{5} & -\\frac{3}{5} & \\frac{1}{5} \\\\\n",
       "\\frac{1}{10} & \\frac{1}{10} & \\frac{1}{10} & \\frac{1}{20} & -\\frac{3}{4}\n",
       "\\end{array}\\right)</script></html>"
      ],
      "text/plain": [
       "'M =' [ -4/5  1/10  1/20  3/10  1/10]\n",
       "[ 1/10  -4/5  1/10  1/20   1/5]\n",
       "[  2/5  3/10 -9/10  1/10   1/4]\n",
       "[ 3/10  1/10   1/5  -3/5   1/5]\n",
       "[ 1/10  1/10  1/10  1/20  -3/4]"
      ]
     },
     "metadata": {},
     "output_type": "display_data"
    },
    {
     "data": {
      "text/html": [
       "<html><script type=\"math/tex; mode=display\">\\newcommand{\\Bold}[1]{\\mathbf{#1}}\\verb|x|\\phantom{\\verb!x!}\\verb|=| \\left(\\begin{array}{r}\n",
       "x_{A} \\\\\n",
       "x_{N} \\\\\n",
       "x_{R} \\\\\n",
       "x_{E} \\\\\n",
       "x_{T}\n",
       "\\end{array}\\right)</script></html>"
      ],
      "text/plain": [
       "'x =' [x_A]\n",
       "[x_N]\n",
       "[x_R]\n",
       "[x_E]\n",
       "[x_T]"
      ]
     },
     "metadata": {},
     "output_type": "display_data"
    },
    {
     "data": {
      "text/html": [
       "<html><script type=\"math/tex; mode=display\">\\newcommand{\\Bold}[1]{\\mathbf{#1}}\\verb|d|\\phantom{\\verb!x!}\\verb|=| \\left(\\begin{array}{r}\n",
       "-15 \\\\\n",
       "-10 \\\\\n",
       "0 \\\\\n",
       "-25 \\\\\n",
       "-5\n",
       "\\end{array}\\right)</script></html>"
      ],
      "text/plain": [
       "'d =' [-15]\n",
       "[-10]\n",
       "[  0]\n",
       "[-25]\n",
       "[ -5]"
      ]
     },
     "metadata": {},
     "output_type": "display_data"
    }
   ],
   "source": [
    "var('x_A','x_N', 'x_R','x_E','x_T')\n",
    "M = matrix(QQ,[[-0.8,0.1,0.05,0.3,0.1],[0.1,-0.8,0.1,0.05,0.2],[0.4,0.3,-0.9,0.1,0.25],[0.3,0.1,0.2,-0.6,0.2],[0.1,0.1,0.1,0.05,-0.75]])\n",
    "x = vector([x_A, x_N, x_R,x_E,x_T])\n",
    "x = matrix(x).transpose()\n",
    "d = vector([-15,-10,0,-25,-5])\n",
    "d = matrix(d).transpose()\n",
    "show('M =',M)\n",
    "show('x =',x)\n",
    "show('d =',d)"
   ]
  },
  {
   "cell_type": "markdown",
   "metadata": {},
   "source": [
    "Here the $\\vec{x}$ represents the one column matrix with the variables of our system of equations and $\\vec{d}$ represents the augmented side of the system or the constants associated with our system of equations."
   ]
  },
  {
   "cell_type": "markdown",
   "metadata": {},
   "source": [
    "**(c)**\n",
    "\n",
    "We can check the RREF of the coefficient matrix, M as well as the determinant of M. If the det(A) is non-zero and the RREF returns an identity matrix, the matrix M is inversible and thus there is only one unique solution set exists."
   ]
  },
  {
   "cell_type": "code",
   "execution_count": 80,
   "metadata": {},
   "outputs": [
    {
     "data": {
      "text/html": [
       "<html><script type=\"math/tex; mode=display\">\\newcommand{\\Bold}[1]{\\mathbf{#1}}\\verb|RREF|\\phantom{\\verb!x!}\\verb|=| \\left(\\begin{array}{rrrrr}\n",
       "1 & 0 & 0 & 0 & 0 \\\\\n",
       "0 & 1 & 0 & 0 & 0 \\\\\n",
       "0 & 0 & 1 & 0 & 0 \\\\\n",
       "0 & 0 & 0 & 1 & 0 \\\\\n",
       "0 & 0 & 0 & 0 & 1\n",
       "\\end{array}\\right)</script></html>"
      ],
      "text/plain": [
       "'RREF =' [1 0 0 0 0]\n",
       "[0 1 0 0 0]\n",
       "[0 0 1 0 0]\n",
       "[0 0 0 1 0]\n",
       "[0 0 0 0 1]"
      ]
     },
     "metadata": {},
     "output_type": "display_data"
    },
    {
     "data": {
      "text/html": [
       "<html><script type=\"math/tex; mode=display\">\\newcommand{\\Bold}[1]{\\mathbf{#1}}\\verb|det(M)|\\phantom{\\verb!x!}\\verb|=| -\\frac{41227}{400000}</script></html>"
      ],
      "text/plain": [
       "'det(M) =' -41227/400000"
      ]
     },
     "metadata": {},
     "output_type": "display_data"
    }
   ],
   "source": [
    "show('RREF =', M.rref())\n",
    "show('det(M) =', det(M))"
   ]
  },
  {
   "cell_type": "code",
   "execution_count": 81,
   "metadata": {},
   "outputs": [
    {
     "data": {
      "text/html": [
       "<html><script type=\"math/tex; mode=display\">\\newcommand{\\Bold}[1]{\\mathbf{#1}}\\mathrm{True}</script></html>"
      ],
      "text/plain": [
       "True"
      ]
     },
     "execution_count": 81,
     "metadata": {},
     "output_type": "execute_result"
    }
   ],
   "source": [
    "M.is_invertible()"
   ]
  },
  {
   "cell_type": "markdown",
   "metadata": {},
   "source": [
    "Now we can use sage find the inverse matrix and multiply the constant matrix $\\vec{d}$ with the inverse Matrix $M^{-1}$ to the left to derive the solution set."
   ]
  },
  {
   "cell_type": "code",
   "execution_count": 82,
   "metadata": {},
   "outputs": [
    {
     "data": {
      "text/html": [
       "<html><script type=\"math/tex; mode=display\">\\newcommand{\\Bold}[1]{\\mathbf{#1}}\\verb|Inverse|\\phantom{\\verb!x!}\\verb|=| \\left(\\begin{array}{rrrrr}\n",
       "-\\frac{100310}{41227} & -\\frac{37435}{41227} & -\\frac{29085}{41227} & -\\frac{62260}{41227} & -\\frac{49655}{41227} \\\\\n",
       "-\\frac{36670}{41227} & -\\frac{73115}{41227} & -\\frac{21565}{41227} & -\\frac{31350}{41227} & -\\frac{39935}{41227} \\\\\n",
       "-\\frac{76840}{41227} & -\\frac{54610}{41227} & -\\frac{77230}{41227} & -\\frac{61420}{41227} & -\\frac{66930}{41227} \\\\\n",
       "-\\frac{93460}{41227} & -\\frac{57730}{41227} & -\\frac{50690}{41227} & -\\frac{135440}{41227} & -\\frac{80870}{41227} \\\\\n",
       "-\\frac{34740}{41227} & -\\frac{25870}{41227} & -\\frac{20430}{41227} & -\\frac{29700}{41227} & -\\frac{81230}{41227}\n",
       "\\end{array}\\right)</script></html>"
      ],
      "text/plain": [
       "'Inverse =' [-100310/41227  -37435/41227  -29085/41227  -62260/41227  -49655/41227]\n",
       "[ -36670/41227  -73115/41227  -21565/41227  -31350/41227  -39935/41227]\n",
       "[ -76840/41227  -54610/41227  -77230/41227  -61420/41227  -66930/41227]\n",
       "[ -93460/41227  -57730/41227  -50690/41227 -135440/41227  -80870/41227]\n",
       "[ -34740/41227  -25870/41227  -20430/41227  -29700/41227  -81230/41227]"
      ]
     },
     "metadata": {},
     "output_type": "display_data"
    }
   ],
   "source": [
    "show('Inverse =', M.inverse())"
   ]
  },
  {
   "cell_type": "code",
   "execution_count": 83,
   "metadata": {},
   "outputs": [
    {
     "data": {
      "text/html": [
       "<html><script type=\"math/tex; mode=display\">\\newcommand{\\Bold}[1]{\\mathbf{#1}}\\verb|Solution|\\phantom{\\verb!x!}\\verb|Set:| \\left(\\begin{array}{r}\n",
       "x_{A} \\\\\n",
       "x_{N} \\\\\n",
       "x_{R} \\\\\n",
       "x_{E} \\\\\n",
       "x_{T}\n",
       "\\end{array}\\right) \\phantom{\\verb!x!}\\verb|=| \\left(\\begin{array}{r}\n",
       "89.3534576854974 \\\\\n",
       "54.9306279865137 \\\\\n",
       "86.5658427729401 \\\\\n",
       "139.945909234240 \\\\\n",
       "46.7763844082761\n",
       "\\end{array}\\right)</script></html>"
      ],
      "text/plain": [
       "'Solution Set:' [x_A]\n",
       "[x_N]\n",
       "[x_R]\n",
       "[x_E]\n",
       "[x_T] ' = ' [89.3534576854974]\n",
       "[54.9306279865137]\n",
       "[86.5658427729401]\n",
       "[139.945909234240]\n",
       "[46.7763844082761]"
      ]
     },
     "metadata": {},
     "output_type": "display_data"
    }
   ],
   "source": [
    "show('Solution Set:', x, ' = ', (M.inverse()*d).n())"
   ]
  },
  {
   "cell_type": "markdown",
   "metadata": {},
   "source": [
    "**(d)**\n",
    "\n",
    "If any two row becomes equal (or one equals a constant multiplier of the other), then there will one less independent equation available in the system than necessary. Also in RREF, all elements of last row become 0 and the last column becomes a non-pivot column. \n",
    "\n",
    "In that case, the solution set will not be unique. It will be either infinity many solution or no solutions depending on the value of the last element of the augmented side: outside demand for entertainment. \n",
    "\n",
    "If the outside demand is 0, it will be consistent and there will be infinity many solutions. But if the outside demand is non-zero, then there will be an inconsistency and there will be no solution.\n",
    "\n",
    "To make last two rows of our coefficient matrix equal, we can change the table as the following:\n",
    "\n",
    "- | A | N | R  | E | T | Outside Demand \n",
    "--- | --- | --- | --- | --- | --- | ---\n",
    "A |0.2|0.1|0.05|0.3|0.1|15 \n",
    "N |0.1|0.2|0.1|0.05|0.2|10 \n",
    "R |0.4|0.3|0.1|0.1|0.25|0 \n",
    "E |0.3|0.1|0.2|1|0|25 \n",
    "T |0.3|0.1|0.2|0|1|5 "
   ]
  },
  {
   "cell_type": "code",
   "execution_count": 84,
   "metadata": {},
   "outputs": [
    {
     "data": {
      "text/html": [
       "<html><script type=\"math/tex; mode=display\">\\newcommand{\\Bold}[1]{\\mathbf{#1}}\\verb|Coef|\\phantom{\\verb!x!}\\verb|Matrix,|\\phantom{\\verb!x!}\\verb|M|\\phantom{\\verb!x!}\\verb|=| \\left(\\begin{array}{rrrrr}\n",
       "-\\frac{4}{5} & \\frac{1}{10} & \\frac{1}{20} & \\frac{3}{10} & \\frac{1}{10} \\\\\n",
       "\\frac{1}{10} & -\\frac{4}{5} & \\frac{1}{10} & \\frac{1}{20} & \\frac{1}{5} \\\\\n",
       "\\frac{2}{5} & \\frac{3}{10} & -\\frac{9}{10} & \\frac{1}{10} & \\frac{1}{4} \\\\\n",
       "\\frac{3}{10} & \\frac{1}{10} & \\frac{1}{5} & 0 & 0 \\\\\n",
       "\\frac{3}{10} & \\frac{1}{10} & \\frac{1}{5} & 0 & 0\n",
       "\\end{array}\\right)</script></html>"
      ],
      "text/plain": [
       "'Coef Matrix, M =' [ -4/5  1/10  1/20  3/10  1/10]\n",
       "[ 1/10  -4/5  1/10  1/20   1/5]\n",
       "[  2/5  3/10 -9/10  1/10   1/4]\n",
       "[ 3/10  1/10   1/5     0     0]\n",
       "[ 3/10  1/10   1/5     0     0]"
      ]
     },
     "metadata": {},
     "output_type": "display_data"
    },
    {
     "data": {
      "text/html": [
       "<html><script type=\"math/tex; mode=display\">\\newcommand{\\Bold}[1]{\\mathbf{#1}}\\verb|RREF|\\phantom{\\verb!x!}\\verb|of|\\phantom{\\verb!x!}\\verb|M|\\phantom{\\verb!x!}\\verb|=| \\left(\\begin{array}{rrrrr}\n",
       "1 & 0 & 0 & 0 & \\frac{1535}{8786} \\\\\n",
       "0 & 1 & 0 & 0 & -\\frac{1697}{8786} \\\\\n",
       "0 & 0 & 1 & 0 & -\\frac{727}{4393} \\\\\n",
       "0 & 0 & 0 & 1 & \\frac{3915}{4393} \\\\\n",
       "0 & 0 & 0 & 0 & 0\n",
       "\\end{array}\\right)</script></html>"
      ],
      "text/plain": [
       "'RREF of M =' [         1          0          0          0  1535/8786]\n",
       "[         0          1          0          0 -1697/8786]\n",
       "[         0          0          1          0  -727/4393]\n",
       "[         0          0          0          1  3915/4393]\n",
       "[         0          0          0          0          0]"
      ]
     },
     "metadata": {},
     "output_type": "display_data"
    },
    {
     "data": {
      "text/html": [
       "<html><script type=\"math/tex; mode=display\">\\newcommand{\\Bold}[1]{\\mathbf{#1}}\\verb|det(M)|\\phantom{\\verb!x!}\\verb|=| 0</script></html>"
      ],
      "text/plain": [
       "'det(M) =' 0"
      ]
     },
     "metadata": {},
     "output_type": "display_data"
    },
    {
     "data": {
      "text/html": [
       "<html><script type=\"math/tex; mode=display\">\\newcommand{\\Bold}[1]{\\mathbf{#1}}\\verb|d|\\phantom{\\verb!x!}\\verb|=| \\left(\\begin{array}{r}\n",
       "-15 \\\\\n",
       "-10 \\\\\n",
       "0 \\\\\n",
       "-25 \\\\\n",
       "-5\n",
       "\\end{array}\\right)</script></html>"
      ],
      "text/plain": [
       "'d =' [-15]\n",
       "[-10]\n",
       "[  0]\n",
       "[-25]\n",
       "[ -5]"
      ]
     },
     "metadata": {},
     "output_type": "display_data"
    }
   ],
   "source": [
    "M = matrix(QQ,[[-0.8,0.1,0.05,0.3,0.1],[0.1,-0.8,0.1,0.05,0.2],[0.4,0.3,-0.9,0.1,0.25],[0.3,0.1,0.2,0,0],[0.3,0.1,0.2,0,0]])\n",
    "show('Coef Matrix, M =', M)\n",
    "show('RREF of M =', M.rref())\n",
    "show('det(M) =', det(M))\n",
    "d = vector([-15,-10,0,-25,-5])\n",
    "d = matrix(d).transpose()\n",
    "show('d =',d)"
   ]
  },
  {
   "cell_type": "markdown",
   "metadata": {},
   "source": [
    "The last line of coefficient matrix and the constant matrix says,\n",
    "\n",
    "$0 = -5$\n",
    "\n",
    "Due to inconsistency, there is no solution set."
   ]
  },
  {
   "cell_type": "markdown",
   "metadata": {},
   "source": [
    "For infinity many solution, we can change the table as the following:\n",
    "\n",
    "- | A | N | R  | E | T | Outside Demand \n",
    "--- | --- | --- | --- | --- | --- | ---\n",
    "A |0.2|0.1|0.05|0.3|0.1|15 \n",
    "N |0.1|0.2|0.1|0.05|0.2|10 \n",
    "R |0.4|0.3|0.1|0.1|0.25|0 \n",
    "E |0.3|0.1|0.2|1|0|25 \n",
    "T |0.3|0.1|0.2|0|1|0 "
   ]
  },
  {
   "cell_type": "code",
   "execution_count": 85,
   "metadata": {},
   "outputs": [
    {
     "data": {
      "text/html": [
       "<html><script type=\"math/tex; mode=display\">\\newcommand{\\Bold}[1]{\\mathbf{#1}}\\verb|Coef|\\phantom{\\verb!x!}\\verb|Matrix,|\\phantom{\\verb!x!}\\verb|M|\\phantom{\\verb!x!}\\verb|=| \\left(\\begin{array}{rrrrr}\n",
       "-\\frac{4}{5} & \\frac{1}{10} & \\frac{1}{20} & \\frac{3}{10} & \\frac{1}{10} \\\\\n",
       "\\frac{1}{10} & -\\frac{4}{5} & \\frac{1}{10} & \\frac{1}{20} & \\frac{1}{5} \\\\\n",
       "\\frac{2}{5} & \\frac{3}{10} & -\\frac{9}{10} & \\frac{1}{10} & \\frac{1}{4} \\\\\n",
       "\\frac{3}{10} & \\frac{1}{10} & \\frac{1}{5} & 0 & 0 \\\\\n",
       "\\frac{3}{10} & \\frac{1}{10} & \\frac{1}{5} & 0 & 0\n",
       "\\end{array}\\right)</script></html>"
      ],
      "text/plain": [
       "'Coef Matrix, M =' [ -4/5  1/10  1/20  3/10  1/10]\n",
       "[ 1/10  -4/5  1/10  1/20   1/5]\n",
       "[  2/5  3/10 -9/10  1/10   1/4]\n",
       "[ 3/10  1/10   1/5     0     0]\n",
       "[ 3/10  1/10   1/5     0     0]"
      ]
     },
     "metadata": {},
     "output_type": "display_data"
    },
    {
     "data": {
      "text/html": [
       "<html><script type=\"math/tex; mode=display\">\\newcommand{\\Bold}[1]{\\mathbf{#1}}\\verb|RREF|\\phantom{\\verb!x!}\\verb|of|\\phantom{\\verb!x!}\\verb|M|\\phantom{\\verb!x!}\\verb|=| \\left(\\begin{array}{rrrrr}\n",
       "1 & 0 & 0 & 0 & \\frac{1535}{8786} \\\\\n",
       "0 & 1 & 0 & 0 & -\\frac{1697}{8786} \\\\\n",
       "0 & 0 & 1 & 0 & -\\frac{727}{4393} \\\\\n",
       "0 & 0 & 0 & 1 & \\frac{3915}{4393} \\\\\n",
       "0 & 0 & 0 & 0 & 0\n",
       "\\end{array}\\right)</script></html>"
      ],
      "text/plain": [
       "'RREF of M =' [         1          0          0          0  1535/8786]\n",
       "[         0          1          0          0 -1697/8786]\n",
       "[         0          0          1          0  -727/4393]\n",
       "[         0          0          0          1  3915/4393]\n",
       "[         0          0          0          0          0]"
      ]
     },
     "metadata": {},
     "output_type": "display_data"
    },
    {
     "data": {
      "text/html": [
       "<html><script type=\"math/tex; mode=display\">\\newcommand{\\Bold}[1]{\\mathbf{#1}}\\verb|det(M)|\\phantom{\\verb!x!}\\verb|=| 0</script></html>"
      ],
      "text/plain": [
       "'det(M) =' 0"
      ]
     },
     "metadata": {},
     "output_type": "display_data"
    },
    {
     "data": {
      "text/html": [
       "<html><script type=\"math/tex; mode=display\">\\newcommand{\\Bold}[1]{\\mathbf{#1}}\\verb|d|\\phantom{\\verb!x!}\\verb|=| \\left(\\begin{array}{r}\n",
       "-15 \\\\\n",
       "-10 \\\\\n",
       "0 \\\\\n",
       "-25 \\\\\n",
       "0\n",
       "\\end{array}\\right)</script></html>"
      ],
      "text/plain": [
       "'d =' [-15]\n",
       "[-10]\n",
       "[  0]\n",
       "[-25]\n",
       "[  0]"
      ]
     },
     "metadata": {},
     "output_type": "display_data"
    }
   ],
   "source": [
    "M = matrix(QQ,[[-0.8,0.1,0.05,0.3,0.1],[0.1,-0.8,0.1,0.05,0.2],[0.4,0.3,-0.9,0.1,0.25],[0.3,0.1,0.2,0,0],[0.3,0.1,0.2,0,0]])\n",
    "show('Coef Matrix, M =', M)\n",
    "show('RREF of M =', M.rref())\n",
    "show('det(M) =', det(M))\n",
    "d = vector([-15,-10,0,-25,0])\n",
    "d = matrix(d).transpose()\n",
    "show('d =',d)"
   ]
  },
  {
   "cell_type": "markdown",
   "metadata": {},
   "source": [
    "The last line of coefficient matrix and the constant matrix says,\n",
    "\n",
    "$0 = 0$\n",
    "\n",
    "As there is no inconsistency, there will be infinity many solution set."
   ]
  },
  {
   "cell_type": "markdown",
   "metadata": {},
   "source": [
    "In context, if two sector's internal consumptions level are same, while for other sector, it's not, then there will be no unique solution for the system.\n",
    "\n",
    "Now, if any one of them has 0 internal demands, there will be infinity many solutions, but if both of them have outside demands, which is not equal, then there will be no solution set. As both of them has same internal consumptions, at least one product cannot satisfy any outside demand."
   ]
  },
  {
   "cell_type": "markdown",
   "metadata": {},
   "source": [
    "**(e)** **(i)**\n",
    "\n",
    "Similarly as we seen in step (i), other than the outside demand, they use $a_{ij}$ unit of $i$ for each unit of $j$.\n",
    "\n",
    "As we have total $x_i$ unit of product from $i$, we can say,\n",
    "\n",
    "$$x_i = a_{i1} x_1 + a_{i2} x_2 + ... + a_{in} x_n + d_i$$\n",
    "\n",
    "Similarly, we get the following equation from the table:"
   ]
  },
  {
   "cell_type": "markdown",
   "metadata": {},
   "source": [
    "Rearranging the equations to separate the coefficients and the constants, we get,\n",
    "\n",
    "$$ a_{i1} x_1 + a_{i2} x_2 + ... + a_{in} x_n - x_i = - d_i$$\n",
    "\n",
    "So our coefficient matrix will become,\n",
    "\n",
    "M = $\\begin{bmatrix}\n",
    "a_{11}-1 & a_{12} & ... & a_{1n}\\\\\n",
    "a_{21} & a_{22}-1 & ... & a_{2n}\\\\\n",
    "... & ... & ... & ...\\\\\n",
    "a_{n1} & a_{n2} & ... & a_{nn}-1\n",
    "\\end{bmatrix}$\n",
    "\n",
    "The variable matrix,\n",
    "\n",
    "$\\vec{x} = \\begin{bmatrix}\n",
    "x_1\\\\\n",
    "x_2\\\\\n",
    "...\\\\\n",
    "x_n\n",
    "\\end{bmatrix}$\n",
    "\n",
    "The constant matrix, \n",
    "\n",
    "$\\vec{d} = \\begin{bmatrix}\n",
    "-d_1\\\\\n",
    "-d_2\\\\\n",
    "...\\\\\n",
    "-d_n\n",
    "\\end{bmatrix}$"
   ]
  },
  {
   "cell_type": "markdown",
   "metadata": {},
   "source": [
    "**(ii)**\n",
    "\n",
    "A = $[a_{ij}]$, where the entries are the internal production consumptions.\n",
    "\n",
    "$\\therefore M = \\begin{bmatrix}\n",
    "a_{11}-1 & a_{12} & ... & a_{1n}\\\\\n",
    "a_{21} & a_{22}-1 & ... & a_{2n}\\\\\n",
    "... & ... & ... & ...\\\\\n",
    "a_{n1} & a_{n2} & ... & a_{nn}-1\n",
    "\\end{bmatrix}$\n",
    "\n",
    "$ = \\begin{bmatrix}\n",
    "a_{11} & a_{12} & ... & a_{1n}\\\\\n",
    "a_{21} & a_{22} & ... & a_{2n}\\\\\n",
    "... & ... & ... & ...\\\\\n",
    "a_{n1} & a_{n2} & ... & a_{nn}\n",
    "\\end{bmatrix} - \\begin{bmatrix}\n",
    "1 & 0 & ... & 0\\\\\n",
    "0 & 1 & ... & 0\\\\\n",
    "... & ... & ... & ...\\\\\n",
    "0 & 0 & ... & 1\n",
    "\\end{bmatrix}$\n",
    "\n",
    "$ =A - I(n)$"
   ]
  },
  {
   "cell_type": "markdown",
   "metadata": {},
   "source": [
    "**(iii)**\n",
    "\n",
    "The model will have a unique solution, when the matrix $M$ will be inversible. \n",
    "\n",
    "$M = A - I(n)$\n",
    "\n",
    "So, if any of the entries of A, $a_{ij} = 1$, when $(i=j)$, these entiries will become 0 in matrix $M$.\n",
    "\n",
    "We know that there is no row operation to transform 0 to a non-zero number and these entries are the pivot entries of corresponding column of the matrix $M$. \n",
    "\n",
    "So, when any $a_{ij} = 1$, when $(i=j)$, we will have at least one non-pivot column, which means the matrix, $M$ will not be invertible and we will not get a unique solution.\n",
    "\n",
    "$\\therefore$ **Condition:** $a_{ij} = 1$, when $(i=j)$. Contextually, when any sector use 100% of its 1 product to create another product of the same sector."
   ]
  },
  {
   "cell_type": "markdown",
   "metadata": {},
   "source": [
    "**(iv)**\n",
    "\n",
    "Deman vector,\n",
    "\n",
    "$d = \\begin{bmatrix}\n",
    "d_1\\\\\n",
    "d_2\\\\\n",
    "...\\\\\n",
    "d_n\n",
    "\\end{bmatrix}$\n",
    "\n",
    "$\\therefore \\vec{d} = \\begin{bmatrix}\n",
    "-d_1\\\\\n",
    "-d_2\\\\\n",
    "...\\\\\n",
    "-d_n\n",
    "\\end{bmatrix} = (-1) d$\n",
    "\n",
    "From (ii), we get,\n",
    "\n",
    "$M = A - I(3)$\n",
    "\n",
    "Now,\n",
    "\n",
    "$M\\vec{x} = \\vec{d}$\n",
    "\n",
    "$\\Rightarrow (A - I(3))\\, \\vec{x} = (-1)\\,d $\n",
    "\n",
    "$\\Rightarrow (A - I(3))^{-1}\\,(A - I(3))\\, \\vec{x} = (-1)\\,(A - I(3))^{-1}\\,d $\n",
    "\n",
    "$\\therefore \\vec{x} = (-1)\\,(A - I(3))^{-1}\\,d $"
   ]
  },
  {
   "cell_type": "markdown",
   "metadata": {},
   "source": [
    "#### Appendix:\n",
    "\n",
    "**Glossary:**\n",
    "\n",
    "https://docs.google.com/document/d/1Xgfp6yAVkcmclgkypgZh25cZkVIxo1S7Miwp2ihOwDU/edit?usp=sharing\n",
    "\n",
    "**Sage Notebook Link:**\n",
    "\n",
    "https://github.com/mahmud-nobe/CS111A-Final-Assignment/blob/master/CS111B_Assignment_1.ipynb"
   ]
  },
  {
   "cell_type": "code",
   "execution_count": null,
   "metadata": {},
   "outputs": [],
   "source": []
  }
 ],
 "metadata": {
  "kernelspec": {
   "display_name": "SageMath 8.8",
   "language": "sage",
   "name": "sagemath"
  },
  "language_info": {
   "codemirror_mode": {
    "name": "ipython",
    "version": 2
   },
   "file_extension": ".py",
   "mimetype": "text/x-python",
   "name": "python",
   "nbconvert_exporter": "python",
   "pygments_lexer": "ipython2",
   "version": "2.7.15"
  }
 },
 "nbformat": 4,
 "nbformat_minor": 2
}
