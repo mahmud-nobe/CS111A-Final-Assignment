{
 "cells": [
  {
   "cell_type": "markdown",
   "metadata": {},
   "source": [
    "## Linear Transformation"
   ]
  },
  {
   "cell_type": "markdown",
   "metadata": {},
   "source": [
    "#### Session 8.2 Fundamental Subspace"
   ]
  },
  {
   "cell_type": "markdown",
   "metadata": {},
   "source": [
    "Consider the following $3\\times4$ matrices $A$ and $U$. Find a basis and dimension for each of them. \n",
    "\n",
    "$$A = \\begin{bmatrix} 1 & 2 & 0 & 1 \\\\ 0 & 1 & 1 &0 \\\\1 & 2 & 0 & 1 \\end{bmatrix}, U = \\begin{bmatrix} 1 & 0 & -2 & 1 \\\\ 0 & 1 & 1 & 0 \\\\ 0 & 0 & 0 & 0 \\end{bmatrix}.$$\n",
    "\n",
    "**Compare the results. How are these matrices related? How are their subspaces related?**"
   ]
  },
  {
   "cell_type": "markdown",
   "metadata": {},
   "source": [
    "**(A) Column Space, Col(A):**\n",
    "\n",
    "We need to find all possible $\\vec{b}$ that will give valid solutions for $\\vec{x}$ in the system:\n",
    "$$A\\vec{x} = \\vec{b}$$\n",
    "\n",
    "We can take A to RREF to find the linearly independent columns."
   ]
  },
  {
   "cell_type": "code",
   "execution_count": 602,
   "metadata": {
    "scrolled": true
   },
   "outputs": [
    {
     "data": {
      "text/html": [
       "<html><script type=\"math/tex; mode=display\">\\newcommand{\\Bold}[1]{\\mathbf{#1}}\\verb|A|\\phantom{\\verb!x!}\\verb|=| \\left(\\begin{array}{rrrr}\n",
       "1 & 2 & 0 & 1 \\\\\n",
       "0 & 1 & 1 & 0 \\\\\n",
       "1 & 2 & 0 & 1\n",
       "\\end{array}\\right) \\,\\overrightarrow{RREF} \\, \\left(\\begin{array}{rrrr}\n",
       "1 & 0 & -2 & 1 \\\\\n",
       "0 & 1 & 1 & 0 \\\\\n",
       "0 & 0 & 0 & 0\n",
       "\\end{array}\\right)</script></html>"
      ],
      "text/plain": [
       "'A =' [1 2 0 1]\n",
       "[0 1 1 0]\n",
       "[1 2 0 1] \\,\\overrightarrow{RREF} \\, [ 1  0 -2  1]\n",
       "[ 0  1  1  0]\n",
       "[ 0  0  0  0]"
      ]
     },
     "metadata": {},
     "output_type": "display_data"
    }
   ],
   "source": [
    "A = matrix([[1,2,0,1],[0,1,1,0],[1,2,0,1]])\n",
    "show('A =', A, LatexExpr('\\,\\overrightarrow{RREF} \\,'), A.rref())\n"
   ]
  },
  {
   "cell_type": "markdown",
   "metadata": {},
   "source": [
    "1st, 2nd columns are the pivot column, thus they are linearly independent and form the basis of the $Col(A)$.  "
   ]
  },
  {
   "cell_type": "code",
   "execution_count": 603,
   "metadata": {},
   "outputs": [
    {
     "data": {
      "text/html": [
       "<html><script type=\"math/tex; mode=display\">\\newcommand{\\Bold}[1]{\\mathbf{#1}}\\verb|Basis|\\phantom{\\verb!x!}\\verb|of| \\, Col(A) \\verb|=| \\left[\\left(\\begin{array}{r}\n",
       "1 \\\\\n",
       "0 \\\\\n",
       "1\n",
       "\\end{array}\\right), \\left(\\begin{array}{r}\n",
       "2 \\\\\n",
       "1 \\\\\n",
       "2\n",
       "\\end{array}\\right)\\right]</script></html>"
      ],
      "text/plain": [
       "'Basis of ' \\, Col(A) '=' [\n",
       "[1]  [2]\n",
       "[0]  [1]\n",
       "[1], [2]\n",
       "]"
      ]
     },
     "metadata": {},
     "output_type": "display_data"
    }
   ],
   "source": [
    "col_base = []\n",
    "for i in [0,1]:\n",
    "    col_base.append(A[:,i])\n",
    "\n",
    "show('Basis of ', LatexExpr('\\, Col(A)'), '=', col_base)"
   ]
  },
  {
   "cell_type": "markdown",
   "metadata": {},
   "source": [
    "As there is 2 L.I. column, $Dim(Col(A)) = 2$"
   ]
  },
  {
   "cell_type": "markdown",
   "metadata": {},
   "source": [
    "**Null Space, N(A):**\n",
    "\n",
    "We need to find the solution for, \n",
    "$A\\vec{x} = \\vec{0}$\n",
    "\n",
    "We can augment the null vector and take the RREF:"
   ]
  },
  {
   "cell_type": "code",
   "execution_count": 604,
   "metadata": {},
   "outputs": [
    {
     "data": {
      "text/html": [
       "<html><script type=\"math/tex; mode=display\">\\newcommand{\\Bold}[1]{\\mathbf{#1}}\\verb|RREF:| \\left(\\begin{array}{rrrrr}\n",
       "1 & 0 & -2 & 1 & 0 \\\\\n",
       "0 & 1 & 1 & 0 & 0 \\\\\n",
       "0 & 0 & 0 & 0 & 0\n",
       "\\end{array}\\right)</script></html>"
      ],
      "text/plain": [
       "'RREF:' [ 1  0 -2  1  0]\n",
       "[ 0  1  1  0  0]\n",
       "[ 0  0  0  0  0]"
      ]
     },
     "metadata": {},
     "output_type": "display_data"
    }
   ],
   "source": [
    "# augment null vector\n",
    "null = vector([0,0,0])\n",
    "\n",
    "AA = A.augment(null)\n",
    "show('RREF:', AA.rref())"
   ]
  },
  {
   "cell_type": "markdown",
   "metadata": {},
   "source": [
    "- $x_3 = s$\n",
    "- $x_4 = t$\n",
    "- $x_1 - 2 x_3 + x_4= 0 \\rightarrow x_1 = 2s-t$\n",
    "- $x_2 + x_3 = 0 \\rightarrow x_2 = -s$"
   ]
  },
  {
   "cell_type": "markdown",
   "metadata": {},
   "source": [
    "$\\vec{x} = \n",
    "\\begin{bmatrix}\n",
    "2s-t \\\\ -s \\\\ s \\\\ t \n",
    "\\end{bmatrix}\n",
    "= s\\begin{bmatrix}\n",
    "2 \\\\ -1 \\\\ 1 \\\\ 0 \n",
    "\\end{bmatrix}\n",
    "+ t\\begin{bmatrix}\n",
    "-1 \\\\ 0 \\\\ 0 \\\\ 1 \n",
    "\\end{bmatrix}$"
   ]
  },
  {
   "cell_type": "markdown",
   "metadata": {},
   "source": [
    "$\\therefore$ the basis of the null space, $N(A)) = \\left\\{ \n",
    "\\begin{bmatrix}\n",
    "2 \\\\ -1 \\\\ 1 \\\\ 0 \n",
    "\\end{bmatrix}\n",
    ", \\begin{bmatrix}\n",
    "-1 \\\\ 0 \\\\ 0 \\\\ 1 \n",
    "\\end{bmatrix} \\right\\}$\n",
    "\n",
    "$Dim(N(A)) = 2$ "
   ]
  },
  {
   "cell_type": "markdown",
   "metadata": {},
   "source": [
    "**Row Subspace Row(A):**\n",
    "\n",
    "We need to find all possible $\\vec{b}$ that will give valid solutions for $\\vec{y}$ in the system:\n",
    "$$A^T\\vec{y} = \\vec{b}$$\n",
    "\n",
    "We can transpose the matrix and take it to the RREF to find the linearly independent rows:"
   ]
  },
  {
   "cell_type": "code",
   "execution_count": 605,
   "metadata": {},
   "outputs": [
    {
     "data": {
      "text/html": [
       "<html><script type=\"math/tex; mode=display\">\\newcommand{\\Bold}[1]{\\mathbf{#1}}A^T = \\left(\\begin{array}{rrr}\n",
       "1 & 0 & 1 \\\\\n",
       "2 & 1 & 2 \\\\\n",
       "0 & 1 & 0 \\\\\n",
       "1 & 0 & 1\n",
       "\\end{array}\\right) \\overrightarrow{RREF} \\left(\\begin{array}{rrr}\n",
       "1 & 0 & 1 \\\\\n",
       "0 & 1 & 0 \\\\\n",
       "0 & 0 & 0 \\\\\n",
       "0 & 0 & 0\n",
       "\\end{array}\\right)</script></html>"
      ],
      "text/plain": [
       "A^T = [1 0 1]\n",
       "[2 1 2]\n",
       "[0 1 0]\n",
       "[1 0 1] \\overrightarrow{RREF} [1 0 1]\n",
       "[0 1 0]\n",
       "[0 0 0]\n",
       "[0 0 0]"
      ]
     },
     "metadata": {},
     "output_type": "display_data"
    }
   ],
   "source": [
    "# transpose of incidence matrix\n",
    "AT = A.transpose()\n",
    "show(LatexExpr('A^T ='), AT, LatexExpr('\\overrightarrow{RREF}'), AT.rref())\n"
   ]
  },
  {
   "cell_type": "markdown",
   "metadata": {},
   "source": [
    "The 1st and 2nd columns are pivot columns, thus linearly independent. They form the basis of Row(A)."
   ]
  },
  {
   "cell_type": "code",
   "execution_count": 606,
   "metadata": {},
   "outputs": [
    {
     "data": {
      "text/html": [
       "<html><script type=\"math/tex; mode=display\">\\newcommand{\\Bold}[1]{\\mathbf{#1}}\\verb|Basis|\\phantom{\\verb!x!}\\verb|of| \\, Row(A) \\verb|=| \\left[\\left(\\begin{array}{r}\n",
       "1 \\\\\n",
       "2 \\\\\n",
       "0 \\\\\n",
       "1\n",
       "\\end{array}\\right), \\left(\\begin{array}{r}\n",
       "0 \\\\\n",
       "1 \\\\\n",
       "1 \\\\\n",
       "0\n",
       "\\end{array}\\right)\\right]</script></html>"
      ],
      "text/plain": [
       "'Basis of ' \\, Row(A) '=' [\n",
       "[1]  [0]\n",
       "[2]  [1]\n",
       "[0]  [1]\n",
       "[1], [0]\n",
       "]"
      ]
     },
     "metadata": {},
     "output_type": "display_data"
    }
   ],
   "source": [
    "row_base = []\n",
    "for i in [0,1]:\n",
    "    row_base.append(AT[:,i])\n",
    "\n",
    "show('Basis of ', LatexExpr('\\, Row(A)'), '=', row_base)"
   ]
  },
  {
   "cell_type": "markdown",
   "metadata": {},
   "source": [
    "$Dim(Row(A)) = 2$"
   ]
  },
  {
   "cell_type": "markdown",
   "metadata": {},
   "source": [
    "**Left-null Space, $N(A^T):$**\n",
    "\n",
    "We need to find the solution for, \n",
    "$A^T \\, \\vec{y} = \\vec{0}$\n",
    "\n",
    "We can augment null vector with the transpose matrix and take it to RREF:"
   ]
  },
  {
   "cell_type": "code",
   "execution_count": 607,
   "metadata": {},
   "outputs": [
    {
     "data": {
      "text/html": [
       "<html><script type=\"math/tex; mode=display\">\\newcommand{\\Bold}[1]{\\mathbf{#1}}\\verb|RREF:| \\left(\\begin{array}{rrrr}\n",
       "1 & 0 & 1 & 0 \\\\\n",
       "0 & 1 & 0 & 0 \\\\\n",
       "0 & 0 & 0 & 0 \\\\\n",
       "0 & 0 & 0 & 0\n",
       "\\end{array}\\right)</script></html>"
      ],
      "text/plain": [
       "'RREF:' [1 0 1 0]\n",
       "[0 1 0 0]\n",
       "[0 0 0 0]\n",
       "[0 0 0 0]"
      ]
     },
     "metadata": {},
     "output_type": "display_data"
    }
   ],
   "source": [
    "# augment null vector\n",
    "null = vector([0,0,0,0])\n",
    "\n",
    "AAT = AT.augment(null)\n",
    "show('RREF:',AAT.rref())"
   ]
  },
  {
   "cell_type": "markdown",
   "metadata": {},
   "source": [
    "- $y_3 = t$\n",
    "- $y_1 + y_3 = 0 \\rightarrow y_1 = -t$\n",
    "- $y_2 = 0$\n"
   ]
  },
  {
   "cell_type": "markdown",
   "metadata": {},
   "source": [
    "$\\vec{y} = \n",
    "\\begin{bmatrix}\n",
    "-t \\\\ 0 \\\\ t\n",
    "\\end{bmatrix}\n",
    "= t\\begin{bmatrix}\n",
    "-1 \\\\ 0 \\\\ 1\n",
    "\\end{bmatrix}$"
   ]
  },
  {
   "cell_type": "markdown",
   "metadata": {},
   "source": [
    "$\\therefore$ the basis of the left null space, $N(A^T)) = \\left\\{ \n",
    "\\begin{bmatrix}\n",
    "-1 \\\\ 0 \\\\ 1\n",
    "\\end{bmatrix}\n",
    "\\right\\}$\n",
    "\n",
    "$Dim(N(A^T)) = 1$"
   ]
  },
  {
   "cell_type": "markdown",
   "metadata": {},
   "source": [
    "**(U)**\n",
    "\n",
    "**Column Space, Col(U):**\n",
    "\n",
    "We need to find all possible $\\vec{b}$ that will give valid solutions for $\\vec{x}$ in the system:\n",
    "$$U\\vec{x} = \\vec{b}$$\n",
    "\n",
    "We can take U to RREF to find the linearly independent columns."
   ]
  },
  {
   "cell_type": "code",
   "execution_count": 608,
   "metadata": {
    "scrolled": true
   },
   "outputs": [
    {
     "data": {
      "text/html": [
       "<html><script type=\"math/tex; mode=display\">\\newcommand{\\Bold}[1]{\\mathbf{#1}}\\verb|U|\\phantom{\\verb!x!}\\verb|=| \\left(\\begin{array}{rrrr}\n",
       "1 & 0 & -2 & 1 \\\\\n",
       "0 & 1 & 1 & 0 \\\\\n",
       "0 & 0 & 0 & 0\n",
       "\\end{array}\\right) \\,\\overrightarrow{RREF} \\, \\left(\\begin{array}{rrrr}\n",
       "1 & 0 & -2 & 1 \\\\\n",
       "0 & 1 & 1 & 0 \\\\\n",
       "0 & 0 & 0 & 0\n",
       "\\end{array}\\right)</script></html>"
      ],
      "text/plain": [
       "'U =' [ 1  0 -2  1]\n",
       "[ 0  1  1  0]\n",
       "[ 0  0  0  0] \\,\\overrightarrow{RREF} \\, [ 1  0 -2  1]\n",
       "[ 0  1  1  0]\n",
       "[ 0  0  0  0]"
      ]
     },
     "metadata": {},
     "output_type": "display_data"
    }
   ],
   "source": [
    "U = matrix([[1,0,-2,1],[0,1,1,0],[0,0,0,0]])\n",
    "show('U =', U, LatexExpr('\\,\\overrightarrow{RREF} \\,'), U.rref())\n"
   ]
  },
  {
   "cell_type": "markdown",
   "metadata": {},
   "source": [
    "1st and 2nd columns are the pivot column, thus they are linearly independent and form the basis of the $Col(U)$.  "
   ]
  },
  {
   "cell_type": "code",
   "execution_count": 609,
   "metadata": {},
   "outputs": [
    {
     "data": {
      "text/html": [
       "<html><script type=\"math/tex; mode=display\">\\newcommand{\\Bold}[1]{\\mathbf{#1}}\\verb|Basis|\\phantom{\\verb!x!}\\verb|of| \\, Col(U) \\verb|=| \\left[\\left(\\begin{array}{r}\n",
       "1 \\\\\n",
       "0 \\\\\n",
       "0\n",
       "\\end{array}\\right), \\left(\\begin{array}{r}\n",
       "0 \\\\\n",
       "1 \\\\\n",
       "0\n",
       "\\end{array}\\right)\\right]</script></html>"
      ],
      "text/plain": [
       "'Basis of ' \\, Col(U) '=' [\n",
       "[1]  [0]\n",
       "[0]  [1]\n",
       "[0], [0]\n",
       "]"
      ]
     },
     "metadata": {},
     "output_type": "display_data"
    }
   ],
   "source": [
    "col_base = []\n",
    "for i in [0,1]:\n",
    "    col_base.append(U[:,i])\n",
    "\n",
    "show('Basis of ', LatexExpr('\\, Col(U)'), '=', col_base)"
   ]
  },
  {
   "cell_type": "markdown",
   "metadata": {},
   "source": [
    "As there is 2 L.I. columns, $Dim(Col(U)) = 2$"
   ]
  },
  {
   "cell_type": "markdown",
   "metadata": {},
   "source": [
    "**Null Space, N(U):**\n",
    "\n",
    "We need to find the solution for, \n",
    "$U\\vec{x} = \\vec{0}$\n",
    "\n",
    "We can augment the null vector and take the RREF:"
   ]
  },
  {
   "cell_type": "code",
   "execution_count": 610,
   "metadata": {
    "scrolled": true
   },
   "outputs": [
    {
     "data": {
      "text/html": [
       "<html><script type=\"math/tex; mode=display\">\\newcommand{\\Bold}[1]{\\mathbf{#1}}\\verb|RREF:| \\left(\\begin{array}{rrrrr}\n",
       "1 & 0 & -2 & 1 & 0 \\\\\n",
       "0 & 1 & 1 & 0 & 0 \\\\\n",
       "0 & 0 & 0 & 0 & 0\n",
       "\\end{array}\\right)</script></html>"
      ],
      "text/plain": [
       "'RREF:' [ 1  0 -2  1  0]\n",
       "[ 0  1  1  0  0]\n",
       "[ 0  0  0  0  0]"
      ]
     },
     "metadata": {},
     "output_type": "display_data"
    }
   ],
   "source": [
    "# augment null vector\n",
    "null = vector([0,0,0])\n",
    "\n",
    "AU = U.augment(null) # augmented U\n",
    "show('RREF:', AU.rref())"
   ]
  },
  {
   "cell_type": "markdown",
   "metadata": {},
   "source": [
    "- $x_3 = s$\n",
    "- $x_4 = t$\n",
    "- $x_1 - 2 x_3 + x_4= 0 \\rightarrow x_1 = 2s-t$\n",
    "- $x_2 + x_3 = 0 \\rightarrow x_2 = -s$"
   ]
  },
  {
   "cell_type": "markdown",
   "metadata": {},
   "source": [
    "$\\vec{x} = \n",
    "\\begin{bmatrix}\n",
    "2s-t \\\\ -s \\\\ s \\\\ t \n",
    "\\end{bmatrix}\n",
    "= s\\begin{bmatrix}\n",
    "2 \\\\ -1 \\\\ 1 \\\\ 0 \n",
    "\\end{bmatrix}\n",
    "+ t\\begin{bmatrix}\n",
    "-1 \\\\ 0 \\\\ 0 \\\\ 1 \n",
    "\\end{bmatrix}$"
   ]
  },
  {
   "cell_type": "markdown",
   "metadata": {},
   "source": [
    "$\\therefore$ the basis of the null space, $N(U)) = \\left\\{ \n",
    "\\begin{bmatrix}\n",
    "2 \\\\ -1 \\\\ 1 \\\\ 0 \n",
    "\\end{bmatrix}\n",
    ", \\begin{bmatrix}\n",
    "-1 \\\\ 0 \\\\ 0 \\\\ 1 \n",
    "\\end{bmatrix} \\right\\}$\n",
    "\n",
    "$Dim(N(U)) = 2$ "
   ]
  },
  {
   "cell_type": "markdown",
   "metadata": {},
   "source": [
    "**Row Subspace Row(U):**\n",
    "\n",
    "We need to find all possible $\\vec{b}$ that will give valid solutions for $\\vec{y}$ in the system:\n",
    "$$U^T\\vec{y} = \\vec{b}$$\n",
    "\n",
    "We can transpose the matrix and take it to the RREF to find the linearly independent rows:"
   ]
  },
  {
   "cell_type": "code",
   "execution_count": 611,
   "metadata": {},
   "outputs": [
    {
     "data": {
      "text/html": [
       "<html><script type=\"math/tex; mode=display\">\\newcommand{\\Bold}[1]{\\mathbf{#1}}U^T = \\left(\\begin{array}{rrr}\n",
       "1 & 0 & 0 \\\\\n",
       "0 & 1 & 0 \\\\\n",
       "-2 & 1 & 0 \\\\\n",
       "1 & 0 & 0\n",
       "\\end{array}\\right) \\overrightarrow{RREF} \\left(\\begin{array}{rrr}\n",
       "1 & 0 & 0 \\\\\n",
       "0 & 1 & 0 \\\\\n",
       "0 & 0 & 0 \\\\\n",
       "0 & 0 & 0\n",
       "\\end{array}\\right)</script></html>"
      ],
      "text/plain": [
       "U^T = [ 1  0  0]\n",
       "[ 0  1  0]\n",
       "[-2  1  0]\n",
       "[ 1  0  0] \\overrightarrow{RREF} [1 0 0]\n",
       "[0 1 0]\n",
       "[0 0 0]\n",
       "[0 0 0]"
      ]
     },
     "metadata": {},
     "output_type": "display_data"
    }
   ],
   "source": [
    "# transpose of incidence matrix\n",
    "UT = U.transpose()\n",
    "show(LatexExpr('U^T ='), UT, LatexExpr('\\overrightarrow{RREF}'), UT.rref())\n"
   ]
  },
  {
   "cell_type": "markdown",
   "metadata": {},
   "source": [
    "The 1st and 2nd columns are pivot columns, thus linearly independent. They form the basis of Row(U)."
   ]
  },
  {
   "cell_type": "code",
   "execution_count": 612,
   "metadata": {},
   "outputs": [
    {
     "data": {
      "text/html": [
       "<html><script type=\"math/tex; mode=display\">\\newcommand{\\Bold}[1]{\\mathbf{#1}}\\verb|Basis|\\phantom{\\verb!x!}\\verb|of| \\, Row(U) \\verb|=| \\left[\\left(\\begin{array}{r}\n",
       "1 \\\\\n",
       "0 \\\\\n",
       "-2 \\\\\n",
       "1\n",
       "\\end{array}\\right), \\left(\\begin{array}{r}\n",
       "0 \\\\\n",
       "1 \\\\\n",
       "1 \\\\\n",
       "0\n",
       "\\end{array}\\right)\\right]</script></html>"
      ],
      "text/plain": [
       "'Basis of ' \\, Row(U) '=' [\n",
       "[ 1]  [0]\n",
       "[ 0]  [1]\n",
       "[-2]  [1]\n",
       "[ 1], [0]\n",
       "]"
      ]
     },
     "metadata": {},
     "output_type": "display_data"
    }
   ],
   "source": [
    "row_base = []\n",
    "for i in [0,1]:\n",
    "    row_base.append(UT[:,i])\n",
    "\n",
    "show('Basis of ', LatexExpr('\\, Row(U)'), '=', row_base)"
   ]
  },
  {
   "cell_type": "markdown",
   "metadata": {},
   "source": [
    "$Dim(Row(U)) = 2$"
   ]
  },
  {
   "cell_type": "markdown",
   "metadata": {},
   "source": [
    "**Left-null Space, $N(U^T):$**\n",
    "\n",
    "We need to find the solution for, \n",
    "$U^T \\, \\vec{y} = \\vec{0}$\n",
    "\n",
    "We can augment null vector with the transpose matrix and take it to RREF:"
   ]
  },
  {
   "cell_type": "code",
   "execution_count": 613,
   "metadata": {},
   "outputs": [
    {
     "data": {
      "text/html": [
       "<html><script type=\"math/tex; mode=display\">\\newcommand{\\Bold}[1]{\\mathbf{#1}}\\verb|RREF:| \\left(\\begin{array}{rrrr}\n",
       "1 & 0 & 0 & 0 \\\\\n",
       "0 & 1 & 0 & 0 \\\\\n",
       "0 & 0 & 0 & 0 \\\\\n",
       "0 & 0 & 0 & 0\n",
       "\\end{array}\\right)</script></html>"
      ],
      "text/plain": [
       "'RREF:' [1 0 0 0]\n",
       "[0 1 0 0]\n",
       "[0 0 0 0]\n",
       "[0 0 0 0]"
      ]
     },
     "metadata": {},
     "output_type": "display_data"
    }
   ],
   "source": [
    "# augment null vector\n",
    "null = vector([0,0,0,0])\n",
    "\n",
    "AUT = UT.augment(null)\n",
    "show('RREF:',AUT.rref())"
   ]
  },
  {
   "cell_type": "markdown",
   "metadata": {},
   "source": [
    "- $y_3 = t$\n",
    "- $y_1 = 0$\n",
    "- $y_2 = 0$\n"
   ]
  },
  {
   "cell_type": "markdown",
   "metadata": {},
   "source": [
    "$\\vec{y} = \n",
    "\\begin{bmatrix}\n",
    "0 \\\\ 0 \\\\ t\n",
    "\\end{bmatrix}\n",
    "= t\\begin{bmatrix}\n",
    "0 \\\\ 0 \\\\ 1\n",
    "\\end{bmatrix}$"
   ]
  },
  {
   "cell_type": "markdown",
   "metadata": {},
   "source": [
    "$\\therefore$ the basis of the left null space, $N(U^T)) = \\left\\{ \n",
    "\\begin{bmatrix}\n",
    "0 \\\\ 0 \\\\ 1\n",
    "\\end{bmatrix}\n",
    "\\right\\}$\n",
    "\n",
    "$Dim(N(U^T)) = 1$"
   ]
  },
  {
   "cell_type": "markdown",
   "metadata": {},
   "source": [
    "**Comparison:**\n",
    "\n",
    "Both of them has same rank, Rank(A) = Rank(U) = 2.\n",
    "\n",
    "As both of them are 3 x 4 matrix, their column spaces and the left null spaces are the subspaces of $\\mathbb{R}^3$ and the row spaces and the null spaces are the subspaces of $\\mathbb{R}^4$.\n",
    "\n",
    "Then both of the null space is same: $N(A) = N(U)$. We know that the any vectors in the null spaces of a matrix are orthogonal of any vectors in the row spaces of that matrix. So, if two different matrices have the same null space, the must be row equivalant to each other to ensure that their row spaces are orthogonal to the null space. \n",
    "\n",
    "So, here A and U are row equivalent matrix.\n"
   ]
  },
  {
   "cell_type": "code",
   "execution_count": 615,
   "metadata": {},
   "outputs": [
    {
     "data": {
      "text/html": [
       "<html><script type=\"math/tex; mode=display\">\\newcommand{\\Bold}[1]{\\mathbf{#1}}\\verb|A|\\phantom{\\verb!x!}\\verb|=| \\left(\\begin{array}{rrrr}\n",
       "1 & 0 & -2 & 1 \\\\\n",
       "0 & 1 & 1 & 0 \\\\\n",
       "0 & 0 & 0 & 0\n",
       "\\end{array}\\right) \\verb|U|\\phantom{\\verb!x!}\\verb|=| \\left(\\begin{array}{rrrr}\n",
       "1 & 0 & -2 & 1 \\\\\n",
       "0 & 1 & 1 & 0 \\\\\n",
       "0 & 0 & 0 & 0\n",
       "\\end{array}\\right)</script></html>"
      ],
      "text/plain": [
       "'A =' [ 1  0 -2  1]\n",
       "[ 0  1  1  0]\n",
       "[ 0  0  0  0] 'U = ' [ 1  0 -2  1]\n",
       "[ 0  1  1  0]\n",
       "[ 0  0  0  0]"
      ]
     },
     "metadata": {},
     "output_type": "display_data"
    },
    {
     "data": {
      "text/html": [
       "<html><script type=\"math/tex; mode=display\">\\newcommand{\\Bold}[1]{\\mathbf{#1}}\\verb|Row|\\phantom{\\verb!x!}\\verb|equivalance|\\phantom{\\verb!x!}\\verb|of|\\phantom{\\verb!x!}\\verb|A:| \\left(\\begin{array}{rrrr}\n",
       "1 & -2 & -4 & 1 \\\\\n",
       "0 & 1 & 1 & 0 \\\\\n",
       "-1 & 0 & 2 & -1\n",
       "\\end{array}\\right)</script></html>"
      ],
      "text/plain": [
       "'Row equivalance of A: ' [ 1 -2 -4  1]\n",
       "[ 0  1  1  0]\n",
       "[-1  0  2 -1]"
      ]
     },
     "metadata": {},
     "output_type": "display_data"
    }
   ],
   "source": [
    "## Checking\n",
    "show('A =', A, 'U = ', U)\n",
    "\n",
    "# r3 = r3 - r1\n",
    "# r1 = r1 - 2*r2\n",
    "AA = A\n",
    "AA.add_multiple_of_row(2,0,-1)\n",
    "AA.add_multiple_of_row(0,1,-2)\n",
    "\n",
    "show('Row equivalance of A: ', AA)"
   ]
  },
  {
   "cell_type": "markdown",
   "metadata": {},
   "source": [
    "#### Sessions 9.1 and 9.2 Graphs and Networks"
   ]
  },
  {
   "cell_type": "markdown",
   "metadata": {},
   "source": [
    "**Loops and Trees:** Draw a graph with numbered nodes and numbered, directed edges whose incidence matrix is $$A = \\begin{bmatrix} -1 & 1 & 0 & 0 \\\\ -1 & 0 & 1 & 0 \\\\ 0 & 1 & 0 & -1 \\\\ 0 & 0 & -1 & 1 \\end{bmatrix}.$$ "
   ]
  },
  {
   "cell_type": "markdown",
   "metadata": {},
   "source": [
    "**a) Describe which edges form loops in your graph. How do they relate to the nullspace of the incidence matrix $A$?**"
   ]
  },
  {
   "cell_type": "markdown",
   "metadata": {},
   "source": [
    "In the incidence matrix, the rows are edges of the graph and columns are each nodes. In every row, -1 and 1 denotes the source and the target of the directed edge."
   ]
  },
  {
   "cell_type": "code",
   "execution_count": 625,
   "metadata": {},
   "outputs": [],
   "source": [
    "# incidence matrix\n",
    "A = matrix([[-1,1,0,0],[-1,0,1,0],[0,1,0,-1],[0,0,-1,1]])\n"
   ]
  },
  {
   "cell_type": "code",
   "execution_count": 641,
   "metadata": {},
   "outputs": [],
   "source": [
    "g = DiGraph(A.transpose(), format = 'incidence_matrix')\n",
    "\n",
    "\n",
    "# labelling the edges\n",
    "\n",
    "edge = 0 # first edge is 0\n",
    "\n",
    "for i in range(len(list(A))): # for every edge\n",
    "    \n",
    "    # v = source, u = target for each edge\n",
    "    v, u = list(A[i]).index(-1), list(A[i]).index(1) \n",
    "    \n",
    "    # set the edge label\n",
    "    g.set_edge_label(v,u,str(edge))\n",
    "    \n",
    "    # increase the edge number\n",
    "    edge += 1\n"
   ]
  },
  {
   "cell_type": "code",
   "execution_count": 642,
   "metadata": {},
   "outputs": [
    {
     "data": {
      "image/png": "[encoded data removed]",
      "text/plain": [
       "Graphics object consisting of 13 graphics primitives"
      ]
     },
     "metadata": {},
     "output_type": "display_data"
    }
   ],
   "source": [
    "g.show(edge_labels = True, save_pos = True)"
   ]
  },
  {
   "cell_type": "markdown",
   "metadata": {},
   "source": [
    "As we can see from the graph, 0, 1, 2 and 3 no edge form a independent loop, where the flow in the 0th edge have to negative.\n",
    "\n",
    "Null space corresponds to the potential of the nodes, where left null space corresponds to the potential difference or the edges of the graph, so finding loop relates with the left null space.\n",
    "\n",
    "So, from the graph, we can say that the left null space will have only one basis $(dim(N(A^T)) = 1$ and the basis will be,\n",
    "$N(A^T) = \\left\\{ \n",
    "\\begin{bmatrix}\n",
    "-1 \\\\ 1 \\\\ 1 \\\\ 1\n",
    "\\end{bmatrix}\n",
    "\\right\\}$\n",
    "\n",
    "here each element corresponding to each node, where 1 means it is in the loop in the same way as directed and -1 means it is in the loop but in the opposite way as directed."
   ]
  },
  {
   "cell_type": "markdown",
   "metadata": {},
   "source": [
    "**Check by Left Null space: $N(A^T)$**\n",
    "\n",
    "We need to find the solution for, \n",
    "$A^T \\, \\vec{y} = \\vec{0}$\n",
    "\n",
    "We can augment null vector with the transpose matrix and take it to RREF:"
   ]
  },
  {
   "cell_type": "code",
   "execution_count": 643,
   "metadata": {},
   "outputs": [
    {
     "data": {
      "text/html": [
       "<html><script type=\"math/tex; mode=display\">\\newcommand{\\Bold}[1]{\\mathbf{#1}}\\verb|RREF:| \\left(\\begin{array}{rrrrr}\n",
       "1 & 0 & 0 & 1 & 0 \\\\\n",
       "0 & 1 & 0 & -1 & 0 \\\\\n",
       "0 & 0 & 1 & -1 & 0 \\\\\n",
       "0 & 0 & 0 & 0 & 0\n",
       "\\end{array}\\right)</script></html>"
      ],
      "text/plain": [
       "'RREF:' [ 1  0  0  1  0]\n",
       "[ 0  1  0 -1  0]\n",
       "[ 0  0  1 -1  0]\n",
       "[ 0  0  0  0  0]"
      ]
     },
     "metadata": {},
     "output_type": "display_data"
    }
   ],
   "source": [
    "# transpose matrix\n",
    "AT = A.transpose()\n",
    "\n",
    "# augment null vector\n",
    "null = vector([0,0,0,0])\n",
    "\n",
    "AAT = AT.augment(null)\n",
    "show('RREF:', AAT.rref())"
   ]
  },
  {
   "cell_type": "markdown",
   "metadata": {},
   "source": [
    "- $y_4 = t$\n",
    "- $y_1 + y_4 = 0 \\rightarrow y_1 = -t$\n",
    "- $y_2 - y_4 = 0 \\rightarrow y_2 = t$\n",
    "- $y_3 - y_4 = 0 \\rightarrow y_3 = t$\n"
   ]
  },
  {
   "cell_type": "markdown",
   "metadata": {},
   "source": [
    "$\\vec{y} = \n",
    "\\begin{bmatrix}\n",
    "-t \\\\ t \\\\ t \\\\ t\n",
    "\\end{bmatrix}\n",
    "= t\\begin{bmatrix}\n",
    "-1 \\\\ 1 \\\\ 1 \\\\ 1\n",
    "\\end{bmatrix}$"
   ]
  },
  {
   "cell_type": "markdown",
   "metadata": {},
   "source": [
    "$\\therefore$ the basis of the left null space, $N(A^T)) = \\left\\{ \n",
    "\\begin{bmatrix}\n",
    "-1 \\\\ 1 \\\\ 1 \\\\ 1\n",
    "\\end{bmatrix}\n",
    "\\right\\}$\n",
    "\n",
    "$Dim(N(A^T)) = 1$"
   ]
  },
  {
   "cell_type": "markdown",
   "metadata": {},
   "source": [
    "**b) Put $A$ in RREF by hand. Draw the associated graph at each step. The final graph should be a *spanning tree* (i.e., a graph without loops that includes each node).**"
   ]
  },
  {
   "cell_type": "code",
   "execution_count": 644,
   "metadata": {},
   "outputs": [
    {
     "data": {
      "text/html": [
       "<html><script type=\"math/tex; mode=display\">\\newcommand{\\Bold}[1]{\\mathbf{#1}}\\left(\\begin{array}{rrrr}\n",
       "-1 & 1 & 0 & 0 \\\\\n",
       "-1 & 0 & 1 & 0 \\\\\n",
       "0 & 1 & 0 & -1 \\\\\n",
       "0 & 0 & -1 & 1\n",
       "\\end{array}\\right)</script></html>"
      ],
      "text/plain": [
       "[-1  1  0  0]\n",
       "[-1  0  1  0]\n",
       "[ 0  1  0 -1]\n",
       "[ 0  0 -1  1]"
      ]
     },
     "metadata": {},
     "output_type": "display_data"
    },
    {
     "data": {
      "image/png": "[encoded data removed]",
      "text/plain": [
       "Graphics object consisting of 13 graphics primitives"
      ]
     },
     "metadata": {},
     "output_type": "display_data"
    }
   ],
   "source": [
    "## Starting with the initial matrix and the graph\n",
    "\n",
    "AA = A\n",
    "gg = g\n",
    "\n",
    "show(AA)\n",
    "gg.show(edge_labels = True, pos = g.get_pos())"
   ]
  },
  {
   "cell_type": "code",
   "execution_count": 645,
   "metadata": {},
   "outputs": [
    {
     "data": {
      "text/html": [
       "<html><script type=\"math/tex; mode=display\">\\newcommand{\\Bold}[1]{\\mathbf{#1}}\\left(\\begin{array}{rrrr}\n",
       "1 & -1 & 0 & 0 \\\\\n",
       "-1 & 0 & 1 & 0 \\\\\n",
       "0 & 1 & 0 & -1 \\\\\n",
       "0 & 0 & -1 & 1\n",
       "\\end{array}\\right)</script></html>"
      ],
      "text/plain": [
       "[ 1 -1  0  0]\n",
       "[-1  0  1  0]\n",
       "[ 0  1  0 -1]\n",
       "[ 0  0 -1  1]"
      ]
     },
     "metadata": {},
     "output_type": "display_data"
    },
    {
     "data": {
      "image/png": "[encoded data removed]",
      "text/plain": [
       "Graphics object consisting of 13 graphics primitives"
      ]
     },
     "metadata": {},
     "output_type": "display_data"
    }
   ],
   "source": [
    "## r1 = -1*r1\n",
    "AA.rescale_row(0,-1) \n",
    "\n",
    "gg = DiGraph(AA.transpose(), format = 'incidence_matrix')\n",
    "\n",
    "# labelling the edges\n",
    "edge = 0 # first edge is 0\n",
    "for i in range(len(list(AA))): # for every edge\n",
    "    \n",
    "    # v = source, u = target for each edge\n",
    "    v, u = list(AA[i]).index(-1), list(AA[i]).index(1) \n",
    "    \n",
    "    # set the edge label\n",
    "    gg.set_edge_label(v,u,str(edge))\n",
    "    \n",
    "    # increase the edge number\n",
    "    edge += 1\n",
    "\n",
    "show(AA)\n",
    "gg.show(edge_labels = True, pos = g.get_pos())"
   ]
  },
  {
   "cell_type": "code",
   "execution_count": 646,
   "metadata": {},
   "outputs": [
    {
     "data": {
      "text/html": [
       "<html><script type=\"math/tex; mode=display\">\\newcommand{\\Bold}[1]{\\mathbf{#1}}\\left(\\begin{array}{rrrr}\n",
       "1 & -1 & 0 & 0 \\\\\n",
       "0 & -1 & 1 & 0 \\\\\n",
       "0 & 1 & 0 & -1 \\\\\n",
       "0 & 0 & -1 & 1\n",
       "\\end{array}\\right)</script></html>"
      ],
      "text/plain": [
       "[ 1 -1  0  0]\n",
       "[ 0 -1  1  0]\n",
       "[ 0  1  0 -1]\n",
       "[ 0  0 -1  1]"
      ]
     },
     "metadata": {},
     "output_type": "display_data"
    },
    {
     "data": {
      "image/png": "[encoded data removed]",
      "text/plain": [
       "Graphics object consisting of 13 graphics primitives"
      ]
     },
     "metadata": {},
     "output_type": "display_data"
    }
   ],
   "source": [
    "## r2 = r2 + r1\n",
    "AA.add_multiple_of_row(1,0,1)\n",
    "\n",
    "gg = DiGraph(AA.transpose(), format = 'incidence_matrix')\n",
    "\n",
    "# labelling the edges\n",
    "edge = 0 # first edge is 0\n",
    "for i in range(len(list(AA))): # for every edge\n",
    "    \n",
    "    # v = source, u = target for each edge\n",
    "    v, u = list(AA[i]).index(-1), list(AA[i]).index(1) \n",
    "    \n",
    "    # set the edge label\n",
    "    gg.set_edge_label(v,u,str(edge))\n",
    "    \n",
    "    # increase the edge number\n",
    "    edge += 1\n",
    "\n",
    "show(AA)\n",
    "gg.show(edge_labels = True, pos = g.get_pos())"
   ]
  },
  {
   "cell_type": "code",
   "execution_count": 647,
   "metadata": {},
   "outputs": [
    {
     "data": {
      "text/html": [
       "<html><script type=\"math/tex; mode=display\">\\newcommand{\\Bold}[1]{\\mathbf{#1}}\\left(\\begin{array}{rrrr}\n",
       "1 & -1 & 0 & 0 \\\\\n",
       "0 & 1 & -1 & 0 \\\\\n",
       "0 & 1 & 0 & -1 \\\\\n",
       "0 & 0 & -1 & 1\n",
       "\\end{array}\\right)</script></html>"
      ],
      "text/plain": [
       "[ 1 -1  0  0]\n",
       "[ 0  1 -1  0]\n",
       "[ 0  1  0 -1]\n",
       "[ 0  0 -1  1]"
      ]
     },
     "metadata": {},
     "output_type": "display_data"
    },
    {
     "data": {
      "image/png": "[encoded data removed]",
      "text/plain": [
       "Graphics object consisting of 13 graphics primitives"
      ]
     },
     "metadata": {},
     "output_type": "display_data"
    }
   ],
   "source": [
    "## r2 = -1*r2 + r1\n",
    "AA.rescale_row(1,-1)\n",
    "\n",
    "gg = DiGraph(AA.transpose(), format = 'incidence_matrix')\n",
    "\n",
    "# labelling the edges\n",
    "edge = 0 # first edge is 0\n",
    "for i in range(len(list(AA))): # for every edge\n",
    "    \n",
    "    # v = source, u = target for each edge\n",
    "    v, u = list(AA[i]).index(-1), list(AA[i]).index(1) \n",
    "    \n",
    "    # set the edge label\n",
    "    gg.set_edge_label(v,u,str(edge))\n",
    "    \n",
    "    # increase the edge number\n",
    "    edge += 1\n",
    "\n",
    "show(AA)\n",
    "gg.show(edge_labels = True, pos = g.get_pos())"
   ]
  },
  {
   "cell_type": "code",
   "execution_count": 648,
   "metadata": {},
   "outputs": [
    {
     "data": {
      "text/html": [
       "<html><script type=\"math/tex; mode=display\">\\newcommand{\\Bold}[1]{\\mathbf{#1}}\\left(\\begin{array}{rrrr}\n",
       "1 & 0 & -1 & 0 \\\\\n",
       "0 & 1 & -1 & 0 \\\\\n",
       "0 & 0 & 1 & -1 \\\\\n",
       "0 & 0 & -1 & 1\n",
       "\\end{array}\\right)</script></html>"
      ],
      "text/plain": [
       "[ 1  0 -1  0]\n",
       "[ 0  1 -1  0]\n",
       "[ 0  0  1 -1]\n",
       "[ 0  0 -1  1]"
      ]
     },
     "metadata": {},
     "output_type": "display_data"
    },
    {
     "data": {
      "image/png": "[encoded data removed]",
      "text/plain": [
       "Graphics object consisting of 16 graphics primitives"
      ]
     },
     "metadata": {},
     "output_type": "display_data"
    }
   ],
   "source": [
    "## r1 = r1 + r2\n",
    "## r3 = r3 - r2\n",
    "AA.add_multiple_of_row(0,1,1)\n",
    "AA.add_multiple_of_row(2,1,-1)\n",
    "\n",
    "gg = DiGraph(AA.transpose(), format = 'incidence_matrix')\n",
    "\n",
    "# labelling the edges\n",
    "edge = 0 # first edge is 0\n",
    "for i in range(len(list(AA))): # for every edge\n",
    "    \n",
    "    # v = source, u = target for each edge\n",
    "    v, u = list(AA[i]).index(-1), list(AA[i]).index(1) \n",
    "    \n",
    "    # set the edge label\n",
    "    gg.set_edge_label(v,u,str(edge))\n",
    "    \n",
    "    # increase the edge number\n",
    "    edge += 1\n",
    "\n",
    "show(AA)\n",
    "gg.show(edge_labels = True, pos = g.get_pos())"
   ]
  },
  {
   "cell_type": "code",
   "execution_count": 649,
   "metadata": {},
   "outputs": [
    {
     "data": {
      "text/html": [
       "<html><script type=\"math/tex; mode=display\">\\newcommand{\\Bold}[1]{\\mathbf{#1}}\\left(\\begin{array}{rrrr}\n",
       "1 & 0 & 0 & -1 \\\\\n",
       "0 & 1 & 0 & -1 \\\\\n",
       "0 & 0 & 1 & -1 \\\\\n",
       "0 & 0 & 0 & 0\n",
       "\\end{array}\\right)</script></html>"
      ],
      "text/plain": [
       "[ 1  0  0 -1]\n",
       "[ 0  1  0 -1]\n",
       "[ 0  0  1 -1]\n",
       "[ 0  0  0  0]"
      ]
     },
     "metadata": {},
     "output_type": "display_data"
    }
   ],
   "source": [
    "## r1 = r1 + r3\n",
    "## r2 = r2 + r3\n",
    "## r4 = r4 + r3\n",
    "AA.add_multiple_of_row(0,2,1)\n",
    "AA.add_multiple_of_row(1,2,1)\n",
    "AA.add_multiple_of_row(3,2,1)\n",
    "\n",
    "show(AA)"
   ]
  },
  {
   "cell_type": "code",
   "execution_count": 650,
   "metadata": {},
   "outputs": [
    {
     "data": {
      "text/html": [
       "<html><script type=\"math/tex; mode=display\">\\newcommand{\\Bold}[1]{\\mathbf{#1}}\\left(\\begin{array}{rrrr}\n",
       "1 & 0 & 0 & -1 \\\\\n",
       "0 & 1 & 0 & -1 \\\\\n",
       "0 & 0 & 1 & -1 \\\\\n",
       "0 & 0 & 0 & 0\n",
       "\\end{array}\\right)</script></html>"
      ],
      "text/plain": [
       "[ 1  0  0 -1]\n",
       "[ 0  1  0 -1]\n",
       "[ 0  0  1 -1]\n",
       "[ 0  0  0  0]"
      ]
     },
     "metadata": {},
     "output_type": "display_data"
    },
    {
     "data": {
      "image/png": "[encoded data removed]",
      "text/plain": [
       "Graphics object consisting of 11 graphics primitives"
      ]
     },
     "metadata": {},
     "output_type": "display_data"
    }
   ],
   "source": [
    "\n",
    "gg = DiGraph(AA.transpose()[:,:-1], format = 'incidence_matrix')\n",
    "\n",
    "# labelling the edges\n",
    "edge = 0 # first edge is 0\n",
    "for i in range(len(list(AA[:-1]))): # for every edge\n",
    "    \n",
    "    # v = source, u = target for each edge\n",
    "    v, u = list(AA[i]).index(-1), list(AA[i]).index(1) \n",
    "    \n",
    "    # set the edge label\n",
    "    gg.set_edge_label(v,u,str(edge))\n",
    "    \n",
    "    # increase the edge number\n",
    "    edge += 1\n",
    "\n",
    "show(AA)\n",
    "gg.show(edge_labels = True, pos = g.get_pos())"
   ]
  },
  {
   "cell_type": "markdown",
   "metadata": {},
   "source": [
    "**c) Conjecture the relationship between loops in the graph and the rows of the associated incidence matrix.** (Optional Challenge: Prove your conjecture.)"
   ]
  },
  {
   "cell_type": "markdown",
   "metadata": {},
   "source": [
    "From the observation, we can see that in the last matrix (RREF), there is a null row and other three rows are linearly independent. Correspondingly, there is 0 loop in the graph.\n",
    "\n",
    "A null row can be neglected as it doesn't represent any edge. So we can say that in RREF matrix there was no not-null linearly dependent rows.\n",
    "\n",
    "As there is three pivot column in the RREF, we can say that the rank of each of the above matrices is 3 as row operation don't change the rank. As rank = 3, there must be three pivot or linearly independent rows in each matrix. But as all of them has 4 not-null rows (except the RREF), one row is linearly dependent to other rows.\n",
    "\n",
    "Correspondingly there is 1 loop in each of the above graph except the RREF. \n",
    "\n",
    "So we can conjecture that, the number of loop is equal to the number of not-null dependent rows in its incidence matrix."
   ]
  },
  {
   "cell_type": "markdown",
   "metadata": {},
   "source": [
    "**d) Find a basis for $Row(A)$. What is the relationship between $Row(A)$ and the spanning tree you found?**"
   ]
  },
  {
   "cell_type": "markdown",
   "metadata": {},
   "source": [
    "**Row Subspace, Row(A):**\n",
    "\n",
    "We need to find all possible $\\vec{b}$ that will give valid solutions for $\\vec{y}$ in the system:\n",
    "$$A^T\\vec{y} = \\vec{b}$$\n",
    "\n",
    "We can transpose the matrix and take it to the RREF to find the linearly independent rows:"
   ]
  },
  {
   "cell_type": "code",
   "execution_count": 651,
   "metadata": {},
   "outputs": [
    {
     "data": {
      "text/html": [
       "<html><script type=\"math/tex; mode=display\">\\newcommand{\\Bold}[1]{\\mathbf{#1}}A^T = \\left(\\begin{array}{rrrr}\n",
       "1 & 0 & 0 & 0 \\\\\n",
       "0 & 1 & 0 & 0 \\\\\n",
       "0 & 0 & 1 & 0 \\\\\n",
       "-1 & -1 & -1 & 0\n",
       "\\end{array}\\right) \\overrightarrow{RREF} \\left(\\begin{array}{rrrr}\n",
       "1 & 0 & 0 & 0 \\\\\n",
       "0 & 1 & 0 & 0 \\\\\n",
       "0 & 0 & 1 & 0 \\\\\n",
       "0 & 0 & 0 & 0\n",
       "\\end{array}\\right)</script></html>"
      ],
      "text/plain": [
       "A^T = [ 1  0  0  0]\n",
       "[ 0  1  0  0]\n",
       "[ 0  0  1  0]\n",
       "[-1 -1 -1  0] \\overrightarrow{RREF} [1 0 0 0]\n",
       "[0 1 0 0]\n",
       "[0 0 1 0]\n",
       "[0 0 0 0]"
      ]
     },
     "metadata": {},
     "output_type": "display_data"
    }
   ],
   "source": [
    "# transpose of incidence matrix\n",
    "AT = A.transpose()\n",
    "show(LatexExpr('A^T ='), AT, LatexExpr('\\overrightarrow{RREF}'), AT.rref())\n"
   ]
  },
  {
   "cell_type": "markdown",
   "metadata": {},
   "source": [
    "The 1st, 2nd and 3rd columns are pivot columns, thus linearly independent. They form the basis of Row(A)."
   ]
  },
  {
   "cell_type": "code",
   "execution_count": 652,
   "metadata": {},
   "outputs": [
    {
     "data": {
      "text/html": [
       "<html><script type=\"math/tex; mode=display\">\\newcommand{\\Bold}[1]{\\mathbf{#1}}\\verb|Basis|\\phantom{\\verb!x!}\\verb|of| \\, Row(A) \\verb|=| \\left[\\left(\\begin{array}{r}\n",
       "1 \\\\\n",
       "0 \\\\\n",
       "0 \\\\\n",
       "-1\n",
       "\\end{array}\\right), \\left(\\begin{array}{r}\n",
       "0 \\\\\n",
       "1 \\\\\n",
       "0 \\\\\n",
       "-1\n",
       "\\end{array}\\right), \\left(\\begin{array}{r}\n",
       "0 \\\\\n",
       "0 \\\\\n",
       "1 \\\\\n",
       "-1\n",
       "\\end{array}\\right)\\right]</script></html>"
      ],
      "text/plain": [
       "'Basis of ' \\, Row(A) '=' [\n",
       "[ 1]  [ 0]  [ 0]\n",
       "[ 0]  [ 1]  [ 0]\n",
       "[ 0]  [ 0]  [ 1]\n",
       "[-1], [-1], [-1]\n",
       "]"
      ]
     },
     "metadata": {},
     "output_type": "display_data"
    }
   ],
   "source": [
    "row_base = []\n",
    "for i in [0,1,2]:\n",
    "    row_base.append(AT[:,i])\n",
    "\n",
    "show('Basis of ', LatexExpr('\\, Row(A)'), '=', row_base)"
   ]
  },
  {
   "cell_type": "markdown",
   "metadata": {},
   "source": [
    "$Dim(Row(A)) = 3$"
   ]
  },
  {
   "cell_type": "markdown",
   "metadata": {},
   "source": [
    "We can see that the number of edges of the spanning tree equals the dimension of the row space, $Dim(Row(A))$."
   ]
  },
  {
   "cell_type": "markdown",
   "metadata": {},
   "source": [
    "#### Sessions 10.1 \\& 10.2: Linear Transformations and Change of Basis"
   ]
  },
  {
   "cell_type": "markdown",
   "metadata": {},
   "source": [
    "1. **Hip To Be Square**"
   ]
  },
  {
   "cell_type": "markdown",
   "metadata": {},
   "source": [
    "Suppose all vectors $\\vec{v}$ in the unit square $[0,1]\\times [0,1]$ are transformed to $A\\vec{v}$ where $A$ is a $2 \\times 2$ matrix. "
   ]
  },
  {
   "cell_type": "markdown",
   "metadata": {},
   "source": [
    "**a) What is the shape of the transformed region when $A = \\left[ \\begin{array}{cc} 1 & 3 \\\\ 3 & 7 \\end{array} \\right]$?**\n",
    "  \n",
    "*Hint:* What happens to the edges of the region?"
   ]
  },
  {
   "cell_type": "code",
   "execution_count": 653,
   "metadata": {},
   "outputs": [
    {
     "data": {
      "image/png": "[encoded data removed]",
      "text/plain": [
       "Graphics object consisting of 4 graphics primitives"
      ]
     },
     "execution_count": 653,
     "metadata": {},
     "output_type": "execute_result"
    }
   ],
   "source": [
    "## Initial Region\n",
    "\n",
    "# corner nodes\n",
    "null = vector([0,0])\n",
    "a = vector([1,0])\n",
    "b = vector([0,1])\n",
    "c = vector([1,1])\n",
    "\n",
    "# plotting the edges\n",
    "p1 = plot(a)\n",
    "p2 = plot(b)\n",
    "p3 = arrow((a[0],a[1]), (c[0],c[1]))\n",
    "p4 = arrow((b[0],b[1]), (c[0],c[1]))\n",
    "\n",
    "p1+p2+p3+p4"
   ]
  },
  {
   "cell_type": "code",
   "execution_count": 654,
   "metadata": {},
   "outputs": [
    {
     "data": {
      "text/html": [
       "<html><script type=\"math/tex; mode=display\">\\newcommand{\\Bold}[1]{\\mathbf{#1}}\\left(\\begin{array}{rr}\n",
       "1 & 3 \\\\\n",
       "3 & 7\n",
       "\\end{array}\\right) \\left(\\begin{array}{r}\n",
       "0 \\\\\n",
       "0\n",
       "\\end{array}\\right) \\verb|=| \\left(0,\\,0\\right)</script></html>"
      ],
      "text/plain": [
       "[1 3]\n",
       "[3 7] [0]\n",
       "[0] '=' (0, 0)"
      ]
     },
     "metadata": {},
     "output_type": "display_data"
    },
    {
     "data": {
      "text/html": [
       "<html><script type=\"math/tex; mode=display\">\\newcommand{\\Bold}[1]{\\mathbf{#1}}\\left(\\begin{array}{rr}\n",
       "1 & 3 \\\\\n",
       "3 & 7\n",
       "\\end{array}\\right) \\left(\\begin{array}{r}\n",
       "1 \\\\\n",
       "0\n",
       "\\end{array}\\right) \\verb|=| \\left(1,\\,3\\right)</script></html>"
      ],
      "text/plain": [
       "[1 3]\n",
       "[3 7] [1]\n",
       "[0] '=' (1, 3)"
      ]
     },
     "metadata": {},
     "output_type": "display_data"
    },
    {
     "data": {
      "text/html": [
       "<html><script type=\"math/tex; mode=display\">\\newcommand{\\Bold}[1]{\\mathbf{#1}}\\left(\\begin{array}{rr}\n",
       "1 & 3 \\\\\n",
       "3 & 7\n",
       "\\end{array}\\right) \\left(\\begin{array}{r}\n",
       "0 \\\\\n",
       "1\n",
       "\\end{array}\\right) \\verb|=| \\left(3,\\,7\\right)</script></html>"
      ],
      "text/plain": [
       "[1 3]\n",
       "[3 7] [0]\n",
       "[1] '=' (3, 7)"
      ]
     },
     "metadata": {},
     "output_type": "display_data"
    },
    {
     "data": {
      "text/html": [
       "<html><script type=\"math/tex; mode=display\">\\newcommand{\\Bold}[1]{\\mathbf{#1}}\\left(\\begin{array}{rr}\n",
       "1 & 3 \\\\\n",
       "3 & 7\n",
       "\\end{array}\\right) \\left(\\begin{array}{r}\n",
       "1 \\\\\n",
       "1\n",
       "\\end{array}\\right) \\verb|=| \\left(4,\\,10\\right)</script></html>"
      ],
      "text/plain": [
       "[1 3]\n",
       "[3 7] [1]\n",
       "[1] '=' (4, 10)"
      ]
     },
     "metadata": {},
     "output_type": "display_data"
    }
   ],
   "source": [
    "## transformation matrix\n",
    "A = matrix([[1,3],[3,7]])\n",
    "\n",
    "## transforming the corner nodes:\n",
    "null = A*null\n",
    "show(A,matrix(null).transpose(),'=',null)\n",
    "\n",
    "aa = A*a\n",
    "show(A,matrix(a).transpose(),'=',aa)\n",
    "\n",
    "bb = A*b\n",
    "show(A,matrix(b).transpose(),'=',bb)\n",
    "\n",
    "cc = A*c\n",
    "show(A,matrix(c).transpose(),'=',cc)"
   ]
  },
  {
   "cell_type": "code",
   "execution_count": 655,
   "metadata": {},
   "outputs": [
    {
     "data": {
      "image/png": "[encoded data removed]",
      "text/plain": [
       "Graphics object consisting of 8 graphics primitives"
      ]
     },
     "execution_count": 655,
     "metadata": {},
     "output_type": "execute_result"
    }
   ],
   "source": [
    "## initial edges\n",
    "p1 = plot(a)\n",
    "p2 = plot(b)\n",
    "p3 = arrow((a[0],a[1]), (c[0],c[1]))\n",
    "p4 = arrow((b[0],b[1]), (c[0],c[1]))\n",
    "\n",
    "# transformed edges\n",
    "pp1 = plot(aa, color = 'green')\n",
    "pp2 = plot(bb, color = 'green')\n",
    "pp3 = arrow((aa[0],aa[1]), (cc[0],cc[1]), color = 'green')\n",
    "pp4 = arrow((bb[0],bb[1]), (cc[0],cc[1]), color = 'green')\n",
    "\n",
    "p1+p2+p3+p4+pp1+pp2+pp3+pp4"
   ]
  },
  {
   "cell_type": "markdown",
   "metadata": {},
   "source": [
    "So the shape of the transformed region is a parallelogram. "
   ]
  },
  {
   "cell_type": "markdown",
   "metadata": {},
   "source": [
    "**b) In general, what is the shape of the transformed region?**"
   ]
  },
  {
   "cell_type": "markdown",
   "metadata": {},
   "source": [
    "The general shape of the transformed region is a parallelogram. "
   ]
  },
  {
   "cell_type": "markdown",
   "metadata": {},
   "source": [
    "**c) For which matrices $A$ is that region a square?**"
   ]
  },
  {
   "cell_type": "markdown",
   "metadata": {},
   "source": [
    "To be a square we need to transform both of the axis with same magnitude. So the x and y both component should be multiplied by same amount.\n",
    "\n",
    "So, the matrix that will do that is the following:\n",
    "\n",
    "$A = \\begin{bmatrix}\n",
    "a & 0\\\\\n",
    "0 & a\n",
    "\\end{bmatrix}\n",
    "= a\\begin{bmatrix}\n",
    "1 & 0\\\\\n",
    "0 & 1\n",
    "\\end{bmatrix}$\n",
    "\n",
    "Basis of A\n",
    "$= \\left\\{ \\begin{bmatrix}\n",
    "1 & 0\\\\\n",
    "0 & 1\n",
    "\\end{bmatrix} \\right\\}$"
   ]
  },
  {
   "cell_type": "code",
   "execution_count": 656,
   "metadata": {},
   "outputs": [
    {
     "data": {
      "text/html": [
       "<html><script type=\"math/tex; mode=display\">\\newcommand{\\Bold}[1]{\\mathbf{#1}}\\verb|A|\\phantom{\\verb!x!}\\verb|=| \\left(\\begin{array}{rr}\n",
       "2 & 0 \\\\\n",
       "0 & 2\n",
       "\\end{array}\\right)</script></html>"
      ],
      "text/plain": [
       "'A =' [2 0]\n",
       "[0 2]"
      ]
     },
     "metadata": {},
     "output_type": "display_data"
    },
    {
     "data": {
      "text/html": [
       "<html><script type=\"math/tex; mode=display\">\\newcommand{\\Bold}[1]{\\mathbf{#1}}\\left(\\begin{array}{rr}\n",
       "2 & 0 \\\\\n",
       "0 & 2\n",
       "\\end{array}\\right) \\left(\\begin{array}{r}\n",
       "0 \\\\\n",
       "0\n",
       "\\end{array}\\right) \\verb|=| \\left(0,\\,0\\right)</script></html>"
      ],
      "text/plain": [
       "[2 0]\n",
       "[0 2] [0]\n",
       "[0] '=' (0, 0)"
      ]
     },
     "metadata": {},
     "output_type": "display_data"
    },
    {
     "data": {
      "text/html": [
       "<html><script type=\"math/tex; mode=display\">\\newcommand{\\Bold}[1]{\\mathbf{#1}}\\left(\\begin{array}{rr}\n",
       "2 & 0 \\\\\n",
       "0 & 2\n",
       "\\end{array}\\right) \\left(\\begin{array}{r}\n",
       "1 \\\\\n",
       "0\n",
       "\\end{array}\\right) \\verb|=| \\left(2,\\,0\\right)</script></html>"
      ],
      "text/plain": [
       "[2 0]\n",
       "[0 2] [1]\n",
       "[0] '=' (2, 0)"
      ]
     },
     "metadata": {},
     "output_type": "display_data"
    },
    {
     "data": {
      "text/html": [
       "<html><script type=\"math/tex; mode=display\">\\newcommand{\\Bold}[1]{\\mathbf{#1}}\\left(\\begin{array}{rr}\n",
       "2 & 0 \\\\\n",
       "0 & 2\n",
       "\\end{array}\\right) \\left(\\begin{array}{r}\n",
       "0 \\\\\n",
       "1\n",
       "\\end{array}\\right) \\verb|=| \\left(0,\\,2\\right)</script></html>"
      ],
      "text/plain": [
       "[2 0]\n",
       "[0 2] [0]\n",
       "[1] '=' (0, 2)"
      ]
     },
     "metadata": {},
     "output_type": "display_data"
    },
    {
     "data": {
      "text/html": [
       "<html><script type=\"math/tex; mode=display\">\\newcommand{\\Bold}[1]{\\mathbf{#1}}\\left(\\begin{array}{rr}\n",
       "2 & 0 \\\\\n",
       "0 & 2\n",
       "\\end{array}\\right) \\left(\\begin{array}{r}\n",
       "1 \\\\\n",
       "1\n",
       "\\end{array}\\right) \\verb|=| \\left(2,\\,2\\right)</script></html>"
      ],
      "text/plain": [
       "[2 0]\n",
       "[0 2] [1]\n",
       "[1] '=' (2, 2)"
      ]
     },
     "metadata": {},
     "output_type": "display_data"
    }
   ],
   "source": [
    "## checking the answer\n",
    "\n",
    "## transformation matrix\n",
    "A = matrix([[2,0],[0,2]])\n",
    "show('A =',A)\n",
    "\n",
    "## transforming the corner nodes:\n",
    "null = A*null\n",
    "show(A,matrix(null).transpose(),'=',null)\n",
    "\n",
    "aa = A*a\n",
    "show(A,matrix(a).transpose(),'=',aa)\n",
    "\n",
    "bb = A*b\n",
    "show(A,matrix(b).transpose(),'=',bb)\n",
    "\n",
    "cc = A*c\n",
    "show(A,matrix(c).transpose(),'=',cc)"
   ]
  },
  {
   "cell_type": "code",
   "execution_count": 657,
   "metadata": {},
   "outputs": [
    {
     "data": {
      "image/png": "[encoded data removed]",
      "text/plain": [
       "Graphics object consisting of 8 graphics primitives"
      ]
     },
     "execution_count": 657,
     "metadata": {},
     "output_type": "execute_result"
    }
   ],
   "source": [
    "## initial edges\n",
    "p1 = plot(a)\n",
    "p2 = plot(b)\n",
    "p3 = arrow((a[0],a[1]), (c[0],c[1]))\n",
    "p4 = arrow((b[0],b[1]), (c[0],c[1]))\n",
    "\n",
    "# transformed edges\n",
    "pp1 = plot(aa, color = 'green')\n",
    "pp2 = plot(bb, color = 'green')\n",
    "pp3 = arrow((aa[0],aa[1]), (cc[0],cc[1]), color = 'green')\n",
    "pp4 = arrow((bb[0],bb[1]), (cc[0],cc[1]), color = 'green')\n",
    "\n",
    "p1+p2+p3+p4+pp1+pp2+pp3+pp4"
   ]
  },
  {
   "cell_type": "markdown",
   "metadata": {},
   "source": [
    "**d) For which $A$ is that region a line segment?**"
   ]
  },
  {
   "cell_type": "markdown",
   "metadata": {},
   "source": [
    "To be a line we need to transform based on only one component and make the other component 0. Then the first component will work as a scalar multiplication along the same line and the resultant vector will always stay in that line.\n",
    "\n",
    "So, the matrix that will do that is the following:\n",
    "\n",
    "$A = \\begin{bmatrix}\n",
    "0 & a\\\\\n",
    "0 & b\n",
    "\\end{bmatrix}$\n",
    "or\n",
    "$\\begin{bmatrix}\n",
    "a & 0\\\\\n",
    "b & 0\n",
    "\\end{bmatrix}$\n"
   ]
  },
  {
   "cell_type": "code",
   "execution_count": 658,
   "metadata": {},
   "outputs": [
    {
     "data": {
      "text/html": [
       "<html><script type=\"math/tex; mode=display\">\\newcommand{\\Bold}[1]{\\mathbf{#1}}\\verb|A|\\phantom{\\verb!x!}\\verb|=| \\left(\\begin{array}{rr}\n",
       "2 & 0 \\\\\n",
       "3 & 0\n",
       "\\end{array}\\right)</script></html>"
      ],
      "text/plain": [
       "'A =' [2 0]\n",
       "[3 0]"
      ]
     },
     "metadata": {},
     "output_type": "display_data"
    },
    {
     "data": {
      "text/html": [
       "<html><script type=\"math/tex; mode=display\">\\newcommand{\\Bold}[1]{\\mathbf{#1}}\\left(\\begin{array}{rr}\n",
       "2 & 0 \\\\\n",
       "3 & 0\n",
       "\\end{array}\\right) \\left(\\begin{array}{r}\n",
       "0 \\\\\n",
       "0\n",
       "\\end{array}\\right) \\verb|=| \\left(0,\\,0\\right)</script></html>"
      ],
      "text/plain": [
       "[2 0]\n",
       "[3 0] [0]\n",
       "[0] '=' (0, 0)"
      ]
     },
     "metadata": {},
     "output_type": "display_data"
    },
    {
     "data": {
      "text/html": [
       "<html><script type=\"math/tex; mode=display\">\\newcommand{\\Bold}[1]{\\mathbf{#1}}\\left(\\begin{array}{rr}\n",
       "2 & 0 \\\\\n",
       "3 & 0\n",
       "\\end{array}\\right) \\left(\\begin{array}{r}\n",
       "1 \\\\\n",
       "0\n",
       "\\end{array}\\right) \\verb|=| \\left(2,\\,3\\right)</script></html>"
      ],
      "text/plain": [
       "[2 0]\n",
       "[3 0] [1]\n",
       "[0] '=' (2, 3)"
      ]
     },
     "metadata": {},
     "output_type": "display_data"
    },
    {
     "data": {
      "text/html": [
       "<html><script type=\"math/tex; mode=display\">\\newcommand{\\Bold}[1]{\\mathbf{#1}}\\left(\\begin{array}{rr}\n",
       "2 & 0 \\\\\n",
       "3 & 0\n",
       "\\end{array}\\right) \\left(\\begin{array}{r}\n",
       "0 \\\\\n",
       "1\n",
       "\\end{array}\\right) \\verb|=| \\left(0,\\,0\\right)</script></html>"
      ],
      "text/plain": [
       "[2 0]\n",
       "[3 0] [0]\n",
       "[1] '=' (0, 0)"
      ]
     },
     "metadata": {},
     "output_type": "display_data"
    },
    {
     "data": {
      "text/html": [
       "<html><script type=\"math/tex; mode=display\">\\newcommand{\\Bold}[1]{\\mathbf{#1}}\\left(\\begin{array}{rr}\n",
       "2 & 0 \\\\\n",
       "3 & 0\n",
       "\\end{array}\\right) \\left(\\begin{array}{r}\n",
       "1 \\\\\n",
       "1\n",
       "\\end{array}\\right) \\verb|=| \\left(2,\\,3\\right)</script></html>"
      ],
      "text/plain": [
       "[2 0]\n",
       "[3 0] [1]\n",
       "[1] '=' (2, 3)"
      ]
     },
     "metadata": {},
     "output_type": "display_data"
    }
   ],
   "source": [
    "## checking the answer\n",
    "\n",
    "## transformation matrix\n",
    "A = matrix([[2,0],[3,0]])\n",
    "show('A =',A)\n",
    "\n",
    "## transforming the corner nodes:\n",
    "null = A*null\n",
    "show(A,matrix(null).transpose(),'=',null)\n",
    "\n",
    "aa = A*a\n",
    "show(A,matrix(a).transpose(),'=',aa)\n",
    "\n",
    "bb = A*b\n",
    "show(A,matrix(b).transpose(),'=',bb)\n",
    "\n",
    "cc = A*c\n",
    "show(A,matrix(c).transpose(),'=',cc)"
   ]
  },
  {
   "cell_type": "code",
   "execution_count": 659,
   "metadata": {
    "scrolled": false
   },
   "outputs": [
    {
     "data": {
      "image/png": "[encoded data removed]",
      "text/plain": [
       "Graphics object consisting of 8 graphics primitives"
      ]
     },
     "execution_count": 659,
     "metadata": {},
     "output_type": "execute_result"
    }
   ],
   "source": [
    "## initial edges\n",
    "p1 = plot(a)\n",
    "p2 = plot(b)\n",
    "p3 = arrow((a[0],a[1]), (c[0],c[1]))\n",
    "p4 = arrow((b[0],b[1]), (c[0],c[1]))\n",
    "\n",
    "# transformed edges\n",
    "pp1 = plot(aa, color = 'green')\n",
    "pp2 = plot(bb, color = 'green')\n",
    "pp3 = arrow((aa[0],aa[1]), (cc[0],cc[1]), color = 'green')\n",
    "pp4 = arrow((bb[0],bb[1]), (cc[0],cc[1]), color = 'green')\n",
    "\n",
    "p1+p2+p3+p4+pp1+pp2+pp3+pp4"
   ]
  },
  {
   "cell_type": "code",
   "execution_count": 660,
   "metadata": {},
   "outputs": [
    {
     "data": {
      "text/html": [
       "<html><script type=\"math/tex; mode=display\">\\newcommand{\\Bold}[1]{\\mathbf{#1}}\\verb|A|\\phantom{\\verb!x!}\\verb|=| \\left(\\begin{array}{rr}\n",
       "0 & 3 \\\\\n",
       "0 & 4\n",
       "\\end{array}\\right)</script></html>"
      ],
      "text/plain": [
       "'A =' [0 3]\n",
       "[0 4]"
      ]
     },
     "metadata": {},
     "output_type": "display_data"
    },
    {
     "data": {
      "text/html": [
       "<html><script type=\"math/tex; mode=display\">\\newcommand{\\Bold}[1]{\\mathbf{#1}}\\left(\\begin{array}{rr}\n",
       "0 & 3 \\\\\n",
       "0 & 4\n",
       "\\end{array}\\right) \\left(\\begin{array}{r}\n",
       "0 \\\\\n",
       "0\n",
       "\\end{array}\\right) \\verb|=| \\left(0,\\,0\\right)</script></html>"
      ],
      "text/plain": [
       "[0 3]\n",
       "[0 4] [0]\n",
       "[0] '=' (0, 0)"
      ]
     },
     "metadata": {},
     "output_type": "display_data"
    },
    {
     "data": {
      "text/html": [
       "<html><script type=\"math/tex; mode=display\">\\newcommand{\\Bold}[1]{\\mathbf{#1}}\\left(\\begin{array}{rr}\n",
       "0 & 3 \\\\\n",
       "0 & 4\n",
       "\\end{array}\\right) \\left(\\begin{array}{r}\n",
       "1 \\\\\n",
       "0\n",
       "\\end{array}\\right) \\verb|=| \\left(0,\\,0\\right)</script></html>"
      ],
      "text/plain": [
       "[0 3]\n",
       "[0 4] [1]\n",
       "[0] '=' (0, 0)"
      ]
     },
     "metadata": {},
     "output_type": "display_data"
    },
    {
     "data": {
      "text/html": [
       "<html><script type=\"math/tex; mode=display\">\\newcommand{\\Bold}[1]{\\mathbf{#1}}\\left(\\begin{array}{rr}\n",
       "0 & 3 \\\\\n",
       "0 & 4\n",
       "\\end{array}\\right) \\left(\\begin{array}{r}\n",
       "0 \\\\\n",
       "1\n",
       "\\end{array}\\right) \\verb|=| \\left(3,\\,4\\right)</script></html>"
      ],
      "text/plain": [
       "[0 3]\n",
       "[0 4] [0]\n",
       "[1] '=' (3, 4)"
      ]
     },
     "metadata": {},
     "output_type": "display_data"
    },
    {
     "data": {
      "text/html": [
       "<html><script type=\"math/tex; mode=display\">\\newcommand{\\Bold}[1]{\\mathbf{#1}}\\left(\\begin{array}{rr}\n",
       "0 & 3 \\\\\n",
       "0 & 4\n",
       "\\end{array}\\right) \\left(\\begin{array}{r}\n",
       "1 \\\\\n",
       "1\n",
       "\\end{array}\\right) \\verb|=| \\left(3,\\,4\\right)</script></html>"
      ],
      "text/plain": [
       "[0 3]\n",
       "[0 4] [1]\n",
       "[1] '=' (3, 4)"
      ]
     },
     "metadata": {},
     "output_type": "display_data"
    }
   ],
   "source": [
    "## checking the answer\n",
    "\n",
    "## transformation matrix\n",
    "A = matrix([[0,3],[0,4]])\n",
    "show('A =',A)\n",
    "\n",
    "## transforming the corner nodes:\n",
    "null = A*null\n",
    "show(A,matrix(null).transpose(),'=',null)\n",
    "\n",
    "aa = A*a\n",
    "show(A,matrix(a).transpose(),'=',aa)\n",
    "\n",
    "bb = A*b\n",
    "show(A,matrix(b).transpose(),'=',bb)\n",
    "\n",
    "cc = A*c\n",
    "show(A,matrix(c).transpose(),'=',cc)"
   ]
  },
  {
   "cell_type": "code",
   "execution_count": 661,
   "metadata": {
    "scrolled": false
   },
   "outputs": [
    {
     "data": {
      "image/png": "[encoded data removed]",
      "text/plain": [
       "Graphics object consisting of 8 graphics primitives"
      ]
     },
     "execution_count": 661,
     "metadata": {},
     "output_type": "execute_result"
    }
   ],
   "source": [
    "## initial edges\n",
    "p1 = plot(a)\n",
    "p2 = plot(b)\n",
    "p3 = arrow((a[0],a[1]), (c[0],c[1]))\n",
    "p4 = arrow((b[0],b[1]), (c[0],c[1]))\n",
    "\n",
    "# transformed edges\n",
    "pp1 = plot(aa, color = 'green')\n",
    "pp2 = plot(bb, color = 'green')\n",
    "pp3 = arrow((aa[0],aa[1]), (cc[0],cc[1]), color = 'green')\n",
    "pp4 = arrow((bb[0],bb[1]), (cc[0],cc[1]), color = 'green')\n",
    "\n",
    "p1+p2+p3+p4+pp1+pp2+pp3+pp4"
   ]
  },
  {
   "cell_type": "markdown",
   "metadata": {},
   "source": [
    "**e) Optional Challenge: Show that the area of the transformed region is $\\vert det(A) \\vert$.**"
   ]
  },
  {
   "cell_type": "code",
   "execution_count": 662,
   "metadata": {},
   "outputs": [
    {
     "data": {
      "text/html": [
       "<html><script type=\"math/tex; mode=display\">\\newcommand{\\Bold}[1]{\\mathbf{#1}}\\left(\\begin{array}{rr}\n",
       "w & x \\\\\n",
       "y & z\n",
       "\\end{array}\\right) \\left(\\begin{array}{r}\n",
       "0 \\\\\n",
       "0\n",
       "\\end{array}\\right) \\verb|=| \\left(0,\\,0\\right)</script></html>"
      ],
      "text/plain": [
       "[w x]\n",
       "[y z] [0]\n",
       "[0] '=' (0, 0)"
      ]
     },
     "metadata": {},
     "output_type": "display_data"
    },
    {
     "data": {
      "text/html": [
       "<html><script type=\"math/tex; mode=display\">\\newcommand{\\Bold}[1]{\\mathbf{#1}}\\left(\\begin{array}{rr}\n",
       "w & x \\\\\n",
       "y & z\n",
       "\\end{array}\\right) \\left(\\begin{array}{r}\n",
       "1 \\\\\n",
       "0\n",
       "\\end{array}\\right) \\verb|=| \\left(w, y\\right)</script></html>"
      ],
      "text/plain": [
       "[w x]\n",
       "[y z] [1]\n",
       "[0] '=' (w, y)"
      ]
     },
     "metadata": {},
     "output_type": "display_data"
    },
    {
     "data": {
      "text/html": [
       "<html><script type=\"math/tex; mode=display\">\\newcommand{\\Bold}[1]{\\mathbf{#1}}\\left(\\begin{array}{rr}\n",
       "w & x \\\\\n",
       "y & z\n",
       "\\end{array}\\right) \\left(\\begin{array}{r}\n",
       "0 \\\\\n",
       "1\n",
       "\\end{array}\\right) \\verb|=| \\left(x, z\\right)</script></html>"
      ],
      "text/plain": [
       "[w x]\n",
       "[y z] [0]\n",
       "[1] '=' (x, z)"
      ]
     },
     "metadata": {},
     "output_type": "display_data"
    },
    {
     "data": {
      "text/html": [
       "<html><script type=\"math/tex; mode=display\">\\newcommand{\\Bold}[1]{\\mathbf{#1}}\\left(\\begin{array}{rr}\n",
       "w & x \\\\\n",
       "y & z\n",
       "\\end{array}\\right) \\left(\\begin{array}{r}\n",
       "1 \\\\\n",
       "1\n",
       "\\end{array}\\right) \\verb|=| \\left(w + x, y + z\\right)</script></html>"
      ],
      "text/plain": [
       "[w x]\n",
       "[y z] [1]\n",
       "[1] '=' (w + x, y + z)"
      ]
     },
     "metadata": {},
     "output_type": "display_data"
    }
   ],
   "source": [
    "## transformation matrix\n",
    "var('w','x','y','z')\n",
    "A = matrix([[w,x],[y,z]])\n",
    "\n",
    "## transforming the corner nodes:\n",
    "#null = A*null\n",
    "show(A,matrix(null).transpose(),'=',null)\n",
    "\n",
    "#aa = A*a\n",
    "show(A,matrix(a).transpose(),'=', (w,y))\n",
    "\n",
    "#bb = A*b\n",
    "show(A,matrix(b).transpose(),'=', (x,z))\n",
    "\n",
    "#cc = A*c\n",
    "show(A,matrix(c).transpose(),'=', (w+x,y+z))"
   ]
  },
  {
   "cell_type": "markdown",
   "metadata": {},
   "source": [
    "2. **All about that basis**\n",
    "\n",
    "Let $T: \\mathbb{R}^3 \\longrightarrow \\mathbb{R}^3$ be the map given by $T(x,y,z) = (x + 2y + 3z, 3x - 2y + z, 2x - 4y - 2z)$.\n",
    "\n"
   ]
  },
  {
   "cell_type": "markdown",
   "metadata": {},
   "source": [
    "**a) Show that $T$ is a linear transformation.**"
   ]
  },
  {
   "cell_type": "markdown",
   "metadata": {},
   "source": [
    "It need to fullfill two criteria: Closure under addition and closure under scalar addition.\n",
    "\n",
    "1. Closure Under Addition:\n",
    "\n",
    "$T \\left( \\begin{bmatrix}\n",
    "x_1 \\\\ y_1 \\\\ z_1\n",
    "\\end{bmatrix} \\right)\n",
    "+ T \\left( \\begin{bmatrix}\n",
    "x_2 \\\\ y_2 \\\\ z_2\n",
    "\\end{bmatrix} \\right)\n",
    "= \\begin{bmatrix}\n",
    "x_1 + 2y_1 + 3z_1 \\\\\n",
    "3x_1 - 2y_1 + z_1 \\\\\n",
    "2x_1 - 4y_1 - 2z_1\n",
    "\\end{bmatrix}\n",
    "+ \\begin{bmatrix}\n",
    "x_2 + 2y_2 + 3z_2 \\\\\n",
    "3x_2 - 2y_2 + z_2 \\\\\n",
    "2x_2 - 4y_2 - 2z_2\n",
    "\\end{bmatrix}$\n",
    "\n",
    "\n",
    "$= \\begin{bmatrix}\n",
    "x_1 + 2y_1 + 3z_1 + x_2 + 2y_2 + 3z_2\\\\\n",
    "3x_1 - 2y_1 + z_1 + 3x_2 - 2y_2 + z_2\\\\\n",
    "2x_1 - 4y_1 - 2z_1 + 2x_2 - 4y_2 - 2z_2\n",
    "\\end{bmatrix}\n",
    "= \\begin{bmatrix}\n",
    "(x_1 + x_2) + 2(y_1 + y_2) + 3(z_1 + z_2)\\\\\n",
    "3(x_1 + x_2) - 2(y_1 + y_2) + (z_1 + z_2)\\\\\n",
    "2(x_1 + x_2)- 4(y_1 + y_2) - 2(z_1 + z_2)\n",
    "\\end{bmatrix}$\n",
    "\n",
    "$= T \\left( \\begin{bmatrix}\n",
    "x_1 + x_2 \\\\ y_1 + y_2 \\\\ z_1 + z_2\n",
    "\\end{bmatrix} \\right)$"
   ]
  },
  {
   "cell_type": "markdown",
   "metadata": {},
   "source": [
    "2. Closure Under Scalar multiplication:\n",
    "\n",
    "$k T \\left( \\begin{bmatrix}\n",
    "x \\\\ y \\\\ z\n",
    "\\end{bmatrix} \\right)\n",
    "= k \\begin{bmatrix}\n",
    "x + 2y + 3z \\\\\n",
    "3x - 2y + z \\\\\n",
    "2x - 4y - 2z\n",
    "\\end{bmatrix}\n",
    "= \\begin{bmatrix}\n",
    "kx + 2ky + 3kz \\\\\n",
    "3kx - 2ky + kz \\\\\n",
    "2kx - 4ky - 2kz\n",
    "\\end{bmatrix}$\n",
    "\n",
    "$ = T \\left( \\begin{bmatrix}\n",
    "kx \\\\ ky \\\\ kz\n",
    "\\end{bmatrix} \\right)\n",
    "= T \\left( k\\begin{bmatrix}\n",
    "x \\\\ y \\\\ z\n",
    "\\end{bmatrix} \\right)$"
   ]
  },
  {
   "cell_type": "markdown",
   "metadata": {},
   "source": [
    "As it satisfies both criteria, it is a linear transformation."
   ]
  },
  {
   "cell_type": "markdown",
   "metadata": {},
   "source": [
    "**b) Find the matrix $A$ of $T$ with respect to the standard unit basis $E$ of $\\mathbb{R}^3$**"
   ]
  },
  {
   "cell_type": "markdown",
   "metadata": {},
   "source": [
    "If the standard basis are, $E = \\{e_1, e_2, e_3\\}$, then\n",
    "\n",
    "$A = \\begin{bmatrix}\n",
    "| & | & | \\\\\n",
    "T(e_1) & T(e_2) & T(e_3)\\\\\n",
    "| & | & |\n",
    "\\end{bmatrix}\n",
    "= \\begin{bmatrix}\n",
    "T \\left( \\begin{bmatrix}\n",
    "1 \\\\ 0 \\\\ 0\n",
    "\\end{bmatrix} \\right)\n",
    "& T \\left( \\begin{bmatrix}\n",
    "0 \\\\ 1 \\\\ 0\n",
    "\\end{bmatrix} \\right)\n",
    "& T \\left( \\begin{bmatrix}\n",
    "0 \\\\ 0 \\\\ 1\n",
    "\\end{bmatrix} \\right)\n",
    "\\end{bmatrix}$\n",
    "\n"
   ]
  },
  {
   "cell_type": "code",
   "execution_count": 513,
   "metadata": {},
   "outputs": [
    {
     "data": {
      "text/html": [
       "<html><script type=\"math/tex; mode=display\">\\newcommand{\\Bold}[1]{\\mathbf{#1}}\\verb|A|\\phantom{\\verb!x!}\\verb|=| \\left(\\begin{array}{rrr}\n",
       "1 & 2 & 3 \\\\\n",
       "3 & -2 & 1 \\\\\n",
       "2 & -4 & -2\n",
       "\\end{array}\\right)</script></html>"
      ],
      "text/plain": [
       "'A =' [ 1  2  3]\n",
       "[ 3 -2  1]\n",
       "[ 2 -4 -2]"
      ]
     },
     "metadata": {},
     "output_type": "display_data"
    }
   ],
   "source": [
    "var('x','y','z')\n",
    "T(x,y,z) = (x + 2*y + 3*z, 3*x - 2*y + z, 2*x - 4*y - 2*z)\n",
    "\n",
    "E = matrix([[1,0,0],[0,1,0],[0,0,1]])\n",
    "\n",
    "import numpy as np\n",
    "A = np.zeros((3,3))\n",
    "\n",
    "for i in range(3):\n",
    "    x,y,z = E[i]\n",
    "    A[:,i] = T(x,y,z)\n",
    "A = matrix(QQ, A)\n",
    "show('A =',A)"
   ]
  },
  {
   "cell_type": "markdown",
   "metadata": {},
   "source": [
    "**c) Let $S = \\{v_1, v_2, v_3\\} = \\{\\langle 1, 0, -1 \\rangle, \\langle 0, 2, 3 \\rangle, \\langle -1, 3, 0 \\rangle\\}$.**\n",
    "\n",
    "   **i. Show that $S$ is a basis for $\\mathbb{R}^3$.**"
   ]
  },
  {
   "cell_type": "markdown",
   "metadata": {},
   "source": [
    "First criteria: Linearly independent.\n",
    "\n",
    "To check that every vectors in a basis are linearly independent, we can make a matrix with basis in the columns and take it to RREF:"
   ]
  },
  {
   "cell_type": "code",
   "execution_count": 514,
   "metadata": {},
   "outputs": [
    {
     "data": {
      "text/html": [
       "<html><script type=\"math/tex; mode=display\">\\newcommand{\\Bold}[1]{\\mathbf{#1}}\\verb|S=| \\left(\\begin{array}{rrr}\n",
       "1 & 0 & -1 \\\\\n",
       "0 & 2 & 3 \\\\\n",
       "-1 & 3 & 0\n",
       "\\end{array}\\right) \\, \\overrightarrow{RREF} \\, \\left(\\begin{array}{rrr}\n",
       "1 & 0 & 0 \\\\\n",
       "0 & 1 & 0 \\\\\n",
       "0 & 0 & 1\n",
       "\\end{array}\\right)</script></html>"
      ],
      "text/plain": [
       "'S=' [ 1  0 -1]\n",
       "[ 0  2  3]\n",
       "[-1  3  0] \\, \\overrightarrow{RREF} \\, [1 0 0]\n",
       "[0 1 0]\n",
       "[0 0 1]"
      ]
     },
     "metadata": {},
     "output_type": "display_data"
    }
   ],
   "source": [
    "# basis matrix\n",
    "S = matrix([[1,0,-1],[0,2,3],[-1,3,0]])\n",
    "\n",
    "show('S=',S,LatexExpr('\\, \\overrightarrow{RREF} \\,'), S.rref())"
   ]
  },
  {
   "cell_type": "markdown",
   "metadata": {},
   "source": [
    "All the columns are pivot columns, thus all are linearly independent."
   ]
  },
  {
   "cell_type": "markdown",
   "metadata": {},
   "source": [
    "2nd criteria: Spanning all of $R^3$\n",
    "\n",
    "The number of linearly independent column in S is 3, means the $dim(S)$ = 3\n",
    "\n",
    "but, dim($\\mathbb{R}^3$) = 3\n",
    "\n",
    "$\\therefore$ S spans all of $\\mathbb{R}^3$\n",
    "\n",
    "$\\therefore$ S is a basis for $\\mathbb{R}^3$."
   ]
  },
  {
   "cell_type": "markdown",
   "metadata": {},
   "source": [
    "**ii. Find the matrix $B$ of $T$ with respect to $S$.**"
   ]
  },
  {
   "cell_type": "markdown",
   "metadata": {},
   "source": [
    "For a basis, $S = \\{v_1, v_2, v_3\\}$, \n",
    "\n",
    "Transformation matrix,\n",
    "\n",
    "$B = \\begin{bmatrix}\n",
    "| & | & | \\\\\n",
    "T(v_1) & T(v_2) & T(v_3)\\\\\n",
    "| & | & |\n",
    "\\end{bmatrix}\n",
    "= \\begin{bmatrix}\n",
    "T \\left( \\begin{bmatrix}\n",
    "1 \\\\ 0 \\\\ -1\n",
    "\\end{bmatrix} \\right)\n",
    "& T \\left( \\begin{bmatrix}\n",
    "0 \\\\ 2 \\\\ 3\n",
    "\\end{bmatrix} \\right)\n",
    "& T \\left( \\begin{bmatrix}\n",
    "-1 \\\\ 3 \\\\ 0\n",
    "\\end{bmatrix} \\right)\n",
    "\\end{bmatrix}$\n"
   ]
  },
  {
   "cell_type": "code",
   "execution_count": 522,
   "metadata": {},
   "outputs": [
    {
     "data": {
      "text/html": [
       "<html><script type=\"math/tex; mode=display\">\\newcommand{\\Bold}[1]{\\mathbf{#1}}B_e = \\left(\\begin{array}{rrr}\n",
       "-2 & 13 & 5 \\\\\n",
       "2 & -1 & -9 \\\\\n",
       "4 & -14 & -14\n",
       "\\end{array}\\right)</script></html>"
      ],
      "text/plain": [
       "B_e = [ -2  13   5]\n",
       "[  2  -1  -9]\n",
       "[  4 -14 -14]"
      ]
     },
     "metadata": {},
     "output_type": "display_data"
    }
   ],
   "source": [
    "B = np.zeros((3,3))\n",
    "\n",
    "for i in range(3):\n",
    "    x,y,z = S[i] # x,y,z = elements of the S basis, v_i\n",
    "    B[:,i] = T(x,y,z) # each column of B = T(v_i)\n",
    "\n",
    "B = matrix(QQ, B)\n",
    "show(LatexExpr('B_e ='),B)"
   ]
  },
  {
   "cell_type": "markdown",
   "metadata": {},
   "source": [
    "But this matrix is expressed in standard basis. To convert it into S basis we can use the change of basis matrix, $Q_{E\\rightarrow S}$. As we found $P_{S\\rightarrow E} = S$ in the next question, then $Q_{E\\rightarrow S}$ = $P^{-1}$."
   ]
  },
  {
   "cell_type": "code",
   "execution_count": 523,
   "metadata": {},
   "outputs": [
    {
     "data": {
      "text/html": [
       "<html><script type=\"math/tex; mode=display\">\\newcommand{\\Bold}[1]{\\mathbf{#1}}B_s = \\left(\\begin{array}{rrr}\n",
       "-\\frac{20}{11} & \\frac{142}{11} & \\frac{46}{11} \\\\\n",
       "\\frac{8}{11} & -\\frac{4}{11} & -\\frac{36}{11} \\\\\n",
       "\\frac{2}{11} & -\\frac{1}{11} & -\\frac{9}{11}\n",
       "\\end{array}\\right)</script></html>"
      ],
      "text/plain": [
       "B_s = [-20/11 142/11  46/11]\n",
       "[  8/11  -4/11 -36/11]\n",
       "[  2/11  -1/11  -9/11]"
      ]
     },
     "metadata": {},
     "output_type": "display_data"
    }
   ],
   "source": [
    "P = S\n",
    "\n",
    "B = P^-1*B\n",
    "show(LatexExpr('B_s ='),B)"
   ]
  },
  {
   "cell_type": "markdown",
   "metadata": {},
   "source": [
    "**iii. Find the change-of-basis matrix $P$ from $S$ to $E$.**"
   ]
  },
  {
   "cell_type": "markdown",
   "metadata": {},
   "source": [
    "Every column of the change-of-basis matrix $P_{S \\rightarrow E}$. is the coordinates of the vectors of $S\\{(v_1,v_2,v_3)\\}$ expressed in the basis of $E \\{(e_1, e_2, e_3)\\}$.\n",
    "\n",
    "But $S\\{(v_1,v_2,v_3)\\}$ is already expressed in the basis of E.\n",
    "\n",
    "$\\therefore P_{S \\rightarrow E}\n",
    "=\\begin{bmatrix}\n",
    "| & | & | \\\\\n",
    "[v_1]_E & [v_2]_E & [v_3]_E\\\\\n",
    "| & | & | \\\\\n",
    "\\end{bmatrix}\n",
    "= \\begin{bmatrix}\n",
    "1 & 0 & -1\\\\\n",
    "0 & 2 & 3\\\\\n",
    "-1 & 3 & 0\n",
    "\\end{bmatrix}$"
   ]
  },
  {
   "cell_type": "markdown",
   "metadata": {},
   "source": [
    "**iv. Show that $B = P^{-1}AP$. Explain the mechanics behind this relationship.**\n"
   ]
  },
  {
   "cell_type": "code",
   "execution_count": 525,
   "metadata": {},
   "outputs": [
    {
     "data": {
      "text/html": [
       "<html><script type=\"math/tex; mode=display\">\\newcommand{\\Bold}[1]{\\mathbf{#1}}\\verb|P=| \\left(\\begin{array}{rrr}\n",
       "1 & 0 & -1 \\\\\n",
       "0 & 2 & 3 \\\\\n",
       "-1 & 3 & 0\n",
       "\\end{array}\\right)</script></html>"
      ],
      "text/plain": [
       "'P=' [ 1  0 -1]\n",
       "[ 0  2  3]\n",
       "[-1  3  0]"
      ]
     },
     "metadata": {},
     "output_type": "display_data"
    },
    {
     "data": {
      "text/html": [
       "<html><script type=\"math/tex; mode=display\">\\newcommand{\\Bold}[1]{\\mathbf{#1}}P^{-1} = \\left(\\begin{array}{rrr}\n",
       "\\frac{9}{11} & \\frac{3}{11} & -\\frac{2}{11} \\\\\n",
       "\\frac{3}{11} & \\frac{1}{11} & \\frac{3}{11} \\\\\n",
       "-\\frac{2}{11} & \\frac{3}{11} & -\\frac{2}{11}\n",
       "\\end{array}\\right)</script></html>"
      ],
      "text/plain": [
       "P^{-1} = [ 9/11  3/11 -2/11]\n",
       "[ 3/11  1/11  3/11]\n",
       "[-2/11  3/11 -2/11]"
      ]
     },
     "metadata": {},
     "output_type": "display_data"
    },
    {
     "data": {
      "text/html": [
       "<html><script type=\"math/tex; mode=display\">\\newcommand{\\Bold}[1]{\\mathbf{#1}}\\verb|A=| \\left(\\begin{array}{rrr}\n",
       "1 & 2 & 3 \\\\\n",
       "3 & -2 & 1 \\\\\n",
       "2 & -4 & -2\n",
       "\\end{array}\\right)</script></html>"
      ],
      "text/plain": [
       "'A=' [ 1  2  3]\n",
       "[ 3 -2  1]\n",
       "[ 2 -4 -2]"
      ]
     },
     "metadata": {},
     "output_type": "display_data"
    },
    {
     "data": {
      "text/html": [
       "<html><script type=\"math/tex; mode=display\">\\newcommand{\\Bold}[1]{\\mathbf{#1}}P^{-1}  A P = \\left(\\begin{array}{rrr}\n",
       "\\frac{9}{11} & \\frac{3}{11} & -\\frac{2}{11} \\\\\n",
       "\\frac{3}{11} & \\frac{1}{11} & \\frac{3}{11} \\\\\n",
       "-\\frac{2}{11} & \\frac{3}{11} & -\\frac{2}{11}\n",
       "\\end{array}\\right) \\left(\\begin{array}{rrr}\n",
       "1 & 2 & 3 \\\\\n",
       "3 & -2 & 1 \\\\\n",
       "2 & -4 & -2\n",
       "\\end{array}\\right) \\left(\\begin{array}{rrr}\n",
       "1 & 0 & -1 \\\\\n",
       "0 & 2 & 3 \\\\\n",
       "-1 & 3 & 0\n",
       "\\end{array}\\right)</script></html>"
      ],
      "text/plain": [
       "P^{-1}  A P = [ 9/11  3/11 -2/11]\n",
       "[ 3/11  1/11  3/11]\n",
       "[-2/11  3/11 -2/11] [ 1  2  3]\n",
       "[ 3 -2  1]\n",
       "[ 2 -4 -2] [ 1  0 -1]\n",
       "[ 0  2  3]\n",
       "[-1  3  0]"
      ]
     },
     "metadata": {},
     "output_type": "display_data"
    },
    {
     "data": {
      "text/html": [
       "<html><script type=\"math/tex; mode=display\">\\newcommand{\\Bold}[1]{\\mathbf{#1}}\\verb|=| \\left(\\begin{array}{rrr}\n",
       "-\\frac{20}{11} & \\frac{142}{11} & \\frac{46}{11} \\\\\n",
       "\\frac{8}{11} & -\\frac{4}{11} & -\\frac{36}{11} \\\\\n",
       "\\frac{2}{11} & -\\frac{1}{11} & -\\frac{9}{11}\n",
       "\\end{array}\\right)</script></html>"
      ],
      "text/plain": [
       "'= ' [-20/11 142/11  46/11]\n",
       "[  8/11  -4/11 -36/11]\n",
       "[  2/11  -1/11  -9/11]"
      ]
     },
     "metadata": {},
     "output_type": "display_data"
    },
    {
     "data": {
      "text/html": [
       "<html><script type=\"math/tex; mode=display\">\\newcommand{\\Bold}[1]{\\mathbf{#1}}\\verb|B|\\phantom{\\verb!x!}\\verb|=| \\left(\\begin{array}{rrr}\n",
       "-\\frac{20}{11} & \\frac{142}{11} & \\frac{46}{11} \\\\\n",
       "\\frac{8}{11} & -\\frac{4}{11} & -\\frac{36}{11} \\\\\n",
       "\\frac{2}{11} & -\\frac{1}{11} & -\\frac{9}{11}\n",
       "\\end{array}\\right)</script></html>"
      ],
      "text/plain": [
       "'B = ' [-20/11 142/11  46/11]\n",
       "[  8/11  -4/11 -36/11]\n",
       "[  2/11  -1/11  -9/11]"
      ]
     },
     "metadata": {},
     "output_type": "display_data"
    }
   ],
   "source": [
    "P = S\n",
    "show('P=', P)\n",
    "show(LatexExpr('P^{-1} ='), P^-1)\n",
    "show('A=', A)\n",
    "show(LatexExpr('P^{-1}  A P ='), P^-1, A, P)\n",
    "show('= ', P^-1*A*P)\n",
    "show('B = ', B)"
   ]
  },
  {
   "cell_type": "markdown",
   "metadata": {},
   "source": [
    "We want to convert a vector in S basis, $[v]_s$ to its transformed vector in S basis, $[T(v)]_s$ using the matrix B:\n",
    "\n",
    "$B [v]_s = [T(v)]_s$\n",
    "\n",
    "To do the same thing, we can follow these steps also:\n",
    "\n",
    "- Convert v from S to E basis using change-of-basis matrix $P_{S\\rightarrow E}$: \n",
    "    - $[v]_e = P [v]_s$\n",
    "- Transform $[v]_e$ using the matrix A, which transform a vector in standard basis to its transformed vector in the same basis:\n",
    "    - $[T(v)]_e = A [v]_e$\n",
    "- Last, convert the found transformed vector from E to S basis using the change-of-basis matrix $Q_{E\\rightarrow S} = P^{-1}$:\n",
    "\\begin{align}\n",
    "[T(v)]_s &= P^{-1} [T(v)]_e \\\\\n",
    "&= P^{-1} A [v]_e\\\\\n",
    "&= P^{-1} A P [v]_s\n",
    "\\end{align}   \n",
    "\n",
    "Compare it with the first method, we get,\n",
    "\n",
    "$B [v]_s = [T(v)]_s = P^{-1} A P [v]_s$\n",
    "\n",
    "$\\therefore B = P^{-1} A P $"
   ]
  },
  {
   "cell_type": "markdown",
   "metadata": {},
   "source": [
    "#### Session 11.1: Linear Transformations and Fundamental Subspaces\n",
    "\n",
    "Consider $P(3)$, the set of all polynomials of degree 3 or less. Let $T(ax^3+bx^2+cx+d) = (a+b)x^3+(c-d)x$."
   ]
  },
  {
   "cell_type": "markdown",
   "metadata": {},
   "source": [
    "**a) Find a matrix $A$ of $T$ with respect to the standard unit vectors of $P(3)$** (i.e. $\\begin{bmatrix}1 &0 &0 &0\\end{bmatrix}$ for $x^3$,$\\begin{bmatrix}0 &1 &0 &0\\end{bmatrix}$ for $x^2$, etc)."
   ]
  },
  {
   "cell_type": "markdown",
   "metadata": {},
   "source": [
    "$T(ax^3+bx^2+cx+d) = (a+b)x^3+(c-d)x$\n",
    "\n",
    "So, if we represent the coefficients of $x^3, x^2, x$ and constant in a vector,\n",
    "\n",
    "$T \\left( \\begin{bmatrix}\n",
    "a \\\\ b \\\\ c \\\\ d\n",
    "\\end{bmatrix} \\right)\n",
    "=  \\begin{bmatrix}\n",
    "a+b \\\\ 0 \\\\ c-d \\\\ 0\n",
    "\\end{bmatrix}$ "
   ]
  },
  {
   "cell_type": "markdown",
   "metadata": {},
   "source": [
    "If the standard basis are, $E = \\{e_1, e_2, e_3, e_4\\}$, then\n",
    "\n",
    "$A = \\begin{bmatrix}\n",
    "| & | & | & | \\\\\n",
    "T(e_1) & T(e_2) & T(e_3) & T(e_4)\\\\\n",
    "| & | & | & |\n",
    "\\end{bmatrix}$\n",
    "\n",
    "$= \\begin{bmatrix}\n",
    "T \\left( \\begin{bmatrix}\n",
    "1 \\\\ 0 \\\\ 0 \\\\ 0\n",
    "\\end{bmatrix} \\right)\n",
    "& T \\left( \\begin{bmatrix}\n",
    "0 \\\\ 1 \\\\ 0 \\\\ 0\n",
    "\\end{bmatrix} \\right)\n",
    "& T \\left( \\begin{bmatrix}\n",
    "0 \\\\ 0 \\\\ 1 \\\\ 0\n",
    "\\end{bmatrix} \\right)\n",
    "& T \\left( \\begin{bmatrix}\n",
    "0 \\\\ 0 \\\\ 0 \\\\ 1\n",
    "\\end{bmatrix} \\right)\n",
    "\\end{bmatrix}$\n",
    "\n"
   ]
  },
  {
   "cell_type": "code",
   "execution_count": 491,
   "metadata": {},
   "outputs": [
    {
     "data": {
      "text/html": [
       "<html><script type=\"math/tex; mode=display\">\\newcommand{\\Bold}[1]{\\mathbf{#1}}\\verb|A|\\phantom{\\verb!x!}\\verb|=| \\left(\\begin{array}{rrrr}\n",
       "1 & 1 & 0 & 0 \\\\\n",
       "0 & 0 & 0 & 0 \\\\\n",
       "0 & 0 & 1 & -1 \\\\\n",
       "0 & 0 & 0 & 0\n",
       "\\end{array}\\right)</script></html>"
      ],
      "text/plain": [
       "'A =' [ 1  1  0  0]\n",
       "[ 0  0  0  0]\n",
       "[ 0  0  1 -1]\n",
       "[ 0  0  0  0]"
      ]
     },
     "metadata": {},
     "output_type": "display_data"
    }
   ],
   "source": [
    "var('a','b','c','d')\n",
    "T(a,b,c,d) = (a+b, 0, c-d, 0)\n",
    "\n",
    "E = matrix([[1,0,0,0],[0,1,0,0],[0,0,1,0],[0,0,0,1]])\n",
    "\n",
    "A = np.zeros((4,4))\n",
    "\n",
    "for i in range(4):\n",
    "    a,b,c,d = E[i]\n",
    "    A[:,i] = T(a,b,c,d)\n",
    "\n",
    "A = matrix(QQ, A)\n",
    "show('A =',A)"
   ]
  },
  {
   "cell_type": "markdown",
   "metadata": {},
   "source": [
    "**b) What is the dimension of the Image of $T$? How does this relate to the dimensions of the subspaces of $A$?**"
   ]
  },
  {
   "cell_type": "markdown",
   "metadata": {},
   "source": [
    "Image of T means the subspaces of all possible solution.\n",
    "\n",
    "Here, $T(ax^3+bx^2+cx+d) = (a+b)x^3+(c-d)x$\n",
    "\n",
    "So, as an image we will only have those polynomials which are linear combination of $x$ and $x^3$. The $x^2$ and constant will always be 0. So, the basis of the Image of T will be,\n",
    "\n",
    "$\\left\\{ \\begin{bmatrix}\n",
    "1 \\\\ 0\\\\ 0 \\\\ 0 \n",
    "\\end{bmatrix}, \n",
    "\\begin{bmatrix}\n",
    "0 \\\\ 0\\\\ 1 \\\\ 0 \n",
    "\\end{bmatrix} \\right\\}$\n",
    "\n",
    "So, Dim(Im(T)) = 2"
   ]
  },
  {
   "cell_type": "markdown",
   "metadata": {},
   "source": [
    "Again,\n",
    "\n",
    "All valid solution can be found by left multiplying A with any vector in the domain.\n",
    "\n",
    "$\\vec{b} = A\\vec{x}$\n",
    "\n",
    "Here, the domain is $P(3)$, so the $vec{x}$ can consists of any vector in $P(3)$. For all of this case, $A\\vec{x}$ will be the linear combination of the column vectors of A. Which means, the Image of T, $Im(T)$ is simply the column space of A, $Col(A)$.\n",
    "\n",
    "Now, for the column space, we need to find the linearly independent columns in A by taking it to the RREF:"
   ]
  },
  {
   "cell_type": "code",
   "execution_count": 494,
   "metadata": {
    "scrolled": true
   },
   "outputs": [
    {
     "data": {
      "text/html": [
       "<html><script type=\"math/tex; mode=display\">\\newcommand{\\Bold}[1]{\\mathbf{#1}}\\verb|A|\\phantom{\\verb!x!}\\verb|=| \\left(\\begin{array}{rrrr}\n",
       "1 & 1 & 0 & 0 \\\\\n",
       "0 & 0 & 0 & 0 \\\\\n",
       "0 & 0 & 1 & -1 \\\\\n",
       "0 & 0 & 0 & 0\n",
       "\\end{array}\\right) \\,\\overrightarrow{RREF} \\, \\left(\\begin{array}{rrrr}\n",
       "1 & 1 & 0 & 0 \\\\\n",
       "0 & 0 & 1 & -1 \\\\\n",
       "0 & 0 & 0 & 0 \\\\\n",
       "0 & 0 & 0 & 0\n",
       "\\end{array}\\right)</script></html>"
      ],
      "text/plain": [
       "'A =' [ 1  1  0  0]\n",
       "[ 0  0  0  0]\n",
       "[ 0  0  1 -1]\n",
       "[ 0  0  0  0] \\,\\overrightarrow{RREF} \\, [ 1  1  0  0]\n",
       "[ 0  0  1 -1]\n",
       "[ 0  0  0  0]\n",
       "[ 0  0  0  0]"
      ]
     },
     "metadata": {},
     "output_type": "display_data"
    }
   ],
   "source": [
    "show('A =', A, LatexExpr('\\,\\overrightarrow{RREF} \\,'), A.rref())\n"
   ]
  },
  {
   "cell_type": "markdown",
   "metadata": {},
   "source": [
    "1st and 3rd columns are the pivot column, thus they are linearly independent and form the basis of the $Col(A)$.  "
   ]
  },
  {
   "cell_type": "code",
   "execution_count": 495,
   "metadata": {},
   "outputs": [
    {
     "data": {
      "text/html": [
       "<html><script type=\"math/tex; mode=display\">\\newcommand{\\Bold}[1]{\\mathbf{#1}}\\verb|Basis|\\phantom{\\verb!x!}\\verb|of| \\, Col(A) \\verb|=| \\left[\\left(\\begin{array}{r}\n",
       "1 \\\\\n",
       "0 \\\\\n",
       "0 \\\\\n",
       "0\n",
       "\\end{array}\\right), \\left(\\begin{array}{r}\n",
       "0 \\\\\n",
       "0 \\\\\n",
       "1 \\\\\n",
       "0\n",
       "\\end{array}\\right)\\right]</script></html>"
      ],
      "text/plain": [
       "'Basis of ' \\, Col(A) '=' [\n",
       "[1]  [0]\n",
       "[0]  [0]\n",
       "[0]  [1]\n",
       "[0], [0]\n",
       "]"
      ]
     },
     "metadata": {},
     "output_type": "display_data"
    }
   ],
   "source": [
    "col_base = []\n",
    "for i in [0,2]:\n",
    "    col_base.append(A[:,i])\n",
    "\n",
    "show('Basis of ', LatexExpr('\\, Col(A)'), '=', col_base)"
   ]
  },
  {
   "cell_type": "markdown",
   "metadata": {},
   "source": [
    "As there is 2 L.I. columns, $Dim(Col(A)) = 2$\n",
    "\n",
    "As $Im(T) = Col(A)$, $Dim(Im(T)) = Dim(Col(A)) = 2$"
   ]
  },
  {
   "cell_type": "markdown",
   "metadata": {},
   "source": [
    "**c) Which polynomials would be mapped to the zero vector? How does this relate to subspace(s) of the matrix $A$?**"
   ]
  },
  {
   "cell_type": "markdown",
   "metadata": {},
   "source": [
    "The $x^2$ and constant will be always be 0 in the image of T. Now the image will be a zero vector if the coefficients of $x$ and $x^3$ also become 0.\n",
    "\n",
    "Which means,\n",
    "- $a+b = 0 \\rightarrow b = -a$\n",
    "- $c-d = 0 \\rightarrow d = c$\n",
    "\n",
    "So, the coeffecient vector of these polynomial will be,\n",
    "\n",
    "$\\begin{bmatrix}\n",
    "a \\\\ -a \\\\ c \\\\ c\n",
    "\\end{bmatrix}\n",
    "= a \\begin{bmatrix}\n",
    "1 \\\\ -1 \\\\ 0 \\\\ 0\n",
    "\\end{bmatrix}\n",
    "+ c\\begin{bmatrix}\n",
    "0 \\\\ 0 \\\\ 1 \\\\ 1\n",
    "\\end{bmatrix}$\n",
    "\n",
    "So, the basis of the subspace will be,\n",
    "\n",
    "$\\left\\{ \\begin{bmatrix}\n",
    "1 \\\\ -1 \\\\ 0 \\\\ 0\n",
    "\\end{bmatrix},\n",
    "\\begin{bmatrix}\n",
    "0 \\\\ 0 \\\\ 1 \\\\ 1\n",
    "\\end{bmatrix} \\right\\}$\n"
   ]
  },
  {
   "cell_type": "markdown",
   "metadata": {},
   "source": [
    "Again,\n",
    "\n",
    "As we want to mapped to the zero vector, we want all the solution for $\\vec{x}$ such that:\n",
    "\n",
    "$A\\vec{x} = \\vec{0}$\n",
    "\n",
    "This solution set is the null space A, $N(A)$\n",
    "\n",
    "We can augment null vector and take it to RREF:"
   ]
  },
  {
   "cell_type": "code",
   "execution_count": 496,
   "metadata": {
    "scrolled": true
   },
   "outputs": [
    {
     "data": {
      "text/html": [
       "<html><script type=\"math/tex; mode=display\">\\newcommand{\\Bold}[1]{\\mathbf{#1}}\\verb|RREF:| \\left(\\begin{array}{rrrrr}\n",
       "1 & 1 & 0 & 0 & 0 \\\\\n",
       "0 & 0 & 1 & -1 & 0 \\\\\n",
       "0 & 0 & 0 & 0 & 0 \\\\\n",
       "0 & 0 & 0 & 0 & 0\n",
       "\\end{array}\\right)</script></html>"
      ],
      "text/plain": [
       "'RREF:' [ 1  1  0  0  0]\n",
       "[ 0  0  1 -1  0]\n",
       "[ 0  0  0  0  0]\n",
       "[ 0  0  0  0  0]"
      ]
     },
     "metadata": {},
     "output_type": "display_data"
    }
   ],
   "source": [
    "# augment null vector\n",
    "null = vector([0,0,0,0])\n",
    "\n",
    "AA = A.augment(null) # augmented A\n",
    "show('RREF:', AA.rref())"
   ]
  },
  {
   "cell_type": "markdown",
   "metadata": {},
   "source": [
    "- $x_2 = s$\n",
    "- $x_4 = t$\n",
    "- $x_1 + x_2 = 0 \\rightarrow x_1 = -s$\n",
    "- $x_3 + x_4 = 0 \\rightarrow x_3 = t$"
   ]
  },
  {
   "cell_type": "markdown",
   "metadata": {},
   "source": [
    "$\\vec{x} = \n",
    "\\begin{bmatrix}\n",
    "-s \\\\ s \\\\ t \\\\ t \n",
    "\\end{bmatrix}\n",
    "= -s\\begin{bmatrix}\n",
    "1 \\\\ -1 \\\\ 0 \\\\ 0 \n",
    "\\end{bmatrix}\n",
    "+ t\\begin{bmatrix}\n",
    "0 \\\\ 0 \\\\ 1 \\\\ 1 \n",
    "\\end{bmatrix}$"
   ]
  },
  {
   "cell_type": "markdown",
   "metadata": {},
   "source": [
    "$\\therefore$ the basis of the null space, $N(A)) = \\left\\{ \n",
    "\\begin{bmatrix}\n",
    "1 \\\\ -1 \\\\ 0 \\\\ 0 \n",
    "\\end{bmatrix}\n",
    ", \\begin{bmatrix}\n",
    "0 \\\\ 0 \\\\ 1 \\\\ 1 \n",
    "\\end{bmatrix} \\right\\}$\n",
    "\n",
    "$Dim(N(A)) = 2$ \n",
    "\n",
    "This is the same basis as we found before. So N(A) is the subspaces of the coefficient vector of the polynomials which mapped to 0 after transformation."
   ]
  },
  {
   "cell_type": "markdown",
   "metadata": {},
   "source": [
    "### Deep Dive\n",
    "\n",
    "#### Avoiding Carmageddon\n",
    "\n",
    "Traffic in Seattle's International District has become very congested. To combat gridlock, the civic planning department is considering replacing the current two-way streets with one-way streets that are connected by roundabouts at each intersection. In theory the roundabouts would allow for a continuous flow of traffic through the system. The civil engineers proposing the change created a graphical model for the new traffic pattern. The nodes represent the roundabouts and the black, directed edges represent the proposed direction of each street.  You have been asked to analyze the model."
   ]
  },
  {
   "attachments": {
    "ss1.PNG": {
     "image/png": "[encoded data removed]"
    }
   },
   "cell_type": "markdown",
   "metadata": {},
   "source": [
    "![ss1.PNG](attachment:ss1.PNG)"
   ]
  },
  {
   "cell_type": "markdown",
   "metadata": {},
   "source": [
    "**a) What do the potentials at each node represent in this model? How about the potential differences along an edge?**"
   ]
  },
  {
   "cell_type": "markdown",
   "metadata": {},
   "source": [
    "Here the potentials in each nodes represents the number of traffic that passed through that particular rounbouts. While the potential difference or the flow along an edge is the number of traffic going along the road. If the flow is negative, it means the traffics are going on the opposite of the given direction. "
   ]
  },
  {
   "cell_type": "markdown",
   "metadata": {},
   "source": [
    "b) Define an incidence matrix $A$ for the graphical model. Find basis for the four fundamental subspaces of $A$. What do the subspaces represent in this model?"
   ]
  },
  {
   "cell_type": "code",
   "execution_count": 685,
   "metadata": {},
   "outputs": [],
   "source": [
    "\n",
    "# making the directed graph\n",
    "Seattle = DiGraph({0: {1: '0'} , 1: {2: '1', 4: '2'}, 3:{2: '3',4: '4'}, 4:{5: '5'}, 5:{0:'6'}})\n"
   ]
  },
  {
   "cell_type": "code",
   "execution_count": 686,
   "metadata": {},
   "outputs": [
    {
     "data": {
      "image/png": "[encoded data removed]",
      "text/plain": [
       "Graphics object consisting of 21 graphics primitives"
      ]
     },
     "execution_count": 686,
     "metadata": {},
     "output_type": "execute_result"
    }
   ],
   "source": [
    "# plotting the graph\n",
    "Seattle.plot(edge_labels = True, layout = 'spring', pos = pos)"
   ]
  },
  {
   "cell_type": "code",
   "execution_count": 687,
   "metadata": {},
   "outputs": [
    {
     "data": {
      "image/png": "[encoded data removed]",
      "text/plain": [
       "<IPython.core.display.Image object>"
      ]
     },
     "execution_count": 687,
     "metadata": {},
     "output_type": "execute_result"
    }
   ],
   "source": [
    "## Plotting the graph\n",
    "from IPython.display import Image\n",
    "Image(filename='graph.png') "
   ]
  },
  {
   "cell_type": "code",
   "execution_count": 688,
   "metadata": {
    "scrolled": true
   },
   "outputs": [
    {
     "data": {
      "text/html": [
       "<html><script type=\"math/tex; mode=display\">\\newcommand{\\Bold}[1]{\\mathbf{#1}}\\verb|Incidence|\\phantom{\\verb!x!}\\verb|Matrix,|\\phantom{\\verb!x!}\\verb|A|\\phantom{\\verb!x!}\\verb|=| \\left(\\begin{array}{rrrrrr}\n",
       "-1 & 1 & 0 & 0 & 0 & 0 \\\\\n",
       "0 & -1 & 1 & 0 & 0 & 0 \\\\\n",
       "0 & -1 & 0 & 0 & 1 & 0 \\\\\n",
       "0 & 0 & 1 & -1 & 0 & 0 \\\\\n",
       "0 & 0 & 0 & -1 & 1 & 0 \\\\\n",
       "0 & 0 & 0 & 0 & -1 & 1 \\\\\n",
       "1 & 0 & 0 & 0 & 0 & -1\n",
       "\\end{array}\\right)</script></html>"
      ],
      "text/plain": [
       "'Incidence Matrix, A =' [-1  1  0  0  0  0]\n",
       "[ 0 -1  1  0  0  0]\n",
       "[ 0 -1  0  0  1  0]\n",
       "[ 0  0  1 -1  0  0]\n",
       "[ 0  0  0 -1  1  0]\n",
       "[ 0  0  0  0 -1  1]\n",
       "[ 1  0  0  0  0 -1]"
      ]
     },
     "metadata": {},
     "output_type": "display_data"
    }
   ],
   "source": [
    "## Create the incidence matrix for the given graph\n",
    "A = Seattle.incidence_matrix().transpose()\n",
    "show('Incidence Matrix, A =', A)"
   ]
  },
  {
   "cell_type": "markdown",
   "metadata": {},
   "source": [
    "Here the columns are representing nodes (roundbouts) and the rows are edges (roads). In each road, -1 and +1 denotes the source and the target node of that directed edge."
   ]
  },
  {
   "cell_type": "markdown",
   "metadata": {},
   "source": [
    "**Col(A):**\n",
    "\n",
    "We want to find all possible values of $\\vec{b}$ which will give a valid solution for the system:\n",
    "\n",
    "$A\\vec{x} = \\vec{b}$\n",
    "\n",
    "We can take A to RREF to find the all possible solutions:"
   ]
  },
  {
   "cell_type": "code",
   "execution_count": 689,
   "metadata": {},
   "outputs": [
    {
     "data": {
      "text/html": [
       "<html><script type=\"math/tex; mode=display\">\\newcommand{\\Bold}[1]{\\mathbf{#1}}\\verb|A=| \\left(\\begin{array}{rrrrrr}\n",
       "-1 & 1 & 0 & 0 & 0 & 0 \\\\\n",
       "0 & -1 & 1 & 0 & 0 & 0 \\\\\n",
       "0 & -1 & 0 & 0 & 1 & 0 \\\\\n",
       "0 & 0 & 1 & -1 & 0 & 0 \\\\\n",
       "0 & 0 & 0 & -1 & 1 & 0 \\\\\n",
       "0 & 0 & 0 & 0 & -1 & 1 \\\\\n",
       "1 & 0 & 0 & 0 & 0 & -1\n",
       "\\end{array}\\right)</script></html>"
      ],
      "text/plain": [
       "'A=' [-1  1  0  0  0  0]\n",
       "[ 0 -1  1  0  0  0]\n",
       "[ 0 -1  0  0  1  0]\n",
       "[ 0  0  1 -1  0  0]\n",
       "[ 0  0  0 -1  1  0]\n",
       "[ 0  0  0  0 -1  1]\n",
       "[ 1  0  0  0  0 -1]"
      ]
     },
     "metadata": {},
     "output_type": "display_data"
    },
    {
     "data": {
      "text/html": [
       "<html><script type=\"math/tex; mode=display\">\\newcommand{\\Bold}[1]{\\mathbf{#1}}\\overrightarrow{RREF} \\quad \\left(\\begin{array}{rrrrrr}\n",
       "1 & 0 & 0 & 0 & 0 & -1 \\\\\n",
       "0 & 1 & 0 & 0 & 0 & -1 \\\\\n",
       "0 & 0 & 1 & 0 & 0 & -1 \\\\\n",
       "0 & 0 & 0 & 1 & 0 & -1 \\\\\n",
       "0 & 0 & 0 & 0 & 1 & -1 \\\\\n",
       "0 & 0 & 0 & 0 & 0 & 0 \\\\\n",
       "0 & 0 & 0 & 0 & 0 & 0\n",
       "\\end{array}\\right)</script></html>"
      ],
      "text/plain": [
       "\\overrightarrow{RREF} \\quad [ 1  0  0  0  0 -1]\n",
       "[ 0  1  0  0  0 -1]\n",
       "[ 0  0  1  0  0 -1]\n",
       "[ 0  0  0  1  0 -1]\n",
       "[ 0  0  0  0  1 -1]\n",
       "[ 0  0  0  0  0  0]\n",
       "[ 0  0  0  0  0  0]"
      ]
     },
     "metadata": {},
     "output_type": "display_data"
    }
   ],
   "source": [
    "show('A=',A)\n",
    "show(LatexExpr('\\overrightarrow{RREF} \\quad'), A.rref())"
   ]
  },
  {
   "cell_type": "markdown",
   "metadata": {},
   "source": [
    "All first five columns are pivot columns, thus linearly independent and they form the basis of Col(A)"
   ]
  },
  {
   "cell_type": "code",
   "execution_count": 690,
   "metadata": {},
   "outputs": [
    {
     "data": {
      "text/html": [
       "<html><script type=\"math/tex; mode=display\">\\newcommand{\\Bold}[1]{\\mathbf{#1}}\\verb|Basis|\\phantom{\\verb!x!}\\verb|of| \\, Col(A) \\verb|=| \\left[\\left(\\begin{array}{r}\n",
       "-1 \\\\\n",
       "0 \\\\\n",
       "0 \\\\\n",
       "0 \\\\\n",
       "0 \\\\\n",
       "0 \\\\\n",
       "1\n",
       "\\end{array}\\right), \\left(\\begin{array}{r}\n",
       "1 \\\\\n",
       "-1 \\\\\n",
       "-1 \\\\\n",
       "0 \\\\\n",
       "0 \\\\\n",
       "0 \\\\\n",
       "0\n",
       "\\end{array}\\right), \\left(\\begin{array}{r}\n",
       "0 \\\\\n",
       "1 \\\\\n",
       "0 \\\\\n",
       "1 \\\\\n",
       "0 \\\\\n",
       "0 \\\\\n",
       "0\n",
       "\\end{array}\\right), \\left(\\begin{array}{r}\n",
       "0 \\\\\n",
       "0 \\\\\n",
       "0 \\\\\n",
       "-1 \\\\\n",
       "-1 \\\\\n",
       "0 \\\\\n",
       "0\n",
       "\\end{array}\\right), \\left(\\begin{array}{r}\n",
       "0 \\\\\n",
       "0 \\\\\n",
       "1 \\\\\n",
       "0 \\\\\n",
       "1 \\\\\n",
       "-1 \\\\\n",
       "0\n",
       "\\end{array}\\right)\\right]</script></html>"
      ],
      "text/plain": [
       "'Basis of ' \\, Col(A) '=' [\n",
       "[-1]  [ 1]  [0]  [ 0]  [ 0]\n",
       "[ 0]  [-1]  [1]  [ 0]  [ 0]\n",
       "[ 0]  [-1]  [0]  [ 0]  [ 1]\n",
       "[ 0]  [ 0]  [1]  [-1]  [ 0]\n",
       "[ 0]  [ 0]  [0]  [-1]  [ 1]\n",
       "[ 0]  [ 0]  [0]  [ 0]  [-1]\n",
       "[ 1], [ 0], [0], [ 0], [ 0]\n",
       "]"
      ]
     },
     "metadata": {},
     "output_type": "display_data"
    }
   ],
   "source": [
    "col_base = []\n",
    "for i in range(5):\n",
    "    col_base.append(A[:,i])\n",
    "\n",
    "show('Basis of ', LatexExpr('\\, Col(A)'), '=', col_base)"
   ]
  },
  {
   "cell_type": "markdown",
   "metadata": {},
   "source": [
    "In this context, if the vector of the potential difference (i.e. the difference of the number of traffic in target and source nodes or roundbouts) along each of the edges (roads) belongs to the Col(A), then it will give valid solution for $\\vec{x}$, i.e. the system will be valid. "
   ]
  },
  {
   "cell_type": "markdown",
   "metadata": {},
   "source": [
    "**Null Space, N(A):**\n",
    "\n",
    "We need to find all the solution $\\vec{x}$ for, \n",
    "\n",
    "$A\\vec{x} = \\vec{0}$\n",
    "\n",
    "We can augment the null vector and take the RREF:"
   ]
  },
  {
   "cell_type": "code",
   "execution_count": 691,
   "metadata": {},
   "outputs": [
    {
     "data": {
      "text/html": [
       "<html><script type=\"math/tex; mode=display\">\\newcommand{\\Bold}[1]{\\mathbf{#1}}\\verb|RREF:| \\left(\\begin{array}{rrrrrrr}\n",
       "1 & 0 & 0 & 0 & 0 & -1 & 0 \\\\\n",
       "0 & 1 & 0 & 0 & 0 & -1 & 0 \\\\\n",
       "0 & 0 & 1 & 0 & 0 & -1 & 0 \\\\\n",
       "0 & 0 & 0 & 1 & 0 & -1 & 0 \\\\\n",
       "0 & 0 & 0 & 0 & 1 & -1 & 0 \\\\\n",
       "0 & 0 & 0 & 0 & 0 & 0 & 0 \\\\\n",
       "0 & 0 & 0 & 0 & 0 & 0 & 0\n",
       "\\end{array}\\right)</script></html>"
      ],
      "text/plain": [
       "'RREF:' [ 1  0  0  0  0 -1  0]\n",
       "[ 0  1  0  0  0 -1  0]\n",
       "[ 0  0  1  0  0 -1  0]\n",
       "[ 0  0  0  1  0 -1  0]\n",
       "[ 0  0  0  0  1 -1  0]\n",
       "[ 0  0  0  0  0  0  0]\n",
       "[ 0  0  0  0  0  0  0]"
      ]
     },
     "metadata": {},
     "output_type": "display_data"
    }
   ],
   "source": [
    "# augment null vector\n",
    "null = vector([0,0,0,0,0,0,0])\n",
    "\n",
    "AA = A.augment(null)\n",
    "show('RREF:', AA.rref())"
   ]
  },
  {
   "cell_type": "markdown",
   "metadata": {},
   "source": [
    "- $x_6 = t$\n",
    "- $x_1 - x_6 = 0 \\rightarrow x_1 = t$\n",
    "- $x_2 - x_6 = 0 \\rightarrow x_2 = t$\n",
    "- $x_3 - x_6 = 0 \\rightarrow x_3 = t$\n",
    "- $x_4 - x_6 = 0 \\rightarrow x_4 = t$\n",
    "- $x_5 - x_6 = 0 \\rightarrow x_5 = t$\n"
   ]
  },
  {
   "cell_type": "markdown",
   "metadata": {},
   "source": [
    "$\\vec{x} = \n",
    "\\begin{bmatrix}\n",
    "t\\\\ t \\\\ t \\\\ t \\\\ t \\\\ t \n",
    "\\end{bmatrix}\n",
    "= t\\begin{bmatrix}\n",
    "1\\\\1\\\\1\\\\1\\\\1\\\\1\n",
    "\\end{bmatrix}$"
   ]
  },
  {
   "cell_type": "markdown",
   "metadata": {},
   "source": [
    "$\\therefore$ the basis of the null space, $N(A)) = \\left\\{ \\begin{bmatrix}\n",
    "1\\\\1\\\\1\\\\1\\\\1\\\\1\n",
    "\\end{bmatrix} \\right\\}$"
   ]
  },
  {
   "cell_type": "code",
   "execution_count": 692,
   "metadata": {},
   "outputs": [],
   "source": [
    "null_base = vector([1,1,1,1,1,1])"
   ]
  },
  {
   "cell_type": "markdown",
   "metadata": {},
   "source": [
    "In this context, N(A) gives all possible solution for $\\vec{x}$, when the every roundbouts has equal number of cars passing by, thus the potential difference is 0."
   ]
  },
  {
   "cell_type": "markdown",
   "metadata": {},
   "source": [
    "**Row Subspace Row(A):**\n",
    "\n",
    "We want to find all possible $\\vec{b}$ which will give us a valid solution for $\\vec{y}$ for the following system:\n",
    "\n",
    "$A^T\\, \\vec{y} = \\vec{b}$\n",
    "\n",
    "We can transpose the matrix and take it to the RREF to find the linearly independent columns:"
   ]
  },
  {
   "cell_type": "code",
   "execution_count": 693,
   "metadata": {},
   "outputs": [
    {
     "data": {
      "text/html": [
       "<html><script type=\"math/tex; mode=display\">\\newcommand{\\Bold}[1]{\\mathbf{#1}}A^T = \\left(\\begin{array}{rrrrrrr}\n",
       "-1 & 0 & 0 & 0 & 0 & 0 & 1 \\\\\n",
       "1 & -1 & -1 & 0 & 0 & 0 & 0 \\\\\n",
       "0 & 1 & 0 & 1 & 0 & 0 & 0 \\\\\n",
       "0 & 0 & 0 & -1 & -1 & 0 & 0 \\\\\n",
       "0 & 0 & 1 & 0 & 1 & -1 & 0 \\\\\n",
       "0 & 0 & 0 & 0 & 0 & 1 & -1\n",
       "\\end{array}\\right) \\overrightarrow{RREF} \\left(\\begin{array}{rrrrrrr}\n",
       "1 & 0 & 0 & 0 & 0 & 0 & -1 \\\\\n",
       "0 & 1 & 0 & 0 & -1 & 0 & 0 \\\\\n",
       "0 & 0 & 1 & 0 & 1 & 0 & -1 \\\\\n",
       "0 & 0 & 0 & 1 & 1 & 0 & 0 \\\\\n",
       "0 & 0 & 0 & 0 & 0 & 1 & -1 \\\\\n",
       "0 & 0 & 0 & 0 & 0 & 0 & 0\n",
       "\\end{array}\\right)</script></html>"
      ],
      "text/plain": [
       "A^T = [-1  0  0  0  0  0  1]\n",
       "[ 1 -1 -1  0  0  0  0]\n",
       "[ 0  1  0  1  0  0  0]\n",
       "[ 0  0  0 -1 -1  0  0]\n",
       "[ 0  0  1  0  1 -1  0]\n",
       "[ 0  0  0  0  0  1 -1] \\overrightarrow{RREF} [ 1  0  0  0  0  0 -1]\n",
       "[ 0  1  0  0 -1  0  0]\n",
       "[ 0  0  1  0  1  0 -1]\n",
       "[ 0  0  0  1  1  0  0]\n",
       "[ 0  0  0  0  0  1 -1]\n",
       "[ 0  0  0  0  0  0  0]"
      ]
     },
     "metadata": {},
     "output_type": "display_data"
    }
   ],
   "source": [
    "# transpose of incidence matrix\n",
    "AT = A.transpose()\n",
    "show(LatexExpr('A^T ='), AT, LatexExpr('\\overrightarrow{RREF}'), AT.rref())\n"
   ]
  },
  {
   "cell_type": "markdown",
   "metadata": {},
   "source": [
    "The 1st, 2nd, 3rd, 4th and 6th columns are pivot columns, thus linearly independent. They form the basis of Row(A)."
   ]
  },
  {
   "cell_type": "code",
   "execution_count": 694,
   "metadata": {},
   "outputs": [
    {
     "data": {
      "text/html": [
       "<html><script type=\"math/tex; mode=display\">\\newcommand{\\Bold}[1]{\\mathbf{#1}}\\verb|Basis|\\phantom{\\verb!x!}\\verb|of| \\, Row(A) \\verb|=| \\left[\\left(\\begin{array}{r}\n",
       "-1 \\\\\n",
       "1 \\\\\n",
       "0 \\\\\n",
       "0 \\\\\n",
       "0 \\\\\n",
       "0\n",
       "\\end{array}\\right), \\left(\\begin{array}{r}\n",
       "0 \\\\\n",
       "-1 \\\\\n",
       "1 \\\\\n",
       "0 \\\\\n",
       "0 \\\\\n",
       "0\n",
       "\\end{array}\\right), \\left(\\begin{array}{r}\n",
       "0 \\\\\n",
       "-1 \\\\\n",
       "0 \\\\\n",
       "0 \\\\\n",
       "1 \\\\\n",
       "0\n",
       "\\end{array}\\right), \\left(\\begin{array}{r}\n",
       "0 \\\\\n",
       "0 \\\\\n",
       "1 \\\\\n",
       "-1 \\\\\n",
       "0 \\\\\n",
       "0\n",
       "\\end{array}\\right), \\left(\\begin{array}{r}\n",
       "0 \\\\\n",
       "0 \\\\\n",
       "0 \\\\\n",
       "0 \\\\\n",
       "-1 \\\\\n",
       "1\n",
       "\\end{array}\\right)\\right]</script></html>"
      ],
      "text/plain": [
       "'Basis of ' \\, Row(A) '=' [\n",
       "[-1]  [ 0]  [ 0]  [ 0]  [ 0]\n",
       "[ 1]  [-1]  [-1]  [ 0]  [ 0]\n",
       "[ 0]  [ 1]  [ 0]  [ 1]  [ 0]\n",
       "[ 0]  [ 0]  [ 0]  [-1]  [ 0]\n",
       "[ 0]  [ 0]  [ 1]  [ 0]  [-1]\n",
       "[ 0], [ 0], [ 0], [ 0], [ 1]\n",
       "]"
      ]
     },
     "metadata": {},
     "output_type": "display_data"
    }
   ],
   "source": [
    "row_base = []\n",
    "for i in [0,1,2,3,5]:\n",
    "    row_base.append(AT[:,i])\n",
    "\n",
    "show('Basis of ', LatexExpr('\\, Row(A)'), '=', row_base)"
   ]
  },
  {
   "cell_type": "markdown",
   "metadata": {},
   "source": [
    "In this context, Row(A) has all possible $\\vec{b}$ for a valid system, where $\\vec{b}$ is the vector of the difference of incoming and outcoming flow from each of nodes. Here the difference of the extra car that going out of the system and the one that coming in through each of the roundbouts, creates $\\vec{b}$."
   ]
  },
  {
   "cell_type": "markdown",
   "metadata": {},
   "source": [
    "**Left-null Space, $N(A^T):$**\n",
    "\n",
    "We want to find all possible solution for $\\vec{y}$ for the following system:\n",
    "\n",
    "$A^T\\, \\vec{y} = \\vec{0}$\n",
    "\n",
    "\n",
    "We can augment null vector with the transpose matrix and take it to RREF:"
   ]
  },
  {
   "cell_type": "code",
   "execution_count": 695,
   "metadata": {},
   "outputs": [
    {
     "data": {
      "text/html": [
       "<html><script type=\"math/tex; mode=display\">\\newcommand{\\Bold}[1]{\\mathbf{#1}}\\verb|RREF:| \\left(\\begin{array}{rrrrrrrr}\n",
       "1 & 0 & 0 & 0 & 0 & 0 & -1 & 0 \\\\\n",
       "0 & 1 & 0 & 0 & -1 & 0 & 0 & 0 \\\\\n",
       "0 & 0 & 1 & 0 & 1 & 0 & -1 & 0 \\\\\n",
       "0 & 0 & 0 & 1 & 1 & 0 & 0 & 0 \\\\\n",
       "0 & 0 & 0 & 0 & 0 & 1 & -1 & 0 \\\\\n",
       "0 & 0 & 0 & 0 & 0 & 0 & 0 & 0\n",
       "\\end{array}\\right)</script></html>"
      ],
      "text/plain": [
       "'RREF:' [ 1  0  0  0  0  0 -1  0]\n",
       "[ 0  1  0  0 -1  0  0  0]\n",
       "[ 0  0  1  0  1  0 -1  0]\n",
       "[ 0  0  0  1  1  0  0  0]\n",
       "[ 0  0  0  0  0  1 -1  0]\n",
       "[ 0  0  0  0  0  0  0  0]"
      ]
     },
     "metadata": {},
     "output_type": "display_data"
    }
   ],
   "source": [
    "# augment null vector\n",
    "null = vector([0,0,0,0,0,0])\n",
    "\n",
    "AAT = AT.augment(null)\n",
    "show('RREF:',AAT.rref())"
   ]
  },
  {
   "cell_type": "markdown",
   "metadata": {},
   "source": [
    "- $y_5 = s$\n",
    "- $y_7 = t$\n",
    "- $y_1 - y_7 = 0 \\rightarrow y_1 = t$\n",
    "- $y_2 - y_5 = 0 \\rightarrow y_2 = s$\n",
    "- $y_3 + y_5 - y_7 = 0 \\rightarrow y_3 = t-s$\n",
    "- $y_4 + y_5 = 0 \\rightarrow y_4 = -s$\n",
    "- $y_6 - y_7 = 0 \\rightarrow y_6 = t$\n",
    "\n"
   ]
  },
  {
   "cell_type": "markdown",
   "metadata": {},
   "source": [
    "$\\vec{y} = \n",
    "\\begin{bmatrix}\n",
    "t\\\\ s \\\\ t-s \\\\ -s \\\\ s \\\\ t \\\\ t \n",
    "\\end{bmatrix}\n",
    "= s\\begin{bmatrix}\n",
    "0\\\\1\\\\-1\\\\-1\\\\1\\\\0\\\\0\n",
    "\\end{bmatrix}\n",
    "+ t\\begin{bmatrix}\n",
    "1\\\\0\\\\1\\\\0\\\\0\\\\1\\\\1\n",
    "\\end{bmatrix}$"
   ]
  },
  {
   "cell_type": "markdown",
   "metadata": {},
   "source": [
    "$\\therefore$ the basis of the left null space, $N(A^T)) = \\left\\{ \\begin{bmatrix}\n",
    "0\\\\1\\\\-1\\\\-1\\\\1\\\\0\\\\0\n",
    "\\end{bmatrix}, \n",
    "\\begin{bmatrix}\n",
    "1\\\\0\\\\1\\\\0\\\\0\\\\1\\\\1\n",
    "\\end{bmatrix}\n",
    "\\right\\}$"
   ]
  },
  {
   "cell_type": "code",
   "execution_count": 670,
   "metadata": {},
   "outputs": [],
   "source": [
    "left_null_1 = vector([0,1,-1,-1,1,0,0])\n",
    "left_null_2 = vector([1,0,1,0,0,1,1])"
   ]
  },
  {
   "cell_type": "markdown",
   "metadata": {},
   "source": [
    "This suggests that there is two independent loop in the graph. \n",
    "- 1st one consists of the edge no 1,2,3 and 4, where the flow in 2nd and 3rd edge need to be negative\n",
    "- 2nd one consists of the edge no 0,2,5 and 6, where every flow is positive"
   ]
  },
  {
   "cell_type": "markdown",
   "metadata": {},
   "source": [
    "**c) Are there any underlying assumptions required to use this approach to model traffic?**"
   ]
  },
  {
   "cell_type": "markdown",
   "metadata": {},
   "source": [
    "The assumptions are the followings:\n",
    "\n",
    "- No cars stopped in any roundbout or in any edge. They always just pass by the roundbouts (nodes) along the roads (edges).\n",
    "- There is no unexpected incident (i.e. accident, wrong traffic signal like my country etc.) influence the traffic.\n",
    "- All the traffic are of same speed and they don't need to overtake each other."
   ]
  },
  {
   "cell_type": "markdown",
   "metadata": {},
   "source": [
    "**d)** The civil engineers proposing the change installed electronic sensors that count the number of vehicles passing through specific points in the district. Using this data they added blue, dashed arrows representing the number of vehicles they predict will enter or exit the system at each roundabout each hour during rush hour:"
   ]
  },
  {
   "cell_type": "code",
   "execution_count": 671,
   "metadata": {},
   "outputs": [
    {
     "data": {
      "image/png": "[encoded data removed]",
      "text/plain": [
       "<IPython.core.display.Image object>"
      ]
     },
     "execution_count": 671,
     "metadata": {},
     "output_type": "execute_result"
    }
   ],
   "source": [
    "Image(filename='ss2.png') "
   ]
  },
  {
   "cell_type": "markdown",
   "metadata": {},
   "source": [
    "**d) Can the model theoretically handle the predicted traffic level? How many cars would the road segments need to accomodate? Is the solution practical? If so, are there routes drivers should be encouraged to follow by signage to decrease overall congestion?**"
   ]
  },
  {
   "cell_type": "markdown",
   "metadata": {},
   "source": [
    "The model with the edges and nodes:"
   ]
  },
  {
   "cell_type": "code",
   "execution_count": 575,
   "metadata": {},
   "outputs": [
    {
     "data": {
      "image/png": "[encoded data removed]",
      "text/plain": [
       "<IPython.core.display.Image object>"
      ]
     },
     "execution_count": 575,
     "metadata": {},
     "output_type": "execute_result"
    }
   ],
   "source": [
    "Image(filename='ss5.png') "
   ]
  },
  {
   "cell_type": "markdown",
   "metadata": {},
   "source": [
    "The flows in any edge i is $y_i$, here flow represents the car passing through each road. So if there would not be any extra traffic coming in or out, then the number of cars (flow) in the roads of an independent loop need to be the same. Also in each node, flows (number of traffic) coming in should be equal to the flows goin out.\n",
    "\n",
    "That solution would be the solution of this system:\n",
    "\n",
    "$$A^T \\vec{y} = \\vec{0}$$\n",
    "\n",
    "But in our model, in each nodes, we have some extra cars coming in and out. So each node has the capacity to decrease the number of traffic (or increase, if the capacity is negative) from the system. Here, we define capacity as the number of extra traffic going out of the system through that node.\n",
    "\n",
    "So, we are solving the following system:\n",
    "\n",
    "$$A^T \\vec{y} = \\vec{b}$$\n",
    "\n",
    "where A is the incidence matrix and $\\vec{b}$ is the extra traffic going away through that node. We know that all possible values of $\\vec{b}$ that will provide a valid solution for $\\vec{y}$, thus make the system valid, belongs to the Row(A). So we need to check if $\\vec{b}$ for this model lies in Row(A).\n",
    "\n",
    "We know that every vector in Row(A) are orthogonal to N(A). So if $\\vec{b}$ is orthogonal to the basis of the N(A) (i.e. their dot product is 0), then $\\vec{b}$ lies in Row(A) and the system is valid."
   ]
  },
  {
   "cell_type": "code",
   "execution_count": 708,
   "metadata": {
    "scrolled": true
   },
   "outputs": [
    {
     "data": {
      "text/html": [
       "<html><script type=\"math/tex; mode=display\">\\newcommand{\\Bold}[1]{\\mathbf{#1}}\\verb|b|\\phantom{\\verb!x!}\\verb|=| \\left(\\begin{array}{r}\n",
       "200 \\\\\n",
       "-300 \\\\\n",
       "400 \\\\\n",
       "-400 \\\\\n",
       "350 \\\\\n",
       "-250\n",
       "\\end{array}\\right)</script></html>"
      ],
      "text/plain": [
       "'b =' [ 200]\n",
       "[-300]\n",
       "[ 400]\n",
       "[-400]\n",
       "[ 350]\n",
       "[-250]"
      ]
     },
     "metadata": {},
     "output_type": "display_data"
    }
   ],
   "source": [
    "## Defining the constant vector, b\n",
    "## For each node i, b_i = cars going out - cars coming in\n",
    "b = vector([400 - 200, -300, 200+200, -200-200, 350, 350-600])\n",
    "show('b =', matrix(b).transpose())"
   ]
  },
  {
   "cell_type": "code",
   "execution_count": 709,
   "metadata": {},
   "outputs": [
    {
     "data": {
      "text/html": [
       "<html><script type=\"math/tex; mode=display\">\\newcommand{\\Bold}[1]{\\mathbf{#1}}\\left(\\begin{array}{r}\n",
       "200 \\\\\n",
       "-300 \\\\\n",
       "400 \\\\\n",
       "-400 \\\\\n",
       "350 \\\\\n",
       "-250\n",
       "\\end{array}\\right) \\left(\\begin{array}{r}\n",
       "1 \\\\\n",
       "1 \\\\\n",
       "1 \\\\\n",
       "1 \\\\\n",
       "1 \\\\\n",
       "1\n",
       "\\end{array}\\right) \\verb|=| 0</script></html>"
      ],
      "text/plain": [
       "[ 200]\n",
       "[-300]\n",
       "[ 400]\n",
       "[-400]\n",
       "[ 350]\n",
       "[-250] [1]\n",
       "[1]\n",
       "[1]\n",
       "[1]\n",
       "[1]\n",
       "[1] '=' 0"
      ]
     },
     "metadata": {},
     "output_type": "display_data"
    }
   ],
   "source": [
    "## taking dot product with null space:\n",
    "dotp = b*null_base\n",
    "show(matrix(b).transpose(), matrix(null_base).transpose(), '=', dotp)"
   ]
  },
  {
   "cell_type": "markdown",
   "metadata": {},
   "source": [
    "$\\therefore \\vec{b}$ lies in Row(A) and the solution is practical. "
   ]
  },
  {
   "cell_type": "markdown",
   "metadata": {},
   "source": [
    "To find the solution $\\vec{y}$ (the cars each edge or rode need to accomodate), we can augment $\\vec{b}$ and take it to RREF:"
   ]
  },
  {
   "cell_type": "code",
   "execution_count": 698,
   "metadata": {
    "scrolled": false
   },
   "outputs": [
    {
     "data": {
      "text/html": [
       "<html><script type=\"math/tex; mode=display\">\\newcommand{\\Bold}[1]{\\mathbf{#1}}A^T = \\left(\\begin{array}{rrrrrrr}\n",
       "-1 & 0 & 0 & 0 & 0 & 0 & 1 \\\\\n",
       "1 & -1 & -1 & 0 & 0 & 0 & 0 \\\\\n",
       "0 & 1 & 0 & 1 & 0 & 0 & 0 \\\\\n",
       "0 & 0 & 0 & -1 & -1 & 0 & 0 \\\\\n",
       "0 & 0 & 1 & 0 & 1 & -1 & 0 \\\\\n",
       "0 & 0 & 0 & 0 & 0 & 1 & -1\n",
       "\\end{array}\\right)</script></html>"
      ],
      "text/plain": [
       "A^T = [-1  0  0  0  0  0  1]\n",
       "[ 1 -1 -1  0  0  0  0]\n",
       "[ 0  1  0  1  0  0  0]\n",
       "[ 0  0  0 -1 -1  0  0]\n",
       "[ 0  0  1  0  1 -1  0]\n",
       "[ 0  0  0  0  0  1 -1]"
      ]
     },
     "metadata": {},
     "output_type": "display_data"
    },
    {
     "data": {
      "text/html": [
       "<html><script type=\"math/tex; mode=display\">\\newcommand{\\Bold}[1]{\\mathbf{#1}}\\verb|Aug.|\\phantom{\\verb!x!}\\verb|Matrix:| \\left(\\begin{array}{rrrrrrrr}\n",
       "-1 & 0 & 0 & 0 & 0 & 0 & 1 & 200 \\\\\n",
       "1 & -1 & -1 & 0 & 0 & 0 & 0 & -300 \\\\\n",
       "0 & 1 & 0 & 1 & 0 & 0 & 0 & 400 \\\\\n",
       "0 & 0 & 0 & -1 & -1 & 0 & 0 & -400 \\\\\n",
       "0 & 0 & 1 & 0 & 1 & -1 & 0 & 350 \\\\\n",
       "0 & 0 & 0 & 0 & 0 & 1 & -1 & -250\n",
       "\\end{array}\\right)</script></html>"
      ],
      "text/plain": [
       "'Aug. Matrix:' [  -1    0    0    0    0    0    1  200]\n",
       "[   1   -1   -1    0    0    0    0 -300]\n",
       "[   0    1    0    1    0    0    0  400]\n",
       "[   0    0    0   -1   -1    0    0 -400]\n",
       "[   0    0    1    0    1   -1    0  350]\n",
       "[   0    0    0    0    0    1   -1 -250]"
      ]
     },
     "metadata": {},
     "output_type": "display_data"
    },
    {
     "data": {
      "text/html": [
       "<html><script type=\"math/tex; mode=display\">\\newcommand{\\Bold}[1]{\\mathbf{#1}}\\overrightarrow{RREF}\\, \\left(\\begin{array}{rrrrrrrr}\n",
       "1 & 0 & 0 & 0 & 0 & 0 & -1 & -200 \\\\\n",
       "0 & 1 & 0 & 0 & -1 & 0 & 0 & 0 \\\\\n",
       "0 & 0 & 1 & 0 & 1 & 0 & -1 & 100 \\\\\n",
       "0 & 0 & 0 & 1 & 1 & 0 & 0 & 400 \\\\\n",
       "0 & 0 & 0 & 0 & 0 & 1 & -1 & -250 \\\\\n",
       "0 & 0 & 0 & 0 & 0 & 0 & 0 & 0\n",
       "\\end{array}\\right)</script></html>"
      ],
      "text/plain": [
       "\\overrightarrow{RREF}\\, [   1    0    0    0    0    0   -1 -200]\n",
       "[   0    1    0    0   -1    0    0    0]\n",
       "[   0    0    1    0    1    0   -1  100]\n",
       "[   0    0    0    1    1    0    0  400]\n",
       "[   0    0    0    0    0    1   -1 -250]\n",
       "[   0    0    0    0    0    0    0    0]"
      ]
     },
     "metadata": {},
     "output_type": "display_data"
    }
   ],
   "source": [
    "## Transpose of A \n",
    "AT = A.transpose()\n",
    "show(LatexExpr('A^T ='), AT)\n",
    "\n",
    "AAT = AT.augment(b) # Augmented A Transpose\n",
    "show('Aug. Matrix:', AAT)\n",
    "show(LatexExpr('\\overrightarrow{RREF}\\,'), AAT.rref())"
   ]
  },
  {
   "cell_type": "markdown",
   "metadata": {},
   "source": [
    "- $y_5 = s$\n",
    "- $y_7 = t$\n",
    "- $y_1 - y_7 = -200 \\rightarrow y_1 = t - 200$\n",
    "- $y_2 - y_5 = 0 \\rightarrow y_2 = s$\n",
    "- $y_3 + y_5 - y_7 = 100 \\rightarrow y_3 = t-s+100$\n",
    "- $y_4 + y_5 = 400 \\rightarrow y_4 = -s+400$\n",
    "- $y_6 - y_7 = -250 \\rightarrow y_6 = t-250$"
   ]
  },
  {
   "cell_type": "markdown",
   "metadata": {},
   "source": [
    "$\\vec{y} = \n",
    "\\begin{bmatrix}\n",
    "t-200 \\\\ s \\\\ t-s+100 \\\\ -s+400 \\\\ s \\\\ t-250 \\\\ t \n",
    "\\end{bmatrix}\n",
    "= s\\begin{bmatrix}\n",
    "0\\\\1\\\\-1\\\\-1\\\\1\\\\0\\\\0\n",
    "\\end{bmatrix}\n",
    "+ t\\begin{bmatrix}\n",
    "1\\\\0\\\\1\\\\0\\\\0\\\\1\\\\1\n",
    "\\end{bmatrix}\n",
    "+ \\begin{bmatrix}\n",
    "-200\\\\0\\\\100\\\\400\\\\0\\\\-250\\\\0\n",
    "\\end{bmatrix}$"
   ]
  },
  {
   "cell_type": "markdown",
   "metadata": {},
   "source": [
    "Here, the system will be valid for any value of s and t. If we assume s and t equals 0 as one potential solution and denote the flow of the roads as $(y_0, y_1, ... y_6)$ then the number of traffic each road need to accomodate is the following:\n",
    "\n",
    "$\\begin{bmatrix}\n",
    "y_0\\\\y_1\\\\y_2\\\\y_3\\\\y_4\\\\y_5\\\\y_6\n",
    "\\end{bmatrix}\n",
    "= \\begin{bmatrix}\n",
    "-200\\\\0\\\\100\\\\400\\\\0\\\\-250\\\\0\n",
    "\\end{bmatrix}$"
   ]
  },
  {
   "cell_type": "markdown",
   "metadata": {},
   "source": [
    "So road segment 3 need to accomodate the highest number of cars, a total of 400 (flow $y_3 = 400$), from node 3 to node 2.\n",
    "\n",
    "Here a negative flow means the cars need to go on the opposite way of the directed edge. So for the edges (road segments) which has negative flow, we need to reverse the direction of the roads.\n",
    "\n",
    "As $y_0$ and $y_5$ has negative value, we need to reverse their direction. So the final graph, with the corrected direction and the number of traffic in each road segments (in green) will be the following: "
   ]
  },
  {
   "cell_type": "code",
   "execution_count": 721,
   "metadata": {},
   "outputs": [
    {
     "data": {
      "image/png": "[encoded data removed]",
      "text/plain": [
       "<IPython.core.display.Image object>"
      ]
     },
     "execution_count": 721,
     "metadata": {},
     "output_type": "execute_result"
    }
   ],
   "source": [
    "Image(filename='corrected_d.png') "
   ]
  },
  {
   "cell_type": "markdown",
   "metadata": {},
   "source": [
    "As the $y_4$ and $y_6$ equals the free variable s and t, the number of traffic in road segment 4 and 6 could increase and still the system will be valid by changing the number of traffic in other surrounding roads. For example, if we assume:\n",
    "- s = 200 and\n",
    "- t = 200\n",
    "\n",
    "The number of traffic in each road will be:\n",
    "\n",
    "$\\vec{y} = s\\begin{bmatrix}\n",
    "0\\\\1\\\\-1\\\\-1\\\\1\\\\0\\\\0\n",
    "\\end{bmatrix}\n",
    "+ t\\begin{bmatrix}\n",
    "1\\\\0\\\\1\\\\0\\\\0\\\\1\\\\1\n",
    "\\end{bmatrix}\n",
    "+ \\begin{bmatrix}\n",
    "-200\\\\0\\\\100\\\\400\\\\0\\\\-250\\\\0\n",
    "\\end{bmatrix}$\n",
    "\n",
    "$= 200\\begin{bmatrix}\n",
    "0\\\\1\\\\-1\\\\-1\\\\1\\\\0\\\\0\n",
    "\\end{bmatrix}\n",
    "+ 200\\begin{bmatrix}\n",
    "1\\\\0\\\\1\\\\0\\\\0\\\\1\\\\1\n",
    "\\end{bmatrix}\n",
    "+ \\begin{bmatrix}\n",
    "-200\\\\0\\\\100\\\\400\\\\0\\\\-250\\\\0\n",
    "\\end{bmatrix}$\n",
    "\n",
    "$\\begin{bmatrix}\n",
    "y_0\\\\y_1\\\\y_2\\\\y_3\\\\y_4\\\\y_5\\\\y_6\n",
    "\\end{bmatrix}\n",
    "= \\begin{bmatrix}\n",
    "0\\\\200\\\\100\\\\200\\\\200\\\\-50\\\\200\n",
    "\\end{bmatrix}$\n",
    "\n",
    "The corresponding graph will be the following:"
   ]
  },
  {
   "cell_type": "code",
   "execution_count": 722,
   "metadata": {},
   "outputs": [
    {
     "data": {
      "image/png": "[encoded data removed]",
      "text/plain": [
       "<IPython.core.display.Image object>"
      ]
     },
     "execution_count": 722,
     "metadata": {},
     "output_type": "execute_result"
    }
   ],
   "source": [
    "Image(filename='corrected_d_2.png') "
   ]
  },
  {
   "cell_type": "markdown",
   "metadata": {},
   "source": [
    "**e) Traffic disruptions occur fairly regularly in this area (e.g., parades, marches). Which segments of road can be totally closed and still maintain traffic flow? How about multiple connected segments?**"
   ]
  },
  {
   "cell_type": "markdown",
   "metadata": {},
   "source": [
    "As we can see in the first solution, edge 1, 4 and 6 has zero flow ($y_1 = y_4 = y_6 = 0$), while still the system is valid and practical. \n",
    "\n",
    "So, we can remove these 3 road segments and still be able to maintain the traffic flow.\n",
    "\n",
    "In the new system, as we remove three edges, the incidence matrix now has 3 less rows. So the basis of the column space, Col(A) changed. Also as we now have no independent loop, the left null space also changed, $Dim(N(A^T)) = 0$.\n",
    "\n",
    "But our extra traffic going out and in through the nodes didn't change, so $\\vec{b}$ remaining the same and also the basis of null space stays the same as all the nodes are still in the system.\n",
    "\n",
    "\n",
    "$\\therefore$ We still have a valid solution for the sysetm:\n",
    "\n",
    "$A^T\\vec{y} = \\vec{b}$\n",
    "\n",
    "Along with that, now, we also satisfy that,\n",
    "\n",
    "- $y_1 = 0$\n",
    "- $y_4 = 0$\n",
    "- $y_6 = 0$\n",
    "\n",
    "So, this is a valid system with 3 less road segments:"
   ]
  },
  {
   "cell_type": "code",
   "execution_count": 702,
   "metadata": {},
   "outputs": [
    {
     "data": {
      "image/png": "[encoded data removed]",
      "text/plain": [
       "<IPython.core.display.Image object>"
      ]
     },
     "execution_count": 702,
     "metadata": {},
     "output_type": "execute_result"
    }
   ],
   "source": [
    "Image(filename='corrected_e.png') "
   ]
  },
  {
   "cell_type": "markdown",
   "metadata": {},
   "source": [
    "**f) Due to the proximity of the International District to Seattle's major sports arenas, overflow traffic is often redirected through the region. The civil engineers expect the following traffic pattern after large events.**"
   ]
  },
  {
   "attachments": {
    "ss3.PNG": {
     "image/png": "[encoded data removed]"
    }
   },
   "cell_type": "markdown",
   "metadata": {},
   "source": [
    "![ss3.PNG](attachment:ss3.PNG)"
   ]
  },
  {
   "cell_type": "markdown",
   "metadata": {},
   "source": [
    "**What effect would this have on the system when there are sporting events? Are there alternate routes that vehicles should be direct towards after large events to avoid gridlock?**"
   ]
  },
  {
   "cell_type": "code",
   "execution_count": 703,
   "metadata": {
    "scrolled": false
   },
   "outputs": [
    {
     "data": {
      "image/png": "[encoded data removed]",
      "text/plain": [
       "<IPython.core.display.Image object>"
      ]
     },
     "execution_count": 703,
     "metadata": {},
     "output_type": "execute_result"
    }
   ],
   "source": [
    "## The system with the edges and nodes\n",
    "Image(filename='ss4.png') "
   ]
  },
  {
   "cell_type": "markdown",
   "metadata": {},
   "source": [
    "Similar as part (d), we want to find the solution for the system:\n",
    "\n",
    "$A^T\\vec{y} = \\vec{b}$\n",
    "\n",
    "So, we can define the $\\vec{b}$ as the extra flow difference in each nodes and check if it belongs to Row(A) by taking cross product with N(A)."
   ]
  },
  {
   "cell_type": "code",
   "execution_count": 711,
   "metadata": {
    "scrolled": true
   },
   "outputs": [
    {
     "data": {
      "text/html": [
       "<html><script type=\"math/tex; mode=display\">\\newcommand{\\Bold}[1]{\\mathbf{#1}}\\verb|b|\\phantom{\\verb!x!}\\verb|=| \\left(\\begin{array}{r}\n",
       "200 \\\\\n",
       "-1000 \\\\\n",
       "600 \\\\\n",
       "-400 \\\\\n",
       "500 \\\\\n",
       "-100\n",
       "\\end{array}\\right)</script></html>"
      ],
      "text/plain": [
       "'b =' [  200]\n",
       "[-1000]\n",
       "[  600]\n",
       "[ -400]\n",
       "[  500]\n",
       "[ -100]"
      ]
     },
     "metadata": {},
     "output_type": "display_data"
    }
   ],
   "source": [
    "## Defining the constant vector, b\n",
    "## For each node i, b_i = cars going out - cars coming in\n",
    "b = vector([400 - 200, -1000, 200+400, -200-200, 500, 500-600])\n",
    "show('b =', matrix(b).transpose())"
   ]
  },
  {
   "cell_type": "code",
   "execution_count": 712,
   "metadata": {},
   "outputs": [
    {
     "data": {
      "text/html": [
       "<html><script type=\"math/tex; mode=display\">\\newcommand{\\Bold}[1]{\\mathbf{#1}}\\left(\\begin{array}{r}\n",
       "200 \\\\\n",
       "-1000 \\\\\n",
       "600 \\\\\n",
       "-400 \\\\\n",
       "500 \\\\\n",
       "-100\n",
       "\\end{array}\\right) \\left(\\begin{array}{r}\n",
       "1 \\\\\n",
       "1 \\\\\n",
       "1 \\\\\n",
       "1 \\\\\n",
       "1 \\\\\n",
       "1\n",
       "\\end{array}\\right) \\verb|=| -200</script></html>"
      ],
      "text/plain": [
       "[  200]\n",
       "[-1000]\n",
       "[  600]\n",
       "[ -400]\n",
       "[  500]\n",
       "[ -100] [1]\n",
       "[1]\n",
       "[1]\n",
       "[1]\n",
       "[1]\n",
       "[1] '=' -200"
      ]
     },
     "metadata": {},
     "output_type": "display_data"
    }
   ],
   "source": [
    "dotp = b*null_base # b dotted with the null space\n",
    "show(matrix(b).transpose(), matrix(null_base).transpose(), '=', dotp)"
   ]
  },
  {
   "cell_type": "markdown",
   "metadata": {},
   "source": [
    "As it is not orthogonal to the null space, it is not in the row space of A. All the valid solution lies in the Row(A). As it is not lies in Row(A), the system is not valid during high traffic.\n",
    "\n",
    "The dot product is -200, which means there are extra 200 cars coming in into the system which cannot go out, which can cause the potential disruption. So, we need to take 200 traffic out of the system through the nodes.\n",
    "\n",
    "So, as one potential solution, from node 2 towards the top, we can ask 200 more cars to go out of the system. So, from node 2, total cars going out will be = 400 (towards the right) + 400 (towards the top) = 800"
   ]
  },
  {
   "cell_type": "code",
   "execution_count": 715,
   "metadata": {},
   "outputs": [
    {
     "data": {
      "image/png": "[encoded data removed]",
      "text/plain": [
       "<IPython.core.display.Image object>"
      ]
     },
     "execution_count": 715,
     "metadata": {},
     "output_type": "execute_result"
    }
   ],
   "source": [
    "Image(filename='f_extra_traffic.png') "
   ]
  },
  {
   "cell_type": "code",
   "execution_count": 716,
   "metadata": {},
   "outputs": [
    {
     "data": {
      "text/html": [
       "<html><script type=\"math/tex; mode=display\">\\newcommand{\\Bold}[1]{\\mathbf{#1}}\\verb|b|\\phantom{\\verb!x!}\\verb|=| \\left(\\begin{array}{r}\n",
       "200 \\\\\n",
       "-1000 \\\\\n",
       "800 \\\\\n",
       "-400 \\\\\n",
       "500 \\\\\n",
       "-100\n",
       "\\end{array}\\right)</script></html>"
      ],
      "text/plain": [
       "'b =' [  200]\n",
       "[-1000]\n",
       "[  800]\n",
       "[ -400]\n",
       "[  500]\n",
       "[ -100]"
      ]
     },
     "metadata": {},
     "output_type": "display_data"
    }
   ],
   "source": [
    "## now the new constant vector will be,\n",
    "b = vector([400 - 200, -1000, 400+400, -200-200, 500, 500-600])\n",
    "\n",
    "show('b =', matrix(b).transpose())"
   ]
  },
  {
   "cell_type": "code",
   "execution_count": 717,
   "metadata": {},
   "outputs": [
    {
     "data": {
      "text/html": [
       "<html><script type=\"math/tex; mode=display\">\\newcommand{\\Bold}[1]{\\mathbf{#1}}\\left(\\begin{array}{r}\n",
       "200 \\\\\n",
       "-1000 \\\\\n",
       "800 \\\\\n",
       "-400 \\\\\n",
       "500 \\\\\n",
       "-100\n",
       "\\end{array}\\right) \\left(\\begin{array}{r}\n",
       "1 \\\\\n",
       "1 \\\\\n",
       "1 \\\\\n",
       "1 \\\\\n",
       "1 \\\\\n",
       "1\n",
       "\\end{array}\\right) \\verb|=| 0</script></html>"
      ],
      "text/plain": [
       "[  200]\n",
       "[-1000]\n",
       "[  800]\n",
       "[ -400]\n",
       "[  500]\n",
       "[ -100] [1]\n",
       "[1]\n",
       "[1]\n",
       "[1]\n",
       "[1]\n",
       "[1] '=' 0"
      ]
     },
     "metadata": {},
     "output_type": "display_data"
    }
   ],
   "source": [
    "dotp = b*null_base # b dotted with the null space\n",
    "show(matrix(b).transpose(), matrix(null_base).transpose(), '=', dotp)"
   ]
  },
  {
   "cell_type": "markdown",
   "metadata": {},
   "source": [
    "Now the augmented side $\\vec{b}$ is orthogonal to the N(A), thus it belongs to Row(A), which suggests that now there will be valid solution for the system:\n",
    "\n",
    "$A^T \\vec{y} = \\vec{b}$\n",
    "\n",
    "$\\therefore$ The model will be valid and practical.\n",
    "\n",
    "To find the solution $\\vec{y}$ (the cars each edge or rode need to accomodate), we can augment $\\vec{b}$ and take it to RREF:"
   ]
  },
  {
   "cell_type": "code",
   "execution_count": 718,
   "metadata": {
    "scrolled": false
   },
   "outputs": [
    {
     "data": {
      "text/html": [
       "<html><script type=\"math/tex; mode=display\">\\newcommand{\\Bold}[1]{\\mathbf{#1}}A^T = \\left(\\begin{array}{rrrrrrr}\n",
       "-1 & 0 & 0 & 0 & 0 & 0 & 1 \\\\\n",
       "1 & -1 & -1 & 0 & 0 & 0 & 0 \\\\\n",
       "0 & 1 & 0 & 1 & 0 & 0 & 0 \\\\\n",
       "0 & 0 & 0 & -1 & -1 & 0 & 0 \\\\\n",
       "0 & 0 & 1 & 0 & 1 & -1 & 0 \\\\\n",
       "0 & 0 & 0 & 0 & 0 & 1 & -1\n",
       "\\end{array}\\right)</script></html>"
      ],
      "text/plain": [
       "A^T = [-1  0  0  0  0  0  1]\n",
       "[ 1 -1 -1  0  0  0  0]\n",
       "[ 0  1  0  1  0  0  0]\n",
       "[ 0  0  0 -1 -1  0  0]\n",
       "[ 0  0  1  0  1 -1  0]\n",
       "[ 0  0  0  0  0  1 -1]"
      ]
     },
     "metadata": {},
     "output_type": "display_data"
    },
    {
     "data": {
      "text/html": [
       "<html><script type=\"math/tex; mode=display\">\\newcommand{\\Bold}[1]{\\mathbf{#1}}\\verb|Aug.|\\phantom{\\verb!x!}\\verb|Matrix:| \\left(\\begin{array}{rrrrrrrr}\n",
       "-1 & 0 & 0 & 0 & 0 & 0 & 1 & 200 \\\\\n",
       "1 & -1 & -1 & 0 & 0 & 0 & 0 & -1000 \\\\\n",
       "0 & 1 & 0 & 1 & 0 & 0 & 0 & 800 \\\\\n",
       "0 & 0 & 0 & -1 & -1 & 0 & 0 & -400 \\\\\n",
       "0 & 0 & 1 & 0 & 1 & -1 & 0 & 500 \\\\\n",
       "0 & 0 & 0 & 0 & 0 & 1 & -1 & -100\n",
       "\\end{array}\\right)</script></html>"
      ],
      "text/plain": [
       "'Aug. Matrix:' [   -1     0     0     0     0     0     1   200]\n",
       "[    1    -1    -1     0     0     0     0 -1000]\n",
       "[    0     1     0     1     0     0     0   800]\n",
       "[    0     0     0    -1    -1     0     0  -400]\n",
       "[    0     0     1     0     1    -1     0   500]\n",
       "[    0     0     0     0     0     1    -1  -100]"
      ]
     },
     "metadata": {},
     "output_type": "display_data"
    },
    {
     "data": {
      "text/html": [
       "<html><script type=\"math/tex; mode=display\">\\newcommand{\\Bold}[1]{\\mathbf{#1}}\\overrightarrow{RREF}\\, \\left(\\begin{array}{rrrrrrrr}\n",
       "1 & 0 & 0 & 0 & 0 & 0 & -1 & -200 \\\\\n",
       "0 & 1 & 0 & 0 & -1 & 0 & 0 & 400 \\\\\n",
       "0 & 0 & 1 & 0 & 1 & 0 & -1 & 400 \\\\\n",
       "0 & 0 & 0 & 1 & 1 & 0 & 0 & 400 \\\\\n",
       "0 & 0 & 0 & 0 & 0 & 1 & -1 & -100 \\\\\n",
       "0 & 0 & 0 & 0 & 0 & 0 & 0 & 0\n",
       "\\end{array}\\right)</script></html>"
      ],
      "text/plain": [
       "\\overrightarrow{RREF}\\, [   1    0    0    0    0    0   -1 -200]\n",
       "[   0    1    0    0   -1    0    0  400]\n",
       "[   0    0    1    0    1    0   -1  400]\n",
       "[   0    0    0    1    1    0    0  400]\n",
       "[   0    0    0    0    0    1   -1 -100]\n",
       "[   0    0    0    0    0    0    0    0]"
      ]
     },
     "metadata": {},
     "output_type": "display_data"
    }
   ],
   "source": [
    "## Transpose of A \n",
    "AT = A.transpose()\n",
    "show(LatexExpr('A^T ='), AT)\n",
    "\n",
    "AAT = AT.augment(b) # Augmented A Transpose\n",
    "show('Aug. Matrix:', AAT)\n",
    "show(LatexExpr('\\overrightarrow{RREF}\\,'), AAT.rref())"
   ]
  },
  {
   "cell_type": "markdown",
   "metadata": {},
   "source": [
    "- $y_5 = s$\n",
    "- $y_7 = t$\n",
    "- $y_1 - y_7 = -200 \\rightarrow y_1 = t - 200$\n",
    "- $y_2 - y_5 = 400 \\rightarrow y_2 = s+400$\n",
    "- $y_3 + y_5 - y_7 = 400 \\rightarrow y_3 = t-s+400$\n",
    "- $y_4 + y_5 = 400 \\rightarrow y_4 = -s+400$\n",
    "- $y_6 - y_7 = -100 \\rightarrow y_6 = t-100$"
   ]
  },
  {
   "cell_type": "markdown",
   "metadata": {},
   "source": [
    "$\\vec{y} = \n",
    "\\begin{bmatrix}\n",
    "t-200 \\\\ s+400 \\\\ t-s+400 \\\\ -s+400 \\\\ s \\\\ t-100 \\\\ t \n",
    "\\end{bmatrix}\n",
    "= s\\begin{bmatrix}\n",
    "0\\\\1\\\\-1\\\\-1\\\\1\\\\0\\\\0\n",
    "\\end{bmatrix}\n",
    "+ t\\begin{bmatrix}\n",
    "1\\\\0\\\\1\\\\0\\\\0\\\\1\\\\1\n",
    "\\end{bmatrix}\n",
    "+ \\begin{bmatrix}\n",
    "-200\\\\400\\\\400\\\\400\\\\0\\\\-100\\\\0\n",
    "\\end{bmatrix}$"
   ]
  },
  {
   "cell_type": "markdown",
   "metadata": {},
   "source": [
    "Here, the system will be valid for any value of s and t. If we assume s and t equals 0 as one potential solution and denote the flow of the roads as $(y_0, y_1, ... y_6)$ then the number of traffic each road need to accomodate is the following:\n",
    "\n",
    "$\\begin{bmatrix}\n",
    "y_0\\\\y_1\\\\y_2\\\\y_3\\\\y_4\\\\y_5\\\\y_6\n",
    "\\end{bmatrix}\n",
    "= \\begin{bmatrix}\n",
    "-200\\\\400\\\\400\\\\400\\\\0\\\\-100\\\\0\n",
    "\\end{bmatrix}$"
   ]
  },
  {
   "cell_type": "markdown",
   "metadata": {},
   "source": [
    "So road segment 1,2 and 3 need to accomodate the highest number of cars, a total of 400 (flow $y_3 = 400$), from node 3 to node 2.\n",
    "\n",
    "Here a negative flow means the cars need to go on the opposite way of the directed edge. So for the edges (road segments) which has negative flow, we need to reverse the direction of the roads.\n",
    "\n",
    "As $y_0$ and $y_5$ has negative value, we need to reverse their direction. So the final graph, with the corrected direction and the number of traffic in each road segments (in green) will be the following: "
   ]
  },
  {
   "cell_type": "code",
   "execution_count": 719,
   "metadata": {},
   "outputs": [
    {
     "data": {
      "image/png": "[encoded data removed]",
      "text/plain": [
       "<IPython.core.display.Image object>"
      ]
     },
     "execution_count": 719,
     "metadata": {},
     "output_type": "execute_result"
    }
   ],
   "source": [
    "Image(filename='corrected_f_extra_traffic.png') "
   ]
  },
  {
   "cell_type": "markdown",
   "metadata": {},
   "source": [
    "#### Appendinx"
   ]
  },
  {
   "cell_type": "markdown",
   "metadata": {},
   "source": [
    "**HC Index:**\n",
    "\n",
    "**#networks:** Modelled and analyzed the network system of the traffic in deep dive. Identified the edges and nodes and their meaning in this context and analyzed how they interact with each other to make a valid system. Considered the flow inside and outside of the system and consequencely suggested potential correction in the edge direction and the overall network to handle road closure or extreme situations."
   ]
  },
  {
   "cell_type": "markdown",
   "metadata": {},
   "source": [
    "**#communicationdesign:** The graphs, networks are drawn using distinct color and labelling of the edges and nodes. The flow of the graphs are given in different color to distinguish. Use different color for initial region and transformed region in hip to be a square.\n",
    "\n",
    "**#strategize:** To find the validity of the system, used the strategy to check its orthogonality with the null space basis as that was more easier than checking with all the basis of row space. Identified the underline assumptions which shows the possible limitations and strength of the model. Lastly, analyzed the weakness (fragility) and strength (robustness) of the modelling considering two extreme situation of road closure and extreme traffic flow."
   ]
  }
 ],
 "metadata": {
  "kernelspec": {
   "display_name": "SageMath 8.8",
   "language": "sage",
   "name": "sagemath"
  },
  "language_info": {
   "codemirror_mode": {
    "name": "ipython",
    "version": 2
   },
   "file_extension": ".py",
   "mimetype": "text/x-python",
   "name": "python",
   "nbconvert_exporter": "python",
   "pygments_lexer": "ipython2",
   "version": "2.7.15"
  }
 },
 "nbformat": 4,
 "nbformat_minor": 2
}
